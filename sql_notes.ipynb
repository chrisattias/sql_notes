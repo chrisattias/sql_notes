{
 "cells": [
  {
   "cell_type": "markdown",
   "id": "6662f294-a444-4171-888d-0da621a3a36e",
   "metadata": {
    "tags": []
   },
   "source": [
    "# Relational Databases and SQL\n",
    "- *By Attius!*\n",
    "- *Last updated February 2022*"
   ]
  },
  {
   "cell_type": "markdown",
   "id": "34f5c75b-d3ad-416c-aa99-894dabad0f06",
   "metadata": {},
   "source": [
    "---"
   ]
  },
  {
   "cell_type": "markdown",
   "id": "e9ab398f-c9bb-4cba-9e13-881c18c7f8f2",
   "metadata": {},
   "source": [
    "This Jupyter notebook is divided into handful of sections:\n",
    "\n",
    "1. **Learning Resources**--provides links to the learning resources used to create this document\n",
    "1. **Relational & NoSQL Databases**--quickly describes the differences between relational and non-relational data storage models\n",
    "1. **DBMS**--quickly compares the most popular database management systems (DBMS) and client integrated development environments (IDEs) in use today\n",
    "1. **Relational Databases**--explores the concepts of tables, keys, normalization, relationships, and joins\n",
    "1. **SQL**--covers structured query language (SQL) terminology and syntax.  It then provides examples of the most common SQL statements by using the SQLite RDBMS.\n",
    "1. **PostgreSQL**--covers RDBMS topics and SQL syntax specific to the PostgreSQL RDBMS"
   ]
  },
  {
   "cell_type": "markdown",
   "id": "c8585a48-d304-486d-b02f-05f863be7a62",
   "metadata": {},
   "source": [
    "---"
   ]
  },
  {
   "cell_type": "markdown",
   "id": "5fc3d1d0-ee6e-483d-bc17-47ed1b492e5a",
   "metadata": {},
   "source": [
    "# Learning Resources\n",
    "\n",
    "SQL resources.  I would recommend viewing the SQL resources in the the order listed.\n",
    "\n",
    "1. **[Select Star](https://selectstarsql.com/)**--describes SQL statements.  Allows users to run statements on an example database.   Integrates the real-life story of a death row inmate into examples.\n",
    "1. **[SQL Murder Mystery](https://mystery.knightlab.com/)**--practice problems for intermediate SQL users.  Integrates fictional mystery story-line into practice problems.\n",
    "1. **[W3 Schools SQL](https://www.w3schools.com/sql/)**--describes SQL statements.  Allows users to run statements on an example database.  Well organized and easy to follow website that covers a greater breadth of SQL statements than Select Star or SQL Murder Mystery.\n",
    "1. **[SQL Fiddle](http://sqlfiddle.com/)**--build a cloud-hosted test database and test SQL statements.  Run  statements for MySQL, PostgreSQL, MS SQLServer, Oracle, or SQLite.\n",
    "\n",
    "\n",
    "Relational database and RDBMS resources:\n",
    "\n",
    "1. **[Everything you need to know about (Relational) Databases](https://dev.to/lmolivera/everything-you-need-to-know-about-relational-databases-3ejl)**--blog post by Lucas Olivera covering relational databases\n",
    "1. **[ERD](https://www.youtube.com/watch?v=QpdhBUYk7Kk)**--video by LucidCharts explaining ERDs\n",
    "1. **[ipython-sql GitHub](https://github.com/catherinedevlin/ipython-sql)**--documentation for `ipython-sql`.  `ipython-sql` is a Jupyter Lab extension that allows us to run SQL commands from within Jupyter notebooks.\n",
    "1. **[SQLite Documentation](https://www.sqlite.org/docs.html)**--SQLite documentation.  Helpful documents for beginners include some documents found in the *Overview Documents* section.  The documents *SQLite in 5 Minutes or Less*, *Data Types*, *SQL Syntax*, and *Aggregate SQL Functions*, found in the *Programming Interfaces* section are also very helpful.  SQLite documentation often explain commands with \"syntax diagrams\".\n",
    "\n",
    "\n",
    "PostgreSQL specific learning resources:\n",
    "\n",
    "1. **[PostgreSQL Documentation](https://www.postgresql.org/docs/current/index.html)**--PostgreSQL documentation.  When viewed as PDF it is ~3,000 pages long.  The entirety of the *Preface*, *I. Tutorial*, and *II. The SQL Language* sections contain helpful documentation for beginners.  Other helpful documentation include *I. SQL Commands* within the *VI. References* section Note that SQL command overviews use square brackets to indicate optional  parts.  Curly braces and vertical lines indicate that we must choose one of the parts enclosed in the braces.  Three periods indicate that preceding elements can be repeated.\n",
    "1. **[psql Documentation](https://www.postgresql.org/docs/14/app-psql.html)**-- psql documentation\n",
    "1. **PostgreSQL for Everyone Specialization**-- Coursera specialization on PostgreSQL from Dr. Chuck at the University of Michigan.  It is a strictly average course and requires a bit of Python.  Does provide good information on indexes, JSON, ACID, and BASE.  Course content also found at [PostgreSQL for Everyone](https://www.pg4e.com).\n",
    "\n",
    "PostgresSQL + Python specific learning resources:\n",
    "\n",
    "1. **[Psycopg Documentation](https://www.psycopg.org/psycopg3/docs/basic/index.html)**--Psycopg documentation\n",
    "1. **[Python Database API Specification 2.0](https://www.python.org/dev/peps/pep-0249/)**--Python database library standards documentation"
   ]
  },
  {
   "cell_type": "markdown",
   "id": "24e843fe-ece0-446e-94d3-c4c65cddd3c1",
   "metadata": {},
   "source": [
    "---"
   ]
  },
  {
   "cell_type": "markdown",
   "id": "43feb914-a667-4cb7-ab79-9cf28b9f41b2",
   "metadata": {
    "tags": []
   },
   "source": [
    "# Relational & NoSQL Databases\n",
    "\n",
    "- All databases are **CRUD**:\n",
    "    1. Create data\n",
    "    2. Read (query) data\n",
    "    3. Update data\n",
    "    4. Delete data\n",
    "- There are many ways that we can store data within a computer and CRUD.  The broad categories are:\n",
    "    1. **Relational Database**--collection of tables that are *related* to each other by data common to each.  It involves tables, primary and foreign keys, and **Structured Query Language (SQL)**.  This is the most common model used to store data (don't worry about the OLAP cube).\n",
    "    1. **NoSQL Database**--any database that is not relational.  NoSQL databases store and retrieve data using various organizational models.\n",
    "        1. **Key-value**--value is the data of interest.  Unique keys are used to retrieve the value.\n",
    "        1. **Document**--similar to key-value.  Value is itself a \"document\".  The document is a file of data encoded with JSON, XML, YML, BSON, etc..\n",
    "        1. **Wide-column/column-family**--tables where individual columns can vary in data type from row to row\n",
    "        1. **Graph**--store data as nodes in network graphs\n",
    "\n",
    "![](images/no_sql.png)\n",
    "\n",
    "- The table below provides a high level overview of the differences between relational and NoSQL databases:\n",
    "\n",
    "Feature | Relational Database | NoSQL Database\n",
    "--- | --- | ---\n",
    "Data model | Related tables | Key-value, document, wide-column, or graph\n",
    "Data organization | Structured data | Unstructured data\n",
    "Flexibility | Fixed database schema  | Flexible schema\n",
    "Language | SQL | No standardized query language\n",
    "Consistency | ACID compliant  | BASE compliant\n",
    "Scalability | Easily scales vertically, but not horizontally | Easily scales vertically and horizontally\n",
    "Speed | Fast | Fast\n",
    "\n",
    "- **Structured Data**--vague term that refers to data that fits well in related tables\n",
    "    - E.g. financial, health care, and user account data\n",
    "- **Unstructured Data**--vague term that refers to data that is hard to fit in a table.  If records have tons of optional columns then data may be more \"unstructured\".\n",
    "    - E.g. text documents, web pages, audio, images, and video. Lots of social media data.\n",
    "- **Semi-structured Data**--a blend\n",
    "    - E.g. email, text, and chat messages.  Product catalog  data.\n",
    "- **Scale**--increase database size (storage amount, in bytes, of non-volatile computer memory).\n",
    "    1. **Vertical Scaling**--all database data stored on single database computer server.  Scale by adding hardware onto this single computer.  Vertical scaling is more expensive than scaling horizontally.\n",
    "    1. **Horizontal Scaling**--database data is split up into overlapping smaller pieces called **shards**.  Each shard is stored on a separate, smaller database computer server called a **node**.  Nodes are connected by a network. Scale by connecting more nodes."
   ]
  },
  {
   "cell_type": "markdown",
   "id": "81ea9cf4-a25a-4c5b-ae6c-64c367cd539b",
   "metadata": {},
   "source": [
    "---"
   ]
  },
  {
   "cell_type": "markdown",
   "id": "d800517f-81f2-433b-b61f-5bbd0baf70f2",
   "metadata": {
    "tags": []
   },
   "source": [
    "## ACID & BASE\n",
    "\n",
    "- **Transaction**--unit of work performed by a DBMS on a database\n",
    "- In relational databases, a transaction is a single SQL statement or a multi-(SQL)-statement. Relational databases are typically hosted on a single large database server.  This allows for ACID compliance.\n",
    "    1. **Atomic**--each transaction either runs completely or, if there is an error, reverts back to the state before the transaction started.  A transaction is never partially completed.   All or nothing.\n",
    "    1. **Consistent**--variously defined.  Before and after each transaction the database is in a valid state as determined by constraints, cascades, and triggers.  All future transactions are able to use this valid state.\n",
    "    1. **Isolated**--transactions do not interact with other transactions.  The simplest way to guarantee this would be to implement **serializable isolation**, where each transaction is placed in a FIFO queue and only one transaction is run at a time.  Because this is slow, RDBMS actively moderate concurrent transactions.  Most importantly, the RDBMS prevents two transactions from writing (CUD) the same data at the same time.  The RDBMS will lock out all other transactions that need to CUD with the same data until the current transaction completes.  There are multiple levels of isolation that describe to what extent reads are isolated.  There are various isolation implementations, which may use some combination of locks, multiversion concurrency control (MVCC), snapshot isolation, etc.\n",
    "    1. **Durable**--data in database persists after transaction has run, even if a computer crashes shortly after the transaction.  I.e. after each transaction, the database is saved into the computer server's non-volatile memory (i.e. disk/flash).\n",
    "- NoSQL databases are typically hosted on a distributed network of database servers (nodes).  No single node has all the data and no single node is responsible for all transactions. This distributed network architecture prevents ACID compliance, but allows for BASE compliance. The acronym is contrived, and the most important term is the \"eventually consistent\".\n",
    "    1. **Basic Availability**--reading and writing operations (CRUD) are available as much as possible, but might not be consistent.  This is often configurable.\n",
    "    1. **Soft state**--more or less the same thing as eventually consistent \n",
    "    1. **Eventually consistent**--not necessarily the same definition as \"consistent\" in ACID.  Writes (CUD) are made on a single node and then that change is quickly passed to other nodes in the network.  If we wait a bit after writes (CUD) all nodes in the database will become \"consistent\" and all reads would return the same results.  Until consistency is achieved, there will be some nodes that contain conflicting data.  NoSQL DBMS must officiate these conflicts using timestamps.\n",
    "- BASE compliant databases will have conflicting data at times.  This will cause inconsistent reads. Pretend we have two nodes, NodeA and NodeB.\n",
    "    1. NodeA x=5.  NodeB x=5.\n",
    "    1. NodeA receives instructions to add 20 to x. x=5+20=25.\n",
    "    1. A second later, NodeB receives instructions to add 100 to x.  x=5+100=105.\n",
    "    1. If we read x at this moment in time,  we may get 25 or 105 depending on the node we read from.\n",
    "    1. 5 seconds later NodeA and NodeB try to sync with each other, but have conflicting data.  Because NodeA actually made the change 1 second before NodeB the NoSQL DBMS declares NodeA is correct, x=25.  Nodes are synced.\n",
    "    1. NodeB adds 100 to x.   x=25+100=125.\n",
    "    1. 5 seconds later NodeA and NodeB sync and become consistent.  x=125."
   ]
  },
  {
   "cell_type": "markdown",
   "id": "408bf885-b843-4d3b-932b-072561113af4",
   "metadata": {},
   "source": [
    "---"
   ]
  },
  {
   "cell_type": "markdown",
   "id": "08956bcf-17de-4fbc-8a14-73949bf3c318",
   "metadata": {},
   "source": [
    "# DBMS"
   ]
  },
  {
   "cell_type": "markdown",
   "id": "cb6f7495-b3dd-45f2-a73f-f0b70eca17d0",
   "metadata": {},
   "source": [
    "---"
   ]
  },
  {
   "cell_type": "markdown",
   "id": "1f09746e-fd8d-4bf9-82ba-8c9840e3de2f",
   "metadata": {},
   "source": [
    "## Common RDBMS\n",
    "\n",
    "- **Relational Database Management System (RDBMS)**--software that allows users to CRUD data stored in a relational database.  Users command the RDBMS to CRUD data with SQL.\n",
    "\n",
    "![](images/rdbms.png)\n",
    "\n",
    "- RDBMS can either follow a file-based or client-server model\n",
    "    1. **File-based**--database files are accessed directly from the hard drive.  Similar to CRUDing with MS Excel. MS Access and SQLite are file-based.\n",
    "    1. **Client-server**--functionality split into two distinct software programs.  *Server software* is directly responsible for CRUD.  *This is the RDBMS software (e.g. MS SQL Server).*  The computer (or network of computers) that run this software is called the *server*.  *Client software* provides a user interface to pass requests to the server software in the form of SQL commands (e.g. SQL Server Management Studio).  The server and client software can be run on the same computer, but more often are run on different computers within a network (LAN or the internet).  Server software must be configured before databases can be used.  Most RDBMS use the client-server model.\n",
    "    \n",
    "![](images/rdbms_server.png)\n",
    "\n",
    "The most common RDBMS are:\n",
    "\n",
    "Name | Release Year | License Type | Model | Pros, Cons, and Use Cases\n",
    "--- | --- | --- | --- | ---\n",
    "Oracle Database | 1979 | Commercial | Client-server | Enterprise scale. Extremely  customizable.  The most complex and thus the steepest learning curve.\n",
    "IBM Db2 | 1983 | Commercial | Client-server | Enterprise scale.  Very customizable.\n",
    "Microsoft SQL Server | 1989 | Commercial | Client-server | Enterprise scale.  Uses SQL flavor called Transact (T) SQL.  Integrates well with MS products.\n",
    "Microsoft Access | 1992 | Commercial | File-based.  File extension often \".accdb\". | Good for very, very, small databases (2 GiB size limit).  Allows non-technical users to create relational databases. MS has slowly tried to phase this product out.\n",
    "MySQL | 1995 | Open source-ish | Client-server | Simple setup compared to other client-server RDBMS.   Less customizable than other RDBMS.  Less standard SQL grammar used.  Fast for read-heavy operations.  Often used for websites.  Commercial version now owned by Oracle.  \n",
    "PostgreSQL | 1996 | Open source | Client-server | Enterprise scale.  \"The world's most advanced open source relational database.\"  Most closely adheres to SQL standards of any RDBMS.\n",
    "SQLite | 2000 | Open source | File-based.  File extension often \".sqlite3\", \".sqlite\", or \".db\". | Simple and lightweight.  Embedded into computer, phone, car, etc., applications.   Database size limit is determined by the non-volatile memory of the device as the SQLite software can support databases around 250 TiB.  SQLite is bad when applications accessing the database are connected across a network or when many users need concurrent write access.  SQLite works well for everything else.\n",
    "MariaDB | 2009 | Open source | Client-server | When Oracle purchased MySQL many in the open source community were concerned.  The open source version of MySQL was forked and renamed MariaDB.  Still very similar to MySQL and also often used for websites."
   ]
  },
  {
   "cell_type": "markdown",
   "id": "b48be9e6-0e55-4c83-ad96-e5f8eae90574",
   "metadata": {},
   "source": [
    "---"
   ]
  },
  {
   "cell_type": "markdown",
   "id": "dce314fd-8098-4936-92ec-d94196486efc",
   "metadata": {},
   "source": [
    "## Common NoSQL DBMS"
   ]
  },
  {
   "cell_type": "markdown",
   "id": "209f00b4-c6f8-452f-ab9e-6681f00e9d84",
   "metadata": {},
   "source": [
    "- There are also many NoSQL DBMS.  Popular ones include:\n",
    "\n",
    "Name | Release Year | License Type | Model | Pros, Cons, and Use Cases \n",
    "--- | --- | --- | --- | ---\n",
    "Neo4j | 2007 | Open source-ish | Graph | Most popular graph DBMS\n",
    "Apache Cassandra | 2008 | Open source | Wide column | Most popular wide column DBMS\n",
    "MongoDB | 2009 | Open source-ish |  Document | Most popular document DBMS.  Stores binary JSON documents. \n",
    "Redis | 2009 | Commercial | Key-value | Most popular key-value DBMS.  Often used for volatile memory.\n",
    "Elastic Search | 2010 | Open source-ish | Document | Originally only a search engine, but evolved into a full NoSQL DBMS\n",
    "\n",
    "- Note that open source and commercial licenses exist on a spectrum"
   ]
  },
  {
   "cell_type": "markdown",
   "id": "2a0d557c-941f-4a61-a25d-f63fe9bedf9f",
   "metadata": {},
   "source": [
    "---"
   ]
  },
  {
   "cell_type": "markdown",
   "id": "0f88f33e-440a-4175-9489-11b18d46647c",
   "metadata": {},
   "source": [
    "## Choosing DBMS\n",
    "\n",
    "- Most organizations already use a DBMS, but do occasionally switch DBMS vendors.  New projects also may get to choose a new DBMS.  If unsure whether to use RDBMS or a NoSQL DBMS it is often advisable to choose a RDBMS.\n",
    "- NoSQL databases vary in organization (key-value, document, column-store, or graph).  Each organizational model of NoSQL database excels at specific use case.  Many large tech companies with \"big data\" rely on NoSQL databases with horizontal scaling.\n",
    "- Unfortunately, most NoSQL databases are not ACID compliant.  BASE DBMS are not suitable for financial transactions and other purposes where consistent reads are critical.\n",
    "- RDBMS are ACID compliant. Also, when data can be stored in relational databases it provides a logical structure that is typically easier for humans to understand and query.\n",
    "- Furthermore, RDBMS have borrowed functionality from NoSQL document databases.  Most RDBMS now support binary JSON.  A database created with a RDBMS can even be used in a non-relational way.  When this occurs the database is BASE compliant, can be scaled horizontally, and is similar to a NoSQL document database.   This involves treating the database like a collection of independent documents instead of a collection of related tables.\n",
    "- Which RDBMS to choose depends on a whole host of factors.  What are project needs?  What is our budget?  What does our organization already use elsewhere?  Which RDBMS do our employees have experience with? Do we want to use an open source product?  Etc.\n",
    "- The last decision we'll cover is how to host the database server.  Options include:\n",
    "    1. Organization manages both database server hardware and RDBMS server software.  Called \"on-premise\".\n",
    "    1. Third-party paid to manage database server hardware while organization manages RDBMS server software.  Called \"virtual machine deployment\" or \"infrastructure as a service (IaaS)\".  Cloud providers include Amazon, Microsoft, Google, and IBM.\n",
    "    1. Third-party paid to manage both the database serve hardware and the RDBMS server software.  Called \"database as a service (DBaaS)\".  The biggest names are once again Amazon, Microsoft, Google, and IBM.  However, there are many more including Oracle and EnterpriseDB."
   ]
  },
  {
   "cell_type": "markdown",
   "id": "f5b419bf-1c8b-4be6-819f-8235bc60bfa2",
   "metadata": {},
   "source": [
    "---"
   ]
  },
  {
   "cell_type": "markdown",
   "id": "8ff63d73-ba98-4434-baf8-afc2c9850a02",
   "metadata": {},
   "source": [
    "## SQL Clients\n",
    "\n",
    "**SQL Client**--software that passes SQL commands to a RDBMS.  For database administrators and computer programmers this typically involves either an SQL shell or SQL IDE.\n",
    " \n",
    "1. **SQL Shell**--SQL client software that sends SQL commands using a command-line interface.  SQL statements can be passed one at a time through the shell to the RDBMS.  Analogous to the Python interactive interpreter.  Shell programs can also pass plaintext SQL scripts to the RDBMS.  These use a .sql file extension.  Analogous to running .py scripts.  Scripts are good for program automation.  Common SQL shells include:\n",
    "    - sqlite3.exe for SQLite\n",
    "    - MySQL Shell for MySQL\n",
    "    - psql for PostgreSQL\n",
    "    - sqlcmd for MS SQL Server\n",
    "1. **SQL IDE**--SQL Integrated Development Environment.  SQL client software with a GUI that can make it easier to connect to a RDBMS, run SQL statements, and visualize the structure of a database.  Analogous to R-Studio IDE or VS Code IDE. There are many SQL IDEs out there.  Some are free while some are paid for.  Some IDEs are specific to a particular RDBMS while others are cross platform and work for all major RDBMS.\n",
    "   - SQL IDEs tailored to a single RDBMS:\n",
    "        - DB Browser for SQLite\n",
    "\t\t- SQL Server Management Studio for MS SQL Server\n",
    "        - MySQL Workbench for MySQL\n",
    "        - Oracle SQL Developer for Oracle\n",
    "        - pgAdmin for PostgreSQL\n",
    "   - SQL IDEs that are free and cross platform:\n",
    "        - DBeaver (most popular in this category)\n",
    "        - SQuirrel\n",
    "        - Toad\n",
    "        - Heidi\n",
    "    - SQL IDEs that integrate well with Python scripting:\n",
    "        - JetBrains Data Grip (most popular in this category)\n",
    "        - MS VS Code with extensions\n",
    "        - Jupyter Lab with extensions "
   ]
  },
  {
   "cell_type": "markdown",
   "id": "5e148242-5c09-4d13-beeb-417885055d11",
   "metadata": {},
   "source": [
    "---"
   ]
  },
  {
   "cell_type": "markdown",
   "id": "bf5f5dd7-dc7b-4f88-8318-905112bc53a9",
   "metadata": {},
   "source": [
    "### IPython-SQL for SQLite\n",
    "\n",
    "- To practice SQL statements we will turn Jupyter Lab into a basic SQL IDE\n",
    "- `ipython-sql`--Jupyter Lab extension that allows us to run SQL statements from code cells.  We turn each code cell into an SQL cell using the \"cell magic\" command `%%sql`.  More information on `ipython-sql` can be found by following the link provided in the learning resources.\n",
    "- The following few code cells are not SQL statements.  They will load `ipython-sql` into the Jupyter notebook. \n",
    "- We change a configuration setting to prevent certain feedback from printing each time an SQL statement is run\n",
    "- After every SQL statement `ipython-sql` will automatically print the databases we are connected to.  The database preceded by an asterisk is the one that the SQL statement was sent to.\n",
    "- While practicing SQL statements in our Jupyter SQL IDE we will use the SQLite RDBMS.  There are two reasons for this:\n",
    "    1. SQLite does not require server configuration prior to use unlike other RDBMS\n",
    "    1. SQLite is already embedded in the Python program so we do not have to download and install it \n",
    "- Lastly, we connect to an existing database.  If this is the first time running this command, it will create the database in the location specified by the relative file path.  This is used in place of the `CREATE DATABASE` SQL statement."
   ]
  },
  {
   "cell_type": "code",
   "execution_count": 1,
   "id": "00221bd7-4808-401b-99b7-2e674df3fb98",
   "metadata": {},
   "outputs": [],
   "source": [
    "%load_ext sql"
   ]
  },
  {
   "cell_type": "code",
   "execution_count": 2,
   "id": "015f45b4-c75f-4246-a121-5da649e6f5a7",
   "metadata": {},
   "outputs": [
    {
     "name": "stdout",
     "output_type": "stream",
     "text": [
      "SqlMagic(Magics, Configurable) options\n",
      "------------------------------------\n",
      "SqlMagic.autocommit=<Bool>\n",
      "    Set autocommit mode\n",
      "    Current: True\n",
      "SqlMagic.autolimit=<Int>\n",
      "    Automatically limit the size of the returned result sets\n",
      "    Current: 0\n",
      "SqlMagic.autopandas=<Bool>\n",
      "    Return Pandas DataFrames instead of regular result sets\n",
      "    Current: False\n",
      "SqlMagic.column_local_vars=<Bool>\n",
      "    Return data into local variables from column names\n",
      "    Current: False\n",
      "SqlMagic.displaylimit=<Int>\n",
      "    Automatically limit the number of rows displayed (full result set is still\n",
      "    stored)\n",
      "    Current: None\n",
      "SqlMagic.dsn_filename=<Unicode>\n",
      "    Path to DSN file. When the first argument is of the form [section], a\n",
      "    sqlalchemy connection string is formed from the matching section in the DSN\n",
      "    file.\n",
      "    Current: 'odbc.ini'\n",
      "SqlMagic.feedback=<Bool>\n",
      "    Print number of rows affected by DML\n",
      "    Current: True\n",
      "SqlMagic.short_errors=<Bool>\n",
      "    Don't display the full traceback on SQL Programming Error\n",
      "    Current: True\n",
      "SqlMagic.style=<Unicode>\n",
      "    Set the table printing style to any of prettytable's defined styles\n",
      "    (currently DEFAULT, MSWORD_FRIENDLY, PLAIN_COLUMNS, RANDOM)\n",
      "    Current: 'DEFAULT'\n"
     ]
    }
   ],
   "source": [
    "%config SqlMagic"
   ]
  },
  {
   "cell_type": "code",
   "execution_count": 3,
   "id": "6bce99db-f7c5-413e-99f9-502312467e71",
   "metadata": {},
   "outputs": [],
   "source": [
    "%config SqlMagic.feedback=False"
   ]
  },
  {
   "cell_type": "code",
   "execution_count": 4,
   "id": "c8be0275-ec34-4594-ad51-a478b6997926",
   "metadata": {},
   "outputs": [
    {
     "data": {
      "text/plain": [
       "'Connected: @databases/db_ex.db'"
      ]
     },
     "execution_count": 4,
     "metadata": {},
     "output_type": "execute_result"
    }
   ],
   "source": [
    "%sql sqlite:///databases/db_ex.db"
   ]
  },
  {
   "cell_type": "markdown",
   "id": "c979dd66-f34a-4b85-b726-5e0b539fb59d",
   "metadata": {},
   "source": [
    "---"
   ]
  },
  {
   "cell_type": "markdown",
   "id": "63ee4589-1aaa-4bfd-8029-777df2be5237",
   "metadata": {},
   "source": [
    "# Relational Databases"
   ]
  },
  {
   "cell_type": "markdown",
   "id": "fb56000a-beab-4352-90b2-a54622b2600d",
   "metadata": {},
   "source": [
    "---"
   ]
  },
  {
   "cell_type": "markdown",
   "id": "ad99da58-2387-49a9-b0bf-fc934faa9ba7",
   "metadata": {},
   "source": [
    "## Tables\n",
    "\n",
    "- Different people use different terminology\n",
    "\n",
    "SQL Term | Relational Database Term | Description\n",
    "--- | --- | ---\n",
    "Row | Record or tuple | Represents a single item/element/thing.  Called a feature in GIS.\n",
    "Column | Attribute, attribute field, field | An attribute of the item.  Called a variable in statistics.\n",
    "Table | Relation | Set of columns and rows.  The term set is used as the order of columns and rows does not matter and rows and columns do not repeat.\n",
    "\n",
    "- **Header**--field name.  The first row of a table contains headers.\n",
    "- **Cell**--intersection of single row and single column.  Contains a value.\n",
    "- **NULL**--value that may be placed within a cell to represents the absence of data\n",
    "- Table example:\n",
    "\n",
    "Header | Header | Header\n",
    "--- | --- | --- \n",
    "ID1 | Data | Data\n",
    "ID2 | Data | Data\n",
    "ID3| Data | NULL"
   ]
  },
  {
   "cell_type": "markdown",
   "id": "2fa2eb07-24ec-4659-8de6-38f6c861b510",
   "metadata": {},
   "source": [
    "---"
   ]
  },
  {
   "cell_type": "markdown",
   "id": "e9c16234-1a79-4ccf-a3e7-ebf136caeb1a",
   "metadata": {},
   "source": [
    "## Keys\n",
    "\n",
    "- When MS Excel, Google Sheets, or Python Pandas wants to find a single cell it uses a column header and a row header (sometimes called a row label or row index).   E.g. in a spreadsheet program we can find the third cell down in the first column by specifying \"A3\".  Because each column letter and each row number is unique we can use this notation to find any cell in the table!\n",
    "- However, RDBMS do not have predefined column and row headers.  To get unique column headers we must choose unique column names when a table is created.  Simple.\n",
    "- RDBMS rows do not have headers in the same way that columns do.  We must create a column to hold these row \"headers\", these \"names\", these values that will uniquely identify each row.\n",
    "- **Primary key**--the field where every record has a unique identifying cell value.  Allows us to identify records.\n",
    "- Primary key cell values must:\n",
    "    1. Be unique.  Cell values never repeat within that column.\n",
    "    2. Never change.  It is best not to have the primary key be a name as these may change.\n",
    "    3. Never be  NULL\n",
    "- For these reasons, primary key cell values are almost always positive integers (1,2,3,4...)\n",
    "- Each table below has a primary key:\n",
    "\n",
    "![](images/key.png)\n",
    "\n",
    "- **Foreign key**--a field in a given table that acts as the primary key in a different (foreign) table\n",
    "- In the Fruits Table above, Color ID is just another field, but it is the primary key in the Colors Table\n",
    "- There are other types of keys:\n",
    "    1. **Super key**--one or more fields that could potentially act as the primary key.  Only one is usually chosen as the primary key.  The un-chosen keys are called **alternate keys**.\n",
    "    1. **Compound/concatenate/composite key**--two or more fields that, when used together, uniquely ID each record and act as the primary key\n",
    "        -  E.g. we may ID a US county using State and County fields.  Just county couldn't be used as a primary key as county names can be the same in different states.  However, within the same state, there are no county names that repeat.\n",
    "    1. **Logical Key**--primary key where the values are common names instead of numbers.  Because of the potential to have non-unique names or names that change, logical keys are not often used as the primary key field. However, they are commonly used to search for a record in a table.\n",
    "        - E.g. in a table of songs it may be song name.  In a table of people it may be first and last name.  In a table of emails it is email address.\n",
    "- There is no universal convention for choosing names for tables and columns.  The most important thing is that team members follow the same convention, whatever that is.  Here is one common convention:\n",
    "    - Table name is lowercase and singular (some prefer plural).  The table name represents the subject of the table. \n",
    "    - Primary key header is lowercase `id` (some prefer to prefix with table subject)\n",
    "    - The primary key cell values are positive integers (1,2,3,4, etc)\n",
    "    - Foreign key header is the singular table name of the foreign table + underscore + id (all lowercase)\n",
    "    - Field that describes what the subject of the table is uses the header, `name` (some prefer to prefix with subject)\n",
    "    \n",
    "![](images/naming_conventions.png)\n",
    "\n",
    "- I didn't use this naming convention in many examples as I thought being more descriptive with names would be helpful for learning.  "
   ]
  },
  {
   "cell_type": "markdown",
   "id": "d267527f-4f7a-4f01-8dae-7ebfd5c8c996",
   "metadata": {},
   "source": [
    "---"
   ]
  },
  {
   "cell_type": "markdown",
   "id": "015f77fd-1498-48d6-adc3-dbecdf542064",
   "metadata": {
    "tags": []
   },
   "source": [
    "## Normalization\n",
    "\n",
    "- While we could store data in one giant table this is not very efficient.   If there were millions of records this table may be slow to work with. \n",
    "- The table below shows a table with lots of repeated cell values, such as the string \"Rock\" in the \"Genre\" column.  This is termed \"vertical repetition\".  Vertical repetition of strings and data types that take up a lot of storage space is bad.\n",
    "\n",
    "![](images/itunes_ui.png)\n",
    "\n",
    "- Relational databases solve this problem by creating multiple smaller, connected tables.  \"Compression by connection.\"  These smaller tables still have vertical repetition, but the values that repeat will be integers (keys) that do not take up much memory.  \"References replace repetition.\"\n",
    "- **Normalization**--the process of building connected data tables that follow certain rules.  There are 3 (or more) levels of \"Normal Form\" that make the relational database increasingly efficient.\n",
    "1. **First Normal Form**--within each table:\n",
    "\t1.  Primary key\n",
    "\t2.  No duplicate records\n",
    "\t3.  Field names do not repeat and are not NULL\n",
    "\t4.  Data type does not change within the same field\n",
    "\t\t-  E.g.  D.O.B. field does not have \"Frank\" as a value in a cell\n",
    "\t5. **Atomic**--each cell only contains one value \n",
    "\t\t- E.g. a D.O.B. cell should not have multiple dates\n",
    "2. **Second Normal Form**\n",
    "\t1. Be in First Normal Form\n",
    "\t2. Not have **Partial Dependency**\n",
    "3. **Third Normal Form**\n",
    "\t1. Be in Second Normal Form\n",
    "\t2. Not have **Transitive Dependency**\n",
    "- I don't fully understand the levels of dependencies ([and that's...OK](https://youtu.be/xNx_gU57gQ4)).  The gist is that all the attribute fields should be directly related (for a lack of a better word) to the primary key.\n",
    "- The table below is a listing of Harry and Ron's course load.  It has problems.\n",
    " \n",
    "Student ID | Student Name | Teacher ID | Teacher Name | Class Name\n",
    "--- | --- | --- | --- | ---\n",
    "S1 | Harry | T1, T2, T3 | Hagrid, Sprout, Snape | Magical Creatures, Magic Botany, Defense ADA \n",
    "S2 | Ron | T3, T4 | Snape, Slughorn | Potions, Defense ADA\n",
    "\n",
    "-  We'll put it in first normal form.  To make it atomic we must create new rows and split up lists.  However, doing so gets rid of a primary key field (which was Student ID).  We'll create a new primary key field.  We cast Al-a-ka-first-normal-form!!! \n",
    "\n",
    "Primary Key | Student ID | Student Name | Teacher ID | Teacher Name | Class Name\n",
    "--- | --- | --- | --- | --- | --\n",
    "1 | S1 | Harry | T1 | Hagrid |Magical Creatures\n",
    "2 | S1 | Harry | T2 | Sprout | Magic Botany\n",
    "3 | S1 | Harry | T3 | Snape | Defense ADA\n",
    "4 | S2 | Ron | T4 | Slughorn | Potions\n",
    "5 | S2 | Ron | T3 | Snape | Defense ADA\n",
    "\n",
    "- Much better, but still not perfect.  There is a lot of vertical repetition of strings like \"Harry\" and \"Snape\", that takes up memory space.\n",
    "- To put this into second or third normal form we'd need separate tables for students, teachers, classes, and student course load, and connect them all together with primary and foreign keys! \n",
    "- In general, if a column has a lot of vertical repetition of strings we often move it to its own table and that column becomes the new logical key.  We cast Al-a-ka-second-or-third-normal form!!!\n",
    "\n",
    "\n",
    "Student Table.  Student Name had vertical repetition of string values.  Split into own table and became logical key.\n",
    "\n",
    "Student ID | Student Name\n",
    "--- | --- \n",
    "S1 | Harry \n",
    "S2 | Ron\n",
    "\n",
    "Teacher Table.  Teacher Name had vertical repetition...split...became logical key.\n",
    "\n",
    "Teacher ID | Teacher Name\n",
    "--- | ---\n",
    "T1 | Hagrid\n",
    "T2 | Sprout\n",
    "T3 | Snape\n",
    "T4 | Slughorn\n",
    "\n",
    "Class Table.  Class Name had vertical repetition...split...became logical key.\n",
    "\n",
    "Class ID | Class Name | Teacher ID\n",
    "--- | --- | ---\n",
    "C1 | Magical Creatures | T1\n",
    "C2 | Magic Botany | T2\n",
    "C3 | Defense ADA | T3\n",
    "C4 | Potions | T4\n",
    "\n",
    "Connection Table\n",
    "\n",
    "Student ID | Class ID\n",
    "--- | ---\n",
    "S1 | C1\n",
    "S1 | C2\n",
    "S1 | C3\n",
    "S2 | C3\n",
    "S2 | C4\n",
    "\n",
    "- Note how our long strings are only ever written once in the entire database!  \"References replace repetition.\"\n",
    "- The way we choose to split up tables depends on the relationship between the subjects of tables"
   ]
  },
  {
   "cell_type": "markdown",
   "id": "4db3e210-3bfc-4e19-98c6-ea1db363ae81",
   "metadata": {},
   "source": [
    "---"
   ]
  },
  {
   "cell_type": "markdown",
   "id": "bb2c46fb-bfc2-4fcf-afa3-50b246d8573a",
   "metadata": {
    "tags": []
   },
   "source": [
    "## Relationships\n",
    "\n",
    "- **Relationship**--how the subjects in one table relate to subjects in another table\n",
    "- We are primarily concerned with the following 4 relationships:\n",
    "\n",
    "Relation | Symbology | Example\n",
    "--- | --- | ---\n",
    "One to One | 1-1 | Customer to Customer ID\n",
    "One to Many | 1-n | Order to Products\n",
    "Many to One | n-1 | Products to Order\n",
    "Many to Many | n-n | Customers to Products\n",
    "\n",
    "- As seen the example above, 1-n  and n-1 relationships are the same thing, it's just a matter of perspective\n",
    "- **Entity**--another term for a table\n",
    "- **Entity Relationship Diagram (ERD)**--visual representation of table relationships within a database.   Each block/rectangle in an ERD represents a table and the block rows actually represent all the attribute fields. \n",
    "- ERDs may only use lines to connect tables, or they may include more information in the form of relational symbols.  The image below maps symbols to their meanings. Note how shapes intuitively correspond to meanings.\n",
    "\n",
    "![](images/erd_relationships.png))\n",
    "\n",
    "- In the following ERD, notice the PK (Primary Key) and FK (Foreign Key) designations next to certain fields.  The following ERD can be read as \"customers can make zero or more orders, while orders are made by one and only one customer.  Each order contains one or more products, while each product may be in zero or more orders.\"\n",
    "\n",
    "![](images/erd.png)\n",
    "\n",
    "- **Cardinality**--refers to the number of associations between entities.  I.e. how many tables a given table is related to."
   ]
  },
  {
   "cell_type": "markdown",
   "id": "e6814cb0-bc94-45bb-91ea-11cdd78c7806",
   "metadata": {},
   "source": [
    "---"
   ]
  },
  {
   "cell_type": "markdown",
   "id": "06662f89-81a4-4a94-a20d-8fc1b4243089",
   "metadata": {},
   "source": [
    "## Schema\n",
    "\n",
    "- **Schema**--plural schemas or schemata.  Diagram or framework.  Term takes on different meanings when used in different areas of computer science (e.g. XML, APIs, and databases).\n",
    "- **Database schema**--term takes on different meanings in different RDBMS.  It may refer to a visual diagram of the database similar to an ERD, textual specifications of the database, or even refer to the entire database.  Generally, a database schema controls how the database is initially constructed and how it can be modified and added in the future.   Includes which tables are in the database, how tables are related to each other (through primary and foreign keys), which type of data each field holds, field precision, field scale, and indexes.\n",
    "- **Field data type**--data storage format for a particular field.  Similar to MS Excel cell types (whole numbers, decimal numbers, text, TRUE/FALSE, date, currency, and N/A).  Different RDBMS use different data types.  Must look at documentation for each RDBMS.\n",
    "- **Field precision**--also called field length.  The number of characters that can be stored in a given field.\n",
    "    - E.g. number of characters in a string or number of digits in an integer\n",
    "- **Field scale**--if the field holds real numbers, it is the amount of decimal places that can be stored\n",
    "- The following image shows a visual representation of a database schema.  It is very similar to an ERD, but commonly includes information on field data type and precision. \n",
    "\n",
    "![](images/schema.png)"
   ]
  },
  {
   "cell_type": "markdown",
   "id": "04342996-b438-479c-ae9d-dff21cb63b50",
   "metadata": {},
   "source": [
    "---"
   ]
  },
  {
   "cell_type": "markdown",
   "id": "db31e507-1e6e-4990-9c3f-784a63af7774",
   "metadata": {},
   "source": [
    "## JOIN \n",
    "  \n",
    "- So far we've covered how data is stored in separate tables and how tables are related with primary and foreign keys.  \n",
    "- Though it is more efficient to store data in separate tables, we often want to view certain attributes of the data together in a single table\n",
    "- Program user interfaces do this automatically for us all the time.  For example, iTunes internally uses the SQLite RDBMS.  An iTunes database is made up of separate tables like an Albums table, Genre table, and Artists table.  It joins them all together for us to view in our iTunes Library table.\n",
    "\n",
    "![](images/itunes_ui.png)\n",
    "\n",
    "- **Join**--combine multiple tables into one\n",
    "- Join is a type of SQL statement used to command a RDBMS.  We often write JOIN with all uppercase letters as this is common for SQL keywords.\n",
    "- Joining does not change the underlying data in the database, nor the structure of it.  The resulting table is a new, temporary, view of our data.\n",
    "- There are multiple ways to join tables. We will break it up into three different categories:\n",
    "    1. Cross join (no relationships and no keys used)\n",
    "    1. Join for 1-1 and 1-n relationships (keys used)\n",
    "    1. Join for a n-n relationships (keys used)\n",
    "- We will also jump into SQL a section early and provide SQL examples so that we can reinforce the concepts of relations, keys, and joins\n",
    "- Lastly, note we are using examples that join TWO TABLES tables.  We can join THREE or more tables together, but depending on type of join used, it may create additional complexity to worry about!"
   ]
  },
  {
   "cell_type": "markdown",
   "id": "b0e5449f-9153-4f5b-ba24-ed75d356d7d6",
   "metadata": {},
   "source": [
    "---"
   ]
  },
  {
   "cell_type": "markdown",
   "id": "f1714988-757b-4f64-92f1-eca0e0bf2d7e",
   "metadata": {
    "tags": []
   },
   "source": [
    "### CROSS JOIN\n",
    " \n",
    "- **CROSS JOIN**--combines each record from one table with each record from another table in every possible combination.  It does not use table relationships or keys at all!\n",
    "- The result table has no NULL values.\n",
    "- All cell values from the original tables are represented in the result table\n",
    "- CROSS JOIN is rarely used as records in result table often have little practical significance\n",
    "- CROSS JOIN can get out of hand quickly as: \n",
    "    - $\\text{number of records in result table} =  \\text{number of records table A}\\cdot \\text{number of records table B}$\n",
    "- The result table below has 4 x 3 = 12 records:\n",
    "\n",
    "![](images/join_cross.png)"
   ]
  },
  {
   "cell_type": "markdown",
   "id": "c38490e6-8a55-4c8e-80a0-40358b483253",
   "metadata": {},
   "source": [
    "---"
   ]
  },
  {
   "cell_type": "markdown",
   "id": "594e9a2c-81b2-4dbe-a0c9-ae256847bf10",
   "metadata": {},
   "source": [
    "#### CROSS JOIN SQL\n",
    "\n",
    "- CROSS JOIN SQL syntax is similar to other JOINs\n",
    "- RDBMS typically have their own keyword for `CROSS JOIN` to indicate to the reader that we intend to perform a CROSS JOIN. However, the `INNER JOIN` (or `JOIN`) SQL keyword can actually be used to perform a CROSS JOIN and returns the exact same results.\n",
    "- The difference between a true INNER JOIN and a CROSS JOIN is that the  `ON` statement is left out in CROSS JOIN.   `ON` is left out because CROSS JOIN does not rely ON keys.\n",
    "\n",
    "```sql\n",
    "SELECT *\n",
    "FROM table_a\n",
    "CROSS JOIN table_b\n",
    "```"
   ]
  },
  {
   "cell_type": "markdown",
   "id": "30ff0ed4-1712-4a06-b20c-a1342ab8789d",
   "metadata": {},
   "source": [
    "---"
   ]
  },
  {
   "cell_type": "markdown",
   "id": "dc17b0e1-a596-41f7-946c-ac97e3274af2",
   "metadata": {},
   "source": [
    "**EXAMPLES**"
   ]
  },
  {
   "cell_type": "markdown",
   "id": "13fcb83c-cd2d-40d3-95a6-abec35fb3aa5",
   "metadata": {},
   "source": [
    "**Drop Tables**"
   ]
  },
  {
   "cell_type": "code",
   "execution_count": 5,
   "id": "00e1b262-e9a1-468f-82bc-818022fb492c",
   "metadata": {},
   "outputs": [
    {
     "name": "stdout",
     "output_type": "stream",
     "text": [
      " * sqlite:///databases/db_ex.db\n"
     ]
    },
    {
     "data": {
      "text/plain": [
       "[]"
      ]
     },
     "execution_count": 5,
     "metadata": {},
     "output_type": "execute_result"
    }
   ],
   "source": [
    "%%sql\n",
    "\n",
    "DROP TABLE IF EXISTS fruit;\n",
    "DROP TABLE IF EXISTS color;"
   ]
  },
  {
   "cell_type": "markdown",
   "id": "df92cd1f-3bb3-4921-aa12-941d4fe716ce",
   "metadata": {},
   "source": [
    "**Create Tables and Insert Records**"
   ]
  },
  {
   "cell_type": "code",
   "execution_count": 6,
   "id": "48cc61ba-4cf9-4861-bfa7-fde48af61678",
   "metadata": {
    "tags": []
   },
   "outputs": [
    {
     "name": "stdout",
     "output_type": "stream",
     "text": [
      " * sqlite:///databases/db_ex.db\n"
     ]
    },
    {
     "data": {
      "text/html": [
       "<table>\n",
       "    <thead>\n",
       "        <tr>\n",
       "            <th>id</th>\n",
       "            <th>name</th>\n",
       "        </tr>\n",
       "    </thead>\n",
       "    <tbody>\n",
       "        <tr>\n",
       "            <td>1</td>\n",
       "            <td>Red</td>\n",
       "        </tr>\n",
       "        <tr>\n",
       "            <td>2</td>\n",
       "            <td>Orange</td>\n",
       "        </tr>\n",
       "        <tr>\n",
       "            <td>3</td>\n",
       "            <td>Yellow</td>\n",
       "        </tr>\n",
       "    </tbody>\n",
       "</table>"
      ],
      "text/plain": [
       "[(1, 'Red'), (2, 'Orange'), (3, 'Yellow')]"
      ]
     },
     "execution_count": 6,
     "metadata": {},
     "output_type": "execute_result"
    }
   ],
   "source": [
    "%%sql\n",
    "\n",
    "CREATE TABLE color(\n",
    "    id INTEGER PRIMARY KEY,\n",
    "    name VARCHAR(20)\n",
    ");\n",
    "\n",
    "INSERT INTO color(name)\n",
    "VALUES \n",
    "    ('Red'),\n",
    "    ('Orange'),\n",
    "    ('Yellow');\n",
    "\n",
    "\n",
    "SELECT *\n",
    "FROM color;"
   ]
  },
  {
   "cell_type": "code",
   "execution_count": 7,
   "id": "8181a4c4-2687-4c78-ba18-193f6f1d0a10",
   "metadata": {},
   "outputs": [
    {
     "name": "stdout",
     "output_type": "stream",
     "text": [
      " * sqlite:///databases/db_ex.db\n"
     ]
    },
    {
     "data": {
      "text/html": [
       "<table>\n",
       "    <thead>\n",
       "        <tr>\n",
       "            <th>id</th>\n",
       "            <th>name</th>\n",
       "        </tr>\n",
       "    </thead>\n",
       "    <tbody>\n",
       "        <tr>\n",
       "            <td>1</td>\n",
       "            <td>Apple</td>\n",
       "        </tr>\n",
       "        <tr>\n",
       "            <td>2</td>\n",
       "            <td>Cherry</td>\n",
       "        </tr>\n",
       "        <tr>\n",
       "            <td>3</td>\n",
       "            <td>Orange</td>\n",
       "        </tr>\n",
       "        <tr>\n",
       "            <td>4</td>\n",
       "            <td>Lime</td>\n",
       "        </tr>\n",
       "    </tbody>\n",
       "</table>"
      ],
      "text/plain": [
       "[(1, 'Apple'), (2, 'Cherry'), (3, 'Orange'), (4, 'Lime')]"
      ]
     },
     "execution_count": 7,
     "metadata": {},
     "output_type": "execute_result"
    }
   ],
   "source": [
    "%%sql\n",
    "\n",
    "CREATE TABLE fruit(\n",
    "    id INTEGER PRIMARY KEY,\n",
    "    name VARCHAR(20)\n",
    ");\n",
    "\n",
    "INSERT INTO fruit (name)\n",
    "VALUES \n",
    "    ('Apple'),\n",
    "    ('Cherry'),\n",
    "    ('Orange'),\n",
    "    ('Lime');\n",
    "\n",
    "SELECT *\n",
    "FROM fruit;"
   ]
  },
  {
   "cell_type": "markdown",
   "id": "2e853df2-7411-4537-8634-8a46d998a6cc",
   "metadata": {},
   "source": [
    "**CROSS JOIN**"
   ]
  },
  {
   "cell_type": "code",
   "execution_count": 8,
   "id": "b830dab6-5a4f-495b-a750-f69a07d50864",
   "metadata": {},
   "outputs": [
    {
     "name": "stdout",
     "output_type": "stream",
     "text": [
      " * sqlite:///databases/db_ex.db\n"
     ]
    },
    {
     "data": {
      "text/html": [
       "<table>\n",
       "    <thead>\n",
       "        <tr>\n",
       "            <th>id</th>\n",
       "            <th>name</th>\n",
       "            <th>id_1</th>\n",
       "            <th>name_1</th>\n",
       "        </tr>\n",
       "    </thead>\n",
       "    <tbody>\n",
       "        <tr>\n",
       "            <td>1</td>\n",
       "            <td>Apple</td>\n",
       "            <td>1</td>\n",
       "            <td>Red</td>\n",
       "        </tr>\n",
       "        <tr>\n",
       "            <td>1</td>\n",
       "            <td>Apple</td>\n",
       "            <td>2</td>\n",
       "            <td>Orange</td>\n",
       "        </tr>\n",
       "        <tr>\n",
       "            <td>1</td>\n",
       "            <td>Apple</td>\n",
       "            <td>3</td>\n",
       "            <td>Yellow</td>\n",
       "        </tr>\n",
       "        <tr>\n",
       "            <td>2</td>\n",
       "            <td>Cherry</td>\n",
       "            <td>1</td>\n",
       "            <td>Red</td>\n",
       "        </tr>\n",
       "        <tr>\n",
       "            <td>2</td>\n",
       "            <td>Cherry</td>\n",
       "            <td>2</td>\n",
       "            <td>Orange</td>\n",
       "        </tr>\n",
       "        <tr>\n",
       "            <td>2</td>\n",
       "            <td>Cherry</td>\n",
       "            <td>3</td>\n",
       "            <td>Yellow</td>\n",
       "        </tr>\n",
       "        <tr>\n",
       "            <td>3</td>\n",
       "            <td>Orange</td>\n",
       "            <td>1</td>\n",
       "            <td>Red</td>\n",
       "        </tr>\n",
       "        <tr>\n",
       "            <td>3</td>\n",
       "            <td>Orange</td>\n",
       "            <td>2</td>\n",
       "            <td>Orange</td>\n",
       "        </tr>\n",
       "        <tr>\n",
       "            <td>3</td>\n",
       "            <td>Orange</td>\n",
       "            <td>3</td>\n",
       "            <td>Yellow</td>\n",
       "        </tr>\n",
       "        <tr>\n",
       "            <td>4</td>\n",
       "            <td>Lime</td>\n",
       "            <td>1</td>\n",
       "            <td>Red</td>\n",
       "        </tr>\n",
       "        <tr>\n",
       "            <td>4</td>\n",
       "            <td>Lime</td>\n",
       "            <td>2</td>\n",
       "            <td>Orange</td>\n",
       "        </tr>\n",
       "        <tr>\n",
       "            <td>4</td>\n",
       "            <td>Lime</td>\n",
       "            <td>3</td>\n",
       "            <td>Yellow</td>\n",
       "        </tr>\n",
       "    </tbody>\n",
       "</table>"
      ],
      "text/plain": [
       "[(1, 'Apple', 1, 'Red'),\n",
       " (1, 'Apple', 2, 'Orange'),\n",
       " (1, 'Apple', 3, 'Yellow'),\n",
       " (2, 'Cherry', 1, 'Red'),\n",
       " (2, 'Cherry', 2, 'Orange'),\n",
       " (2, 'Cherry', 3, 'Yellow'),\n",
       " (3, 'Orange', 1, 'Red'),\n",
       " (3, 'Orange', 2, 'Orange'),\n",
       " (3, 'Orange', 3, 'Yellow'),\n",
       " (4, 'Lime', 1, 'Red'),\n",
       " (4, 'Lime', 2, 'Orange'),\n",
       " (4, 'Lime', 3, 'Yellow')]"
      ]
     },
     "execution_count": 8,
     "metadata": {},
     "output_type": "execute_result"
    }
   ],
   "source": [
    "%%sql\n",
    "\n",
    "SELECT *\n",
    "FROM fruit\n",
    "CROSS JOIN color;"
   ]
  },
  {
   "cell_type": "markdown",
   "id": "7bc4a3be-b288-4a8b-919c-36163eab7906",
   "metadata": {},
   "source": [
    "---"
   ]
  },
  {
   "cell_type": "markdown",
   "id": "6f212f65-9ac3-42bf-9e4b-24131552f2a7",
   "metadata": {},
   "source": [
    "### 1-1 & 1-N JOINs\n",
    "\n",
    "- The following JOINs are used with 1-1 or 1-n table relationships\n",
    "    1.  INNER JOIN. \n",
    "    2.  LEFT (OUTER) JOIN\n",
    "    3.  RIGHT (OUTER) JOIN\n",
    "    4.  FULL (OUTER) JOIN\n",
    "- Our examples will use the same fruit  table and color table seen above.  Each record in the color table may be related to 1 or more records in the fruits table.  This makes it a 1-n relationship."
   ]
  },
  {
   "cell_type": "markdown",
   "id": "ec64d905-a1dd-4ccb-9d3a-c0615b0cd86c",
   "metadata": {},
   "source": [
    "---"
   ]
  },
  {
   "cell_type": "markdown",
   "id": "b2762842-8d1c-4dbd-97e8-130f726c3040",
   "metadata": {},
   "source": [
    "#### INNER JOIN\n",
    "\n",
    "- **(INNER) JOIN**--only returns records that have matching values in both tables\n",
    "- It does not create any NULL values, however it does leave records behind\n",
    "\n",
    "![](images/join_inner.png)"
   ]
  },
  {
   "cell_type": "markdown",
   "id": "977408bd-6b7f-4460-95dd-1e021ce72923",
   "metadata": {},
   "source": [
    "---"
   ]
  },
  {
   "cell_type": "markdown",
   "id": "97b53946-01d8-4ac6-8230-74a1c37ca7de",
   "metadata": {},
   "source": [
    "##### INNER JOIN SQL\n",
    "\n",
    "- INNER JOIN is the default in databases.  If we just use the `JOIN` keyword, it will be an INNER JOIN.  However, We'll explicitly write `INNER JOIN` for clarity.\n",
    "- Here is an INNER JOIN SQL statement:\n",
    "\n",
    "```sql\n",
    "SELECT *\n",
    "FROM table_a \n",
    "INNER JOIN table_b\n",
    "ON table_a.foreign_key = table_b.primary_key\n",
    "```\n",
    "\n",
    "- An INNER JOIN is equivalent to:\n",
    "    1. Performing CROSS JOIN\n",
    "    1. Filter our results with the `ON` clause to only include records with matching keys.  It is similar to a `WHERE` clause in this way.\n",
    "- Table order is NOT important for INNER JOIN:\n",
    "    - We can specify which *columns* we want in which order in the result table using the `SELECT` clause.   In the above code we do not do this and instead just put `*`.   If we do not specify, then which *table* we put first in the SQL statement changes the arrangement of the *columns* in the result table.  In practice, we usually specify which columns we want in the result table in which order. Then, the order does not matter at all.\n",
    "    -  We can specify how our *rows* are sorted in the results table with an `ORDER BY` clause.  In the above code we do not do this.  If we do not do this, then which *table* we put first in the SQL statement sometimes changes the arrangement of the *rows*.  In practice, we usually specify how our rows are sorted in the result table.  Then the order does not matter at all.\n",
    "    - The order we list the table after the `ON` has absolutely zero affect on the result table.  However, we do need to ensure the table and that table's key are kept together.  This is specified with dot notation.\n",
    "    - Some programmers may have a personal preference on what order they write tables and keys.  As shown in the examples, I prefer to write the table representing the \"many\" (has the foreign key) first in the statement.  When used with `*`, it places the \"many\" subject/logical key to the left and matching foreign and primary keys next each other."
   ]
  },
  {
   "cell_type": "markdown",
   "id": "8db13827-4cc0-451b-9abc-d2c7c31e556e",
   "metadata": {},
   "source": [
    "---"
   ]
  },
  {
   "cell_type": "markdown",
   "id": "041c73ef-d51f-453a-8ebe-20afe4736ae6",
   "metadata": {},
   "source": [
    "**EXAMPLES**"
   ]
  },
  {
   "cell_type": "markdown",
   "id": "9a09492c-8474-4dc6-8758-71df75cc432a",
   "metadata": {},
   "source": [
    "**Drop Tables**"
   ]
  },
  {
   "cell_type": "code",
   "execution_count": 9,
   "id": "6df2b425-5986-4e17-8b87-54bf4914e9ca",
   "metadata": {},
   "outputs": [
    {
     "name": "stdout",
     "output_type": "stream",
     "text": [
      " * sqlite:///databases/db_ex.db\n"
     ]
    },
    {
     "data": {
      "text/plain": [
       "[]"
      ]
     },
     "execution_count": 9,
     "metadata": {},
     "output_type": "execute_result"
    }
   ],
   "source": [
    "%%sql\n",
    "\n",
    "DROP TABLE IF EXISTS fruit;\n",
    "DROP TABLE IF EXISTS color;"
   ]
  },
  {
   "cell_type": "markdown",
   "id": "992ea45b-57c4-4a5c-8ed3-c2ebeda2e026",
   "metadata": {},
   "source": [
    "**Create Tables and Insert Records**"
   ]
  },
  {
   "cell_type": "code",
   "execution_count": 10,
   "id": "04d13a85-03f7-4398-a0b3-5470f831512e",
   "metadata": {
    "tags": []
   },
   "outputs": [
    {
     "name": "stdout",
     "output_type": "stream",
     "text": [
      " * sqlite:///databases/db_ex.db\n"
     ]
    },
    {
     "data": {
      "text/html": [
       "<table>\n",
       "    <thead>\n",
       "        <tr>\n",
       "            <th>id</th>\n",
       "            <th>name</th>\n",
       "        </tr>\n",
       "    </thead>\n",
       "    <tbody>\n",
       "        <tr>\n",
       "            <td>1</td>\n",
       "            <td>Red</td>\n",
       "        </tr>\n",
       "        <tr>\n",
       "            <td>2</td>\n",
       "            <td>Orange</td>\n",
       "        </tr>\n",
       "        <tr>\n",
       "            <td>3</td>\n",
       "            <td>Yellow</td>\n",
       "        </tr>\n",
       "    </tbody>\n",
       "</table>"
      ],
      "text/plain": [
       "[(1, 'Red'), (2, 'Orange'), (3, 'Yellow')]"
      ]
     },
     "execution_count": 10,
     "metadata": {},
     "output_type": "execute_result"
    }
   ],
   "source": [
    "%%sql\n",
    "\n",
    "CREATE TABLE color(\n",
    "    id INTEGER PRIMARY KEY,\n",
    "    name VARCHAR(20)\n",
    ");\n",
    "\n",
    "INSERT INTO color(name)\n",
    "VALUES \n",
    "    ('Red'),\n",
    "    ('Orange'),\n",
    "    ('Yellow');\n",
    "\n",
    "SELECT *\n",
    "FROM color;"
   ]
  },
  {
   "cell_type": "code",
   "execution_count": 11,
   "id": "872a1acc-acfa-49c0-a416-7e46dc463b4f",
   "metadata": {},
   "outputs": [
    {
     "name": "stdout",
     "output_type": "stream",
     "text": [
      " * sqlite:///databases/db_ex.db\n"
     ]
    },
    {
     "data": {
      "text/html": [
       "<table>\n",
       "    <thead>\n",
       "        <tr>\n",
       "            <th>id</th>\n",
       "            <th>name</th>\n",
       "            <th>color_id</th>\n",
       "        </tr>\n",
       "    </thead>\n",
       "    <tbody>\n",
       "        <tr>\n",
       "            <td>1</td>\n",
       "            <td>Apple</td>\n",
       "            <td>1</td>\n",
       "        </tr>\n",
       "        <tr>\n",
       "            <td>2</td>\n",
       "            <td>Cherry</td>\n",
       "            <td>1</td>\n",
       "        </tr>\n",
       "        <tr>\n",
       "            <td>3</td>\n",
       "            <td>Orange</td>\n",
       "            <td>2</td>\n",
       "        </tr>\n",
       "        <tr>\n",
       "            <td>4</td>\n",
       "            <td>Lime</td>\n",
       "            <td>4</td>\n",
       "        </tr>\n",
       "    </tbody>\n",
       "</table>"
      ],
      "text/plain": [
       "[(1, 'Apple', 1), (2, 'Cherry', 1), (3, 'Orange', 2), (4, 'Lime', 4)]"
      ]
     },
     "execution_count": 11,
     "metadata": {},
     "output_type": "execute_result"
    }
   ],
   "source": [
    "%%sql\n",
    "\n",
    "CREATE TABLE fruit(\n",
    "    id INTEGER PRIMARY KEY,\n",
    "    name VARCHAR(20),\n",
    "    color_id INTEGER REFERENCES color(id)\n",
    ");\n",
    "\n",
    "INSERT INTO fruit (name, color_id)\n",
    "VALUES \n",
    "    ('Apple', 1),\n",
    "    ('Cherry', 1),\n",
    "    ('Orange', 2),\n",
    "    ('Lime', 4);\n",
    "\n",
    "SELECT *\n",
    "FROM fruit;"
   ]
  },
  {
   "cell_type": "markdown",
   "id": "fb2029d0-a6f7-45ae-a14f-52c5ad7669e3",
   "metadata": {},
   "source": [
    "**INNER JOIN**"
   ]
  },
  {
   "cell_type": "code",
   "execution_count": 12,
   "id": "19244682-be63-45b7-9221-8888c50f3bdc",
   "metadata": {},
   "outputs": [
    {
     "name": "stdout",
     "output_type": "stream",
     "text": [
      " * sqlite:///databases/db_ex.db\n"
     ]
    },
    {
     "data": {
      "text/html": [
       "<table>\n",
       "    <thead>\n",
       "        <tr>\n",
       "            <th>id</th>\n",
       "            <th>name</th>\n",
       "            <th>color_id</th>\n",
       "            <th>id_1</th>\n",
       "            <th>name_1</th>\n",
       "        </tr>\n",
       "    </thead>\n",
       "    <tbody>\n",
       "        <tr>\n",
       "            <td>1</td>\n",
       "            <td>Apple</td>\n",
       "            <td>1</td>\n",
       "            <td>1</td>\n",
       "            <td>Red</td>\n",
       "        </tr>\n",
       "        <tr>\n",
       "            <td>2</td>\n",
       "            <td>Cherry</td>\n",
       "            <td>1</td>\n",
       "            <td>1</td>\n",
       "            <td>Red</td>\n",
       "        </tr>\n",
       "        <tr>\n",
       "            <td>3</td>\n",
       "            <td>Orange</td>\n",
       "            <td>2</td>\n",
       "            <td>2</td>\n",
       "            <td>Orange</td>\n",
       "        </tr>\n",
       "    </tbody>\n",
       "</table>"
      ],
      "text/plain": [
       "[(1, 'Apple', 1, 1, 'Red'),\n",
       " (2, 'Cherry', 1, 1, 'Red'),\n",
       " (3, 'Orange', 2, 2, 'Orange')]"
      ]
     },
     "execution_count": 12,
     "metadata": {},
     "output_type": "execute_result"
    }
   ],
   "source": [
    "%%sql\n",
    "\n",
    "SELECT *\n",
    "FROM fruit \n",
    "INNER JOIN color\n",
    "ON fruit.color_id = color.id;"
   ]
  },
  {
   "cell_type": "markdown",
   "id": "178258b3-6a41-4a2a-b76a-d3f291825130",
   "metadata": {},
   "source": [
    "---"
   ]
  },
  {
   "cell_type": "markdown",
   "id": "b3fc80c9-fd30-4045-b986-9c8ff1da3125",
   "metadata": {},
   "source": [
    "#### LEFT JOIN\n",
    "\n",
    "- **LEFT (OUTER) JOIN**--returns all matching records (like INNER JOIN) and also any unmatched records from the left table (first table mentioned)\n",
    "- Any unmatched record creates a NULL value\n",
    "- Note that the order the tables are mentioned affects records included in the result table\n",
    "\n",
    "![](images/join_left.png)"
   ]
  },
  {
   "cell_type": "markdown",
   "id": "d42ac596-e32e-42dd-813e-a74d11b50f1c",
   "metadata": {},
   "source": [
    "---"
   ]
  },
  {
   "cell_type": "markdown",
   "id": "a2dd734c-6176-4819-a6be-43ea6c49687c",
   "metadata": {},
   "source": [
    "##### LEFT JOIN SQL\n",
    "\n",
    "- LEFT JOIN SQL statements are very similar to INNER JOIN.  We use `LEFT JOIN` instead of `INNER JOIN`."
   ]
  },
  {
   "cell_type": "markdown",
   "id": "6100f00c-fa2c-4713-b002-008c405b515e",
   "metadata": {},
   "source": [
    "---"
   ]
  },
  {
   "cell_type": "markdown",
   "id": "a687d323-5eb3-4c22-bfe8-94216662f955",
   "metadata": {},
   "source": [
    "**EXAMPLES**"
   ]
  },
  {
   "cell_type": "markdown",
   "id": "335180b1-77e5-4b89-92ca-0bfdeecb39d5",
   "metadata": {},
   "source": [
    "**LEFT JOIN**\n",
    "\n",
    "- Fruit table written first.  Color table written second.  Yellow record is missing."
   ]
  },
  {
   "cell_type": "code",
   "execution_count": 13,
   "id": "cfa5796d-f62c-4d66-ab95-16d4cb5771ff",
   "metadata": {},
   "outputs": [
    {
     "name": "stdout",
     "output_type": "stream",
     "text": [
      " * sqlite:///databases/db_ex.db\n"
     ]
    },
    {
     "data": {
      "text/html": [
       "<table>\n",
       "    <thead>\n",
       "        <tr>\n",
       "            <th>id</th>\n",
       "            <th>name</th>\n",
       "            <th>color_id</th>\n",
       "            <th>id_1</th>\n",
       "            <th>name_1</th>\n",
       "        </tr>\n",
       "    </thead>\n",
       "    <tbody>\n",
       "        <tr>\n",
       "            <td>1</td>\n",
       "            <td>Apple</td>\n",
       "            <td>1</td>\n",
       "            <td>1</td>\n",
       "            <td>Red</td>\n",
       "        </tr>\n",
       "        <tr>\n",
       "            <td>2</td>\n",
       "            <td>Cherry</td>\n",
       "            <td>1</td>\n",
       "            <td>1</td>\n",
       "            <td>Red</td>\n",
       "        </tr>\n",
       "        <tr>\n",
       "            <td>3</td>\n",
       "            <td>Orange</td>\n",
       "            <td>2</td>\n",
       "            <td>2</td>\n",
       "            <td>Orange</td>\n",
       "        </tr>\n",
       "        <tr>\n",
       "            <td>4</td>\n",
       "            <td>Lime</td>\n",
       "            <td>4</td>\n",
       "            <td>None</td>\n",
       "            <td>None</td>\n",
       "        </tr>\n",
       "    </tbody>\n",
       "</table>"
      ],
      "text/plain": [
       "[(1, 'Apple', 1, 1, 'Red'),\n",
       " (2, 'Cherry', 1, 1, 'Red'),\n",
       " (3, 'Orange', 2, 2, 'Orange'),\n",
       " (4, 'Lime', 4, None, None)]"
      ]
     },
     "execution_count": 13,
     "metadata": {},
     "output_type": "execute_result"
    }
   ],
   "source": [
    "%%sql\n",
    "\n",
    "SELECT *\n",
    "FROM fruit \n",
    "LEFT JOIN color\n",
    "ON fruit.color_id = color.id;"
   ]
  },
  {
   "cell_type": "markdown",
   "id": "1856e6fd-3cca-4817-aa78-f38938f2324d",
   "metadata": {},
   "source": [
    "**LEFT JOIN**\n",
    "\n",
    "- Color table written first.  Fruit table written second.  Lime record is missing."
   ]
  },
  {
   "cell_type": "code",
   "execution_count": 14,
   "id": "807a65c0-4b70-4048-9c42-eb72d0dca23c",
   "metadata": {},
   "outputs": [
    {
     "name": "stdout",
     "output_type": "stream",
     "text": [
      " * sqlite:///databases/db_ex.db\n"
     ]
    },
    {
     "data": {
      "text/html": [
       "<table>\n",
       "    <thead>\n",
       "        <tr>\n",
       "            <th>id</th>\n",
       "            <th>name</th>\n",
       "            <th>id_1</th>\n",
       "            <th>name_1</th>\n",
       "            <th>color_id</th>\n",
       "        </tr>\n",
       "    </thead>\n",
       "    <tbody>\n",
       "        <tr>\n",
       "            <td>1</td>\n",
       "            <td>Red</td>\n",
       "            <td>1</td>\n",
       "            <td>Apple</td>\n",
       "            <td>1</td>\n",
       "        </tr>\n",
       "        <tr>\n",
       "            <td>1</td>\n",
       "            <td>Red</td>\n",
       "            <td>2</td>\n",
       "            <td>Cherry</td>\n",
       "            <td>1</td>\n",
       "        </tr>\n",
       "        <tr>\n",
       "            <td>2</td>\n",
       "            <td>Orange</td>\n",
       "            <td>3</td>\n",
       "            <td>Orange</td>\n",
       "            <td>2</td>\n",
       "        </tr>\n",
       "        <tr>\n",
       "            <td>3</td>\n",
       "            <td>Yellow</td>\n",
       "            <td>None</td>\n",
       "            <td>None</td>\n",
       "            <td>None</td>\n",
       "        </tr>\n",
       "    </tbody>\n",
       "</table>"
      ],
      "text/plain": [
       "[(1, 'Red', 1, 'Apple', 1),\n",
       " (1, 'Red', 2, 'Cherry', 1),\n",
       " (2, 'Orange', 3, 'Orange', 2),\n",
       " (3, 'Yellow', None, None, None)]"
      ]
     },
     "execution_count": 14,
     "metadata": {},
     "output_type": "execute_result"
    }
   ],
   "source": [
    "%%sql\n",
    "\n",
    "SELECT *\n",
    "FROM color \n",
    "LEFT JOIN fruit\n",
    "ON fruit.color_id = color.id;"
   ]
  },
  {
   "cell_type": "markdown",
   "id": "1afa3fa8-bdd2-4f4b-998e-34853ea2b6bf",
   "metadata": {},
   "source": [
    "---"
   ]
  },
  {
   "cell_type": "markdown",
   "id": "6bb961d6-f761-4409-a44c-673d3febfd73",
   "metadata": {},
   "source": [
    "#### RIGHT JOIN\n",
    "\n",
    "- **Right (OUTER) JOIN**--returns all matching records (like INNER JOIN) and also any unmatched records from the right table (second table mentioned)\n",
    "- Any unmatched record creates a NULL value  \n",
    "- The order the tables are mentioned affects records included in the result table\n",
    "- Also note that we can turn a left into a right (and vice versa) by switching the order tables are listed.  The column layout will be different though.  \n",
    "- Most programmers prefer the layout of the LEFT JOIN.  Therefore, RIGHT JOIN is rarely used.\n",
    "\n",
    "![](images/join_right.png)\n",
    "\n",
    "- *Note that SQLite does not have a RIGHT JOIN SQL statement*"
   ]
  },
  {
   "cell_type": "markdown",
   "id": "5830f071-45da-4488-8069-fcfcdabde77e",
   "metadata": {},
   "source": [
    "---"
   ]
  },
  {
   "cell_type": "markdown",
   "id": "c1e14d6b-cd0c-41f9-b6bf-bbf674173efd",
   "metadata": {
    "tags": []
   },
   "source": [
    "#### FULL JOIN\n",
    "\n",
    "- **FULL (OUTER) JOIN**--returns all matching records (like INNER JOIN) and also any unmatched records from the left or right tables\n",
    "- Creates the most NULL values, but also no record left behind\n",
    "- Like INNER JOIN, the order tables are written in the SQL statement order does NOT affect which records are included in the result table. \n",
    "- Like INNER JOIN, for formatting reasons, our examples writes the \"many\" table (table with foreign key) first\n",
    "\n",
    "![](images/join_full.png)\n",
    "\n",
    "- *Note that SQLite does not have a FULL JOIN SQL statement.  The same functionality can be implemented, but requires multiple SQL statements.*"
   ]
  },
  {
   "cell_type": "markdown",
   "id": "465ac545-ed1a-43d8-9929-9244ef3a02bd",
   "metadata": {},
   "source": [
    "---"
   ]
  },
  {
   "cell_type": "markdown",
   "id": "39d365a4-5c93-42b8-9140-eeb5f1cc55e6",
   "metadata": {},
   "source": [
    "#### 1-1 & 1-N Summary\n",
    "\n",
    "- The following Venn diagrams illustrate which records are included in the result table when two input tables are combined with different JOINs:\n",
    "\n",
    "![](images/join_types.jpg)\n",
    "\n",
    "- The following tables summarizes key characteristics of JOINs when TWO TABLES are joined:\n",
    "\n",
    "JOIN TYPE | NULL Values Created? | Records Left Behind? | Table Order Affects Records Included in Result Table?\n",
    "--- | --- | --- | ---\n",
    "INNER JOIN | No | Yes | No\n",
    "LEFT JOIN | Yes | Yes | Yes\n",
    "RIGHT JOIN | Yes | Yes | Yes\n",
    "FULL JOIN | Yes | No | No"
   ]
  },
  {
   "cell_type": "markdown",
   "id": "2ebc4baa-13a7-4a0b-bff5-a7899454b081",
   "metadata": {},
   "source": [
    "---"
   ]
  },
  {
   "cell_type": "markdown",
   "id": "9f528b92-5c99-48cb-9f88-4e7da4e11f89",
   "metadata": {
    "tags": []
   },
   "source": [
    "#### Ambiguous Results?\n",
    "\n",
    "- Spoiler...no\n",
    "- The below image shows two different JOINs.  \n",
    "\n",
    "![](images/join_ambiguous.png)\n",
    "\n",
    "- Luckily this is only hypothetical.  RDBMS software is smart enough not to do this."
   ]
  },
  {
   "cell_type": "markdown",
   "id": "a2c8247e-ec0f-46ea-830b-e66bbf4757d0",
   "metadata": {},
   "source": [
    "---"
   ]
  },
  {
   "cell_type": "markdown",
   "id": "892d8f6a-ce5d-46fc-9f5c-c6e22217b4f4",
   "metadata": {},
   "source": [
    "#### Multi-JOINs\n",
    "\n",
    "- **Multi-JOIN**--JOIN three or more tables together in a single SQL statement\n",
    "- Multi-JOINs are common when tables are normalized\n",
    "- Multi-JOIN queries can use a single join type more than once (e.g. INNER, INNER), or they can use multiple types (e.g. INNER, FULL).\n",
    "- **Caution!  Mulit-JOINs are evaluated sequentially.  After each join, a temporary, intermediate result set is created.  When joining three or more tables the order tables are listed may effect the final result table.**  \n",
    "- The only cases where table order does NOT matter is when:\n",
    "    1. We use only INNER JOINs\n",
    "    1. We use only FULL JOINs\n",
    "- The implications of table order can be best visualized with Venn diagrams.  Note the multi-join with an INNER JOIN and a LEFT JOIN:\n",
    "\n",
    "![](images/join_types_multi.png)\n",
    "\n",
    "- Below we perform the same INNER JOIN we did before, but also INNER JOIN a vegetable table\n",
    "\n",
    "![](images/join_multi.png)"
   ]
  },
  {
   "cell_type": "markdown",
   "id": "c2d8a4ca-fe68-4456-8879-cbd3e99fe0cb",
   "metadata": {},
   "source": [
    "---"
   ]
  },
  {
   "cell_type": "markdown",
   "id": "39a3e37a-8acf-476c-9200-23e2f832145a",
   "metadata": {},
   "source": [
    "##### Multi-JOIN SQL\n",
    "\n",
    "- MUlti-JOIN SQL syntax is similar to other JOINs.  We add a JOIN clause for each additional JOIN performed.\n",
    "\n",
    "```sql\n",
    "SELECT *\n",
    "FROM table_a \n",
    "INNER JOIN table_b ON table_a.foreign_key = table_b.primary_key\n",
    "INNER JOIN table_c ON table_a_or_b.foreign_key = table_c.primary_key\n",
    "```"
   ]
  },
  {
   "cell_type": "markdown",
   "id": "d27bed58-7c18-4181-9cde-fd0af452bf71",
   "metadata": {},
   "source": [
    "---"
   ]
  },
  {
   "cell_type": "markdown",
   "id": "756f7f59-c3e7-4b26-b015-81ffa64d6df0",
   "metadata": {},
   "source": [
    "**EXAMPLES**"
   ]
  },
  {
   "cell_type": "markdown",
   "id": "7cd37915-f92c-4cb5-98d3-acfb9eca4304",
   "metadata": {},
   "source": [
    "**Drop Table**"
   ]
  },
  {
   "cell_type": "code",
   "execution_count": 15,
   "id": "3271ae21-acb9-4a53-b1b1-d6fb66749750",
   "metadata": {},
   "outputs": [
    {
     "name": "stdout",
     "output_type": "stream",
     "text": [
      " * sqlite:///databases/db_ex.db\n"
     ]
    },
    {
     "data": {
      "text/plain": [
       "[]"
      ]
     },
     "execution_count": 15,
     "metadata": {},
     "output_type": "execute_result"
    }
   ],
   "source": [
    "%%sql\n",
    "\n",
    "DROP TABLE IF EXISTS vegetable;"
   ]
  },
  {
   "cell_type": "markdown",
   "id": "12eb86a7-0825-4326-9c9a-c8cb2dfc70cc",
   "metadata": {},
   "source": [
    "**Create Table and Insert Records**"
   ]
  },
  {
   "cell_type": "code",
   "execution_count": 16,
   "id": "ec172ad3-8ead-4810-9ee9-ce07b2025250",
   "metadata": {
    "tags": []
   },
   "outputs": [
    {
     "name": "stdout",
     "output_type": "stream",
     "text": [
      " * sqlite:///databases/db_ex.db\n"
     ]
    },
    {
     "data": {
      "text/html": [
       "<table>\n",
       "    <thead>\n",
       "        <tr>\n",
       "            <th>id</th>\n",
       "            <th>name</th>\n",
       "            <th>color_id</th>\n",
       "        </tr>\n",
       "    </thead>\n",
       "    <tbody>\n",
       "        <tr>\n",
       "            <td>1</td>\n",
       "            <td>Carrot</td>\n",
       "            <td>2</td>\n",
       "        </tr>\n",
       "        <tr>\n",
       "            <td>2</td>\n",
       "            <td>Spinach</td>\n",
       "            <td>4</td>\n",
       "        </tr>\n",
       "    </tbody>\n",
       "</table>"
      ],
      "text/plain": [
       "[(1, 'Carrot', 2), (2, 'Spinach', 4)]"
      ]
     },
     "execution_count": 16,
     "metadata": {},
     "output_type": "execute_result"
    }
   ],
   "source": [
    "%%sql\n",
    "\n",
    "CREATE TABLE vegetable(\n",
    "    id INTEGER PRIMARY KEY,\n",
    "    name VARCHAR(20),\n",
    "    color_id INTEGER REFERENCES color(id)\n",
    ");\n",
    "\n",
    "INSERT INTO vegetable (name, color_id)\n",
    "VALUES \n",
    "    ('Carrot', 2),\n",
    "    ('Spinach', 4);\n",
    "\n",
    "SELECT *\n",
    "FROM vegetable;"
   ]
  },
  {
   "cell_type": "markdown",
   "id": "b5a9c50d-0c2e-4250-908b-bee0d366bb8d",
   "metadata": {},
   "source": [
    "**Multi-JOIN**"
   ]
  },
  {
   "cell_type": "code",
   "execution_count": 17,
   "id": "082d4a13-f33c-4057-a019-0ab896bb2436",
   "metadata": {},
   "outputs": [
    {
     "name": "stdout",
     "output_type": "stream",
     "text": [
      " * sqlite:///databases/db_ex.db\n"
     ]
    },
    {
     "data": {
      "text/html": [
       "<table>\n",
       "    <thead>\n",
       "        <tr>\n",
       "            <th>id</th>\n",
       "            <th>name</th>\n",
       "            <th>color_id</th>\n",
       "            <th>id_1</th>\n",
       "            <th>name_1</th>\n",
       "            <th>id_2</th>\n",
       "            <th>name_2</th>\n",
       "            <th>color_id_1</th>\n",
       "        </tr>\n",
       "    </thead>\n",
       "    <tbody>\n",
       "        <tr>\n",
       "            <td>3</td>\n",
       "            <td>Orange</td>\n",
       "            <td>2</td>\n",
       "            <td>2</td>\n",
       "            <td>Orange</td>\n",
       "            <td>1</td>\n",
       "            <td>Carrot</td>\n",
       "            <td>2</td>\n",
       "        </tr>\n",
       "    </tbody>\n",
       "</table>"
      ],
      "text/plain": [
       "[(3, 'Orange', 2, 2, 'Orange', 1, 'Carrot', 2)]"
      ]
     },
     "execution_count": 17,
     "metadata": {},
     "output_type": "execute_result"
    }
   ],
   "source": [
    "%%sql\n",
    "\n",
    "SELECT *\n",
    "FROM fruit\n",
    "INNER JOIN color ON fruit.color_id = color.id\n",
    "INNER JOIN vegetable ON vegetable.color_id = color.id;"
   ]
  },
  {
   "cell_type": "markdown",
   "id": "0f9d88ff-251d-414e-8b51-8943e4eb133c",
   "metadata": {},
   "source": [
    "---"
   ]
  },
  {
   "cell_type": "markdown",
   "id": "6e55fa87-e55d-442e-8713-ba7a94f3b06e",
   "metadata": {
    "tags": []
   },
   "source": [
    "### N-N JOIN\n",
    "\n",
    "- We have talked about CROSS JOIN and JOINs for 1-1 and 1-n relationships\n",
    "- Many to many (n-n) entity relationships are also common in relational databases\n",
    "- When we have normalized tables and n-n relationships we can NOT perform joins like we do above.  We must use a connection table\n",
    "- **Connection/Junction/Membership/Join Table**--a third, new table, that contains foreign keys referencing input tables\n",
    "- The connection table will not always not have a primary key of its own because each record could be identified by a compound key (combination of foreign keys).\n",
    "- The connection table enables us to write a one to many relationship between each input table and the connection table!\n",
    "    - Each fruit is in the fruit table has only one record, but that fruit may be in the connection table many times\n",
    "    - Each color is in the color table has only one record, but that color may be in the connection table many times\n",
    "\n",
    "![](images/join_n_n.png)\n",
    "\n",
    "- Thought of a different way, an n-n JOIN is like a CROSS JOIN with a connection table that filters which combinations of records we want.  The `ON` clause is similar to the `WHERE` clause in this way.\n",
    "    - In the example, a CROSS JOIN result table would contain 12 records\n",
    "    - Our connection tables specifies we only want to display 4 of the 12 records"
   ]
  },
  {
   "cell_type": "markdown",
   "id": "a46a1a92-3b1d-4255-8aad-5c6f9b8aef00",
   "metadata": {},
   "source": [
    "---"
   ]
  },
  {
   "cell_type": "markdown",
   "id": "c6960d11-502d-45fe-a2c0-a2188a2ade52",
   "metadata": {},
   "source": [
    "#### N-N JOIN SQL\n",
    "\n",
    "- Because the connection table allows us to write one to many relationships we use  15`INNER JOIN` keyword and similar syntax \n",
    "\n",
    "```sql\n",
    "SELECT *\n",
    "FROM table_a\n",
    "INNER JOIN table_connection ON table_connection.foreign_key_a = table_a.primary_key\n",
    "INNER JOIN table_b ON table_connection.foreign_key_b = table_b.primary_key\n",
    "```\n",
    "\n",
    "Alternative syntax:\n",
    "```sql\n",
    "SELECT *\n",
    "FROM table_a\n",
    "INNER JOIN table_b\n",
    "INNER JOIN table_connection\n",
    "ON table_connection.foreign_key_a = table_a.primary_key\n",
    "AND table_connection.foreign_key_b = table_b.primary_key\n",
    "```"
   ]
  },
  {
   "cell_type": "markdown",
   "id": "2ab5be59-fa57-41fb-ba2a-85924fb67a35",
   "metadata": {},
   "source": [
    "---"
   ]
  },
  {
   "cell_type": "markdown",
   "id": "5c025ba9-02bc-4d42-aa97-9a37f4018633",
   "metadata": {},
   "source": [
    "**EXAMPLES**"
   ]
  },
  {
   "cell_type": "markdown",
   "id": "2db030b9-3fe8-4d57-9a48-b2fb46da4fee",
   "metadata": {},
   "source": [
    "**Drop Tables**"
   ]
  },
  {
   "cell_type": "code",
   "execution_count": 18,
   "id": "5accfd6b-672a-4c03-9a20-2f6af2c04446",
   "metadata": {},
   "outputs": [
    {
     "name": "stdout",
     "output_type": "stream",
     "text": [
      " * sqlite:///databases/db_ex.db\n"
     ]
    },
    {
     "data": {
      "text/plain": [
       "[]"
      ]
     },
     "execution_count": 18,
     "metadata": {},
     "output_type": "execute_result"
    }
   ],
   "source": [
    "%%sql\n",
    "\n",
    "DROP TABLE IF EXISTS fruit;\n",
    "DROP TABLE IF EXISTS color;\n",
    "DROP TABLE IF EXISTS connection;"
   ]
  },
  {
   "cell_type": "markdown",
   "id": "e8e4a152-e992-427d-876e-5d5a09bed438",
   "metadata": {},
   "source": [
    "**Create Tables and Insert Records**"
   ]
  },
  {
   "cell_type": "code",
   "execution_count": 19,
   "id": "ef0204fe-af7b-4f61-84b0-d99b38ac6f92",
   "metadata": {
    "tags": []
   },
   "outputs": [
    {
     "name": "stdout",
     "output_type": "stream",
     "text": [
      " * sqlite:///databases/db_ex.db\n"
     ]
    },
    {
     "data": {
      "text/html": [
       "<table>\n",
       "    <thead>\n",
       "        <tr>\n",
       "            <th>id</th>\n",
       "            <th>name</th>\n",
       "        </tr>\n",
       "    </thead>\n",
       "    <tbody>\n",
       "        <tr>\n",
       "            <td>1</td>\n",
       "            <td>Red</td>\n",
       "        </tr>\n",
       "        <tr>\n",
       "            <td>2</td>\n",
       "            <td>Orange</td>\n",
       "        </tr>\n",
       "        <tr>\n",
       "            <td>3</td>\n",
       "            <td>Yellow</td>\n",
       "        </tr>\n",
       "    </tbody>\n",
       "</table>"
      ],
      "text/plain": [
       "[(1, 'Red'), (2, 'Orange'), (3, 'Yellow')]"
      ]
     },
     "execution_count": 19,
     "metadata": {},
     "output_type": "execute_result"
    }
   ],
   "source": [
    "%%sql\n",
    "\n",
    "CREATE TABLE color(\n",
    "    id INTEGER PRIMARY KEY,\n",
    "    name VARCHAR(20)\n",
    ");\n",
    "\n",
    "INSERT INTO color(name)\n",
    "VALUES \n",
    "    ('Red'),\n",
    "    ('Orange'),\n",
    "    ('Yellow');\n",
    "\n",
    "SELECT *\n",
    "FROM color;"
   ]
  },
  {
   "cell_type": "code",
   "execution_count": 20,
   "id": "b0b8f647-e25f-4d8c-bad9-e9f9ad8d5431",
   "metadata": {},
   "outputs": [
    {
     "name": "stdout",
     "output_type": "stream",
     "text": [
      " * sqlite:///databases/db_ex.db\n"
     ]
    },
    {
     "data": {
      "text/html": [
       "<table>\n",
       "    <thead>\n",
       "        <tr>\n",
       "            <th>id</th>\n",
       "            <th>name</th>\n",
       "        </tr>\n",
       "    </thead>\n",
       "    <tbody>\n",
       "        <tr>\n",
       "            <td>1</td>\n",
       "            <td>Apple</td>\n",
       "        </tr>\n",
       "        <tr>\n",
       "            <td>2</td>\n",
       "            <td>Cherry</td>\n",
       "        </tr>\n",
       "        <tr>\n",
       "            <td>3</td>\n",
       "            <td>Orange</td>\n",
       "        </tr>\n",
       "        <tr>\n",
       "            <td>4</td>\n",
       "            <td>Lime</td>\n",
       "        </tr>\n",
       "    </tbody>\n",
       "</table>"
      ],
      "text/plain": [
       "[(1, 'Apple'), (2, 'Cherry'), (3, 'Orange'), (4, 'Lime')]"
      ]
     },
     "execution_count": 20,
     "metadata": {},
     "output_type": "execute_result"
    }
   ],
   "source": [
    "%%sql\n",
    "\n",
    "CREATE TABLE fruit(\n",
    "    id INTEGER PRIMARY KEY,\n",
    "    name VARCHAR(20)\n",
    ");\n",
    "\n",
    "INSERT INTO fruit (name)\n",
    "VALUES \n",
    "    ('Apple'),\n",
    "    ('Cherry'),\n",
    "    ('Orange'),\n",
    "    ('Lime');\n",
    "\n",
    "SELECT *\n",
    "FROM fruit;"
   ]
  },
  {
   "cell_type": "code",
   "execution_count": 21,
   "id": "2dd9e222-c769-4a0b-b879-228f9c80cbfb",
   "metadata": {},
   "outputs": [
    {
     "name": "stdout",
     "output_type": "stream",
     "text": [
      " * sqlite:///databases/db_ex.db\n"
     ]
    },
    {
     "data": {
      "text/html": [
       "<table>\n",
       "    <thead>\n",
       "        <tr>\n",
       "            <th>fruit_id</th>\n",
       "            <th>color_id</th>\n",
       "        </tr>\n",
       "    </thead>\n",
       "    <tbody>\n",
       "        <tr>\n",
       "            <td>1</td>\n",
       "            <td>1</td>\n",
       "        </tr>\n",
       "        <tr>\n",
       "            <td>1</td>\n",
       "            <td>3</td>\n",
       "        </tr>\n",
       "        <tr>\n",
       "            <td>2</td>\n",
       "            <td>1</td>\n",
       "        </tr>\n",
       "        <tr>\n",
       "            <td>3</td>\n",
       "            <td>2</td>\n",
       "        </tr>\n",
       "    </tbody>\n",
       "</table>"
      ],
      "text/plain": [
       "[(1, 1), (1, 3), (2, 1), (3, 2)]"
      ]
     },
     "execution_count": 21,
     "metadata": {},
     "output_type": "execute_result"
    }
   ],
   "source": [
    "%%sql\n",
    "\n",
    "CREATE TABLE connection(\n",
    "    fruit_id INTEGER,\n",
    "    color_id INTEGER\n",
    ");\n",
    "\n",
    "INSERT INTO connection (fruit_id, color_id)\n",
    "VALUES \n",
    "    (1, 1),\n",
    "    (1, 3),\n",
    "    (2, 1),\n",
    "    (3, 2);\n",
    "\n",
    "SELECT *\n",
    "FROM connection;"
   ]
  },
  {
   "cell_type": "markdown",
   "id": "8cec24ca-e648-4745-b07a-d4790cd070a4",
   "metadata": {},
   "source": [
    "**N-N JOIN**"
   ]
  },
  {
   "cell_type": "code",
   "execution_count": 22,
   "id": "441d04cc-a14d-4504-853f-5734500a9781",
   "metadata": {},
   "outputs": [
    {
     "name": "stdout",
     "output_type": "stream",
     "text": [
      " * sqlite:///databases/db_ex.db\n"
     ]
    },
    {
     "data": {
      "text/html": [
       "<table>\n",
       "    <thead>\n",
       "        <tr>\n",
       "            <th>name</th>\n",
       "            <th>fruit_id</th>\n",
       "            <th>color_id</th>\n",
       "            <th>name_1</th>\n",
       "        </tr>\n",
       "    </thead>\n",
       "    <tbody>\n",
       "        <tr>\n",
       "            <td>Apple</td>\n",
       "            <td>1</td>\n",
       "            <td>1</td>\n",
       "            <td>Red</td>\n",
       "        </tr>\n",
       "        <tr>\n",
       "            <td>Apple</td>\n",
       "            <td>1</td>\n",
       "            <td>3</td>\n",
       "            <td>Yellow</td>\n",
       "        </tr>\n",
       "        <tr>\n",
       "            <td>Cherry</td>\n",
       "            <td>2</td>\n",
       "            <td>1</td>\n",
       "            <td>Red</td>\n",
       "        </tr>\n",
       "        <tr>\n",
       "            <td>Orange</td>\n",
       "            <td>3</td>\n",
       "            <td>2</td>\n",
       "            <td>Orange</td>\n",
       "        </tr>\n",
       "    </tbody>\n",
       "</table>"
      ],
      "text/plain": [
       "[('Apple', 1, 1, 'Red'),\n",
       " ('Apple', 1, 3, 'Yellow'),\n",
       " ('Cherry', 2, 1, 'Red'),\n",
       " ('Orange', 3, 2, 'Orange')]"
      ]
     },
     "execution_count": 22,
     "metadata": {},
     "output_type": "execute_result"
    }
   ],
   "source": [
    "%%sql\n",
    "\n",
    "SELECT fruit.name, connection.fruit_id, connection.color_id, color.name\n",
    "FROM fruit\n",
    "INNER JOIN connection ON connection.fruit_id = fruit.id\n",
    "INNER JOIN color ON connection.color_id = color.id;"
   ]
  },
  {
   "cell_type": "markdown",
   "id": "30a88c9c-90f3-4ed8-adc9-2c617d06a7af",
   "metadata": {},
   "source": [
    "---"
   ]
  },
  {
   "cell_type": "markdown",
   "id": "1162581a-0a3d-4ed1-bcf7-163aa4b0fdca",
   "metadata": {
    "tags": []
   },
   "source": [
    "# SQL\n",
    "\n",
    "- **Structured Query Language (SQL)**--programming language used to command a RDBMS and CRUD.  Created in 1974.\n",
    "- SQL is commonly broken up into 4 categories of uses, sometimes called \"sub-languages\".\n",
    "    1. **Data Query Language (DQL)**--SQL statements to read/select data.  These are called queries.\n",
    "    2. **Data Manipulation Language (DML)**--SQL statements to edit/modify data\n",
    "    3. **Data Definition Language (DDL)**--SQL statements for creating and deleting tables, indices, users, etc.\n",
    "    4. **Data Control Language (DCL)**--SQL statements to control who has permission to view/edit/delete certain tables/columns/rows/cells\n",
    "- SQL became a standard of the American National Standards Institute (ANSI) in 1986, and of the International Organization for Standardization (ISO) in 1987.  Despite these standards, each RDBMS uses a different dialect/flavor of SQL.\n",
    "- We will show many example SQL statements in this section.   Throughout these examples, try to imagine the shape of the data we are working with.  Is it the entire table, an entire column, a group of rows, or a single row?  Are we looping through each row in the table?  Are we focused on cell values in a specified column?  And what is being returned? "
   ]
  },
  {
   "cell_type": "markdown",
   "id": "b3c3ad47-9347-4be8-a19c-4d2afb4c5b74",
   "metadata": {},
   "source": [
    "---"
   ]
  },
  {
   "cell_type": "markdown",
   "id": "6d433ca4-4994-419a-88bb-3d026688753d",
   "metadata": {},
   "source": [
    "## Terminology\n",
    "\n",
    "Example tables and SQL statement:\n",
    "\n",
    "![](images/naming_conventions.png)\n",
    "\n",
    "```sql\n",
    "DELETE\n",
    "FROM color\n",
    "WHERE name = 'Red'\n",
    " ```\n",
    " \n",
    "1. **Keywords**--words used in SQL statements that indicate the intent of the statement\n",
    "\t- E.g. `DELETE`, `FROM`, and `WHERE` are keywords\n",
    "1. **Operator**--symbols that modify the logic of SQL statements.  Operators can be arithmetic (e.g. +), comparative (e.g. =), logical (e.g. AND), bitwise (&), or compound (assignment) (+=).\n",
    "\t- E.g. `=` is a comparative operator\n",
    "1. **Function**--similar to a keyword, but parentheses contain function arguments (the function input)\n",
    "    - E.g. `COUNT()`\n",
    "1. **Identifier**--variable name for objects like tables or columns.  \n",
    "\t- E.g. `color` and `name` are identifiers\n",
    "1. **Literals/constants**--values we write out. Could represent the value of a cell in a table.\n",
    "\t- E.g. `'Red'` is a string literal\n",
    "1. **Clause**--chunk of SQL statement  made of keywords, operators, functions, identifiers, and literals\n",
    "\t- E.g. `DELETE`, `FROM color`, and  `WHERE name = 'Red'` are each their own clause\n",
    "1.  **SQL Statement**--entire SQL sentence made of clauses that commands RDBMS to accomplish a task.  The entire example above is an SQL statement.\n",
    "1. **Query**--SQL statement that uses the `SELECT` keyword. Queries do not modify the database. They only select records and return a result table.\n",
    "1. **Result set/table**--query result returned to the user.  Typically, but not always, printed out as table.\n",
    "1. **Dot notation**--specify column by writing the table name, a period, and then the column name.  Removes ambiguity when multiple tables have the same column names.  Join statements require dot notation.  Other SQL statements can optionally use dot notation.\n",
    "    - E.g. `name` = `color.name`"
   ]
  },
  {
   "cell_type": "markdown",
   "id": "898eb6a9-b0bb-4e04-aa35-8501f51ebecd",
   "metadata": {},
   "source": [
    "---"
   ]
  },
  {
   "cell_type": "markdown",
   "id": "4cd843d4-7cac-4b9d-851a-14978654f693",
   "metadata": {},
   "source": [
    "## Style Guidelines\n",
    "\n",
    "Style guidelines help users write code that others can easily read.  Some styling rules are mandatory and enforced by the RDBMS, but many are only convention.  Many guidelines are shared across other programming languages.\n",
    "\n",
    "1. Keywords, operators, and functions are case INsensitive, but it is conventional use all uppercase:\n",
    "    - E.g. `SELECT`\n",
    "    - E.g. `IN`\n",
    "1. Choosing identifier names:\n",
    "    - Names must begin with a letter and may not end with an underscore\n",
    "    - Avoid choosing keywords or operators as identifiers.  These are **\"reserved\"** for use by the RDBMS already.\n",
    "    - Only use alphanumeric characters and underscores.  Avoid other symbols as these may cause errors, but rules vary by RDBMS.    \n",
    "    - Avoid spaces. `snake_case`recommended when multiple words instead of dromedary  `camelCase` or bactrian `CamelCase`.\n",
    "    - Avoid Hungarian notation with prefixes like `tbl_` or `col_`.\n",
    "    - Never give a table the same name as one of its columns\n",
    "    - For columns, use a singular name\n",
    "    - For procedures, used a verb that describes the function of the procedure\n",
    "1. **S**ingle quotation marks are used when writing **s**tring (and date) literals.  Some RDBMS also allow double quotes, but this is not standard SQL and NOT recommended. Note that string data is always stored with case information (at least for ASCII characters) and commands usually takes case into account.  However this may vary by command and RDBMS\n",
    "\t- E.g. `'Red'`\n",
    "    - E.g. `Red' = 'red'` returns false\n",
    "1. **D**ouble quotation marks are used for writing **d**atabase identifiers.  However, database identifiers only need to use quotes if they contain irregularities (which vary by RDBMS) like spaces, keywords, certain special characters, or capitalized letters.  In some RDBMS backticks or square brackets can also be used, but this is not standard SQL and NOT recommended.\n",
    "\t- E.g. `color` and `\"color\"` are both valid table names\n",
    "    - E.g. `table color` is invalid, but `\"table color\"` is valid\n",
    "1. **Insignificant whitespace**--spaces and newlines added to code that do not affect functionality of code.  Makes code easier to read.  Note that different programmers follow different conventions here.\n",
    "    - Clauses with \"root keywords\" placed on new line and left aligned\n",
    "    - `AND` or `OR` keywords also placed on new line, but indented 2 or 4 spaces\n",
    "    - If root keywords have single argument, then keyword and argument may be included on same line.  However, if root keywords have multiple arguments, then each argument must be on its own line and indented 2 or 4 spaces.\n",
    "    - Uses spaces and not tabs to indent.  Usually code editors automatically convert a press of the tab key to  spaces.\n",
    "    -  If parentheses span multiple lines:\n",
    "        - The opening parenthesis should terminate the line\n",
    "        - The contents of the parentheses should be indented one level (2 or 4 spaces)\n",
    "        - The closing parenthesis should be lined up under the first characters of the line that starts the multi-line construct.\n",
    "1. Be explicit\n",
    "    - Explicitly use `AS` to alias\n",
    "    - Explicitly use the JOIN type such as `INNER JOIN` or `CROSS JOIN` instead of just `JOIN`\n",
    "1. Use common table expressions instead of nested subqueries for derived tables\n",
    "1. Line length limited to 80 characters.  Note that with modern code editors and large screen sizes some programmers prefer longer line limits such as 100.  Generally though, enforcing shorter lines produces more readable code and prevents confusing nested structures.\n",
    "1. **SQL statement terminator**--a semicolon used to indicate the end of an SQL statement.  It is required if multiple SQL statements are passed to a RDBMS at the same time.  It is recommended (part of the SQL ANSI standard), but not always required, when a single SQL statement is passed."
   ]
  },
  {
   "cell_type": "markdown",
   "id": "bb4541fc-5d15-489d-91e4-f5cbf048049a",
   "metadata": {},
   "source": [
    "---"
   ]
  },
  {
   "cell_type": "markdown",
   "id": "2ae5dc62-cab6-44b8-81dc-f2acb2c1db40",
   "metadata": {},
   "source": [
    "**EXAMPLES**"
   ]
  },
  {
   "cell_type": "markdown",
   "id": "ff4c7699-680c-4ffa-a3f1-6eaf62f5356d",
   "metadata": {},
   "source": [
    "**Whitespace**\n",
    "\n",
    "In the following example, keywords are all caps, on their own line, and left aligned.  If multiple arguments, they are placed on their own line and indented.  `AND` is on its own line and indented.\n",
    "\n",
    "\n",
    "```sql\n",
    "SELECT \n",
    "    column_name, \n",
    "    column_name\n",
    "FROM table_name\n",
    "WHERE condition\n",
    "    AND condition\n",
    "LIMIT #;\n",
    "```"
   ]
  },
  {
   "cell_type": "markdown",
   "id": "ad20f012-42ce-463c-863f-eaeff558d05e",
   "metadata": {},
   "source": [
    "**Parentheses**\n",
    "\n",
    "In the following example the opening parenthesis ends the line, the contents of the parentheses are indented and the closing parenthesis is on its own line and at the indentation level of the first character of the line that starts the multi-line construct.\n",
    "\n",
    "```sql\n",
    "WITH alias_name AS (\n",
    "    SELECT \n",
    "        column_name,\n",
    "        column_name\n",
    "    FROM table_name\n",
    "    WHERE condition\n",
    "        AND condition\n",
    "    LIMIT #\n",
    ");\n",
    "```"
   ]
  },
  {
   "cell_type": "markdown",
   "id": "ad89d562-400e-46c9-b2e9-cc70c608b754",
   "metadata": {},
   "source": [
    "---"
   ]
  },
  {
   "cell_type": "markdown",
   "id": "44ea010f-371e-4e20-9a4c-7c4942392976",
   "metadata": {},
   "source": [
    "##  Comments\n",
    "- **Comments**--text not executed as an SQL statement by a RDBMS.  I.e. text ignored by RDBMS.  Used to explain the rationale, the \"why\", of complex SQL statements.  Can also be used temporarily cancel out lines of code while debugging SQL statements. \n",
    "- Comments can be on their own line, \"in-line\", or \"multi-line\"\n",
    "- Anything after a double hyphen, `--`, on that line is treated as a comment\n",
    "- Multi-line comments start with `/*` and end with `*/`\n",
    "\n",
    "```sql\n",
    "-- This is comment.  The double hyphen indicates it is a comment.\n",
    "```\n",
    "\n",
    "```sqlite\n",
    "CREATE DATABASE database_name;  -- This is an in-line comment.\n",
    "```\n",
    "\n",
    "```sql\n",
    "/* This is a multi\n",
    "line comment\n",
    "*/\n",
    "```\n",
    "\n",
    "*`ipython-sql` uses `--` in some non-SQL commands.  It is best to avoid single line comments with `--` when using `ipython-sql`.*"
   ]
  },
  {
   "cell_type": "markdown",
   "id": "159e6c56-8bdd-4653-b62b-4aac90f6f142",
   "metadata": {},
   "source": [
    "---"
   ]
  },
  {
   "cell_type": "markdown",
   "id": "35338bdb-0530-4774-bb7a-4c072ef927ac",
   "metadata": {},
   "source": [
    "**EXAMPLES**"
   ]
  },
  {
   "cell_type": "code",
   "execution_count": 23,
   "id": "9055eba6-cc5b-489e-bf86-5afb1b2d1a17",
   "metadata": {},
   "outputs": [
    {
     "name": "stdout",
     "output_type": "stream",
     "text": [
      " * sqlite:///databases/db_ex.db\n"
     ]
    },
    {
     "data": {
      "text/plain": [
       "[]"
      ]
     },
     "execution_count": 23,
     "metadata": {},
     "output_type": "execute_result"
    }
   ],
   "source": [
    "%%sql\n",
    "\n",
    "-- This is comment.  The double hyphen indicates it is a comment."
   ]
  },
  {
   "cell_type": "code",
   "execution_count": 24,
   "id": "555c4c88-241d-408c-bc8a-c91316f388b7",
   "metadata": {},
   "outputs": [
    {
     "name": "stdout",
     "output_type": "stream",
     "text": [
      " * sqlite:///databases/db_ex.db\n"
     ]
    },
    {
     "data": {
      "text/plain": [
       "[]"
      ]
     },
     "execution_count": 24,
     "metadata": {},
     "output_type": "execute_result"
    }
   ],
   "source": [
    "%%sql\n",
    "\n",
    "/* This is a multi\n",
    "line comment\n",
    "*/"
   ]
  },
  {
   "cell_type": "markdown",
   "id": "8f7c84ea-0294-4f3d-99d4-144de8081159",
   "metadata": {},
   "source": [
    "---"
   ]
  },
  {
   "cell_type": "markdown",
   "id": "68fa9dd6-424c-4ec5-a253-8af4f7761d19",
   "metadata": {},
   "source": [
    "## DDL Keywords"
   ]
  },
  {
   "cell_type": "markdown",
   "id": "cd1c2ce1-f6b3-4648-8d95-14b8d00a73fb",
   "metadata": {},
   "source": [
    "---"
   ]
  },
  {
   "cell_type": "markdown",
   "id": "1157cc93-e8e2-4d7e-830f-6322622642da",
   "metadata": {
    "tags": []
   },
   "source": [
    "### CREATE DATABASE\n",
    "`CREATE DATABASE`--create new database\n",
    "```sql\n",
    "CREATE DATABASE database_name;\n",
    "```\n",
    "\n",
    "- *Note that in this Jupyter notebook we must use the SQL magic command to create and connect to a database.  This was done in the RDBMS section.*"
   ]
  },
  {
   "cell_type": "markdown",
   "id": "ee7ece9a-6923-47f4-a04a-35a2cc0564d8",
   "metadata": {},
   "source": [
    "---"
   ]
  },
  {
   "cell_type": "markdown",
   "id": "7eb63365-5d7b-48fb-bd09-d5beb0c2f347",
   "metadata": {},
   "source": [
    "### DROP DATABASE\n",
    "`DROP DATABASE`--delete database\n",
    "```sql\n",
    "DROP DATABASE database_name;\n",
    "```\n",
    "\n",
    "- *Note that SQLite does not have a DROP DATABASE SQL statement. Instead, we must delete the database file from the computer normally with the file explorer or a terminal program.*"
   ]
  },
  {
   "cell_type": "markdown",
   "id": "c00509d4-d4b5-4578-b4a3-aafd6b2ef34a",
   "metadata": {},
   "source": [
    "---"
   ]
  },
  {
   "cell_type": "markdown",
   "id": "b9c252c9-5ddb-4abb-82a0-4281cc50b74d",
   "metadata": {},
   "source": [
    "### BACKUP DATABASE\n",
    "`BACKUP DATABASE`--create a copy of the existing database \n",
    "```sql\n",
    "BACKUP DATABASE database_name\n",
    "TO DISK = 'path/filename';\n",
    "```\n",
    "\n",
    "`WITH DIFFERENTIAL`--back up the parts of the database that have changed since the last full database backup\n",
    "```sql\n",
    "BACKUP DATABASE database_name\n",
    "TO DISK = 'path/filename'\n",
    "WTIH DIFFERENTIAL;\n",
    "```"
   ]
  },
  {
   "cell_type": "markdown",
   "id": "f2ad1d31-c404-453e-b62c-af4151da777a",
   "metadata": {},
   "source": [
    "---"
   ]
  },
  {
   "cell_type": "markdown",
   "id": "0f830cf7-bbb3-4d23-ab68-66979036d2b6",
   "metadata": {},
   "source": [
    "### CREATE TABLE\n",
    "`CREATE TABLE`--create new table by specifying table schema. May include table name, field names, field data type, field precision, and field scale.  Conventionally each column name indented 4 spaces.\n",
    "\n",
    "```sql\n",
    "CREATE TABLE table_name (\n",
    "    column_name_a data_type(field_precision),\n",
    "\tcolumn_name_b data_type(field_precision)\n",
    ");\n",
    "```\n",
    "\n",
    "`IF NOT EXISTS`--create table if it does not already exist. Helps avoids errors.\n",
    "```sql\n",
    "CREATE TABLE IF NOT EXISTS table_name (\n",
    "    column_name_a data_type(field_precision),\n",
    "\tcolumn_name_b data_type(field_precision)\n",
    ");\n",
    "```\n",
    "\n",
    "`CREATE TABLE AS`--create table using existing table as template. This statement is typically preferred over the `SELECT INTO` statement, which performs a similar task.\n",
    "```sql\n",
    "CREATE TABLE new_table_name AS\n",
    "    SELECT column_name_a, column_name_b\n",
    "\tFROM old_table_name;\n",
    "```"
   ]
  },
  {
   "cell_type": "markdown",
   "id": "1cc648e5-e070-494d-bb2e-488be3cc6154",
   "metadata": {},
   "source": [
    "We'll create the following two tables:\n",
    "\n",
    "![](images/naming_conventions.png)"
   ]
  },
  {
   "cell_type": "markdown",
   "id": "22efecce-b23d-42b6-bdcf-1fbadcf922bb",
   "metadata": {},
   "source": [
    "---"
   ]
  },
  {
   "cell_type": "markdown",
   "id": "e700cf8f-728f-40c5-acaa-a20dbf66a576",
   "metadata": {},
   "source": [
    "**EXAMPLES**"
   ]
  },
  {
   "cell_type": "markdown",
   "id": "44d838d4-df95-4e3c-987d-2ff43f29069c",
   "metadata": {},
   "source": [
    "**Drop Tables**"
   ]
  },
  {
   "cell_type": "code",
   "execution_count": 25,
   "id": "e2d9be13-3607-4e71-8d5c-86837e022261",
   "metadata": {},
   "outputs": [
    {
     "name": "stdout",
     "output_type": "stream",
     "text": [
      " * sqlite:///databases/db_ex.db\n"
     ]
    },
    {
     "data": {
      "text/plain": [
       "[]"
      ]
     },
     "execution_count": 25,
     "metadata": {},
     "output_type": "execute_result"
    }
   ],
   "source": [
    "%%sql\n",
    "\n",
    "DROP TABLE IF EXISTS fruit;\n",
    "DROP TABLE IF EXISTS color;"
   ]
  },
  {
   "cell_type": "markdown",
   "id": "d0723101-3a1b-4de0-bedc-444dbbbdeb3d",
   "metadata": {},
   "source": [
    "**`CREATE TABLE`**"
   ]
  },
  {
   "cell_type": "code",
   "execution_count": 26,
   "id": "996f44d3-b892-48b0-bcc8-dbed46a15d07",
   "metadata": {},
   "outputs": [
    {
     "name": "stdout",
     "output_type": "stream",
     "text": [
      " * sqlite:///databases/db_ex.db\n"
     ]
    },
    {
     "data": {
      "text/plain": [
       "[]"
      ]
     },
     "execution_count": 26,
     "metadata": {},
     "output_type": "execute_result"
    }
   ],
   "source": [
    "%%sql\n",
    "\n",
    "CREATE TABLE color(\n",
    "    id INTEGER,\n",
    "    name VARCHAR(20)\n",
    ");"
   ]
  },
  {
   "cell_type": "code",
   "execution_count": 27,
   "id": "2917b4f0-7f3f-4851-8661-b0461f5b0dae",
   "metadata": {},
   "outputs": [
    {
     "name": "stdout",
     "output_type": "stream",
     "text": [
      " * sqlite:///databases/db_ex.db\n"
     ]
    },
    {
     "data": {
      "text/html": [
       "<table>\n",
       "    <thead>\n",
       "        <tr>\n",
       "            <th>id</th>\n",
       "            <th>name</th>\n",
       "        </tr>\n",
       "    </thead>\n",
       "    <tbody>\n",
       "    </tbody>\n",
       "</table>"
      ],
      "text/plain": [
       "[]"
      ]
     },
     "execution_count": 27,
     "metadata": {},
     "output_type": "execute_result"
    }
   ],
   "source": [
    "%%sql\n",
    "\n",
    "SELECT *\n",
    "FROM color;"
   ]
  },
  {
   "cell_type": "code",
   "execution_count": 28,
   "id": "e1b1769d-097a-467f-b5f1-c333af8f1a5d",
   "metadata": {},
   "outputs": [
    {
     "name": "stdout",
     "output_type": "stream",
     "text": [
      " * sqlite:///databases/db_ex.db\n"
     ]
    },
    {
     "data": {
      "text/plain": [
       "[]"
      ]
     },
     "execution_count": 28,
     "metadata": {},
     "output_type": "execute_result"
    }
   ],
   "source": [
    "%%sql\n",
    "\n",
    "CREATE TABLE fruit(\n",
    "    id INTEGER,\n",
    "    name VARCHAR(20),\n",
    "    color_id INTEGER\n",
    ");"
   ]
  },
  {
   "cell_type": "code",
   "execution_count": 29,
   "id": "ffd9f693-5ba4-42fe-b966-980b40de5e74",
   "metadata": {},
   "outputs": [
    {
     "name": "stdout",
     "output_type": "stream",
     "text": [
      " * sqlite:///databases/db_ex.db\n"
     ]
    },
    {
     "data": {
      "text/html": [
       "<table>\n",
       "    <thead>\n",
       "        <tr>\n",
       "            <th>id</th>\n",
       "            <th>name</th>\n",
       "            <th>color_id</th>\n",
       "        </tr>\n",
       "    </thead>\n",
       "    <tbody>\n",
       "    </tbody>\n",
       "</table>"
      ],
      "text/plain": [
       "[]"
      ]
     },
     "execution_count": 29,
     "metadata": {},
     "output_type": "execute_result"
    }
   ],
   "source": [
    "%%sql\n",
    "\n",
    "SELECT *\n",
    "FROM fruit;"
   ]
  },
  {
   "cell_type": "markdown",
   "id": "0cfad53d-3df3-4519-886a-3258e079a550",
   "metadata": {},
   "source": [
    "---"
   ]
  },
  {
   "cell_type": "markdown",
   "id": "71878084-c3d0-467b-a8ac-71afaf474f05",
   "metadata": {
    "tags": []
   },
   "source": [
    "### DROP TABLE\n",
    "`DROP TABLE`--delete entire table\n",
    "```sql\n",
    "DROP TABLE table_name;\n",
    "```\n",
    "\n",
    "`DROP TABLE IF EXISTS`--delete entire table\n",
    "```sql\n",
    "DROP TABLE IF EXISTS table_name;\n",
    "```"
   ]
  },
  {
   "cell_type": "markdown",
   "id": "cb7ed27b-2155-4929-a56a-d3dfd53f1507",
   "metadata": {},
   "source": [
    "---"
   ]
  },
  {
   "cell_type": "markdown",
   "id": "f2df343a-74a7-4dae-9b6b-3e1743a73114",
   "metadata": {},
   "source": [
    "### TRUNCATE TABLE\n",
    "`TRUNCATE TABLE`--delete all rows.  Table itself remains.\n",
    "```sql\n",
    "TRUNCATE TABLE table_name;\n",
    "```\n",
    "\n",
    "- *Note that SQLite does not have a TRUNCATE TABLE statement.  Instead, we can use the DELETE statement to delete all  rows, leaving the table.*"
   ]
  },
  {
   "cell_type": "code",
   "execution_count": 30,
   "id": "98dfa0bd-7a81-42cb-897e-b405bfbce619",
   "metadata": {},
   "outputs": [
    {
     "name": "stdout",
     "output_type": "stream",
     "text": [
      " * sqlite:///databases/db_ex.db\n"
     ]
    },
    {
     "data": {
      "text/plain": [
       "[]"
      ]
     },
     "execution_count": 30,
     "metadata": {},
     "output_type": "execute_result"
    }
   ],
   "source": [
    "%%sql\n",
    "\n",
    "DELETE\n",
    "FROM color;"
   ]
  },
  {
   "cell_type": "code",
   "execution_count": 31,
   "id": "3708a2d0-9e2e-4868-b81e-68631bc64099",
   "metadata": {},
   "outputs": [
    {
     "name": "stdout",
     "output_type": "stream",
     "text": [
      " * sqlite:///databases/db_ex.db\n"
     ]
    },
    {
     "data": {
      "text/html": [
       "<table>\n",
       "    <thead>\n",
       "        <tr>\n",
       "            <th>id</th>\n",
       "            <th>name</th>\n",
       "        </tr>\n",
       "    </thead>\n",
       "    <tbody>\n",
       "    </tbody>\n",
       "</table>"
      ],
      "text/plain": [
       "[]"
      ]
     },
     "execution_count": 31,
     "metadata": {},
     "output_type": "execute_result"
    }
   ],
   "source": [
    "%%sql\n",
    "\n",
    "SELECT *\n",
    "FROM color;"
   ]
  },
  {
   "cell_type": "markdown",
   "id": "00e9281b-7ca2-4879-81b5-01e87a9411ba",
   "metadata": {},
   "source": [
    "---"
   ]
  },
  {
   "cell_type": "markdown",
   "id": "30dcdaee-109b-45c9-af35-ae8877c144cf",
   "metadata": {},
   "source": [
    "### ALTER TABLE\n",
    "`ALTER TABLE`--performs different functions when combined with different keywords\n",
    "\n",
    "`RENAME TO`--rename table\n",
    "```sql\n",
    "ALTER TABLE old_table_name\n",
    "RENAME TO new_table_name;\n",
    "```\n",
    "\n",
    "`RENAME COLUMN`--rename column\n",
    "```sql\n",
    "ALTER TABLE table_name\n",
    "RENAME COLUMN old_column_name TO new_column_name;\n",
    "```\n",
    "\n",
    "`ADD`--add column\n",
    "```sql\n",
    "ALTER TABLE table_name\n",
    "ADD new_column_name data_type constraint;\n",
    "```\n",
    "\n",
    "`DROP`--delete column\n",
    "```sql\n",
    "ALTER TABLE table_name\n",
    "DROP column_name;\n",
    "```\n",
    "\n",
    "- *Note that keywords vary by RDBMS.  SQLite does not have an SQL statements to directly change the column data type, constraints, or default values, but other RDBMS do.*"
   ]
  },
  {
   "cell_type": "markdown",
   "id": "a53b155b-eadb-4bff-b258-e517a07d36ea",
   "metadata": {},
   "source": [
    "---"
   ]
  },
  {
   "cell_type": "markdown",
   "id": "4aedecf7-e7c7-4ab1-ad22-b00a35fddbe5",
   "metadata": {},
   "source": [
    "**EXAMPLES**"
   ]
  },
  {
   "cell_type": "markdown",
   "id": "54c81e4a-8fb0-4ce6-8016-48df608194e7",
   "metadata": {},
   "source": [
    "**Rename Table**"
   ]
  },
  {
   "cell_type": "code",
   "execution_count": 32,
   "id": "fefaa03c-1c11-4f40-9cb6-7fc0d52734a1",
   "metadata": {},
   "outputs": [
    {
     "name": "stdout",
     "output_type": "stream",
     "text": [
      " * sqlite:///databases/db_ex.db\n",
      "(sqlite3.OperationalError) error in view view_color: no such column: wavelength\n",
      "[SQL: ALTER TABLE color\n",
      "RENAME TO table_color;]\n",
      "(Background on this error at: https://sqlalche.me/e/14/e3q8)\n"
     ]
    }
   ],
   "source": [
    "%%sql\n",
    "\n",
    "ALTER TABLE color\n",
    "RENAME TO table_color;"
   ]
  },
  {
   "cell_type": "code",
   "execution_count": 33,
   "id": "8ba8a07d-fdf8-4203-b7e3-cb9ec95cf612",
   "metadata": {},
   "outputs": [
    {
     "name": "stdout",
     "output_type": "stream",
     "text": [
      " * sqlite:///databases/db_ex.db\n",
      "(sqlite3.OperationalError) no such table: table_color\n",
      "[SQL: SELECT *\n",
      "FROM table_color;]\n",
      "(Background on this error at: https://sqlalche.me/e/14/e3q8)\n"
     ]
    }
   ],
   "source": [
    "%%sql\n",
    "\n",
    "SELECT *\n",
    "FROM table_color;"
   ]
  },
  {
   "cell_type": "markdown",
   "id": "ca2912b7-a17a-4a00-a3cc-2dbd8b35d4eb",
   "metadata": {},
   "source": [
    "**Rename Column**"
   ]
  },
  {
   "cell_type": "code",
   "execution_count": 34,
   "id": "b31fe17a-6441-4d5a-ba05-4e34de7b93de",
   "metadata": {},
   "outputs": [
    {
     "name": "stdout",
     "output_type": "stream",
     "text": [
      " * sqlite:///databases/db_ex.db\n",
      "(sqlite3.OperationalError) no such table: table_color\n",
      "[SQL: ALTER TABLE table_color\n",
      "RENAME COLUMN name TO column_name;]\n",
      "(Background on this error at: https://sqlalche.me/e/14/e3q8)\n"
     ]
    }
   ],
   "source": [
    "%%sql\n",
    "\n",
    "ALTER TABLE table_color\n",
    "RENAME COLUMN name TO column_name;"
   ]
  },
  {
   "cell_type": "code",
   "execution_count": 35,
   "id": "38d2af02-06df-4340-a0b7-8140a1cb589c",
   "metadata": {},
   "outputs": [
    {
     "name": "stdout",
     "output_type": "stream",
     "text": [
      " * sqlite:///databases/db_ex.db\n",
      "(sqlite3.OperationalError) no such table: table_color\n",
      "[SQL: SELECT *\n",
      "FROM table_color;]\n",
      "(Background on this error at: https://sqlalche.me/e/14/e3q8)\n"
     ]
    }
   ],
   "source": [
    "%%sql\n",
    "\n",
    "SELECT *\n",
    "FROM table_color;"
   ]
  },
  {
   "cell_type": "markdown",
   "id": "9948c339-6fda-4dbc-9fb9-e9a0ca4211ce",
   "metadata": {},
   "source": [
    "**Add Column**"
   ]
  },
  {
   "cell_type": "code",
   "execution_count": 36,
   "id": "8e80fe07-b33e-40cc-889b-62008ee5209a",
   "metadata": {},
   "outputs": [
    {
     "name": "stdout",
     "output_type": "stream",
     "text": [
      " * sqlite:///databases/db_ex.db\n",
      "(sqlite3.OperationalError) no such table: table_color\n",
      "[SQL: ALTER TABLE table_color\n",
      "ADD wavelength INTEGER;]\n",
      "(Background on this error at: https://sqlalche.me/e/14/e3q8)\n"
     ]
    }
   ],
   "source": [
    "%%sql\n",
    "\n",
    "ALTER TABLE table_color\n",
    "ADD wavelength INTEGER;"
   ]
  },
  {
   "cell_type": "code",
   "execution_count": 37,
   "id": "113d2877-55ab-4dcc-bc91-e0512e1b6ed4",
   "metadata": {},
   "outputs": [
    {
     "name": "stdout",
     "output_type": "stream",
     "text": [
      " * sqlite:///databases/db_ex.db\n",
      "(sqlite3.OperationalError) no such table: table_color\n",
      "[SQL: SELECT *\n",
      "FROM table_color;]\n",
      "(Background on this error at: https://sqlalche.me/e/14/e3q8)\n"
     ]
    }
   ],
   "source": [
    "%%sql\n",
    "\n",
    "SELECT *\n",
    "FROM table_color;"
   ]
  },
  {
   "cell_type": "markdown",
   "id": "bc6ed6ac-b135-4a16-b1ef-ad2474fc4688",
   "metadata": {},
   "source": [
    "**Drop Column**"
   ]
  },
  {
   "cell_type": "code",
   "execution_count": 38,
   "id": "545355b6-6ae8-4bb8-95f7-df04f47af659",
   "metadata": {},
   "outputs": [
    {
     "name": "stdout",
     "output_type": "stream",
     "text": [
      " * sqlite:///databases/db_ex.db\n",
      "(sqlite3.OperationalError) no such table: table_color\n",
      "[SQL: ALTER TABLE table_color\n",
      "DROP wavelength;]\n",
      "(Background on this error at: https://sqlalche.me/e/14/e3q8)\n"
     ]
    }
   ],
   "source": [
    "%%sql\n",
    "\n",
    "ALTER TABLE table_color\n",
    "DROP wavelength;"
   ]
  },
  {
   "cell_type": "code",
   "execution_count": 39,
   "id": "0d3b50c1-f5e9-43c4-8cee-5bc702211520",
   "metadata": {},
   "outputs": [
    {
     "name": "stdout",
     "output_type": "stream",
     "text": [
      " * sqlite:///databases/db_ex.db\n",
      "(sqlite3.OperationalError) no such table: table_color\n",
      "[SQL: SELECT *\n",
      "FROM table_color;]\n",
      "(Background on this error at: https://sqlalche.me/e/14/e3q8)\n"
     ]
    }
   ],
   "source": [
    "%%sql\n",
    "\n",
    "SELECT *\n",
    "FROM table_color;"
   ]
  },
  {
   "cell_type": "markdown",
   "id": "58a81624-2a6e-498b-a66f-2244f6f54447",
   "metadata": {},
   "source": [
    "---"
   ]
  },
  {
   "cell_type": "markdown",
   "id": "3dc52974-46aa-4c01-ad8c-15c44075f2ca",
   "metadata": {
    "tags": []
   },
   "source": [
    "### Constraints\n",
    "Constraints are used to further specify database schema.  They are used in conjunction with `CREATE TABLE` or `ALTER TABLE`.  We state constraints that any new or updated row must meet to be included in table.\n",
    "\n",
    "\n",
    "```sql\n",
    "CREATE TABLE table_name (\n",
    "    column_name_a data_type constraint,\n",
    "    column_name_b data_type constraint\n",
    ");\n",
    "```\n",
    "\n",
    "Constraint | Use\n",
    "--- | ---\n",
    "`NOT NULL` | Column can NOT have NULL values\n",
    "`UNIQUE` | Ensures all values in column are unique.  Whether or not NULL values are treated as unique varies by RDBMS.\n",
    "`PRIMARY KEY` | A combination of NOT NULL and UNIQUE.  This ensures the column can be used as a primary key.\n",
    "`FOREIGN KEY` | Maintains \"referential integrity\".  Prevents records from being inserted into the table with the foreign key, if the record's value in the foreign key column does not have a match in the primary key column of the foreign table.\n",
    "`CHECK` | Ensures that the values in a column satisfy a specific condition\n",
    "`DEFAULT` | Sets a default value for a column if no value is specified. String fields sometime use empty strings, `\"\"`, as the default.  Numeric fields sometime use 0 or 1 as the default value.  If no default value is specified, then the default default value is `NULL`. \n",
    "`CREATE INDEX` | Used to create and retrieve data from a database very quickly\n",
    "`AUTOINCREMENT` | When a new record is added into the table, its value in the auto-incremented column will be one more than the last integer used.  Sometimes used by RDBMS to create a primary key field (not SQLite or PostgreSQL though).\n",
    "\n",
    "- *Note that constraints vary by RDBMS and will not always be placed after the data type*\n",
    "- *Note that, in many RDBMS (not SQLite), to set a FOREIGN KEY constraint, the related table (the table with primary key field we are referencing) must already exist.  Otherwise we'll get an error.  For this reason, when we initially create database tables using SQL, we'll want create tables by starting at the outside of the schema and move inwards.  This is because the tables on the outside tend to only have primary keys.  The tables on the inside are the ones with primary and foreign keys.  Alternatively, we can create the tables in any order we choose if we do NOT set foreign key constraints initially.  After all tables have been created, we can add foreign key constraints with `ALTER TABLE`.*\n",
    "- *Note that, in many RDBMS (not SQLite), when dropping tables, we need to drop tables starting at the inside of the schema and move outwards.  Once again, this has to do with referential integrity.*"
   ]
  },
  {
   "cell_type": "markdown",
   "id": "e1c253fe-3afa-46f4-8602-e0c188520480",
   "metadata": {},
   "source": [
    "---"
   ]
  },
  {
   "cell_type": "markdown",
   "id": "b4cbeb2e-dcec-4270-b378-beb36244f2f2",
   "metadata": {},
   "source": [
    "**EXAMPLES**"
   ]
  },
  {
   "cell_type": "markdown",
   "id": "b4cea053-9f67-4e21-a659-cdfb68193972",
   "metadata": {},
   "source": [
    "- We'll create the following two tables again .  This time we'll specify the primary and foreign keys fields with constraints.  We will also add a column for color wavelength like we did above.\n",
    "\n",
    "![](images/naming_conventions.png)"
   ]
  },
  {
   "cell_type": "markdown",
   "id": "f08b646d-b9cb-4fbf-bde3-12a6eb743fd6",
   "metadata": {},
   "source": [
    "**Drop Tables**"
   ]
  },
  {
   "cell_type": "code",
   "execution_count": 40,
   "id": "d3682385-7cb1-4e78-ab75-580269423385",
   "metadata": {},
   "outputs": [
    {
     "name": "stdout",
     "output_type": "stream",
     "text": [
      " * sqlite:///databases/db_ex.db\n"
     ]
    },
    {
     "data": {
      "text/plain": [
       "[]"
      ]
     },
     "execution_count": 40,
     "metadata": {},
     "output_type": "execute_result"
    }
   ],
   "source": [
    "%%sql\n",
    "\n",
    "DROP TABLE IF EXISTS color;\n",
    "DROP TABLE IF EXISTS table_color;\n",
    "DROP TABLE IF EXISTS fruit;"
   ]
  },
  {
   "cell_type": "markdown",
   "id": "9d7eba89-84e8-4844-8066-6faac8fac1e9",
   "metadata": {},
   "source": [
    "**Create Tables with Constraints**"
   ]
  },
  {
   "cell_type": "code",
   "execution_count": 41,
   "id": "70a8a0ab-e116-4cb6-8e0b-c314de1b4c34",
   "metadata": {},
   "outputs": [
    {
     "name": "stdout",
     "output_type": "stream",
     "text": [
      " * sqlite:///databases/db_ex.db\n"
     ]
    },
    {
     "data": {
      "text/plain": [
       "[]"
      ]
     },
     "execution_count": 41,
     "metadata": {},
     "output_type": "execute_result"
    }
   ],
   "source": [
    "%%sql\n",
    "\n",
    "CREATE TABLE color (\n",
    "    id INTEGER PRIMARY KEY,\n",
    "    name varchar(20),\n",
    "    wavelength INTEGER\n",
    ");"
   ]
  },
  {
   "cell_type": "code",
   "execution_count": 42,
   "id": "5e1fae60-c980-4e7e-bfad-4bc0f4db5eae",
   "metadata": {},
   "outputs": [
    {
     "name": "stdout",
     "output_type": "stream",
     "text": [
      " * sqlite:///databases/db_ex.db\n"
     ]
    },
    {
     "data": {
      "text/html": [
       "<table>\n",
       "    <thead>\n",
       "        <tr>\n",
       "            <th>id</th>\n",
       "            <th>name</th>\n",
       "            <th>wavelength</th>\n",
       "        </tr>\n",
       "    </thead>\n",
       "    <tbody>\n",
       "    </tbody>\n",
       "</table>"
      ],
      "text/plain": [
       "[]"
      ]
     },
     "execution_count": 42,
     "metadata": {},
     "output_type": "execute_result"
    }
   ],
   "source": [
    "%%sql\n",
    "\n",
    "SELECT *\n",
    "FROM color;"
   ]
  },
  {
   "cell_type": "code",
   "execution_count": 43,
   "id": "4109a9be-38dc-4fb7-94dc-e68fc213d9a8",
   "metadata": {},
   "outputs": [
    {
     "name": "stdout",
     "output_type": "stream",
     "text": [
      " * sqlite:///databases/db_ex.db\n"
     ]
    },
    {
     "data": {
      "text/plain": [
       "[]"
      ]
     },
     "execution_count": 43,
     "metadata": {},
     "output_type": "execute_result"
    }
   ],
   "source": [
    "%%sql\n",
    "\n",
    "CREATE TABLE fruit (\n",
    "    id INTEGER PRIMARY KEY,\n",
    "    name varchar(20),\n",
    "    color_id INTEGER,\n",
    "    FOREIGN KEY (color_id) REFERENCES color(id)\n",
    ");"
   ]
  },
  {
   "cell_type": "code",
   "execution_count": 44,
   "id": "f2168515-32d7-4369-855d-6029f4fd7b36",
   "metadata": {},
   "outputs": [
    {
     "name": "stdout",
     "output_type": "stream",
     "text": [
      " * sqlite:///databases/db_ex.db\n"
     ]
    },
    {
     "data": {
      "text/html": [
       "<table>\n",
       "    <thead>\n",
       "        <tr>\n",
       "            <th>id</th>\n",
       "            <th>name</th>\n",
       "            <th>color_id</th>\n",
       "        </tr>\n",
       "    </thead>\n",
       "    <tbody>\n",
       "    </tbody>\n",
       "</table>"
      ],
      "text/plain": [
       "[]"
      ]
     },
     "execution_count": 44,
     "metadata": {},
     "output_type": "execute_result"
    }
   ],
   "source": [
    "%%sql\n",
    "\n",
    "SELECT *\n",
    "FROM fruit;"
   ]
  },
  {
   "cell_type": "markdown",
   "id": "2840e061-375a-46ee-ac7e-e08f4c76d30c",
   "metadata": {},
   "source": [
    "---"
   ]
  },
  {
   "cell_type": "markdown",
   "id": "4c53db00-6725-4bfb-b106-4429f64e3d50",
   "metadata": {
    "tags": []
   },
   "source": [
    "## DML Keywords\n",
    "\n",
    "- Used to add, update and delete **records**\n",
    "- This contrasts DDL keywords that were used to add, update, and delete databases, tables, and **columns**"
   ]
  },
  {
   "cell_type": "markdown",
   "id": "d8bae20f-6c10-41e3-ab1f-1a17e46f6e7a",
   "metadata": {},
   "source": [
    "---"
   ]
  },
  {
   "cell_type": "markdown",
   "id": "66c53ae7-6ea6-4060-8ff5-517ada645e55",
   "metadata": {},
   "source": [
    "### INSERT INTO\n",
    "`INSERT INTO`--insert new row. First specify which columns get new cell values and then specify cell values.  Column names are mapped to column values based on position within tuples.  Typically we do not specify the the primary key field nor a value for the primary key field as this is taken care of by the RDBMS automatically.\n",
    "\n",
    "```sql\n",
    "INSERT INTO table_name (column_name_a, column_name_b)\n",
    "VALUES ('New value for column_name_a', 'New value for column_name_b.');\n",
    "```\n",
    "\n",
    "We can insert multiple rows of values in one SQL statement\n",
    "```sql\n",
    "INSERT INTO table_name (column_name_a, column_name_b)\n",
    "VALUES \n",
    "    ('New value for column_name_a', 'New value for column_name_b.'),\n",
    "    ('New value for column_name_a', 'New value for column_name_b.'),\n",
    "    ('New value for column_name_a', 'New value for column_name_b.');\n",
    "```"
   ]
  },
  {
   "cell_type": "markdown",
   "id": "bdf3dcaa-2574-4843-b703-8c7b09bb7197",
   "metadata": {},
   "source": [
    "---"
   ]
  },
  {
   "cell_type": "markdown",
   "id": "9cd25e51-b832-4a9a-8c8f-795fdd561cff",
   "metadata": {},
   "source": [
    "**EXAMPLES**"
   ]
  },
  {
   "cell_type": "markdown",
   "id": "a01e3bcb-a5b8-410d-8bd2-dc6b35d0c3c9",
   "metadata": {},
   "source": [
    "**`INSERT INTO`**"
   ]
  },
  {
   "cell_type": "code",
   "execution_count": 45,
   "id": "05cd02fd-ebd0-4695-8485-7fadc020524c",
   "metadata": {},
   "outputs": [
    {
     "name": "stdout",
     "output_type": "stream",
     "text": [
      " * sqlite:///databases/db_ex.db\n"
     ]
    },
    {
     "data": {
      "text/plain": [
       "[]"
      ]
     },
     "execution_count": 45,
     "metadata": {},
     "output_type": "execute_result"
    }
   ],
   "source": [
    "%%sql\n",
    "\n",
    "INSERT INTO color (name, wavelength)\n",
    "VALUES \n",
    "    ('Red', 700),\n",
    "    ('Orange', 600),\n",
    "    (\"Yellow\", 575),\n",
    "    ('Green', 550),\n",
    "    ('Blue', 475),\n",
    "    ('Purple', 400),\n",
    "    ('Ultra-violet', NULL);"
   ]
  },
  {
   "cell_type": "code",
   "execution_count": 46,
   "id": "59b141e5-8f55-42f2-b779-cb33f9dd6f09",
   "metadata": {
    "tags": []
   },
   "outputs": [
    {
     "name": "stdout",
     "output_type": "stream",
     "text": [
      " * sqlite:///databases/db_ex.db\n"
     ]
    },
    {
     "data": {
      "text/html": [
       "<table>\n",
       "    <thead>\n",
       "        <tr>\n",
       "            <th>id</th>\n",
       "            <th>name</th>\n",
       "            <th>wavelength</th>\n",
       "        </tr>\n",
       "    </thead>\n",
       "    <tbody>\n",
       "        <tr>\n",
       "            <td>1</td>\n",
       "            <td>Red</td>\n",
       "            <td>700</td>\n",
       "        </tr>\n",
       "        <tr>\n",
       "            <td>2</td>\n",
       "            <td>Orange</td>\n",
       "            <td>600</td>\n",
       "        </tr>\n",
       "        <tr>\n",
       "            <td>3</td>\n",
       "            <td>Yellow</td>\n",
       "            <td>575</td>\n",
       "        </tr>\n",
       "        <tr>\n",
       "            <td>4</td>\n",
       "            <td>Green</td>\n",
       "            <td>550</td>\n",
       "        </tr>\n",
       "        <tr>\n",
       "            <td>5</td>\n",
       "            <td>Blue</td>\n",
       "            <td>475</td>\n",
       "        </tr>\n",
       "        <tr>\n",
       "            <td>6</td>\n",
       "            <td>Purple</td>\n",
       "            <td>400</td>\n",
       "        </tr>\n",
       "        <tr>\n",
       "            <td>7</td>\n",
       "            <td>Ultra-violet</td>\n",
       "            <td>None</td>\n",
       "        </tr>\n",
       "    </tbody>\n",
       "</table>"
      ],
      "text/plain": [
       "[(1, 'Red', 700),\n",
       " (2, 'Orange', 600),\n",
       " (3, 'Yellow', 575),\n",
       " (4, 'Green', 550),\n",
       " (5, 'Blue', 475),\n",
       " (6, 'Purple', 400),\n",
       " (7, 'Ultra-violet', None)]"
      ]
     },
     "execution_count": 46,
     "metadata": {},
     "output_type": "execute_result"
    }
   ],
   "source": [
    "%%sql\n",
    "\n",
    "SELECT *\n",
    "FROM color;"
   ]
  },
  {
   "cell_type": "markdown",
   "id": "2768fc97-490b-4560-8618-96a399145def",
   "metadata": {},
   "source": [
    "---"
   ]
  },
  {
   "cell_type": "markdown",
   "id": "9bb8b419-8eff-4210-a2ee-69097cb15719",
   "metadata": {},
   "source": [
    "### INSERT INTO SELECT"
   ]
  },
  {
   "cell_type": "markdown",
   "id": "25784010-9fb1-4697-bcc4-27b2734fe216",
   "metadata": {},
   "source": [
    "`INSERT INTO SELECT`--select records from existing table and insert those records into another existing table.  Requires field data types to match.\n",
    "\n",
    "```sql\n",
    "INSERT INTO table_name_a (column_name_a, column_name_b)\n",
    "SELECT column_name_1, column_name_2\n",
    "FROM table_name_1\n",
    "WHERE condition;\n",
    "```"
   ]
  },
  {
   "cell_type": "markdown",
   "id": "de211045-461b-43c6-a6ed-1294e2c9ae96",
   "metadata": {},
   "source": [
    "---"
   ]
  },
  {
   "cell_type": "markdown",
   "id": "fcfdfddd-eec5-4997-b212-8c2c58371619",
   "metadata": {},
   "source": [
    "**EXAMPLES**"
   ]
  },
  {
   "cell_type": "code",
   "execution_count": 47,
   "id": "d344a5cf-fc0c-47a6-b2a6-f95a7e0c4b39",
   "metadata": {},
   "outputs": [
    {
     "name": "stdout",
     "output_type": "stream",
     "text": [
      " * sqlite:///databases/db_ex.db\n"
     ]
    },
    {
     "data": {
      "text/plain": [
       "[]"
      ]
     },
     "execution_count": 47,
     "metadata": {},
     "output_type": "execute_result"
    }
   ],
   "source": [
    "%%sql\n",
    "\n",
    "INSERT INTO fruit (name)\n",
    "SELECT name\n",
    "FROM color\n",
    "WHERE wavelength > 500;"
   ]
  },
  {
   "cell_type": "code",
   "execution_count": 48,
   "id": "f3b4371d-8ec1-46bf-9f54-449cbca2ed18",
   "metadata": {},
   "outputs": [
    {
     "name": "stdout",
     "output_type": "stream",
     "text": [
      " * sqlite:///databases/db_ex.db\n"
     ]
    },
    {
     "data": {
      "text/html": [
       "<table>\n",
       "    <thead>\n",
       "        <tr>\n",
       "            <th>id</th>\n",
       "            <th>name</th>\n",
       "            <th>color_id</th>\n",
       "        </tr>\n",
       "    </thead>\n",
       "    <tbody>\n",
       "        <tr>\n",
       "            <td>1</td>\n",
       "            <td>Red</td>\n",
       "            <td>None</td>\n",
       "        </tr>\n",
       "        <tr>\n",
       "            <td>2</td>\n",
       "            <td>Orange</td>\n",
       "            <td>None</td>\n",
       "        </tr>\n",
       "        <tr>\n",
       "            <td>3</td>\n",
       "            <td>Yellow</td>\n",
       "            <td>None</td>\n",
       "        </tr>\n",
       "        <tr>\n",
       "            <td>4</td>\n",
       "            <td>Green</td>\n",
       "            <td>None</td>\n",
       "        </tr>\n",
       "    </tbody>\n",
       "</table>"
      ],
      "text/plain": [
       "[(1, 'Red', None),\n",
       " (2, 'Orange', None),\n",
       " (3, 'Yellow', None),\n",
       " (4, 'Green', None)]"
      ]
     },
     "execution_count": 48,
     "metadata": {},
     "output_type": "execute_result"
    }
   ],
   "source": [
    "%%sql\n",
    "\n",
    "SELECT *\n",
    "FROM fruit;"
   ]
  },
  {
   "cell_type": "markdown",
   "id": "a253c174-a70c-4bbd-be90-01d831a10d29",
   "metadata": {},
   "source": [
    "---"
   ]
  },
  {
   "cell_type": "markdown",
   "id": "9a459c6c-090b-4785-a7b2-a96f07700dbe",
   "metadata": {},
   "source": [
    "### UPDATE\n",
    "`UPDATE`--modify records' cell values in specified column(s).  Use a `WHERE` clause so that only records that meet a condition are modified.  If `WHERE` not used, all records will be modified!!!\n",
    "\n",
    "```sql\n",
    "UPDATE table_name\n",
    "SET \n",
    "  column_name_a = 'New value for column_name_a', \n",
    "  column_name_b = 'New value for column_name_b.'\n",
    "WHERE condition;\n",
    "```\n",
    "\n",
    "It is also common to update columns with an expression\n",
    "```sql\n",
    "UPDATE table_name\n",
    "SET column_name = column_name * value;\n",
    "```"
   ]
  },
  {
   "cell_type": "markdown",
   "id": "9745ca25-49b0-44fd-9756-7c298dc3bcbf",
   "metadata": {},
   "source": [
    "---"
   ]
  },
  {
   "cell_type": "markdown",
   "id": "9ba76154-69fb-4e19-9b53-7396faf6c2de",
   "metadata": {},
   "source": [
    "**EXAMPLES**"
   ]
  },
  {
   "cell_type": "markdown",
   "id": "5ad71452-f1ea-47ed-98bf-533e16e408f6",
   "metadata": {},
   "source": [
    "The SQL statement below could be read, \"For each record in the color table, if the record's cell value in the name column equals 'Ultra-violet', then set the record's cell value in the wavelength column equal to 100.\""
   ]
  },
  {
   "cell_type": "code",
   "execution_count": 49,
   "id": "90a2b8e4-e01f-4eed-864c-537623e8af80",
   "metadata": {},
   "outputs": [
    {
     "name": "stdout",
     "output_type": "stream",
     "text": [
      " * sqlite:///databases/db_ex.db\n"
     ]
    },
    {
     "data": {
      "text/plain": [
       "[]"
      ]
     },
     "execution_count": 49,
     "metadata": {},
     "output_type": "execute_result"
    }
   ],
   "source": [
    "%%sql\n",
    "\n",
    "UPDATE color\n",
    "SET wavelength = 100\n",
    "WHERE name = 'Ultra-violet';"
   ]
  },
  {
   "cell_type": "code",
   "execution_count": 50,
   "id": "7f6bb72c-bde8-40aa-b5db-e7af2894b1c0",
   "metadata": {},
   "outputs": [
    {
     "name": "stdout",
     "output_type": "stream",
     "text": [
      " * sqlite:///databases/db_ex.db\n"
     ]
    },
    {
     "data": {
      "text/html": [
       "<table>\n",
       "    <thead>\n",
       "        <tr>\n",
       "            <th>id</th>\n",
       "            <th>name</th>\n",
       "            <th>wavelength</th>\n",
       "        </tr>\n",
       "    </thead>\n",
       "    <tbody>\n",
       "        <tr>\n",
       "            <td>1</td>\n",
       "            <td>Red</td>\n",
       "            <td>700</td>\n",
       "        </tr>\n",
       "        <tr>\n",
       "            <td>2</td>\n",
       "            <td>Orange</td>\n",
       "            <td>600</td>\n",
       "        </tr>\n",
       "        <tr>\n",
       "            <td>3</td>\n",
       "            <td>Yellow</td>\n",
       "            <td>575</td>\n",
       "        </tr>\n",
       "        <tr>\n",
       "            <td>4</td>\n",
       "            <td>Green</td>\n",
       "            <td>550</td>\n",
       "        </tr>\n",
       "        <tr>\n",
       "            <td>5</td>\n",
       "            <td>Blue</td>\n",
       "            <td>475</td>\n",
       "        </tr>\n",
       "        <tr>\n",
       "            <td>6</td>\n",
       "            <td>Purple</td>\n",
       "            <td>400</td>\n",
       "        </tr>\n",
       "        <tr>\n",
       "            <td>7</td>\n",
       "            <td>Ultra-violet</td>\n",
       "            <td>100</td>\n",
       "        </tr>\n",
       "    </tbody>\n",
       "</table>"
      ],
      "text/plain": [
       "[(1, 'Red', 700),\n",
       " (2, 'Orange', 600),\n",
       " (3, 'Yellow', 575),\n",
       " (4, 'Green', 550),\n",
       " (5, 'Blue', 475),\n",
       " (6, 'Purple', 400),\n",
       " (7, 'Ultra-violet', 100)]"
      ]
     },
     "execution_count": 50,
     "metadata": {},
     "output_type": "execute_result"
    }
   ],
   "source": [
    "%%sql\n",
    "\n",
    "SELECT *\n",
    "FROM color;"
   ]
  },
  {
   "cell_type": "markdown",
   "id": "d6aecd55-c331-4b3c-97a4-464dbbd8387e",
   "metadata": {},
   "source": [
    "---"
   ]
  },
  {
   "cell_type": "markdown",
   "id": "15bafe09-52f9-4559-845f-4331e9d54551",
   "metadata": {},
   "source": [
    "### DELETE\n",
    "`DELETE`--delete records.  Use a `WHERE` clause so that only records that meet a condition are deleted. If `WHERE` not used, all records will be deleted!!!\n",
    "\n",
    "```sql\n",
    "DELETE\n",
    "FROM table_name\n",
    "WHERE condition;\n",
    "```"
   ]
  },
  {
   "cell_type": "markdown",
   "id": "0ac295f6-a829-45cc-a245-fe4a1dfe279b",
   "metadata": {},
   "source": [
    "---"
   ]
  },
  {
   "cell_type": "markdown",
   "id": "122177d9-adf6-4c35-b9c4-711dfe37335d",
   "metadata": {},
   "source": [
    "**EXAMPLES**"
   ]
  },
  {
   "cell_type": "markdown",
   "id": "f68831b5-a57a-408e-946e-513e4d8cd94a",
   "metadata": {},
   "source": [
    "The SQL statement below could be read , \"For each record in the color table, if the record's cell value in the name column equals 'Ultra-violet', then delete the record."
   ]
  },
  {
   "cell_type": "code",
   "execution_count": 51,
   "id": "949a2c75-1b83-4cd4-80df-65455b139c42",
   "metadata": {},
   "outputs": [
    {
     "name": "stdout",
     "output_type": "stream",
     "text": [
      " * sqlite:///databases/db_ex.db\n"
     ]
    },
    {
     "data": {
      "text/plain": [
       "[]"
      ]
     },
     "execution_count": 51,
     "metadata": {},
     "output_type": "execute_result"
    }
   ],
   "source": [
    "%%sql\n",
    "\n",
    "DELETE\n",
    "FROM color\n",
    "WHERE name = 'Ultra-violet';"
   ]
  },
  {
   "cell_type": "code",
   "execution_count": 52,
   "id": "eae95fd7-6aa0-42eb-b28c-9fe47000e962",
   "metadata": {},
   "outputs": [
    {
     "name": "stdout",
     "output_type": "stream",
     "text": [
      " * sqlite:///databases/db_ex.db\n"
     ]
    },
    {
     "data": {
      "text/html": [
       "<table>\n",
       "    <thead>\n",
       "        <tr>\n",
       "            <th>id</th>\n",
       "            <th>name</th>\n",
       "            <th>wavelength</th>\n",
       "        </tr>\n",
       "    </thead>\n",
       "    <tbody>\n",
       "        <tr>\n",
       "            <td>1</td>\n",
       "            <td>Red</td>\n",
       "            <td>700</td>\n",
       "        </tr>\n",
       "        <tr>\n",
       "            <td>2</td>\n",
       "            <td>Orange</td>\n",
       "            <td>600</td>\n",
       "        </tr>\n",
       "        <tr>\n",
       "            <td>3</td>\n",
       "            <td>Yellow</td>\n",
       "            <td>575</td>\n",
       "        </tr>\n",
       "        <tr>\n",
       "            <td>4</td>\n",
       "            <td>Green</td>\n",
       "            <td>550</td>\n",
       "        </tr>\n",
       "        <tr>\n",
       "            <td>5</td>\n",
       "            <td>Blue</td>\n",
       "            <td>475</td>\n",
       "        </tr>\n",
       "        <tr>\n",
       "            <td>6</td>\n",
       "            <td>Purple</td>\n",
       "            <td>400</td>\n",
       "        </tr>\n",
       "    </tbody>\n",
       "</table>"
      ],
      "text/plain": [
       "[(1, 'Red', 700),\n",
       " (2, 'Orange', 600),\n",
       " (3, 'Yellow', 575),\n",
       " (4, 'Green', 550),\n",
       " (5, 'Blue', 475),\n",
       " (6, 'Purple', 400)]"
      ]
     },
     "execution_count": 52,
     "metadata": {},
     "output_type": "execute_result"
    }
   ],
   "source": [
    "%%sql\n",
    "\n",
    "SELECT *\n",
    "FROM color;"
   ]
  },
  {
   "cell_type": "markdown",
   "id": "23eaf092-dee8-49cb-aa78-3d8e18347474",
   "metadata": {},
   "source": [
    "**Delete All Records**"
   ]
  },
  {
   "cell_type": "code",
   "execution_count": 53,
   "id": "6dda9723-c684-45c7-9823-1e61fee2ece0",
   "metadata": {},
   "outputs": [
    {
     "name": "stdout",
     "output_type": "stream",
     "text": [
      " * sqlite:///databases/db_ex.db\n"
     ]
    },
    {
     "data": {
      "text/html": [
       "<table>\n",
       "    <thead>\n",
       "        <tr>\n",
       "            <th>id</th>\n",
       "            <th>name</th>\n",
       "            <th>color_id</th>\n",
       "        </tr>\n",
       "    </thead>\n",
       "    <tbody>\n",
       "        <tr>\n",
       "            <td>1</td>\n",
       "            <td>Red</td>\n",
       "            <td>None</td>\n",
       "        </tr>\n",
       "        <tr>\n",
       "            <td>2</td>\n",
       "            <td>Orange</td>\n",
       "            <td>None</td>\n",
       "        </tr>\n",
       "        <tr>\n",
       "            <td>3</td>\n",
       "            <td>Yellow</td>\n",
       "            <td>None</td>\n",
       "        </tr>\n",
       "        <tr>\n",
       "            <td>4</td>\n",
       "            <td>Green</td>\n",
       "            <td>None</td>\n",
       "        </tr>\n",
       "    </tbody>\n",
       "</table>"
      ],
      "text/plain": [
       "[(1, 'Red', None),\n",
       " (2, 'Orange', None),\n",
       " (3, 'Yellow', None),\n",
       " (4, 'Green', None)]"
      ]
     },
     "execution_count": 53,
     "metadata": {},
     "output_type": "execute_result"
    }
   ],
   "source": [
    "%%sql\n",
    "\n",
    "SELECT *\n",
    "FROM fruit;"
   ]
  },
  {
   "cell_type": "code",
   "execution_count": 54,
   "id": "20eb0a62-66a1-42c0-93dc-7b3fc353066f",
   "metadata": {},
   "outputs": [
    {
     "name": "stdout",
     "output_type": "stream",
     "text": [
      " * sqlite:///databases/db_ex.db\n"
     ]
    },
    {
     "data": {
      "text/plain": [
       "[]"
      ]
     },
     "execution_count": 54,
     "metadata": {},
     "output_type": "execute_result"
    }
   ],
   "source": [
    "%%sql\n",
    "\n",
    "DELETE\n",
    "FROM fruit;"
   ]
  },
  {
   "cell_type": "code",
   "execution_count": 55,
   "id": "da7ce1b5-4658-44a7-94ea-12529e6c689c",
   "metadata": {},
   "outputs": [
    {
     "name": "stdout",
     "output_type": "stream",
     "text": [
      " * sqlite:///databases/db_ex.db\n"
     ]
    },
    {
     "data": {
      "text/html": [
       "<table>\n",
       "    <thead>\n",
       "        <tr>\n",
       "            <th>id</th>\n",
       "            <th>name</th>\n",
       "            <th>color_id</th>\n",
       "        </tr>\n",
       "    </thead>\n",
       "    <tbody>\n",
       "    </tbody>\n",
       "</table>"
      ],
      "text/plain": [
       "[]"
      ]
     },
     "execution_count": 55,
     "metadata": {},
     "output_type": "execute_result"
    }
   ],
   "source": [
    "%%sql\n",
    "\n",
    "SELECT *\n",
    "FROM fruit;"
   ]
  },
  {
   "cell_type": "markdown",
   "id": "9e95e68b-55e1-4322-b69c-a743adba6dec",
   "metadata": {},
   "source": [
    "---"
   ]
  },
  {
   "cell_type": "markdown",
   "id": "212764b1-fa3e-43c8-90ce-80fa02e06ee0",
   "metadata": {},
   "source": [
    "## DQL Keywords"
   ]
  },
  {
   "cell_type": "markdown",
   "id": "33f58a80-0c42-4b7b-9ba8-c4e6c007af43",
   "metadata": {},
   "source": [
    "---"
   ]
  },
  {
   "cell_type": "markdown",
   "id": "ee7f9464-ea56-4195-8cae-221542a27892",
   "metadata": {},
   "source": [
    "### SELECT\n",
    "`SELECT`--return records in result table.  Although primarily used to select records, we can also use `SELECT` to print out strings, the result of mathematical expressions, etc.\n",
    "\n",
    "`SELECT *`--pronounced \"select star\" or \"select splat\".  Include all columns in the result table.\n",
    "```sql\n",
    "SELECT * \n",
    "FROM table_name;\n",
    "```\n",
    "\n",
    "Optionally, specify which columns to include.  The order we write the columns will determine column order in the result table.\n",
    "```sql\n",
    "SELECT column_name_b, column_name_a\n",
    "FROM table_name;\n",
    "```\n",
    "\n",
    "Optionally, use columns in expression\n",
    "```sql\n",
    "SELECT (column_name_b - column_name_a) / 2\n",
    "FROM table_name;\n",
    "```"
   ]
  },
  {
   "cell_type": "markdown",
   "id": "e5de68f0-7ca7-464c-b393-186f7a433124",
   "metadata": {},
   "source": [
    "---"
   ]
  },
  {
   "cell_type": "markdown",
   "id": "96800b5b-e579-41b9-830b-8bbae90c09f3",
   "metadata": {},
   "source": [
    "**EXAMPLES**"
   ]
  },
  {
   "cell_type": "markdown",
   "id": "d3dc58c4-0340-46c4-9dc0-e926e230afe6",
   "metadata": {},
   "source": [
    "**`SELECT`**"
   ]
  },
  {
   "cell_type": "code",
   "execution_count": 56,
   "id": "93c38e93-85d0-42b8-bd20-9c780de5ab62",
   "metadata": {},
   "outputs": [
    {
     "name": "stdout",
     "output_type": "stream",
     "text": [
      " * sqlite:///databases/db_ex.db\n"
     ]
    },
    {
     "data": {
      "text/html": [
       "<table>\n",
       "    <thead>\n",
       "        <tr>\n",
       "            <th>&#x27;Hello world&#x27;</th>\n",
       "        </tr>\n",
       "    </thead>\n",
       "    <tbody>\n",
       "        <tr>\n",
       "            <td>Hello world</td>\n",
       "        </tr>\n",
       "    </tbody>\n",
       "</table>"
      ],
      "text/plain": [
       "[('Hello world',)]"
      ]
     },
     "execution_count": 56,
     "metadata": {},
     "output_type": "execute_result"
    }
   ],
   "source": [
    "%%sql\n",
    "\n",
    "SELECT 'Hello world';"
   ]
  },
  {
   "cell_type": "code",
   "execution_count": 57,
   "id": "8a8cc8df-b3b7-40c2-abbe-53a6f3ce5661",
   "metadata": {},
   "outputs": [
    {
     "name": "stdout",
     "output_type": "stream",
     "text": [
      " * sqlite:///databases/db_ex.db\n"
     ]
    },
    {
     "data": {
      "text/html": [
       "<table>\n",
       "    <thead>\n",
       "        <tr>\n",
       "            <th>1 + 2</th>\n",
       "        </tr>\n",
       "    </thead>\n",
       "    <tbody>\n",
       "        <tr>\n",
       "            <td>3</td>\n",
       "        </tr>\n",
       "    </tbody>\n",
       "</table>"
      ],
      "text/plain": [
       "[(3,)]"
      ]
     },
     "execution_count": 57,
     "metadata": {},
     "output_type": "execute_result"
    }
   ],
   "source": [
    "%%sql\n",
    "\n",
    "SELECT 1 + 2;"
   ]
  },
  {
   "cell_type": "code",
   "execution_count": 58,
   "id": "73e8459a-7665-42a7-81b4-3294949a49fb",
   "metadata": {},
   "outputs": [
    {
     "name": "stdout",
     "output_type": "stream",
     "text": [
      " * sqlite:///databases/db_ex.db\n"
     ]
    },
    {
     "data": {
      "text/html": [
       "<table>\n",
       "    <thead>\n",
       "        <tr>\n",
       "            <th>&#x27;Hello world&#x27;</th>\n",
       "            <th>1 + 2</th>\n",
       "        </tr>\n",
       "    </thead>\n",
       "    <tbody>\n",
       "        <tr>\n",
       "            <td>Hello world</td>\n",
       "            <td>3</td>\n",
       "        </tr>\n",
       "    </tbody>\n",
       "</table>"
      ],
      "text/plain": [
       "[('Hello world', 3)]"
      ]
     },
     "execution_count": 58,
     "metadata": {},
     "output_type": "execute_result"
    }
   ],
   "source": [
    "%%sql\n",
    "\n",
    "SELECT 'Hello world', 1 + 2"
   ]
  },
  {
   "cell_type": "markdown",
   "id": "87732107-aeb7-4d73-a586-785e8045d164",
   "metadata": {},
   "source": [
    "**`SELECT *`**"
   ]
  },
  {
   "cell_type": "code",
   "execution_count": 59,
   "id": "5793cb50-ce8d-4322-a85b-57d75ce7ad89",
   "metadata": {},
   "outputs": [
    {
     "name": "stdout",
     "output_type": "stream",
     "text": [
      " * sqlite:///databases/db_ex.db\n"
     ]
    },
    {
     "data": {
      "text/html": [
       "<table>\n",
       "    <thead>\n",
       "        <tr>\n",
       "            <th>id</th>\n",
       "            <th>name</th>\n",
       "            <th>wavelength</th>\n",
       "        </tr>\n",
       "    </thead>\n",
       "    <tbody>\n",
       "        <tr>\n",
       "            <td>1</td>\n",
       "            <td>Red</td>\n",
       "            <td>700</td>\n",
       "        </tr>\n",
       "        <tr>\n",
       "            <td>2</td>\n",
       "            <td>Orange</td>\n",
       "            <td>600</td>\n",
       "        </tr>\n",
       "        <tr>\n",
       "            <td>3</td>\n",
       "            <td>Yellow</td>\n",
       "            <td>575</td>\n",
       "        </tr>\n",
       "        <tr>\n",
       "            <td>4</td>\n",
       "            <td>Green</td>\n",
       "            <td>550</td>\n",
       "        </tr>\n",
       "        <tr>\n",
       "            <td>5</td>\n",
       "            <td>Blue</td>\n",
       "            <td>475</td>\n",
       "        </tr>\n",
       "        <tr>\n",
       "            <td>6</td>\n",
       "            <td>Purple</td>\n",
       "            <td>400</td>\n",
       "        </tr>\n",
       "    </tbody>\n",
       "</table>"
      ],
      "text/plain": [
       "[(1, 'Red', 700),\n",
       " (2, 'Orange', 600),\n",
       " (3, 'Yellow', 575),\n",
       " (4, 'Green', 550),\n",
       " (5, 'Blue', 475),\n",
       " (6, 'Purple', 400)]"
      ]
     },
     "execution_count": 59,
     "metadata": {},
     "output_type": "execute_result"
    }
   ],
   "source": [
    "%%sql\n",
    "\n",
    "SELECT *\n",
    "FROM color;"
   ]
  },
  {
   "cell_type": "markdown",
   "id": "cf35214a-1e72-44da-8328-dfe3f2e81510",
   "metadata": {},
   "source": [
    "**`SELECT` with Columns**"
   ]
  },
  {
   "cell_type": "code",
   "execution_count": 60,
   "id": "3384393c-9fca-4eb8-b12a-93e9fcd22cc4",
   "metadata": {},
   "outputs": [
    {
     "name": "stdout",
     "output_type": "stream",
     "text": [
      " * sqlite:///databases/db_ex.db\n"
     ]
    },
    {
     "data": {
      "text/html": [
       "<table>\n",
       "    <thead>\n",
       "        <tr>\n",
       "            <th>wavelength</th>\n",
       "            <th>name</th>\n",
       "        </tr>\n",
       "    </thead>\n",
       "    <tbody>\n",
       "        <tr>\n",
       "            <td>700</td>\n",
       "            <td>Red</td>\n",
       "        </tr>\n",
       "        <tr>\n",
       "            <td>600</td>\n",
       "            <td>Orange</td>\n",
       "        </tr>\n",
       "        <tr>\n",
       "            <td>575</td>\n",
       "            <td>Yellow</td>\n",
       "        </tr>\n",
       "        <tr>\n",
       "            <td>550</td>\n",
       "            <td>Green</td>\n",
       "        </tr>\n",
       "        <tr>\n",
       "            <td>475</td>\n",
       "            <td>Blue</td>\n",
       "        </tr>\n",
       "        <tr>\n",
       "            <td>400</td>\n",
       "            <td>Purple</td>\n",
       "        </tr>\n",
       "    </tbody>\n",
       "</table>"
      ],
      "text/plain": [
       "[(700, 'Red'),\n",
       " (600, 'Orange'),\n",
       " (575, 'Yellow'),\n",
       " (550, 'Green'),\n",
       " (475, 'Blue'),\n",
       " (400, 'Purple')]"
      ]
     },
     "execution_count": 60,
     "metadata": {},
     "output_type": "execute_result"
    }
   ],
   "source": [
    "%%sql\n",
    "\n",
    "SELECT wavelength, name\n",
    "FROM color;"
   ]
  },
  {
   "cell_type": "markdown",
   "id": "f98e4623-b19c-4ed3-972c-ec5d1d004539",
   "metadata": {},
   "source": [
    "**`SELECT` with Expressions**"
   ]
  },
  {
   "cell_type": "code",
   "execution_count": 61,
   "id": "b338e8c2-9b38-416e-a2ec-908b2d159e78",
   "metadata": {},
   "outputs": [
    {
     "name": "stdout",
     "output_type": "stream",
     "text": [
      " * sqlite:///databases/db_ex.db\n"
     ]
    },
    {
     "data": {
      "text/html": [
       "<table>\n",
       "    <thead>\n",
       "        <tr>\n",
       "            <th>wavelength / 100</th>\n",
       "        </tr>\n",
       "    </thead>\n",
       "    <tbody>\n",
       "        <tr>\n",
       "            <td>7</td>\n",
       "        </tr>\n",
       "        <tr>\n",
       "            <td>6</td>\n",
       "        </tr>\n",
       "        <tr>\n",
       "            <td>5</td>\n",
       "        </tr>\n",
       "        <tr>\n",
       "            <td>5</td>\n",
       "        </tr>\n",
       "        <tr>\n",
       "            <td>4</td>\n",
       "        </tr>\n",
       "        <tr>\n",
       "            <td>4</td>\n",
       "        </tr>\n",
       "    </tbody>\n",
       "</table>"
      ],
      "text/plain": [
       "[(7,), (6,), (5,), (5,), (4,), (4,)]"
      ]
     },
     "execution_count": 61,
     "metadata": {},
     "output_type": "execute_result"
    }
   ],
   "source": [
    "%%sql\n",
    "\n",
    "SELECT wavelength / 100\n",
    "FROM color;"
   ]
  },
  {
   "cell_type": "markdown",
   "id": "bdc0fbb7-f255-4315-921f-0e4594a71ab3",
   "metadata": {},
   "source": [
    "---"
   ]
  },
  {
   "cell_type": "markdown",
   "id": "764fc41d-0047-4705-b09f-9e2b5db4ebe3",
   "metadata": {},
   "source": [
    "### SELECT DISTINCT\n",
    "\n",
    "`SELECT DISINCT`--optionally, filter out any record whose combination of cell values in the specified column(s) is a duplicate of another record already included in the result table.  I.e. select distinct records.  While most vertical replication is removed through normalization, when we JOIN tables, the result set will once again have vertical replication.  Selecting distinct records can be helpful here.\n",
    "\n",
    "```sql\n",
    "SELECT DISTINCT column_name_b, column_name_a\n",
    "FROM table_name;\n",
    "```"
   ]
  },
  {
   "cell_type": "markdown",
   "id": "27be4551-81e6-4e20-9bf1-ad06b35c53fc",
   "metadata": {},
   "source": [
    "---"
   ]
  },
  {
   "cell_type": "markdown",
   "id": "1d0e5695-45cd-4a0a-89a2-40b0a103f6d2",
   "metadata": {},
   "source": [
    "**EXAMPLES**"
   ]
  },
  {
   "cell_type": "markdown",
   "id": "06dc92ca-42dd-43b4-8310-e2d4438da172",
   "metadata": {},
   "source": [
    "**Prepare Example Data**"
   ]
  },
  {
   "cell_type": "code",
   "execution_count": 62,
   "id": "58513ae5-dd8e-4ecd-b2e7-9c7c82df383b",
   "metadata": {},
   "outputs": [
    {
     "name": "stdout",
     "output_type": "stream",
     "text": [
      " * sqlite:///databases/db_ex.db\n"
     ]
    },
    {
     "data": {
      "text/plain": [
       "[]"
      ]
     },
     "execution_count": 62,
     "metadata": {},
     "output_type": "execute_result"
    }
   ],
   "source": [
    "%%sql\n",
    "\n",
    "INSERT INTO color (name, wavelength)\n",
    "VALUES ('Red', 675);"
   ]
  },
  {
   "cell_type": "code",
   "execution_count": 63,
   "id": "e2d1ded5-187f-4951-9c24-38dd6e48549f",
   "metadata": {},
   "outputs": [
    {
     "name": "stdout",
     "output_type": "stream",
     "text": [
      " * sqlite:///databases/db_ex.db\n"
     ]
    },
    {
     "data": {
      "text/html": [
       "<table>\n",
       "    <thead>\n",
       "        <tr>\n",
       "            <th>id</th>\n",
       "            <th>name</th>\n",
       "            <th>wavelength</th>\n",
       "        </tr>\n",
       "    </thead>\n",
       "    <tbody>\n",
       "        <tr>\n",
       "            <td>1</td>\n",
       "            <td>Red</td>\n",
       "            <td>700</td>\n",
       "        </tr>\n",
       "        <tr>\n",
       "            <td>2</td>\n",
       "            <td>Orange</td>\n",
       "            <td>600</td>\n",
       "        </tr>\n",
       "        <tr>\n",
       "            <td>3</td>\n",
       "            <td>Yellow</td>\n",
       "            <td>575</td>\n",
       "        </tr>\n",
       "        <tr>\n",
       "            <td>4</td>\n",
       "            <td>Green</td>\n",
       "            <td>550</td>\n",
       "        </tr>\n",
       "        <tr>\n",
       "            <td>5</td>\n",
       "            <td>Blue</td>\n",
       "            <td>475</td>\n",
       "        </tr>\n",
       "        <tr>\n",
       "            <td>6</td>\n",
       "            <td>Purple</td>\n",
       "            <td>400</td>\n",
       "        </tr>\n",
       "        <tr>\n",
       "            <td>7</td>\n",
       "            <td>Red</td>\n",
       "            <td>675</td>\n",
       "        </tr>\n",
       "    </tbody>\n",
       "</table>"
      ],
      "text/plain": [
       "[(1, 'Red', 700),\n",
       " (2, 'Orange', 600),\n",
       " (3, 'Yellow', 575),\n",
       " (4, 'Green', 550),\n",
       " (5, 'Blue', 475),\n",
       " (6, 'Purple', 400),\n",
       " (7, 'Red', 675)]"
      ]
     },
     "execution_count": 63,
     "metadata": {},
     "output_type": "execute_result"
    }
   ],
   "source": [
    "%%sql\n",
    "\n",
    "SELECT *\n",
    "FROM color;"
   ]
  },
  {
   "cell_type": "markdown",
   "id": "d6419a23-535c-4cbe-a0b0-6016823ce8bf",
   "metadata": {},
   "source": [
    "The result table below excludes a record with another 'Red' value in the `name` column"
   ]
  },
  {
   "cell_type": "code",
   "execution_count": 64,
   "id": "3c88e9d0-195a-4f7e-bf73-2ebd7be1099a",
   "metadata": {},
   "outputs": [
    {
     "name": "stdout",
     "output_type": "stream",
     "text": [
      " * sqlite:///databases/db_ex.db\n"
     ]
    },
    {
     "data": {
      "text/html": [
       "<table>\n",
       "    <thead>\n",
       "        <tr>\n",
       "            <th>name</th>\n",
       "        </tr>\n",
       "    </thead>\n",
       "    <tbody>\n",
       "        <tr>\n",
       "            <td>Red</td>\n",
       "        </tr>\n",
       "        <tr>\n",
       "            <td>Orange</td>\n",
       "        </tr>\n",
       "        <tr>\n",
       "            <td>Yellow</td>\n",
       "        </tr>\n",
       "        <tr>\n",
       "            <td>Green</td>\n",
       "        </tr>\n",
       "        <tr>\n",
       "            <td>Blue</td>\n",
       "        </tr>\n",
       "        <tr>\n",
       "            <td>Purple</td>\n",
       "        </tr>\n",
       "    </tbody>\n",
       "</table>"
      ],
      "text/plain": [
       "[('Red',), ('Orange',), ('Yellow',), ('Green',), ('Blue',), ('Purple',)]"
      ]
     },
     "execution_count": 64,
     "metadata": {},
     "output_type": "execute_result"
    }
   ],
   "source": [
    "%%sql\n",
    "\n",
    "SELECT DISTINCT name\n",
    "FROM color;"
   ]
  },
  {
   "cell_type": "markdown",
   "id": "c8ef8c91-85f8-4205-a44e-e1fd9d9cde18",
   "metadata": {},
   "source": [
    "The result table below does not exclude any records.  The added record is still distinct if we consider both the `name` column and the `wavelength` column."
   ]
  },
  {
   "cell_type": "code",
   "execution_count": 65,
   "id": "047232c3-b88d-41da-9e8e-721a19b88217",
   "metadata": {},
   "outputs": [
    {
     "name": "stdout",
     "output_type": "stream",
     "text": [
      " * sqlite:///databases/db_ex.db\n"
     ]
    },
    {
     "data": {
      "text/html": [
       "<table>\n",
       "    <thead>\n",
       "        <tr>\n",
       "            <th>wavelength</th>\n",
       "            <th>name</th>\n",
       "        </tr>\n",
       "    </thead>\n",
       "    <tbody>\n",
       "        <tr>\n",
       "            <td>700</td>\n",
       "            <td>Red</td>\n",
       "        </tr>\n",
       "        <tr>\n",
       "            <td>600</td>\n",
       "            <td>Orange</td>\n",
       "        </tr>\n",
       "        <tr>\n",
       "            <td>575</td>\n",
       "            <td>Yellow</td>\n",
       "        </tr>\n",
       "        <tr>\n",
       "            <td>550</td>\n",
       "            <td>Green</td>\n",
       "        </tr>\n",
       "        <tr>\n",
       "            <td>475</td>\n",
       "            <td>Blue</td>\n",
       "        </tr>\n",
       "        <tr>\n",
       "            <td>400</td>\n",
       "            <td>Purple</td>\n",
       "        </tr>\n",
       "        <tr>\n",
       "            <td>675</td>\n",
       "            <td>Red</td>\n",
       "        </tr>\n",
       "    </tbody>\n",
       "</table>"
      ],
      "text/plain": [
       "[(700, 'Red'),\n",
       " (600, 'Orange'),\n",
       " (575, 'Yellow'),\n",
       " (550, 'Green'),\n",
       " (475, 'Blue'),\n",
       " (400, 'Purple'),\n",
       " (675, 'Red')]"
      ]
     },
     "execution_count": 65,
     "metadata": {},
     "output_type": "execute_result"
    }
   ],
   "source": [
    "%%sql\n",
    "\n",
    "SELECT DISTINCT wavelength, name\n",
    "FROM color;"
   ]
  },
  {
   "cell_type": "markdown",
   "id": "3c41052a-ca73-4fe1-a4c9-3a107e0f7fad",
   "metadata": {},
   "source": [
    "**Delete Record**"
   ]
  },
  {
   "cell_type": "code",
   "execution_count": 66,
   "id": "14799cd9-5515-4603-9ea5-c38ce2ccc3d6",
   "metadata": {},
   "outputs": [
    {
     "name": "stdout",
     "output_type": "stream",
     "text": [
      " * sqlite:///databases/db_ex.db\n"
     ]
    },
    {
     "data": {
      "text/plain": [
       "[]"
      ]
     },
     "execution_count": 66,
     "metadata": {},
     "output_type": "execute_result"
    }
   ],
   "source": [
    "%%sql\n",
    "\n",
    "DELETE\n",
    "FROM color\n",
    "WHERE wavelength = 675"
   ]
  },
  {
   "cell_type": "markdown",
   "id": "ea15d174-9d21-4595-bbda-6283399fb045",
   "metadata": {},
   "source": [
    "---"
   ]
  },
  {
   "cell_type": "markdown",
   "id": "5ad5bff1-1aac-4614-a4ae-4a9b1a131fe6",
   "metadata": {},
   "source": [
    "### WHERE\n",
    "`WHERE`--filter records.  Only records whose condition (Boolean expression) evaluates to true are kept.  `WHERE` can be added to SQL statements that use `SELECT`, `UPDATE`, `DELETE`, and more.\n",
    "\n",
    "```sql\n",
    "SELECT *\n",
    "FROM table_name\n",
    "WHERE condition;\n",
    "```"
   ]
  },
  {
   "cell_type": "markdown",
   "id": "6b7142de-2644-45da-bd4f-dc0d38919835",
   "metadata": {},
   "source": [
    "---"
   ]
  },
  {
   "cell_type": "markdown",
   "id": "800f4eb0-2495-475c-a7a9-d2300e9f3502",
   "metadata": {},
   "source": [
    "**EXAMPLES**"
   ]
  },
  {
   "cell_type": "markdown",
   "id": "7fa96dd8-f40d-48ac-a71d-0c2c6c52d325",
   "metadata": {},
   "source": [
    "`WHERE` can be read like \"if\".  The following SQL statement can be read,  \"For each record in the `color` table, if the record's cell value in the `wavelength` column is greater than 500, then pass that record to `SELECT`.  Select all columns. Return result set.\""
   ]
  },
  {
   "cell_type": "code",
   "execution_count": 67,
   "id": "cff8051c-a823-4c96-9caf-6d6846116bc8",
   "metadata": {
    "tags": []
   },
   "outputs": [
    {
     "name": "stdout",
     "output_type": "stream",
     "text": [
      " * sqlite:///databases/db_ex.db\n"
     ]
    },
    {
     "data": {
      "text/html": [
       "<table>\n",
       "    <thead>\n",
       "        <tr>\n",
       "            <th>id</th>\n",
       "            <th>name</th>\n",
       "            <th>wavelength</th>\n",
       "        </tr>\n",
       "    </thead>\n",
       "    <tbody>\n",
       "        <tr>\n",
       "            <td>1</td>\n",
       "            <td>Red</td>\n",
       "            <td>700</td>\n",
       "        </tr>\n",
       "        <tr>\n",
       "            <td>2</td>\n",
       "            <td>Orange</td>\n",
       "            <td>600</td>\n",
       "        </tr>\n",
       "        <tr>\n",
       "            <td>3</td>\n",
       "            <td>Yellow</td>\n",
       "            <td>575</td>\n",
       "        </tr>\n",
       "        <tr>\n",
       "            <td>4</td>\n",
       "            <td>Green</td>\n",
       "            <td>550</td>\n",
       "        </tr>\n",
       "    </tbody>\n",
       "</table>"
      ],
      "text/plain": [
       "[(1, 'Red', 700), (2, 'Orange', 600), (3, 'Yellow', 575), (4, 'Green', 550)]"
      ]
     },
     "execution_count": 67,
     "metadata": {},
     "output_type": "execute_result"
    }
   ],
   "source": [
    "%%sql\n",
    "\n",
    "SELECT *\n",
    "FROM color\n",
    "WHERE wavelength > 500;"
   ]
  },
  {
   "cell_type": "markdown",
   "id": "2ef93597-b6c3-466a-8ea1-b506ffe9d466",
   "metadata": {},
   "source": [
    "---"
   ]
  },
  {
   "cell_type": "markdown",
   "id": "1c78ace0-537b-46e0-8931-5e3876037ef3",
   "metadata": {},
   "source": [
    "### ORDER BY\n",
    "`ORDER BY`--sort records.  By default, ascending order (A or lowest number first).  The following two SQL statements are equivalent.\n",
    "```sql\n",
    "SELECT *\n",
    "FROM table_name\n",
    "ORDER BY column_name;\n",
    "```\n",
    "\n",
    "```sql\n",
    "SELECT *\n",
    "FROM table_name\n",
    "ORDER BY column_name ASC;\n",
    "```\n",
    "\n",
    "`DESC`--optionally, descending order\n",
    "```sql\n",
    "SELECT *\n",
    "FROM table_name\n",
    "ORDER BY column_name DESC;\n",
    "```\n",
    " \n",
    "We can order by two or more columns.  If multiple records have the same cell value in the first column specified, the records' cell values in the second column will then be considered.\n",
    "```sql\n",
    "SELECT *\n",
    "FROM table_name\n",
    "ORDER BY column_name_a ASC, column_name_b DESC;\n",
    "```"
   ]
  },
  {
   "cell_type": "markdown",
   "id": "4b620f76-d967-4969-9d01-3b7ad80e154e",
   "metadata": {},
   "source": [
    "---"
   ]
  },
  {
   "cell_type": "markdown",
   "id": "ae412465-9fd9-448a-9022-81a16e5cd05d",
   "metadata": {},
   "source": [
    "**EXAMPLES**"
   ]
  },
  {
   "cell_type": "code",
   "execution_count": 68,
   "id": "fde37bd0-bc38-4f6c-b32f-29de2da2dd3f",
   "metadata": {},
   "outputs": [
    {
     "name": "stdout",
     "output_type": "stream",
     "text": [
      " * sqlite:///databases/db_ex.db\n"
     ]
    },
    {
     "data": {
      "text/html": [
       "<table>\n",
       "    <thead>\n",
       "        <tr>\n",
       "            <th>id</th>\n",
       "            <th>name</th>\n",
       "            <th>wavelength</th>\n",
       "        </tr>\n",
       "    </thead>\n",
       "    <tbody>\n",
       "        <tr>\n",
       "            <td>5</td>\n",
       "            <td>Blue</td>\n",
       "            <td>475</td>\n",
       "        </tr>\n",
       "        <tr>\n",
       "            <td>4</td>\n",
       "            <td>Green</td>\n",
       "            <td>550</td>\n",
       "        </tr>\n",
       "        <tr>\n",
       "            <td>2</td>\n",
       "            <td>Orange</td>\n",
       "            <td>600</td>\n",
       "        </tr>\n",
       "        <tr>\n",
       "            <td>6</td>\n",
       "            <td>Purple</td>\n",
       "            <td>400</td>\n",
       "        </tr>\n",
       "        <tr>\n",
       "            <td>1</td>\n",
       "            <td>Red</td>\n",
       "            <td>700</td>\n",
       "        </tr>\n",
       "        <tr>\n",
       "            <td>3</td>\n",
       "            <td>Yellow</td>\n",
       "            <td>575</td>\n",
       "        </tr>\n",
       "    </tbody>\n",
       "</table>"
      ],
      "text/plain": [
       "[(5, 'Blue', 475),\n",
       " (4, 'Green', 550),\n",
       " (2, 'Orange', 600),\n",
       " (6, 'Purple', 400),\n",
       " (1, 'Red', 700),\n",
       " (3, 'Yellow', 575)]"
      ]
     },
     "execution_count": 68,
     "metadata": {},
     "output_type": "execute_result"
    }
   ],
   "source": [
    "%%sql\n",
    "\n",
    "SELECT *\n",
    "FROM color\n",
    "ORDER BY name;"
   ]
  },
  {
   "cell_type": "markdown",
   "id": "b2f7d283-b138-4258-8123-aa2ebecd6f0d",
   "metadata": {},
   "source": [
    "---"
   ]
  },
  {
   "cell_type": "markdown",
   "id": "02da2327-ec45-45cf-b410-3cb240406c16",
   "metadata": {},
   "source": [
    "### LIMIT\n",
    "\n",
    "`LIMIT`--limit the number of records returned in result set\n",
    "```sql\n",
    "SELECT *\n",
    "FROM table_name\n",
    "LIMIT #;\n",
    "```\n",
    "\n",
    "`LIMIT # OFFSET #`--specify how many records we skip before starting to return records in result set.  An offset of 0 is the same as having no offset.  An offset of 1 skips the first record that would otherwise have been included.  An offset of 2 skips the first 2 records...etc.  We can also think about the offset in terms of record index position in the result table.  The first record starts index position 0 (not 1).  An offset of 0 returns record at index 0 and all records after.  An offset of 1 returns the record at index 1 and all records after...etc.\n",
    "```sql\n",
    "SELECT *\n",
    "FROM table_name\n",
    "LIMIT # OFFSET #;\n",
    "```"
   ]
  },
  {
   "cell_type": "markdown",
   "id": "2510ad46-82b8-49b1-a93a-86db05dcc1d2",
   "metadata": {},
   "source": [
    "---"
   ]
  },
  {
   "cell_type": "markdown",
   "id": "97e128c9-cd65-4af1-8876-948f10957d85",
   "metadata": {},
   "source": [
    "**EXAMPLES**"
   ]
  },
  {
   "cell_type": "code",
   "execution_count": 69,
   "id": "4678e693-83b6-4123-8e2d-8ca18425c34b",
   "metadata": {},
   "outputs": [
    {
     "name": "stdout",
     "output_type": "stream",
     "text": [
      " * sqlite:///databases/db_ex.db\n"
     ]
    },
    {
     "data": {
      "text/html": [
       "<table>\n",
       "    <thead>\n",
       "        <tr>\n",
       "            <th>id</th>\n",
       "            <th>name</th>\n",
       "            <th>wavelength</th>\n",
       "        </tr>\n",
       "    </thead>\n",
       "    <tbody>\n",
       "        <tr>\n",
       "            <td>1</td>\n",
       "            <td>Red</td>\n",
       "            <td>700</td>\n",
       "        </tr>\n",
       "    </tbody>\n",
       "</table>"
      ],
      "text/plain": [
       "[(1, 'Red', 700)]"
      ]
     },
     "execution_count": 69,
     "metadata": {},
     "output_type": "execute_result"
    }
   ],
   "source": [
    "%%sql\n",
    "\n",
    "SELECT *\n",
    "FROM color\n",
    "LIMIT 1;"
   ]
  },
  {
   "cell_type": "code",
   "execution_count": 70,
   "id": "589934b8-196c-47f3-81f8-73fce896aa69",
   "metadata": {},
   "outputs": [
    {
     "name": "stdout",
     "output_type": "stream",
     "text": [
      " * sqlite:///databases/db_ex.db\n"
     ]
    },
    {
     "data": {
      "text/html": [
       "<table>\n",
       "    <thead>\n",
       "        <tr>\n",
       "            <th>id</th>\n",
       "            <th>name</th>\n",
       "            <th>wavelength</th>\n",
       "        </tr>\n",
       "    </thead>\n",
       "    <tbody>\n",
       "        <tr>\n",
       "            <td>3</td>\n",
       "            <td>Yellow</td>\n",
       "            <td>575</td>\n",
       "        </tr>\n",
       "        <tr>\n",
       "            <td>4</td>\n",
       "            <td>Green</td>\n",
       "            <td>550</td>\n",
       "        </tr>\n",
       "        <tr>\n",
       "            <td>5</td>\n",
       "            <td>Blue</td>\n",
       "            <td>475</td>\n",
       "        </tr>\n",
       "        <tr>\n",
       "            <td>6</td>\n",
       "            <td>Purple</td>\n",
       "            <td>400</td>\n",
       "        </tr>\n",
       "    </tbody>\n",
       "</table>"
      ],
      "text/plain": [
       "[(3, 'Yellow', 575), (4, 'Green', 550), (5, 'Blue', 475), (6, 'Purple', 400)]"
      ]
     },
     "execution_count": 70,
     "metadata": {},
     "output_type": "execute_result"
    }
   ],
   "source": [
    "%%sql\n",
    "\n",
    "SELECT *\n",
    "FROM color\n",
    "LIMIT 6 OFFSET 2;"
   ]
  },
  {
   "cell_type": "markdown",
   "id": "4099b99e-aae1-4eec-8e83-8a259f101cdc",
   "metadata": {},
   "source": [
    "---"
   ]
  },
  {
   "cell_type": "markdown",
   "id": "eeaae485-3564-4dea-a232-79ea5a3d4fd4",
   "metadata": {
    "tags": []
   },
   "source": [
    "### Aggregate Functions\n",
    "\n",
    "Aggregate functions input multiple values, but only return a single (\"scalar\") value each time they are run.  `COUNT()`, `SUM()`, `AVG()`, `MIN()`, and `MAX()` are the most common aggregate functions. `GROUP BY` and `HAVING` are used with aggregate functions."
   ]
  },
  {
   "cell_type": "markdown",
   "id": "7cc038b3-8e0a-4aaa-9103-84edc14a7658",
   "metadata": {},
   "source": [
    "---"
   ]
  },
  {
   "cell_type": "markdown",
   "id": "e862b38a-5fe4-4ece-bc78-f5eb60ccc616",
   "metadata": {},
   "source": [
    "#### COUNT()\n",
    "\n",
    "`COUNT(*)`--aggregate function used with `SELECT`.  Counts records in table. As long as a record has a non-null value in at least one column that record will be counted.\n",
    "```sql\n",
    "SELECT COUNT(*)\n",
    "FROM table_name;\n",
    "```\n",
    "\n",
    "`COUNT(column_name)`--same as `COUNT(*)`, but looks in single column.  As long as a record has non-null value in that single column it will be counted.\n",
    "```sql\n",
    "SELECT COUNT(column_name)\n",
    "FROM table_name;\n",
    "```"
   ]
  },
  {
   "cell_type": "markdown",
   "id": "ba45063d-9daf-40b3-82a2-97759a11e1f6",
   "metadata": {},
   "source": [
    "---"
   ]
  },
  {
   "cell_type": "markdown",
   "id": "57a198a7-2fa1-4519-b6ff-6a468f19ee89",
   "metadata": {},
   "source": [
    "**EXAMPLES**"
   ]
  },
  {
   "cell_type": "markdown",
   "id": "659ad68f-1ace-4af6-b7c9-3752d49157e4",
   "metadata": {},
   "source": [
    "**`COUNT(*)`**"
   ]
  },
  {
   "cell_type": "code",
   "execution_count": 71,
   "id": "d7af35b4-5d8e-48e8-8d4e-620857c07827",
   "metadata": {},
   "outputs": [
    {
     "name": "stdout",
     "output_type": "stream",
     "text": [
      " * sqlite:///databases/db_ex.db\n"
     ]
    },
    {
     "data": {
      "text/html": [
       "<table>\n",
       "    <thead>\n",
       "        <tr>\n",
       "            <th>COUNT(*)</th>\n",
       "        </tr>\n",
       "    </thead>\n",
       "    <tbody>\n",
       "        <tr>\n",
       "            <td>6</td>\n",
       "        </tr>\n",
       "    </tbody>\n",
       "</table>"
      ],
      "text/plain": [
       "[(6,)]"
      ]
     },
     "execution_count": 71,
     "metadata": {},
     "output_type": "execute_result"
    }
   ],
   "source": [
    "%%sql\n",
    "\n",
    "SELECT COUNT(*)\n",
    "FROM color;"
   ]
  },
  {
   "cell_type": "markdown",
   "id": "d5a5495f-2495-4da0-a0cc-cff69642acd6",
   "metadata": {},
   "source": [
    "**`COUNT(column_name)`**"
   ]
  },
  {
   "cell_type": "code",
   "execution_count": 72,
   "id": "a64ba98f-4ee0-425f-860d-922ddc1a665d",
   "metadata": {},
   "outputs": [
    {
     "name": "stdout",
     "output_type": "stream",
     "text": [
      " * sqlite:///databases/db_ex.db\n"
     ]
    },
    {
     "data": {
      "text/html": [
       "<table>\n",
       "    <thead>\n",
       "        <tr>\n",
       "            <th>COUNT(name)</th>\n",
       "        </tr>\n",
       "    </thead>\n",
       "    <tbody>\n",
       "        <tr>\n",
       "            <td>6</td>\n",
       "        </tr>\n",
       "    </tbody>\n",
       "</table>"
      ],
      "text/plain": [
       "[(6,)]"
      ]
     },
     "execution_count": 72,
     "metadata": {},
     "output_type": "execute_result"
    }
   ],
   "source": [
    "%%sql\n",
    "\n",
    "SELECT COUNT(name)\n",
    "FROM color;"
   ]
  },
  {
   "cell_type": "markdown",
   "id": "32e17116-0e1d-47b4-9878-38405970fd38",
   "metadata": {},
   "source": [
    "---"
   ]
  },
  {
   "cell_type": "markdown",
   "id": "767ed1ff-936a-4fda-84f1-2e91f38a8c86",
   "metadata": {},
   "source": [
    "#### SUM()\n",
    "`SUM()`--aggregate function used with `SELECT`.  Result table shows the sum of the specified numeric column.\n",
    "```sql\n",
    "SELECT SUM(column_name)\n",
    "FROM table_name;\n",
    "```"
   ]
  },
  {
   "cell_type": "markdown",
   "id": "20f11629-aa37-422d-9388-d7b79e8a2bd1",
   "metadata": {},
   "source": [
    "---"
   ]
  },
  {
   "cell_type": "markdown",
   "id": "e65df6d9-3350-44a3-bb36-504e5bb74e9f",
   "metadata": {},
   "source": [
    "**EXAMPLES**"
   ]
  },
  {
   "cell_type": "code",
   "execution_count": 73,
   "id": "c8de4702-5968-4851-9abf-2f40df602f8f",
   "metadata": {},
   "outputs": [
    {
     "name": "stdout",
     "output_type": "stream",
     "text": [
      " * sqlite:///databases/db_ex.db\n"
     ]
    },
    {
     "data": {
      "text/html": [
       "<table>\n",
       "    <thead>\n",
       "        <tr>\n",
       "            <th>SUM(wavelength)</th>\n",
       "        </tr>\n",
       "    </thead>\n",
       "    <tbody>\n",
       "        <tr>\n",
       "            <td>3300</td>\n",
       "        </tr>\n",
       "    </tbody>\n",
       "</table>"
      ],
      "text/plain": [
       "[(3300,)]"
      ]
     },
     "execution_count": 73,
     "metadata": {},
     "output_type": "execute_result"
    }
   ],
   "source": [
    "%%sql\n",
    "\n",
    "SELECT SUM(wavelength)\n",
    "FROM color;"
   ]
  },
  {
   "cell_type": "markdown",
   "id": "c6efc246-581d-4277-aee7-2ad41b28e708",
   "metadata": {},
   "source": [
    "---"
   ]
  },
  {
   "cell_type": "markdown",
   "id": "89830ec7-2b54-4122-adb6-e76619be411b",
   "metadata": {},
   "source": [
    "#### AVG()\n",
    "`AVG()`--aggregate function used with `SELECT`.  Result table shows the average of the specified numeric column.\n",
    "```sql\n",
    "SELECT AVG(column_name)\n",
    "FROM table_name;\n",
    "```"
   ]
  },
  {
   "cell_type": "markdown",
   "id": "e2b086f9-7456-47ac-97c2-53db21749ec0",
   "metadata": {},
   "source": [
    "---"
   ]
  },
  {
   "cell_type": "markdown",
   "id": "7d8320e7-8c50-45f0-8123-9ddb31801b25",
   "metadata": {},
   "source": [
    "**EXAMPLES**"
   ]
  },
  {
   "cell_type": "code",
   "execution_count": 74,
   "id": "6834bb51-1285-4a9a-8820-301e4bf63aa4",
   "metadata": {},
   "outputs": [
    {
     "name": "stdout",
     "output_type": "stream",
     "text": [
      " * sqlite:///databases/db_ex.db\n"
     ]
    },
    {
     "data": {
      "text/html": [
       "<table>\n",
       "    <thead>\n",
       "        <tr>\n",
       "            <th>AVG(wavelength)</th>\n",
       "        </tr>\n",
       "    </thead>\n",
       "    <tbody>\n",
       "        <tr>\n",
       "            <td>550.0</td>\n",
       "        </tr>\n",
       "    </tbody>\n",
       "</table>"
      ],
      "text/plain": [
       "[(550.0,)]"
      ]
     },
     "execution_count": 74,
     "metadata": {},
     "output_type": "execute_result"
    }
   ],
   "source": [
    "%%sql\n",
    "\n",
    "SELECT AVG(wavelength)\n",
    "FROM color;"
   ]
  },
  {
   "cell_type": "markdown",
   "id": "5cbd3b8a-f737-4600-b44a-22e9509d87b3",
   "metadata": {},
   "source": [
    "---"
   ]
  },
  {
   "cell_type": "markdown",
   "id": "6b0da58a-853c-4dbe-8484-5ca0c47582b7",
   "metadata": {},
   "source": [
    "#### MIN() and MAX()\n",
    "`MIN()` and `MAX()`--aggregate functions used with `SELECT`.  Only include the record whose cell value in the specified column is the lowest or highest.\n",
    "\n",
    "```sql\n",
    "SELECT MIN(column_name)\n",
    "FROM table_name;\n",
    "```"
   ]
  },
  {
   "cell_type": "markdown",
   "id": "324b4f3e-b8e7-45ec-8817-0ec0a3c910be",
   "metadata": {},
   "source": [
    "---"
   ]
  },
  {
   "cell_type": "markdown",
   "id": "fa943a05-e3c4-4d44-88c3-4b688fd51917",
   "metadata": {},
   "source": [
    "**EXAMPLES**"
   ]
  },
  {
   "cell_type": "code",
   "execution_count": 75,
   "id": "04710827-3bc0-4612-addd-dd6e158cbe1b",
   "metadata": {},
   "outputs": [
    {
     "name": "stdout",
     "output_type": "stream",
     "text": [
      " * sqlite:///databases/db_ex.db\n"
     ]
    },
    {
     "data": {
      "text/html": [
       "<table>\n",
       "    <thead>\n",
       "        <tr>\n",
       "            <th>name</th>\n",
       "            <th>MIN(wavelength)</th>\n",
       "        </tr>\n",
       "    </thead>\n",
       "    <tbody>\n",
       "        <tr>\n",
       "            <td>Purple</td>\n",
       "            <td>400</td>\n",
       "        </tr>\n",
       "    </tbody>\n",
       "</table>"
      ],
      "text/plain": [
       "[('Purple', 400)]"
      ]
     },
     "execution_count": 75,
     "metadata": {},
     "output_type": "execute_result"
    }
   ],
   "source": [
    "%%sql\n",
    "\n",
    "SELECT name, MIN(wavelength)\n",
    "FROM color;"
   ]
  },
  {
   "cell_type": "code",
   "execution_count": 76,
   "id": "be7b1442-35c8-47e6-baac-c67a1d56999d",
   "metadata": {},
   "outputs": [
    {
     "name": "stdout",
     "output_type": "stream",
     "text": [
      " * sqlite:///databases/db_ex.db\n"
     ]
    },
    {
     "data": {
      "text/html": [
       "<table>\n",
       "    <thead>\n",
       "        <tr>\n",
       "            <th>name</th>\n",
       "            <th>MAX(wavelength)</th>\n",
       "        </tr>\n",
       "    </thead>\n",
       "    <tbody>\n",
       "        <tr>\n",
       "            <td>Red</td>\n",
       "            <td>700</td>\n",
       "        </tr>\n",
       "    </tbody>\n",
       "</table>"
      ],
      "text/plain": [
       "[('Red', 700)]"
      ]
     },
     "execution_count": 76,
     "metadata": {},
     "output_type": "execute_result"
    }
   ],
   "source": [
    "%%sql\n",
    "\n",
    "SELECT name, MAX(wavelength)\n",
    "FROM color;"
   ]
  },
  {
   "cell_type": "markdown",
   "id": "4f911e55-8667-4d8a-9bc8-7a6c0b715387",
   "metadata": {},
   "source": [
    "---"
   ]
  },
  {
   "cell_type": "markdown",
   "id": "475b6b58-bc4f-41bf-80f1-da7825083239",
   "metadata": {},
   "source": [
    "### GROUP BY\n",
    "`GROUP BY`--group records that share cell values in a specified column. Can group by multiple columns similar to `ORDER BY`.   Often used with the aggregate functions.  Groups made first, then aggregating function run once for each group.  If multiple groups, returns multiple values.\n",
    "\n",
    "```sql\n",
    "SELECT column_name, AG_FUN(column_name)\n",
    "FROM table_name\n",
    "GROUP BY column_name;\n",
    "```\n",
    "Note that we use `SELECT column_name` above to include group names in the result table.  This was not applicable when aggregate functions were run on the entire table (no group names to show).  It is also important that we do not try to select a column we are not grouped by.  This would try to include values for individual records, which is misleading when we have records grouped."
   ]
  },
  {
   "cell_type": "markdown",
   "id": "7f0acb47-a396-470c-97f9-d1be6481f898",
   "metadata": {},
   "source": [
    "---"
   ]
  },
  {
   "cell_type": "markdown",
   "id": "30528a1a-0540-483a-ae86-09dcc9cf2178",
   "metadata": {},
   "source": [
    "**EXAMPLES**"
   ]
  },
  {
   "cell_type": "markdown",
   "id": "67f2186a-4177-40a8-9cb8-6b30092f8254",
   "metadata": {},
   "source": [
    "**Prepare example data**"
   ]
  },
  {
   "cell_type": "code",
   "execution_count": 77,
   "id": "ee24ed82-579e-4b51-8b6f-8b428b368781",
   "metadata": {},
   "outputs": [
    {
     "name": "stdout",
     "output_type": "stream",
     "text": [
      " * sqlite:///databases/db_ex.db\n"
     ]
    },
    {
     "data": {
      "text/html": [
       "<table>\n",
       "    <thead>\n",
       "        <tr>\n",
       "            <th>id</th>\n",
       "            <th>name</th>\n",
       "            <th>color_id</th>\n",
       "        </tr>\n",
       "    </thead>\n",
       "    <tbody>\n",
       "        <tr>\n",
       "            <td>1</td>\n",
       "            <td>Strawberry</td>\n",
       "            <td>1</td>\n",
       "        </tr>\n",
       "        <tr>\n",
       "            <td>2</td>\n",
       "            <td>Strawberry</td>\n",
       "            <td>1</td>\n",
       "        </tr>\n",
       "        <tr>\n",
       "            <td>3</td>\n",
       "            <td>Strawberry</td>\n",
       "            <td>1</td>\n",
       "        </tr>\n",
       "        <tr>\n",
       "            <td>4</td>\n",
       "            <td>Cherry</td>\n",
       "            <td>1</td>\n",
       "        </tr>\n",
       "        <tr>\n",
       "            <td>5</td>\n",
       "            <td>Cherry</td>\n",
       "            <td>1</td>\n",
       "        </tr>\n",
       "    </tbody>\n",
       "</table>"
      ],
      "text/plain": [
       "[(1, 'Strawberry', 1),\n",
       " (2, 'Strawberry', 1),\n",
       " (3, 'Strawberry', 1),\n",
       " (4, 'Cherry', 1),\n",
       " (5, 'Cherry', 1)]"
      ]
     },
     "execution_count": 77,
     "metadata": {},
     "output_type": "execute_result"
    }
   ],
   "source": [
    "%%sql\n",
    "\n",
    "INSERT INTO fruit (name, color_id)\n",
    "VALUES \n",
    "    ('Strawberry', 1),\n",
    "    ('Strawberry', 1),\n",
    "    ('Strawberry', 1),\n",
    "    ('Cherry', 1),\n",
    "    ('Cherry', 1);\n",
    "\n",
    "SELECT *\n",
    "FROM fruit;"
   ]
  },
  {
   "cell_type": "markdown",
   "id": "162add30-6acc-41aa-b769-a6de95b5b629",
   "metadata": {},
   "source": [
    "**`GROUP BY` Correct Use**"
   ]
  },
  {
   "cell_type": "code",
   "execution_count": 78,
   "id": "ff82a706-edd8-4c6c-ab02-5a526c2f6277",
   "metadata": {},
   "outputs": [
    {
     "name": "stdout",
     "output_type": "stream",
     "text": [
      " * sqlite:///databases/db_ex.db\n"
     ]
    },
    {
     "data": {
      "text/html": [
       "<table>\n",
       "    <thead>\n",
       "        <tr>\n",
       "            <th>name</th>\n",
       "            <th>count(name)</th>\n",
       "        </tr>\n",
       "    </thead>\n",
       "    <tbody>\n",
       "        <tr>\n",
       "            <td>Cherry</td>\n",
       "            <td>2</td>\n",
       "        </tr>\n",
       "        <tr>\n",
       "            <td>Strawberry</td>\n",
       "            <td>3</td>\n",
       "        </tr>\n",
       "    </tbody>\n",
       "</table>"
      ],
      "text/plain": [
       "[('Cherry', 2), ('Strawberry', 3)]"
      ]
     },
     "execution_count": 78,
     "metadata": {},
     "output_type": "execute_result"
    }
   ],
   "source": [
    "%%sql\n",
    "\n",
    "SELECT name, count(name)\n",
    "FROM fruit\n",
    "GROUP BY name;"
   ]
  },
  {
   "cell_type": "markdown",
   "id": "77fdd646-e99b-468a-bc16-47be2b8d80c6",
   "metadata": {},
   "source": [
    "**`GROUP BY` Incorrect Use**\n",
    "\n",
    "We group and apply an aggregate function to each group. However, we also try `SELECT id`.  This tries to display the id of all the records in the result table even though we have grouped the records.  Even though  this is impossible, it still tries.  It displays the id of the first record included in the \"Strawberry\" group and the id of the first record included in the \"Cherry\" group. This is misleading."
   ]
  },
  {
   "cell_type": "code",
   "execution_count": 79,
   "id": "252f65b0-f2b3-4853-a68a-36834660f896",
   "metadata": {},
   "outputs": [
    {
     "name": "stdout",
     "output_type": "stream",
     "text": [
      " * sqlite:///databases/db_ex.db\n"
     ]
    },
    {
     "data": {
      "text/html": [
       "<table>\n",
       "    <thead>\n",
       "        <tr>\n",
       "            <th>id</th>\n",
       "            <th>name</th>\n",
       "            <th>count(name)</th>\n",
       "        </tr>\n",
       "    </thead>\n",
       "    <tbody>\n",
       "        <tr>\n",
       "            <td>4</td>\n",
       "            <td>Cherry</td>\n",
       "            <td>2</td>\n",
       "        </tr>\n",
       "        <tr>\n",
       "            <td>1</td>\n",
       "            <td>Strawberry</td>\n",
       "            <td>3</td>\n",
       "        </tr>\n",
       "    </tbody>\n",
       "</table>"
      ],
      "text/plain": [
       "[(4, 'Cherry', 2), (1, 'Strawberry', 3)]"
      ]
     },
     "execution_count": 79,
     "metadata": {},
     "output_type": "execute_result"
    }
   ],
   "source": [
    "%%sql\n",
    "\n",
    "SELECT id, name, count(name)\n",
    "FROM fruit\n",
    "GROUP BY name;"
   ]
  },
  {
   "cell_type": "markdown",
   "id": "5cfc4d8a-8e0d-4b5c-b35b-38e8569350d3",
   "metadata": {},
   "source": [
    "---"
   ]
  },
  {
   "cell_type": "markdown",
   "id": "db913036-660c-4dba-bb04-f5dc4976b10c",
   "metadata": {
    "tags": []
   },
   "source": [
    "### HAVING\n",
    "`HAVING`--same as `WHERE`, but used only with aggregate functions.  `HAVING` was was added to SQL because the `WHERE` keyword could not be used with aggregate functions.  `HAVING` is run after `GROUP BY`.\n",
    "\n",
    "```sql\n",
    "SELECT *\n",
    "FROM table_name\n",
    "GROUP BY column_name\n",
    "HAVING AG_FUN(column_name) condition;\n",
    "```"
   ]
  },
  {
   "cell_type": "markdown",
   "id": "246ddc8f-6cb4-45bf-8306-2fdef2041b18",
   "metadata": {},
   "source": [
    "---"
   ]
  },
  {
   "cell_type": "markdown",
   "id": "b0955cc2-8ed2-4136-b419-9978990b2f84",
   "metadata": {},
   "source": [
    "**EXAMPLES**"
   ]
  },
  {
   "cell_type": "code",
   "execution_count": 80,
   "id": "dae3412e-928e-4c7c-93a7-4ff859259d9d",
   "metadata": {},
   "outputs": [
    {
     "name": "stdout",
     "output_type": "stream",
     "text": [
      " * sqlite:///databases/db_ex.db\n"
     ]
    },
    {
     "data": {
      "text/html": [
       "<table>\n",
       "    <thead>\n",
       "        <tr>\n",
       "            <th>name</th>\n",
       "            <th>COUNT(name)</th>\n",
       "        </tr>\n",
       "    </thead>\n",
       "    <tbody>\n",
       "        <tr>\n",
       "            <td>Strawberry</td>\n",
       "            <td>3</td>\n",
       "        </tr>\n",
       "    </tbody>\n",
       "</table>"
      ],
      "text/plain": [
       "[('Strawberry', 3)]"
      ]
     },
     "execution_count": 80,
     "metadata": {},
     "output_type": "execute_result"
    }
   ],
   "source": [
    "%%sql\n",
    "\n",
    "SELECT name, COUNT(name)\n",
    "FROM fruit\n",
    "GROUP BY name\n",
    "HAVING COUNT(name) >= 3;"
   ]
  },
  {
   "cell_type": "markdown",
   "id": "2879e682-85f1-4f32-bfc4-056cea05a64d",
   "metadata": {},
   "source": [
    "---"
   ]
  },
  {
   "cell_type": "markdown",
   "id": "9c2a2a0b-4ffd-418d-85fd-930a4350649d",
   "metadata": {},
   "source": [
    "### Order of Execution\n",
    "\n",
    "Clauses are generally run in this order:\n",
    "\n",
    "![](images/order_of_execution.png)"
   ]
  },
  {
   "cell_type": "markdown",
   "id": "9608e3d6-c78f-407a-86bc-ba352d98b34d",
   "metadata": {},
   "source": [
    "---"
   ]
  },
  {
   "cell_type": "markdown",
   "id": "a26217cb-83ba-49c8-b3c3-5537c53f06dc",
   "metadata": {},
   "source": [
    "**EXAMPLES**"
   ]
  },
  {
   "cell_type": "code",
   "execution_count": 81,
   "id": "f2744467-ab1b-40b8-96a5-1a697b112783",
   "metadata": {},
   "outputs": [
    {
     "name": "stdout",
     "output_type": "stream",
     "text": [
      " * sqlite:///databases/db_ex.db\n"
     ]
    },
    {
     "data": {
      "text/html": [
       "<table>\n",
       "    <thead>\n",
       "        <tr>\n",
       "            <th>id</th>\n",
       "            <th>name</th>\n",
       "            <th>color_id</th>\n",
       "        </tr>\n",
       "    </thead>\n",
       "    <tbody>\n",
       "        <tr>\n",
       "            <td>1</td>\n",
       "            <td>Strawberry</td>\n",
       "            <td>1</td>\n",
       "        </tr>\n",
       "        <tr>\n",
       "            <td>2</td>\n",
       "            <td>Strawberry</td>\n",
       "            <td>1</td>\n",
       "        </tr>\n",
       "        <tr>\n",
       "            <td>3</td>\n",
       "            <td>Strawberry</td>\n",
       "            <td>1</td>\n",
       "        </tr>\n",
       "        <tr>\n",
       "            <td>4</td>\n",
       "            <td>Cherry</td>\n",
       "            <td>1</td>\n",
       "        </tr>\n",
       "        <tr>\n",
       "            <td>5</td>\n",
       "            <td>Cherry</td>\n",
       "            <td>1</td>\n",
       "        </tr>\n",
       "    </tbody>\n",
       "</table>"
      ],
      "text/plain": [
       "[(1, 'Strawberry', 1),\n",
       " (2, 'Strawberry', 1),\n",
       " (3, 'Strawberry', 1),\n",
       " (4, 'Cherry', 1),\n",
       " (5, 'Cherry', 1)]"
      ]
     },
     "execution_count": 81,
     "metadata": {},
     "output_type": "execute_result"
    }
   ],
   "source": [
    "%%sql\n",
    "\n",
    "SELECT *\n",
    "FROM fruit"
   ]
  },
  {
   "cell_type": "markdown",
   "id": "ee3c3ac1-e6dc-4ed9-8a7b-6f91141b620e",
   "metadata": {},
   "source": [
    "In the below SQL statement we:\n",
    "\n",
    "1. Filter records.  Filter out records with id of 1 or 2, leaving records with id of 3, 4, and 5.\n",
    "1. Group records.  Strawberry group and cherry group.\n",
    "1. Filter groups.  Count records.  Strawberry group has one record. Cherry group has two records.  Remove strawberry group, leaving cherry.\n",
    "1. Groups passed onto select.  Select the name of the group and the count of records for the remaining group.  Return result set."
   ]
  },
  {
   "cell_type": "code",
   "execution_count": 82,
   "id": "f8e98af7-104a-4231-9ede-8214138b7fc0",
   "metadata": {},
   "outputs": [
    {
     "name": "stdout",
     "output_type": "stream",
     "text": [
      " * sqlite:///databases/db_ex.db\n"
     ]
    },
    {
     "data": {
      "text/html": [
       "<table>\n",
       "    <thead>\n",
       "        <tr>\n",
       "            <th>name</th>\n",
       "            <th>count(name)</th>\n",
       "        </tr>\n",
       "    </thead>\n",
       "    <tbody>\n",
       "        <tr>\n",
       "            <td>Cherry</td>\n",
       "            <td>2</td>\n",
       "        </tr>\n",
       "    </tbody>\n",
       "</table>"
      ],
      "text/plain": [
       "[('Cherry', 2)]"
      ]
     },
     "execution_count": 82,
     "metadata": {},
     "output_type": "execute_result"
    }
   ],
   "source": [
    "%%sql\n",
    "\n",
    "SELECT name, count(name)\n",
    "FROM fruit\n",
    "WHERE id  >= 3\n",
    "GROUP BY name\n",
    "HAVING COUNT(name) >= 2;"
   ]
  },
  {
   "cell_type": "markdown",
   "id": "461db0d4-17b7-4080-b929-fbac126c25db",
   "metadata": {},
   "source": [
    "---"
   ]
  },
  {
   "cell_type": "markdown",
   "id": "1ac9d0c5-3395-47a6-ac41-4e6df50be6b7",
   "metadata": {},
   "source": [
    "### Other Helpful Functions"
   ]
  },
  {
   "cell_type": "markdown",
   "id": "11b3f36a-709b-4f82-8108-b2c0e51e92da",
   "metadata": {},
   "source": [
    "---"
   ]
  },
  {
   "cell_type": "markdown",
   "id": "ab6d0a60-a64a-4e30-ae20-1d2ecad23dc4",
   "metadata": {
    "tags": []
   },
   "source": [
    "#### LENGTH()\n",
    "\n",
    "`LENGTH()`--return the length of a cell value.  Counts number of characters in a cell.  `LENGTH()` is different from `COUNT()`, which counts the number of records in a table.  For this reason length is NOT considered an aggregating function.  However, length is similar in that it always return a scalar value.\n",
    "\n",
    "```sql\n",
    "SELECT LENGTH(column_name)\n",
    "FROM table_name\n",
    "```\n",
    "\n",
    "Because `LENGTH()` evaluates to a single value, we can use it within other functions\n",
    "```sql\n",
    "SELECT *\n",
    "FROM table_name\n",
    "WHERE AG_FUN(LENGTH(column_name)) condition\n",
    "```\n",
    "\n",
    "*Note that in some RDBMS the function is `LEN()`*"
   ]
  },
  {
   "cell_type": "markdown",
   "id": "705bb74e-9824-45cc-8bb9-208650061f62",
   "metadata": {},
   "source": [
    "---"
   ]
  },
  {
   "cell_type": "markdown",
   "id": "74d6c434-565a-428d-842b-32618f184616",
   "metadata": {},
   "source": [
    "**EXAMPLES**"
   ]
  },
  {
   "cell_type": "markdown",
   "id": "cb1a012a-1a6c-41dd-ab51-5c8e7858090b",
   "metadata": {},
   "source": [
    "**`LENGTH()`**"
   ]
  },
  {
   "cell_type": "code",
   "execution_count": 83,
   "id": "3548d01d-f25d-4b4e-8431-b4877bd2134a",
   "metadata": {},
   "outputs": [
    {
     "name": "stdout",
     "output_type": "stream",
     "text": [
      " * sqlite:///databases/db_ex.db\n"
     ]
    },
    {
     "data": {
      "text/html": [
       "<table>\n",
       "    <thead>\n",
       "        <tr>\n",
       "            <th>LENGTH(name)</th>\n",
       "        </tr>\n",
       "    </thead>\n",
       "    <tbody>\n",
       "        <tr>\n",
       "            <td>3</td>\n",
       "        </tr>\n",
       "        <tr>\n",
       "            <td>6</td>\n",
       "        </tr>\n",
       "        <tr>\n",
       "            <td>6</td>\n",
       "        </tr>\n",
       "        <tr>\n",
       "            <td>5</td>\n",
       "        </tr>\n",
       "        <tr>\n",
       "            <td>4</td>\n",
       "        </tr>\n",
       "        <tr>\n",
       "            <td>6</td>\n",
       "        </tr>\n",
       "    </tbody>\n",
       "</table>"
      ],
      "text/plain": [
       "[(3,), (6,), (6,), (5,), (4,), (6,)]"
      ]
     },
     "execution_count": 83,
     "metadata": {},
     "output_type": "execute_result"
    }
   ],
   "source": [
    "%%sql\n",
    "\n",
    "SELECT LENGTH(name)\n",
    "FROM color"
   ]
  },
  {
   "cell_type": "markdown",
   "id": "2d2eda6d-e16f-4d64-be6a-aabdeeb71acc",
   "metadata": {},
   "source": [
    "**Nested Functions**"
   ]
  },
  {
   "cell_type": "code",
   "execution_count": 84,
   "id": "e6a2a07d-3137-4345-adfb-159b79bbae69",
   "metadata": {},
   "outputs": [
    {
     "name": "stdout",
     "output_type": "stream",
     "text": [
      " * sqlite:///databases/db_ex.db\n"
     ]
    },
    {
     "data": {
      "text/html": [
       "<table>\n",
       "    <thead>\n",
       "        <tr>\n",
       "            <th>AVG(LENGTH(name))</th>\n",
       "        </tr>\n",
       "    </thead>\n",
       "    <tbody>\n",
       "        <tr>\n",
       "            <td>5.0</td>\n",
       "        </tr>\n",
       "    </tbody>\n",
       "</table>"
      ],
      "text/plain": [
       "[(5.0,)]"
      ]
     },
     "execution_count": 84,
     "metadata": {},
     "output_type": "execute_result"
    }
   ],
   "source": [
    "%%sql\n",
    "\n",
    "SELECT AVG(LENGTH(name))\n",
    "FROM color"
   ]
  },
  {
   "cell_type": "markdown",
   "id": "15f5b289-505a-4917-ae29-458db95a58cc",
   "metadata": {},
   "source": [
    "---"
   ]
  },
  {
   "cell_type": "markdown",
   "id": "5794d357-492c-484f-93a1-b6c53326d026",
   "metadata": {},
   "source": [
    "#### CONCAT()\n",
    "\n",
    "- Concatenation combines two or more strings into one\n",
    "- Some RDBMS use a concatenation function, like `CONCAT()`\n",
    "- Others use the `+` operator.  When used with numerical data performs arithmetic.  When used with string data performs concatenation.\n",
    "\n",
    "\n",
    "SQLite use the `||` operator:\n",
    "```sqlite\n",
    "'String 1' || 'String 2'\n",
    "```"
   ]
  },
  {
   "cell_type": "markdown",
   "id": "b4bc7341-dc6a-481f-b9a0-07e841e6f66d",
   "metadata": {},
   "source": [
    "---"
   ]
  },
  {
   "cell_type": "markdown",
   "id": "f1acc8ea-22d6-4bd1-85a4-7ec135fefe09",
   "metadata": {},
   "source": [
    "**EXAMPLES**"
   ]
  },
  {
   "cell_type": "code",
   "execution_count": 85,
   "id": "5292b76d-8961-4737-b307-2d1df02731a4",
   "metadata": {},
   "outputs": [
    {
     "name": "stdout",
     "output_type": "stream",
     "text": [
      " * sqlite:///databases/db_ex.db\n"
     ]
    },
    {
     "data": {
      "text/html": [
       "<table>\n",
       "    <thead>\n",
       "        <tr>\n",
       "            <th>&#x27;Hello&#x27; || &#x27; world&#x27;</th>\n",
       "        </tr>\n",
       "    </thead>\n",
       "    <tbody>\n",
       "        <tr>\n",
       "            <td>Hello world</td>\n",
       "        </tr>\n",
       "    </tbody>\n",
       "</table>"
      ],
      "text/plain": [
       "[('Hello world',)]"
      ]
     },
     "execution_count": 85,
     "metadata": {},
     "output_type": "execute_result"
    }
   ],
   "source": [
    "%%sql\n",
    "SELECT 'Hello' || ' world';"
   ]
  },
  {
   "cell_type": "markdown",
   "id": "d992e13b-ecb8-45c6-bdeb-911bb3e776b6",
   "metadata": {},
   "source": [
    "---"
   ]
  },
  {
   "cell_type": "markdown",
   "id": "44e83d55-ec22-4fad-a148-26b1d82f19e3",
   "metadata": {
    "tags": []
   },
   "source": [
    "#### UPPER() and LOWER()\n",
    "\n",
    "`UPPER()` and `LOWER()`--convert all text characters in a cell to the specified case.  Especially useful for applying conditions to input data that inconsistently uses capitalization. \n",
    "\n",
    "```sql\n",
    "SELECT *\n",
    "FROM table_name\n",
    "WHERE UPPER(column_name) condition\n",
    "```"
   ]
  },
  {
   "cell_type": "markdown",
   "id": "43bc56d4-fb3e-4a13-8b04-368c355f2df4",
   "metadata": {},
   "source": [
    "---"
   ]
  },
  {
   "cell_type": "markdown",
   "id": "43f069a6-e23d-4e9c-8c51-97d0a540e599",
   "metadata": {},
   "source": [
    "**EXAMPLES**"
   ]
  },
  {
   "cell_type": "code",
   "execution_count": 86,
   "id": "fd63be4d-964c-4521-a6d9-dca692ef30d5",
   "metadata": {},
   "outputs": [
    {
     "name": "stdout",
     "output_type": "stream",
     "text": [
      " * sqlite:///databases/db_ex.db\n"
     ]
    },
    {
     "data": {
      "text/html": [
       "<table>\n",
       "    <thead>\n",
       "        <tr>\n",
       "            <th>id</th>\n",
       "            <th>name</th>\n",
       "            <th>wavelength</th>\n",
       "        </tr>\n",
       "    </thead>\n",
       "    <tbody>\n",
       "    </tbody>\n",
       "</table>"
      ],
      "text/plain": [
       "[]"
      ]
     },
     "execution_count": 86,
     "metadata": {},
     "output_type": "execute_result"
    }
   ],
   "source": [
    "%%sql\n",
    "\n",
    "SELECT *\n",
    "FROM color\n",
    "WHERE name = 'red'"
   ]
  },
  {
   "cell_type": "markdown",
   "id": "a6f05af7-8db8-477c-b147-2a110b756f0a",
   "metadata": {},
   "source": [
    "**`LOWER()`**"
   ]
  },
  {
   "cell_type": "code",
   "execution_count": 87,
   "id": "86c90310-4d54-40c1-aa0c-80809751aff3",
   "metadata": {},
   "outputs": [
    {
     "name": "stdout",
     "output_type": "stream",
     "text": [
      " * sqlite:///databases/db_ex.db\n"
     ]
    },
    {
     "data": {
      "text/html": [
       "<table>\n",
       "    <thead>\n",
       "        <tr>\n",
       "            <th>id</th>\n",
       "            <th>name</th>\n",
       "            <th>wavelength</th>\n",
       "        </tr>\n",
       "    </thead>\n",
       "    <tbody>\n",
       "        <tr>\n",
       "            <td>1</td>\n",
       "            <td>Red</td>\n",
       "            <td>700</td>\n",
       "        </tr>\n",
       "    </tbody>\n",
       "</table>"
      ],
      "text/plain": [
       "[(1, 'Red', 700)]"
      ]
     },
     "execution_count": 87,
     "metadata": {},
     "output_type": "execute_result"
    }
   ],
   "source": [
    "%%sql\n",
    "\n",
    "SELECT *\n",
    "FROM color\n",
    "WHERE LOWER(name) = 'red'"
   ]
  },
  {
   "cell_type": "markdown",
   "id": "af5bdb98-3b03-44f2-b903-7702431d7dcc",
   "metadata": {},
   "source": [
    "---"
   ]
  },
  {
   "cell_type": "markdown",
   "id": "ce76ccd1-07fa-47b2-90ba-e41d337cb13b",
   "metadata": {},
   "source": [
    "## Operators"
   ]
  },
  {
   "cell_type": "markdown",
   "id": "8b9cb709-e982-4fbb-a481-1175e388bda3",
   "metadata": {},
   "source": [
    "---"
   ]
  },
  {
   "cell_type": "markdown",
   "id": "80f6630f-c046-4560-9668-937d476d0447",
   "metadata": {
    "tags": []
   },
   "source": [
    "### Arithmetic Operators\n",
    "\n",
    "Arithmetic operators are primarily used in conditional clauses and the `SELECT` clause\n",
    "\n",
    "Operator | Use\n",
    "--- | ---\n",
    "`+` | Addition\n",
    "`-` | Subtraction\n",
    "`*` | Multiply\n",
    "`/` | Division\n",
    "`%` | Modulo"
   ]
  },
  {
   "cell_type": "markdown",
   "id": "096503c7-48f3-46a8-b957-1e6c57792e22",
   "metadata": {},
   "source": [
    "---"
   ]
  },
  {
   "cell_type": "markdown",
   "id": "02152cd6-a813-4f37-926a-18f959521a22",
   "metadata": {},
   "source": [
    "**EXAMPLES**"
   ]
  },
  {
   "cell_type": "markdown",
   "id": "fb966175-641f-4b74-ba01-b9002d8de6b5",
   "metadata": {},
   "source": [
    "**Operator in Condition**\n",
    "\n",
    "Note the difference in meaning between select star and multiplication"
   ]
  },
  {
   "cell_type": "code",
   "execution_count": 88,
   "id": "6f23b0ad-e2ef-4be7-84ec-79ff2f378b74",
   "metadata": {},
   "outputs": [
    {
     "name": "stdout",
     "output_type": "stream",
     "text": [
      " * sqlite:///databases/db_ex.db\n"
     ]
    },
    {
     "data": {
      "text/html": [
       "<table>\n",
       "    <thead>\n",
       "        <tr>\n",
       "            <th>id</th>\n",
       "            <th>name</th>\n",
       "            <th>wavelength</th>\n",
       "        </tr>\n",
       "    </thead>\n",
       "    <tbody>\n",
       "        <tr>\n",
       "            <td>1</td>\n",
       "            <td>Red</td>\n",
       "            <td>700</td>\n",
       "        </tr>\n",
       "        <tr>\n",
       "            <td>2</td>\n",
       "            <td>Orange</td>\n",
       "            <td>600</td>\n",
       "        </tr>\n",
       "        <tr>\n",
       "            <td>3</td>\n",
       "            <td>Yellow</td>\n",
       "            <td>575</td>\n",
       "        </tr>\n",
       "    </tbody>\n",
       "</table>"
      ],
      "text/plain": [
       "[(1, 'Red', 700), (2, 'Orange', 600), (3, 'Yellow', 575)]"
      ]
     },
     "execution_count": 88,
     "metadata": {},
     "output_type": "execute_result"
    }
   ],
   "source": [
    "%%sql\n",
    "\n",
    "SELECT *\n",
    "FROM color\n",
    "WHERE wavelength > (55 * 10)"
   ]
  },
  {
   "cell_type": "code",
   "execution_count": 89,
   "id": "2237f86b-b756-42c6-af25-f1017530158f",
   "metadata": {},
   "outputs": [
    {
     "name": "stdout",
     "output_type": "stream",
     "text": [
      " * sqlite:///databases/db_ex.db\n"
     ]
    },
    {
     "data": {
      "text/html": [
       "<table>\n",
       "    <thead>\n",
       "        <tr>\n",
       "            <th>id</th>\n",
       "            <th>name</th>\n",
       "            <th>wavelength</th>\n",
       "        </tr>\n",
       "    </thead>\n",
       "    <tbody>\n",
       "        <tr>\n",
       "            <td>1</td>\n",
       "            <td>Red</td>\n",
       "            <td>700</td>\n",
       "        </tr>\n",
       "        <tr>\n",
       "            <td>2</td>\n",
       "            <td>Orange</td>\n",
       "            <td>600</td>\n",
       "        </tr>\n",
       "        <tr>\n",
       "            <td>3</td>\n",
       "            <td>Yellow</td>\n",
       "            <td>575</td>\n",
       "        </tr>\n",
       "        <tr>\n",
       "            <td>4</td>\n",
       "            <td>Green</td>\n",
       "            <td>550</td>\n",
       "        </tr>\n",
       "        <tr>\n",
       "            <td>5</td>\n",
       "            <td>Blue</td>\n",
       "            <td>475</td>\n",
       "        </tr>\n",
       "        <tr>\n",
       "            <td>6</td>\n",
       "            <td>Purple</td>\n",
       "            <td>400</td>\n",
       "        </tr>\n",
       "    </tbody>\n",
       "</table>"
      ],
      "text/plain": [
       "[(1, 'Red', 700),\n",
       " (2, 'Orange', 600),\n",
       " (3, 'Yellow', 575),\n",
       " (4, 'Green', 550),\n",
       " (5, 'Blue', 475),\n",
       " (6, 'Purple', 400)]"
      ]
     },
     "execution_count": 89,
     "metadata": {},
     "output_type": "execute_result"
    }
   ],
   "source": [
    "%%sql\n",
    "\n",
    "SELECT *\n",
    "FROM color\n",
    "WHERE wavelength < (wavelength * 2)"
   ]
  },
  {
   "cell_type": "markdown",
   "id": "4399aebf-b0ee-41ba-94da-7d0b90a431e1",
   "metadata": {},
   "source": [
    "**Operator in `SELECT`**"
   ]
  },
  {
   "cell_type": "code",
   "execution_count": 90,
   "id": "85c348eb-7bc1-432a-b58b-79d8317c2fd1",
   "metadata": {},
   "outputs": [
    {
     "name": "stdout",
     "output_type": "stream",
     "text": [
      " * sqlite:///databases/db_ex.db\n"
     ]
    },
    {
     "data": {
      "text/html": [
       "<table>\n",
       "    <thead>\n",
       "        <tr>\n",
       "            <th>name</th>\n",
       "            <th>wavelength</th>\n",
       "            <th>(wavelength * -1)</th>\n",
       "        </tr>\n",
       "    </thead>\n",
       "    <tbody>\n",
       "        <tr>\n",
       "            <td>Red</td>\n",
       "            <td>700</td>\n",
       "            <td>-700</td>\n",
       "        </tr>\n",
       "        <tr>\n",
       "            <td>Orange</td>\n",
       "            <td>600</td>\n",
       "            <td>-600</td>\n",
       "        </tr>\n",
       "        <tr>\n",
       "            <td>Yellow</td>\n",
       "            <td>575</td>\n",
       "            <td>-575</td>\n",
       "        </tr>\n",
       "        <tr>\n",
       "            <td>Green</td>\n",
       "            <td>550</td>\n",
       "            <td>-550</td>\n",
       "        </tr>\n",
       "        <tr>\n",
       "            <td>Blue</td>\n",
       "            <td>475</td>\n",
       "            <td>-475</td>\n",
       "        </tr>\n",
       "        <tr>\n",
       "            <td>Purple</td>\n",
       "            <td>400</td>\n",
       "            <td>-400</td>\n",
       "        </tr>\n",
       "    </tbody>\n",
       "</table>"
      ],
      "text/plain": [
       "[('Red', 700, -700),\n",
       " ('Orange', 600, -600),\n",
       " ('Yellow', 575, -575),\n",
       " ('Green', 550, -550),\n",
       " ('Blue', 475, -475),\n",
       " ('Purple', 400, -400)]"
      ]
     },
     "execution_count": 90,
     "metadata": {},
     "output_type": "execute_result"
    }
   ],
   "source": [
    "%%sql\n",
    "\n",
    "SELECT name, wavelength, (wavelength * -1)\n",
    "FROM color"
   ]
  },
  {
   "cell_type": "markdown",
   "id": "8944e964-2d20-4df4-a72b-8c53488bb812",
   "metadata": {},
   "source": [
    "**Operator in `SELECT` without `FROM`**\n",
    "\n",
    "Note that if two integers are used in division then floor division is used by default.  We can get the expected results by using at least one floating point number in the expression."
   ]
  },
  {
   "cell_type": "code",
   "execution_count": 91,
   "id": "dce37a9c-f421-4f04-843f-cf4ff16ac954",
   "metadata": {},
   "outputs": [
    {
     "name": "stdout",
     "output_type": "stream",
     "text": [
      " * sqlite:///databases/db_ex.db\n"
     ]
    },
    {
     "data": {
      "text/html": [
       "<table>\n",
       "    <thead>\n",
       "        <tr>\n",
       "            <th>1+2</th>\n",
       "            <th>3-4</th>\n",
       "            <th>5*6</th>\n",
       "            <th>7/8</th>\n",
       "            <th>7.0/8</th>\n",
       "            <th>(7*1.0)/8</th>\n",
       "        </tr>\n",
       "    </thead>\n",
       "    <tbody>\n",
       "        <tr>\n",
       "            <td>3</td>\n",
       "            <td>-1</td>\n",
       "            <td>30</td>\n",
       "            <td>0</td>\n",
       "            <td>0.875</td>\n",
       "            <td>0.875</td>\n",
       "        </tr>\n",
       "    </tbody>\n",
       "</table>"
      ],
      "text/plain": [
       "[(3, -1, 30, 0, 0.875, 0.875)]"
      ]
     },
     "execution_count": 91,
     "metadata": {},
     "output_type": "execute_result"
    }
   ],
   "source": [
    "%%sql\n",
    "\n",
    "SELECT 1+2, 3-4, 5*6, 7/8, 7.0/8, (7*1.0)/8"
   ]
  },
  {
   "cell_type": "markdown",
   "id": "333fec7d-ee80-4c10-a7ee-bd8ee6e026fc",
   "metadata": {},
   "source": [
    "---"
   ]
  },
  {
   "cell_type": "markdown",
   "id": "9919e262-5cfb-49ee-a6da-db1c95de85fa",
   "metadata": {},
   "source": [
    "### Bitwise Operators\n",
    "\n",
    "Work on individual bits of information. They compare two input bits and return one output bit.  Usually one byte of information is compared at a time as computers think in bytes.\n",
    "\n",
    "Operator | Description | Example\n",
    "--- | --- | ---\n",
    "`&` | Bitwise AND | 1&1=1, 1&0=0, 0&0=0\n",
    "`\\` | Bitwise OR | 1\\|1=1, 1\\|0=1, 0\\|0=0\n",
    "`^` | Bitwise exclusive OR | 1^1=0, 1^0=1, 0^0=0"
   ]
  },
  {
   "cell_type": "markdown",
   "id": "959bc9fa-f363-430a-b3af-605f7bcc5bd8",
   "metadata": {},
   "source": [
    "---"
   ]
  },
  {
   "cell_type": "markdown",
   "id": "2c370c40-a9f3-43af-a0a3-497c86864666",
   "metadata": {},
   "source": [
    "### Compound Operators\n",
    "\n",
    "Operator | Description\n",
    "--- | ---\n",
    "`+=` | Add equals\n",
    "`-=` | Subtract equals\n",
    "`*=` | Multiply equals\n",
    "`/=` | Divide equals\n",
    "`%=` | Modulo equals\n",
    "`&=` | Bitwise AND equals\n",
    "`\\|*=` | Bitwise OR equals\n",
    "`^-=` | Bitwise exclusive OR equals"
   ]
  },
  {
   "cell_type": "markdown",
   "id": "e01d6357-9f41-4453-be15-180eb42eb7f2",
   "metadata": {},
   "source": [
    "---"
   ]
  },
  {
   "cell_type": "markdown",
   "id": "6c0b13f3-c1df-47d5-b984-0a3c0610a3b8",
   "metadata": {},
   "source": [
    "### Comparison Operators\n",
    "\n",
    "- Expressions with comparison operators evaluate to a Boolean value\n",
    "- Boolean values are commonly used in conditional statements to control the flow of code\n",
    "- In SQL, conditional statements often involve the `WHERE`, `HAVING`, and `CASE WHEN` keywords\n",
    "- Note that in SQL, `=` is occasionally used to assign values to identifies, as seen in the `UPDATE` statement, but mostly `=` is used as a comparison operator.\n",
    "\n",
    "\n",
    "Operator | Use\n",
    "--- | ---\n",
    "`=` | TRUE if equal\n",
    "`<` | TRUE if less-than\n",
    "`>` | TRUE if greater-than\n",
    "`<=` | TRUE if less-than or equal\n",
    "`>=` | TRUE if greater than or equal\n",
    "`<>` or `!=` | TRUE if not equal"
   ]
  },
  {
   "cell_type": "markdown",
   "id": "81df88bb-eff6-4845-ad83-2f30d1e15a55",
   "metadata": {},
   "source": [
    "---"
   ]
  },
  {
   "cell_type": "markdown",
   "id": "295632ba-7875-48b2-81ee-bf54635bff9a",
   "metadata": {},
   "source": [
    "**EXAMPLES**"
   ]
  },
  {
   "cell_type": "markdown",
   "id": "6ee86cd9-02e6-459b-9e0c-9e267f4a2663",
   "metadata": {},
   "source": [
    "**`=`**"
   ]
  },
  {
   "cell_type": "code",
   "execution_count": 92,
   "id": "1ef2b605-d1f7-41a8-824c-1bb6089531ac",
   "metadata": {},
   "outputs": [
    {
     "name": "stdout",
     "output_type": "stream",
     "text": [
      " * sqlite:///databases/db_ex.db\n"
     ]
    },
    {
     "data": {
      "text/html": [
       "<table>\n",
       "    <thead>\n",
       "        <tr>\n",
       "            <th>id</th>\n",
       "            <th>name</th>\n",
       "            <th>wavelength</th>\n",
       "        </tr>\n",
       "    </thead>\n",
       "    <tbody>\n",
       "        <tr>\n",
       "            <td>4</td>\n",
       "            <td>Green</td>\n",
       "            <td>550</td>\n",
       "        </tr>\n",
       "    </tbody>\n",
       "</table>"
      ],
      "text/plain": [
       "[(4, 'Green', 550)]"
      ]
     },
     "execution_count": 92,
     "metadata": {},
     "output_type": "execute_result"
    }
   ],
   "source": [
    "%%sql\n",
    "\n",
    "SELECT *\n",
    "FROM color\n",
    "WHERE wavelength = 550;"
   ]
  },
  {
   "cell_type": "markdown",
   "id": "d637226d-8662-4528-8059-064b706a8481",
   "metadata": {},
   "source": [
    "**`<>` and `!=`**"
   ]
  },
  {
   "cell_type": "code",
   "execution_count": 93,
   "id": "c2ba28b0-e7ba-4c7d-8d6b-f96725153501",
   "metadata": {},
   "outputs": [
    {
     "name": "stdout",
     "output_type": "stream",
     "text": [
      " * sqlite:///databases/db_ex.db\n"
     ]
    },
    {
     "data": {
      "text/html": [
       "<table>\n",
       "    <thead>\n",
       "        <tr>\n",
       "            <th>id</th>\n",
       "            <th>name</th>\n",
       "            <th>wavelength</th>\n",
       "        </tr>\n",
       "    </thead>\n",
       "    <tbody>\n",
       "        <tr>\n",
       "            <td>1</td>\n",
       "            <td>Red</td>\n",
       "            <td>700</td>\n",
       "        </tr>\n",
       "        <tr>\n",
       "            <td>2</td>\n",
       "            <td>Orange</td>\n",
       "            <td>600</td>\n",
       "        </tr>\n",
       "        <tr>\n",
       "            <td>3</td>\n",
       "            <td>Yellow</td>\n",
       "            <td>575</td>\n",
       "        </tr>\n",
       "        <tr>\n",
       "            <td>5</td>\n",
       "            <td>Blue</td>\n",
       "            <td>475</td>\n",
       "        </tr>\n",
       "        <tr>\n",
       "            <td>6</td>\n",
       "            <td>Purple</td>\n",
       "            <td>400</td>\n",
       "        </tr>\n",
       "    </tbody>\n",
       "</table>"
      ],
      "text/plain": [
       "[(1, 'Red', 700),\n",
       " (2, 'Orange', 600),\n",
       " (3, 'Yellow', 575),\n",
       " (5, 'Blue', 475),\n",
       " (6, 'Purple', 400)]"
      ]
     },
     "execution_count": 93,
     "metadata": {},
     "output_type": "execute_result"
    }
   ],
   "source": [
    "%%sql\n",
    "\n",
    "SELECT *\n",
    "FROM color\n",
    "WHERE wavelength <> 550;"
   ]
  },
  {
   "cell_type": "code",
   "execution_count": 94,
   "id": "4260686f-645a-4bd6-af6c-6573345c7405",
   "metadata": {},
   "outputs": [
    {
     "name": "stdout",
     "output_type": "stream",
     "text": [
      " * sqlite:///databases/db_ex.db\n"
     ]
    },
    {
     "data": {
      "text/html": [
       "<table>\n",
       "    <thead>\n",
       "        <tr>\n",
       "            <th>id</th>\n",
       "            <th>name</th>\n",
       "            <th>wavelength</th>\n",
       "        </tr>\n",
       "    </thead>\n",
       "    <tbody>\n",
       "        <tr>\n",
       "            <td>1</td>\n",
       "            <td>Red</td>\n",
       "            <td>700</td>\n",
       "        </tr>\n",
       "        <tr>\n",
       "            <td>2</td>\n",
       "            <td>Orange</td>\n",
       "            <td>600</td>\n",
       "        </tr>\n",
       "        <tr>\n",
       "            <td>3</td>\n",
       "            <td>Yellow</td>\n",
       "            <td>575</td>\n",
       "        </tr>\n",
       "        <tr>\n",
       "            <td>5</td>\n",
       "            <td>Blue</td>\n",
       "            <td>475</td>\n",
       "        </tr>\n",
       "        <tr>\n",
       "            <td>6</td>\n",
       "            <td>Purple</td>\n",
       "            <td>400</td>\n",
       "        </tr>\n",
       "    </tbody>\n",
       "</table>"
      ],
      "text/plain": [
       "[(1, 'Red', 700),\n",
       " (2, 'Orange', 600),\n",
       " (3, 'Yellow', 575),\n",
       " (5, 'Blue', 475),\n",
       " (6, 'Purple', 400)]"
      ]
     },
     "execution_count": 94,
     "metadata": {},
     "output_type": "execute_result"
    }
   ],
   "source": [
    "%%sql\n",
    "\n",
    "SELECT *\n",
    "FROM color\n",
    "WHERE wavelength != 550;"
   ]
  },
  {
   "cell_type": "markdown",
   "id": "08197b59-9965-4733-9df9-af318fbd6957",
   "metadata": {},
   "source": [
    "**`>`**"
   ]
  },
  {
   "cell_type": "code",
   "execution_count": 95,
   "id": "c2c251ad-9f56-43fe-8514-c5c5dff614b6",
   "metadata": {},
   "outputs": [
    {
     "name": "stdout",
     "output_type": "stream",
     "text": [
      " * sqlite:///databases/db_ex.db\n"
     ]
    },
    {
     "data": {
      "text/html": [
       "<table>\n",
       "    <thead>\n",
       "        <tr>\n",
       "            <th>id</th>\n",
       "            <th>name</th>\n",
       "            <th>wavelength</th>\n",
       "        </tr>\n",
       "    </thead>\n",
       "    <tbody>\n",
       "        <tr>\n",
       "            <td>1</td>\n",
       "            <td>Red</td>\n",
       "            <td>700</td>\n",
       "        </tr>\n",
       "        <tr>\n",
       "            <td>2</td>\n",
       "            <td>Orange</td>\n",
       "            <td>600</td>\n",
       "        </tr>\n",
       "        <tr>\n",
       "            <td>3</td>\n",
       "            <td>Yellow</td>\n",
       "            <td>575</td>\n",
       "        </tr>\n",
       "    </tbody>\n",
       "</table>"
      ],
      "text/plain": [
       "[(1, 'Red', 700), (2, 'Orange', 600), (3, 'Yellow', 575)]"
      ]
     },
     "execution_count": 95,
     "metadata": {},
     "output_type": "execute_result"
    }
   ],
   "source": [
    "%%sql\n",
    "\n",
    "SELECT *\n",
    "FROM color\n",
    "WHERE wavelength > 550;"
   ]
  },
  {
   "cell_type": "markdown",
   "id": "acc9ed7e-6cbe-4200-b7b8-90faf776c24f",
   "metadata": {},
   "source": [
    "**`<`**"
   ]
  },
  {
   "cell_type": "code",
   "execution_count": 96,
   "id": "10f3bcb0-ef12-4277-8d54-7c30a93a3bd2",
   "metadata": {},
   "outputs": [
    {
     "name": "stdout",
     "output_type": "stream",
     "text": [
      " * sqlite:///databases/db_ex.db\n"
     ]
    },
    {
     "data": {
      "text/html": [
       "<table>\n",
       "    <thead>\n",
       "        <tr>\n",
       "            <th>id</th>\n",
       "            <th>name</th>\n",
       "            <th>wavelength</th>\n",
       "        </tr>\n",
       "    </thead>\n",
       "    <tbody>\n",
       "        <tr>\n",
       "            <td>5</td>\n",
       "            <td>Blue</td>\n",
       "            <td>475</td>\n",
       "        </tr>\n",
       "        <tr>\n",
       "            <td>6</td>\n",
       "            <td>Purple</td>\n",
       "            <td>400</td>\n",
       "        </tr>\n",
       "    </tbody>\n",
       "</table>"
      ],
      "text/plain": [
       "[(5, 'Blue', 475), (6, 'Purple', 400)]"
      ]
     },
     "execution_count": 96,
     "metadata": {},
     "output_type": "execute_result"
    }
   ],
   "source": [
    "%%sql\n",
    "\n",
    "SELECT *\n",
    "FROM color\n",
    "WHERE wavelength < 550;"
   ]
  },
  {
   "cell_type": "markdown",
   "id": "ec73acc0-ec53-4016-9513-cfd4336e5952",
   "metadata": {},
   "source": [
    "**`>=`**"
   ]
  },
  {
   "cell_type": "code",
   "execution_count": 97,
   "id": "e5a3f682-4bce-4c0e-926c-4e5a676102cb",
   "metadata": {},
   "outputs": [
    {
     "name": "stdout",
     "output_type": "stream",
     "text": [
      " * sqlite:///databases/db_ex.db\n"
     ]
    },
    {
     "data": {
      "text/html": [
       "<table>\n",
       "    <thead>\n",
       "        <tr>\n",
       "            <th>id</th>\n",
       "            <th>name</th>\n",
       "            <th>wavelength</th>\n",
       "        </tr>\n",
       "    </thead>\n",
       "    <tbody>\n",
       "        <tr>\n",
       "            <td>1</td>\n",
       "            <td>Red</td>\n",
       "            <td>700</td>\n",
       "        </tr>\n",
       "        <tr>\n",
       "            <td>2</td>\n",
       "            <td>Orange</td>\n",
       "            <td>600</td>\n",
       "        </tr>\n",
       "        <tr>\n",
       "            <td>3</td>\n",
       "            <td>Yellow</td>\n",
       "            <td>575</td>\n",
       "        </tr>\n",
       "        <tr>\n",
       "            <td>4</td>\n",
       "            <td>Green</td>\n",
       "            <td>550</td>\n",
       "        </tr>\n",
       "    </tbody>\n",
       "</table>"
      ],
      "text/plain": [
       "[(1, 'Red', 700), (2, 'Orange', 600), (3, 'Yellow', 575), (4, 'Green', 550)]"
      ]
     },
     "execution_count": 97,
     "metadata": {},
     "output_type": "execute_result"
    }
   ],
   "source": [
    "%%sql\n",
    "\n",
    "SELECT *\n",
    "FROM color\n",
    "WHERE wavelength >= 550;"
   ]
  },
  {
   "cell_type": "markdown",
   "id": "1de9a9f2-769f-4fcc-a11a-5e4959e72e5c",
   "metadata": {},
   "source": [
    "**`<=`**"
   ]
  },
  {
   "cell_type": "code",
   "execution_count": 98,
   "id": "68bd6d32-7bef-4b45-8490-9469f5c26944",
   "metadata": {},
   "outputs": [
    {
     "name": "stdout",
     "output_type": "stream",
     "text": [
      " * sqlite:///databases/db_ex.db\n"
     ]
    },
    {
     "data": {
      "text/html": [
       "<table>\n",
       "    <thead>\n",
       "        <tr>\n",
       "            <th>id</th>\n",
       "            <th>name</th>\n",
       "            <th>wavelength</th>\n",
       "        </tr>\n",
       "    </thead>\n",
       "    <tbody>\n",
       "        <tr>\n",
       "            <td>4</td>\n",
       "            <td>Green</td>\n",
       "            <td>550</td>\n",
       "        </tr>\n",
       "        <tr>\n",
       "            <td>5</td>\n",
       "            <td>Blue</td>\n",
       "            <td>475</td>\n",
       "        </tr>\n",
       "        <tr>\n",
       "            <td>6</td>\n",
       "            <td>Purple</td>\n",
       "            <td>400</td>\n",
       "        </tr>\n",
       "    </tbody>\n",
       "</table>"
      ],
      "text/plain": [
       "[(4, 'Green', 550), (5, 'Blue', 475), (6, 'Purple', 400)]"
      ]
     },
     "execution_count": 98,
     "metadata": {},
     "output_type": "execute_result"
    }
   ],
   "source": [
    "%%sql\n",
    "\n",
    "SELECT *\n",
    "FROM color\n",
    "WHERE wavelength <= 550;"
   ]
  },
  {
   "cell_type": "markdown",
   "id": "af492885-e579-4d3d-a7ba-210f81f19fe5",
   "metadata": {},
   "source": [
    "---"
   ]
  },
  {
   "cell_type": "markdown",
   "id": "072852cb-5c04-4e6d-8cea-100844d52152",
   "metadata": {},
   "source": [
    "### Logical Operators\n",
    "\n",
    "- Expression using logical operators evaluate to a Boolean value just like the comparison operators above\n",
    "- **Operator precedence**--order of operations.  Similar to PEMDAS.  Any `NOT`s evaluated first, then any `AND`s, and then any `OR`s.  When multiple conditions it is best practice to enclose conditions and their keywords in parentheses for better readability.\n",
    "\n",
    "Operator | Description\n",
    "--- | ---\n",
    "`ALL` | TRUE if all of the subquery values meet the condition\n",
    "`AND` | TRUE if all the conditions separated by AND is TRUE.  A SELECT using AND can be visualized by Intersection in set theory.\n",
    "`ANY` | TRUE if any of subquery values meet the condition\n",
    "`BETWEEN` | TRUE if a value is within a range of specified values\n",
    "`EXISTS` | TRUE if the subquery returns one or more records\n",
    "`IN` | TRUE if the value is in a list of specified values\n",
    "`IS NULL` | TRUE if NULL value\n",
    "`LIKE` | TRUE if the value matches a pattern that uses wildcards\n",
    "`NOT` | Displays a record if the conditions(s) is NOT TRUE\n",
    "`OR` | TRUE if any of the conditions separated by OR is TRUE.  A SELECT using OR can be visualized by Union in set theory.\n",
    "`SOME` |Same thing as ANY"
   ]
  },
  {
   "cell_type": "markdown",
   "id": "101de9bf-40a0-4351-b798-e030a70a910b",
   "metadata": {},
   "source": [
    "---"
   ]
  },
  {
   "cell_type": "markdown",
   "id": "130fa8cd-b347-4ce7-a29c-8da0bd76498c",
   "metadata": {
    "tags": []
   },
   "source": [
    "#### ALL and ANY\n",
    "\n",
    "`ALL` and `ANY`--allows us to compare a single value to a range of values.  A subquery first returns a result set (range of values).  The main statement then compares a single value (a record's cell value) to the range of values.\n",
    "\n",
    "`ALL`--condition will only be true if the operation is true for all values in the range of values\n",
    "```sql\n",
    "SELECT *\n",
    "FROM table_name\n",
    "WHERE column_name comparison_operator ALL\n",
    "(Subquery);\n",
    "```\n",
    "\n",
    "`ANY`--condition will be true if the operation is true for any values in the range of values\n",
    "```sql\n",
    "SELECT *\n",
    "FROM table_name\n",
    "WHERE column_name comparison_operator ALL\n",
    "(Subquery);\n",
    "```\n",
    "\n",
    "*Note that SQLite does not implement ALL or ANY in this manner*"
   ]
  },
  {
   "cell_type": "markdown",
   "id": "3ed05e14-522d-4d04-929a-e308b51109bd",
   "metadata": {},
   "source": [
    "---"
   ]
  },
  {
   "cell_type": "markdown",
   "id": "f8b85589-ae3c-4dad-8efb-9617ec8c5e45",
   "metadata": {
    "tags": []
   },
   "source": [
    "#### AND\n",
    "\n",
    "```sql\n",
    "SELECT *\n",
    "FROM table_name\n",
    "WHERE condition AND condition;\n",
    "```"
   ]
  },
  {
   "cell_type": "markdown",
   "id": "5fe38cee-aaf9-42fc-bc3a-93575a49138c",
   "metadata": {},
   "source": [
    "---"
   ]
  },
  {
   "cell_type": "markdown",
   "id": "2421db9b-dfce-402d-b651-da43039efff4",
   "metadata": {},
   "source": [
    "**EXAMPLES**"
   ]
  },
  {
   "cell_type": "code",
   "execution_count": 99,
   "id": "0247e4ae-b014-477b-a152-d489d6993493",
   "metadata": {},
   "outputs": [
    {
     "name": "stdout",
     "output_type": "stream",
     "text": [
      " * sqlite:///databases/db_ex.db\n"
     ]
    },
    {
     "data": {
      "text/html": [
       "<table>\n",
       "    <thead>\n",
       "        <tr>\n",
       "            <th>id</th>\n",
       "            <th>name</th>\n",
       "            <th>wavelength</th>\n",
       "        </tr>\n",
       "    </thead>\n",
       "    <tbody>\n",
       "    </tbody>\n",
       "</table>"
      ],
      "text/plain": [
       "[]"
      ]
     },
     "execution_count": 99,
     "metadata": {},
     "output_type": "execute_result"
    }
   ],
   "source": [
    "%%sql\n",
    "\n",
    "SELECT *\n",
    "FROM color\n",
    "WHERE wavelength < 500 AND name = 'Red';"
   ]
  },
  {
   "cell_type": "markdown",
   "id": "259afdc1-6a2d-41b6-9eca-fcdac4d00914",
   "metadata": {},
   "source": [
    "---"
   ]
  },
  {
   "cell_type": "markdown",
   "id": "9e64fe1b-1932-4846-b168-6c27c1ff459f",
   "metadata": {},
   "source": [
    "#### ANY\n",
    "\n",
    "```sql\n",
    "SELECT *\n",
    "FROM table_name\n",
    "WHERE column_name comparison_operator ANY\n",
    "(Subquery);\n",
    "```"
   ]
  },
  {
   "cell_type": "markdown",
   "id": "ff2ff3f1-2c66-4846-829e-9070e6f40a72",
   "metadata": {},
   "source": [
    "---"
   ]
  },
  {
   "cell_type": "markdown",
   "id": "1770b6d0-dfdf-4700-ad01-634ebf2439c8",
   "metadata": {},
   "source": [
    "#### BETWEEN\n",
    "\n",
    "```sql\n",
    "SELECT *\n",
    "FROM table_name\n",
    "WHERE column_name BETWEEN value AND value;\n",
    "```\n",
    "\n",
    "*Note that whether the bounds are inclusive or exclusive may vary by RDBMS*"
   ]
  },
  {
   "cell_type": "markdown",
   "id": "9f939ecc-d9c7-48d4-a74b-bcb2ef784543",
   "metadata": {},
   "source": [
    "---"
   ]
  },
  {
   "cell_type": "markdown",
   "id": "6d9ba5c7-691b-4320-b3d9-df9c20830ee4",
   "metadata": {},
   "source": [
    "**EXAMPLES**"
   ]
  },
  {
   "cell_type": "code",
   "execution_count": 100,
   "id": "c1f56f83-0d88-4868-9bfd-90a20199ace9",
   "metadata": {},
   "outputs": [
    {
     "name": "stdout",
     "output_type": "stream",
     "text": [
      " * sqlite:///databases/db_ex.db\n"
     ]
    },
    {
     "data": {
      "text/html": [
       "<table>\n",
       "    <thead>\n",
       "        <tr>\n",
       "            <th>id</th>\n",
       "            <th>name</th>\n",
       "            <th>wavelength</th>\n",
       "        </tr>\n",
       "    </thead>\n",
       "    <tbody>\n",
       "        <tr>\n",
       "            <td>2</td>\n",
       "            <td>Orange</td>\n",
       "            <td>600</td>\n",
       "        </tr>\n",
       "        <tr>\n",
       "            <td>3</td>\n",
       "            <td>Yellow</td>\n",
       "            <td>575</td>\n",
       "        </tr>\n",
       "        <tr>\n",
       "            <td>4</td>\n",
       "            <td>Green</td>\n",
       "            <td>550</td>\n",
       "        </tr>\n",
       "    </tbody>\n",
       "</table>"
      ],
      "text/plain": [
       "[(2, 'Orange', 600), (3, 'Yellow', 575), (4, 'Green', 550)]"
      ]
     },
     "execution_count": 100,
     "metadata": {},
     "output_type": "execute_result"
    }
   ],
   "source": [
    "%%sql\n",
    "\n",
    "SELECT *\n",
    "FROM color\n",
    "WHERE wavelength BETWEEN 550 AND 600;"
   ]
  },
  {
   "cell_type": "markdown",
   "id": "8a73304f-8d7e-4cf0-847d-a94b07b738e1",
   "metadata": {},
   "source": [
    "---"
   ]
  },
  {
   "cell_type": "markdown",
   "id": "9f435ebe-d8ab-4bc5-8507-dd624d8bc0d0",
   "metadata": {},
   "source": [
    "#### EXISTS\n",
    "\n",
    "```sql\n",
    "SELECT *\n",
    "FROM table_name\n",
    "WHERE EXISTS\n",
    "(Subquery);\n",
    "```"
   ]
  },
  {
   "cell_type": "markdown",
   "id": "fc603267-17ea-4de0-8aa5-7c0e0946c02d",
   "metadata": {},
   "source": [
    "---"
   ]
  },
  {
   "cell_type": "markdown",
   "id": "18182c12-fa86-454d-93b3-1ce617fe5ea5",
   "metadata": {},
   "source": [
    "**EXAMPLES**"
   ]
  },
  {
   "cell_type": "code",
   "execution_count": 101,
   "id": "8c224565-d86b-49be-a7a3-cd58358f9db4",
   "metadata": {},
   "outputs": [
    {
     "name": "stdout",
     "output_type": "stream",
     "text": [
      " * sqlite:///databases/db_ex.db\n"
     ]
    },
    {
     "data": {
      "text/html": [
       "<table>\n",
       "    <thead>\n",
       "        <tr>\n",
       "            <th>id</th>\n",
       "            <th>name</th>\n",
       "            <th>wavelength</th>\n",
       "        </tr>\n",
       "    </thead>\n",
       "    <tbody>\n",
       "        <tr>\n",
       "            <td>1</td>\n",
       "            <td>Red</td>\n",
       "            <td>700</td>\n",
       "        </tr>\n",
       "        <tr>\n",
       "            <td>2</td>\n",
       "            <td>Orange</td>\n",
       "            <td>600</td>\n",
       "        </tr>\n",
       "        <tr>\n",
       "            <td>3</td>\n",
       "            <td>Yellow</td>\n",
       "            <td>575</td>\n",
       "        </tr>\n",
       "        <tr>\n",
       "            <td>4</td>\n",
       "            <td>Green</td>\n",
       "            <td>550</td>\n",
       "        </tr>\n",
       "        <tr>\n",
       "            <td>5</td>\n",
       "            <td>Blue</td>\n",
       "            <td>475</td>\n",
       "        </tr>\n",
       "        <tr>\n",
       "            <td>6</td>\n",
       "            <td>Purple</td>\n",
       "            <td>400</td>\n",
       "        </tr>\n",
       "    </tbody>\n",
       "</table>"
      ],
      "text/plain": [
       "[(1, 'Red', 700),\n",
       " (2, 'Orange', 600),\n",
       " (3, 'Yellow', 575),\n",
       " (4, 'Green', 550),\n",
       " (5, 'Blue', 475),\n",
       " (6, 'Purple', 400)]"
      ]
     },
     "execution_count": 101,
     "metadata": {},
     "output_type": "execute_result"
    }
   ],
   "source": [
    "%%sql\n",
    "\n",
    "SELECT *\n",
    "FROM color\n",
    "WHERE EXISTS \n",
    "(SELECT *\n",
    "FROM color\n",
    "WHERE name = 'Red');"
   ]
  },
  {
   "cell_type": "code",
   "execution_count": 102,
   "id": "a926833b-3fea-4027-9f5f-ef824f44dba9",
   "metadata": {},
   "outputs": [
    {
     "name": "stdout",
     "output_type": "stream",
     "text": [
      " * sqlite:///databases/db_ex.db\n"
     ]
    },
    {
     "data": {
      "text/html": [
       "<table>\n",
       "    <thead>\n",
       "        <tr>\n",
       "            <th>id</th>\n",
       "            <th>name</th>\n",
       "            <th>wavelength</th>\n",
       "        </tr>\n",
       "    </thead>\n",
       "    <tbody>\n",
       "    </tbody>\n",
       "</table>"
      ],
      "text/plain": [
       "[]"
      ]
     },
     "execution_count": 102,
     "metadata": {},
     "output_type": "execute_result"
    }
   ],
   "source": [
    "%%sql\n",
    "\n",
    "SELECT *\n",
    "FROM color\n",
    "WHERE EXISTS \n",
    "(SELECT *\n",
    "FROM color\n",
    "WHERE name = 'Light urple');"
   ]
  },
  {
   "cell_type": "markdown",
   "id": "b665c85b-2a2d-4e28-823e-c8e0d9d5b0e5",
   "metadata": {},
   "source": [
    "---"
   ]
  },
  {
   "cell_type": "markdown",
   "id": "3026a5e6-6038-48bc-869e-46bbe81acba0",
   "metadata": {},
   "source": [
    "#### IN\n",
    "\n",
    "```sql\n",
    "SELECT *\n",
    "FROM table_name\n",
    "WHERE column_name IN (value_a, value_b);\n",
    "```"
   ]
  },
  {
   "cell_type": "markdown",
   "id": "c35e627a-1d00-4b7d-97ae-dda672c6d98b",
   "metadata": {},
   "source": [
    "---"
   ]
  },
  {
   "cell_type": "markdown",
   "id": "ece19b9b-86b6-4db4-abbf-a3fe310f71a2",
   "metadata": {},
   "source": [
    "**EXAMPLES**"
   ]
  },
  {
   "cell_type": "code",
   "execution_count": 103,
   "id": "b5321dba-c374-4900-ab82-fb3f6558afe5",
   "metadata": {},
   "outputs": [
    {
     "name": "stdout",
     "output_type": "stream",
     "text": [
      " * sqlite:///databases/db_ex.db\n"
     ]
    },
    {
     "data": {
      "text/html": [
       "<table>\n",
       "    <thead>\n",
       "        <tr>\n",
       "            <th>id</th>\n",
       "            <th>name</th>\n",
       "            <th>wavelength</th>\n",
       "        </tr>\n",
       "    </thead>\n",
       "    <tbody>\n",
       "        <tr>\n",
       "            <td>1</td>\n",
       "            <td>Red</td>\n",
       "            <td>700</td>\n",
       "        </tr>\n",
       "        <tr>\n",
       "            <td>2</td>\n",
       "            <td>Orange</td>\n",
       "            <td>600</td>\n",
       "        </tr>\n",
       "    </tbody>\n",
       "</table>"
      ],
      "text/plain": [
       "[(1, 'Red', 700), (2, 'Orange', 600)]"
      ]
     },
     "execution_count": 103,
     "metadata": {},
     "output_type": "execute_result"
    }
   ],
   "source": [
    "%%sql\n",
    "SELECT *\n",
    "FROM color\n",
    "WHERE name IN ('Red', 'Orange');"
   ]
  },
  {
   "cell_type": "markdown",
   "id": "2d5e7d69-7222-44f1-a4ae-d1c07dd3e880",
   "metadata": {},
   "source": [
    "`IN` is the equivalent of writing multiple comparisons of equality separated by `OR` "
   ]
  },
  {
   "cell_type": "code",
   "execution_count": 104,
   "id": "b4d41577-97cd-4291-b091-85272b195cf0",
   "metadata": {},
   "outputs": [
    {
     "name": "stdout",
     "output_type": "stream",
     "text": [
      " * sqlite:///databases/db_ex.db\n"
     ]
    },
    {
     "data": {
      "text/html": [
       "<table>\n",
       "    <thead>\n",
       "        <tr>\n",
       "            <th>id</th>\n",
       "            <th>name</th>\n",
       "            <th>wavelength</th>\n",
       "        </tr>\n",
       "    </thead>\n",
       "    <tbody>\n",
       "        <tr>\n",
       "            <td>1</td>\n",
       "            <td>Red</td>\n",
       "            <td>700</td>\n",
       "        </tr>\n",
       "        <tr>\n",
       "            <td>2</td>\n",
       "            <td>Orange</td>\n",
       "            <td>600</td>\n",
       "        </tr>\n",
       "    </tbody>\n",
       "</table>"
      ],
      "text/plain": [
       "[(1, 'Red', 700), (2, 'Orange', 600)]"
      ]
     },
     "execution_count": 104,
     "metadata": {},
     "output_type": "execute_result"
    }
   ],
   "source": [
    "%%sql\n",
    "SELECT *\n",
    "FROM color\n",
    "WHERE name = 'Red' OR name = 'Orange';"
   ]
  },
  {
   "cell_type": "markdown",
   "id": "74a8f2b8-e0a9-48d0-871b-f236e49b7bb4",
   "metadata": {},
   "source": [
    "---"
   ]
  },
  {
   "cell_type": "markdown",
   "id": "e3f6d760-545f-452b-9035-fba034bc77b2",
   "metadata": {
    "tags": []
   },
   "source": [
    "#### IS NULL\n",
    "\n",
    "`NULL`--value that represents the absence of data\n",
    "\n",
    "`IS NULL` and `IS NOT NULL`--check to see if a value is a null value before performing an action.  Commonly used in conditional statements because null values often lead to errors (or more null values) when used in statements.  \n",
    "\n",
    "We use `IS` and `IS NOT` instead of `= NULL` and `!= NULL`.  Also, while `NOT IS NULL` could be used, `IS NOT NULL` is easier to read.\n",
    "\n",
    "```sql\n",
    "SELECT *\n",
    "FROM table_name\n",
    "WHERE column_name IS NULL;\n",
    "```\n",
    "*Note that there are many more \"null functions\" that use null values.  These vary widely between RDBMS.*"
   ]
  },
  {
   "cell_type": "markdown",
   "id": "ed12e064-2862-4613-9fe8-e6c836b240f7",
   "metadata": {},
   "source": [
    "---"
   ]
  },
  {
   "cell_type": "markdown",
   "id": "5d31c6c8-6602-460c-a3e6-b41ab6c05bd5",
   "metadata": {},
   "source": [
    "**EXAMPLES**"
   ]
  },
  {
   "cell_type": "markdown",
   "id": "8cc0ac29-d710-4d6e-b29a-01ec5e90b9e4",
   "metadata": {},
   "source": [
    "**`IS NULL`**"
   ]
  },
  {
   "cell_type": "code",
   "execution_count": 105,
   "id": "3fa502d6-5416-49df-bfbd-721c0282ba61",
   "metadata": {},
   "outputs": [
    {
     "name": "stdout",
     "output_type": "stream",
     "text": [
      " * sqlite:///databases/db_ex.db\n"
     ]
    },
    {
     "data": {
      "text/html": [
       "<table>\n",
       "    <thead>\n",
       "        <tr>\n",
       "            <th>id</th>\n",
       "            <th>name</th>\n",
       "            <th>wavelength</th>\n",
       "        </tr>\n",
       "    </thead>\n",
       "    <tbody>\n",
       "    </tbody>\n",
       "</table>"
      ],
      "text/plain": [
       "[]"
      ]
     },
     "execution_count": 105,
     "metadata": {},
     "output_type": "execute_result"
    }
   ],
   "source": [
    "%%sql\n",
    "\n",
    "SELECT *\n",
    "FROM color\n",
    "WHERE wavelength IS NULL;"
   ]
  },
  {
   "cell_type": "markdown",
   "id": "44084d1c-b360-45d1-9f55-fd5551347eb7",
   "metadata": {},
   "source": [
    "**`IS NOT NULL`**"
   ]
  },
  {
   "cell_type": "code",
   "execution_count": 106,
   "id": "9a77769a-703f-4305-8739-65b6a60da286",
   "metadata": {},
   "outputs": [
    {
     "name": "stdout",
     "output_type": "stream",
     "text": [
      " * sqlite:///databases/db_ex.db\n"
     ]
    },
    {
     "data": {
      "text/html": [
       "<table>\n",
       "    <thead>\n",
       "        <tr>\n",
       "            <th>id</th>\n",
       "            <th>name</th>\n",
       "            <th>wavelength</th>\n",
       "        </tr>\n",
       "    </thead>\n",
       "    <tbody>\n",
       "        <tr>\n",
       "            <td>1</td>\n",
       "            <td>Red</td>\n",
       "            <td>700</td>\n",
       "        </tr>\n",
       "        <tr>\n",
       "            <td>2</td>\n",
       "            <td>Orange</td>\n",
       "            <td>600</td>\n",
       "        </tr>\n",
       "        <tr>\n",
       "            <td>3</td>\n",
       "            <td>Yellow</td>\n",
       "            <td>575</td>\n",
       "        </tr>\n",
       "        <tr>\n",
       "            <td>4</td>\n",
       "            <td>Green</td>\n",
       "            <td>550</td>\n",
       "        </tr>\n",
       "        <tr>\n",
       "            <td>5</td>\n",
       "            <td>Blue</td>\n",
       "            <td>475</td>\n",
       "        </tr>\n",
       "        <tr>\n",
       "            <td>6</td>\n",
       "            <td>Purple</td>\n",
       "            <td>400</td>\n",
       "        </tr>\n",
       "    </tbody>\n",
       "</table>"
      ],
      "text/plain": [
       "[(1, 'Red', 700),\n",
       " (2, 'Orange', 600),\n",
       " (3, 'Yellow', 575),\n",
       " (4, 'Green', 550),\n",
       " (5, 'Blue', 475),\n",
       " (6, 'Purple', 400)]"
      ]
     },
     "execution_count": 106,
     "metadata": {},
     "output_type": "execute_result"
    }
   ],
   "source": [
    "%%sql\n",
    "\n",
    "SELECT *\n",
    "FROM color\n",
    "WHERE wavelength IS NOT NULL;"
   ]
  },
  {
   "cell_type": "markdown",
   "id": "1dd7f6aa-7390-4f28-8bda-4cb620a1b476",
   "metadata": {},
   "source": [
    "---"
   ]
  },
  {
   "cell_type": "markdown",
   "id": "7c6a2cad-1a75-423d-b321-b89fd73e598c",
   "metadata": {},
   "source": [
    "####  LIKE\n",
    "\n",
    "`LIKE`--perform \"fuzzy\" comparison of equality between a string and a pattern utilizing wildcard characters\n",
    "\n",
    "`ILIKE`--same as like, but case insensitive\n",
    "\n",
    "**Wildcard**--single character that stands for multiple other characters.  Concept also seen \"regular expressions\" and \"globbing\"  Regular expressions are more powerful and also commonly supported by RDBMS.\n",
    "\n",
    "Symbol | Description | Example\n",
    "--- | --- | ---\n",
    "`_` | Represents any single characters | `h_t` finds hat, hot, and hit\n",
    "`%` | Represents any sequence of zero or more characters | `bl%` finds blue and black.\n",
    "\n",
    "```sql\n",
    "SELECT *\n",
    "FROM table_name\n",
    "WHERE column_name LIKE 'pattern with the wildcards %, _, [#], etc.';\n",
    "```\n",
    "\n",
    "*Note that wildcard character meaning varies between RDBMS.*"
   ]
  },
  {
   "cell_type": "markdown",
   "id": "c5070ab6-dc09-499a-a309-338af42ab3dc",
   "metadata": {},
   "source": [
    "---"
   ]
  },
  {
   "cell_type": "markdown",
   "id": "27107f97-7516-48b7-b1e4-8c45d52b603e",
   "metadata": {},
   "source": [
    "**EXAMPLES**"
   ]
  },
  {
   "cell_type": "markdown",
   "id": "4e5f8f55-9274-40cf-a8c8-3f005aa0460c",
   "metadata": {},
   "source": [
    "**`%`**"
   ]
  },
  {
   "cell_type": "code",
   "execution_count": 107,
   "id": "646b3c72-aa60-4b6b-b1aa-8d775f126d11",
   "metadata": {},
   "outputs": [
    {
     "name": "stdout",
     "output_type": "stream",
     "text": [
      " * sqlite:///databases/db_ex.db\n"
     ]
    },
    {
     "data": {
      "text/html": [
       "<table>\n",
       "    <thead>\n",
       "        <tr>\n",
       "            <th>id</th>\n",
       "            <th>name</th>\n",
       "            <th>wavelength</th>\n",
       "        </tr>\n",
       "    </thead>\n",
       "    <tbody>\n",
       "        <tr>\n",
       "            <td>2</td>\n",
       "            <td>Orange</td>\n",
       "            <td>600</td>\n",
       "        </tr>\n",
       "        <tr>\n",
       "            <td>5</td>\n",
       "            <td>Blue</td>\n",
       "            <td>475</td>\n",
       "        </tr>\n",
       "        <tr>\n",
       "            <td>6</td>\n",
       "            <td>Purple</td>\n",
       "            <td>400</td>\n",
       "        </tr>\n",
       "    </tbody>\n",
       "</table>"
      ],
      "text/plain": [
       "[(2, 'Orange', 600), (5, 'Blue', 475), (6, 'Purple', 400)]"
      ]
     },
     "execution_count": 107,
     "metadata": {},
     "output_type": "execute_result"
    }
   ],
   "source": [
    "%%sql\n",
    "\n",
    "SELECT *\n",
    "FROM color\n",
    "WHERE name LIKE '%e';"
   ]
  },
  {
   "cell_type": "markdown",
   "id": "3e43e287-068a-40a3-9120-31ec7bb18b9b",
   "metadata": {},
   "source": [
    "**`_`**"
   ]
  },
  {
   "cell_type": "code",
   "execution_count": 108,
   "id": "efe6106d-ab07-43e7-affe-25c2e1d42f01",
   "metadata": {},
   "outputs": [
    {
     "name": "stdout",
     "output_type": "stream",
     "text": [
      " * sqlite:///databases/db_ex.db\n"
     ]
    },
    {
     "data": {
      "text/html": [
       "<table>\n",
       "    <thead>\n",
       "        <tr>\n",
       "            <th>id</th>\n",
       "            <th>name</th>\n",
       "            <th>wavelength</th>\n",
       "        </tr>\n",
       "    </thead>\n",
       "    <tbody>\n",
       "        <tr>\n",
       "            <td>6</td>\n",
       "            <td>Purple</td>\n",
       "            <td>400</td>\n",
       "        </tr>\n",
       "    </tbody>\n",
       "</table>"
      ],
      "text/plain": [
       "[(6, 'Purple', 400)]"
      ]
     },
     "execution_count": 108,
     "metadata": {},
     "output_type": "execute_result"
    }
   ],
   "source": [
    "%%sql\n",
    "\n",
    "SELECT *\n",
    "FROM color\n",
    "WHERE name LIKE '_urple';"
   ]
  },
  {
   "cell_type": "markdown",
   "id": "7e6793a0-a02f-47cb-b3b7-bf69b7cbdede",
   "metadata": {},
   "source": [
    "---"
   ]
  },
  {
   "cell_type": "markdown",
   "id": "67b60c3e-2fee-48f2-89f8-113fc9fcee83",
   "metadata": {
    "tags": []
   },
   "source": [
    "#### NOT\n",
    "\n",
    "`NOT`--negates a condition\n",
    "```sql\n",
    "SELECT *\n",
    "FROM table_name\n",
    "WHERE NOT condition;\n",
    "```"
   ]
  },
  {
   "cell_type": "markdown",
   "id": "9ab8400f-7ad0-4f9e-ae27-104f1d771361",
   "metadata": {},
   "source": [
    "---"
   ]
  },
  {
   "cell_type": "markdown",
   "id": "d1526e1b-ee38-4bd4-b77b-36559adb6d3f",
   "metadata": {},
   "source": [
    "**EXAMPLES**"
   ]
  },
  {
   "cell_type": "code",
   "execution_count": 109,
   "id": "3c9077ed-c776-4ee9-88ee-a22178176eda",
   "metadata": {},
   "outputs": [
    {
     "name": "stdout",
     "output_type": "stream",
     "text": [
      " * sqlite:///databases/db_ex.db\n"
     ]
    },
    {
     "data": {
      "text/html": [
       "<table>\n",
       "    <thead>\n",
       "        <tr>\n",
       "            <th>id</th>\n",
       "            <th>name</th>\n",
       "            <th>wavelength</th>\n",
       "        </tr>\n",
       "    </thead>\n",
       "    <tbody>\n",
       "        <tr>\n",
       "            <td>3</td>\n",
       "            <td>Yellow</td>\n",
       "            <td>575</td>\n",
       "        </tr>\n",
       "        <tr>\n",
       "            <td>4</td>\n",
       "            <td>Green</td>\n",
       "            <td>550</td>\n",
       "        </tr>\n",
       "        <tr>\n",
       "            <td>5</td>\n",
       "            <td>Blue</td>\n",
       "            <td>475</td>\n",
       "        </tr>\n",
       "        <tr>\n",
       "            <td>6</td>\n",
       "            <td>Purple</td>\n",
       "            <td>400</td>\n",
       "        </tr>\n",
       "    </tbody>\n",
       "</table>"
      ],
      "text/plain": [
       "[(3, 'Yellow', 575), (4, 'Green', 550), (5, 'Blue', 475), (6, 'Purple', 400)]"
      ]
     },
     "execution_count": 109,
     "metadata": {},
     "output_type": "execute_result"
    }
   ],
   "source": [
    "%%sql\n",
    "SELECT *\n",
    "FROM color\n",
    "WHERE name NOT IN ('Red', 'Orange');"
   ]
  },
  {
   "cell_type": "markdown",
   "id": "2e514b5a-e1c7-4290-a395-24cdc4af9f9e",
   "metadata": {},
   "source": [
    "The condition being negated is usually not a simple condition with a comparison operator as it is clearer to switch the comparison operator instead of use `NOT`"
   ]
  },
  {
   "cell_type": "code",
   "execution_count": 110,
   "id": "78045891-8635-4f21-8411-ec84cd9f9162",
   "metadata": {},
   "outputs": [
    {
     "name": "stdout",
     "output_type": "stream",
     "text": [
      " * sqlite:///databases/db_ex.db\n"
     ]
    },
    {
     "data": {
      "text/html": [
       "<table>\n",
       "    <thead>\n",
       "        <tr>\n",
       "            <th>id</th>\n",
       "            <th>name</th>\n",
       "            <th>wavelength</th>\n",
       "        </tr>\n",
       "    </thead>\n",
       "    <tbody>\n",
       "        <tr>\n",
       "            <td>1</td>\n",
       "            <td>Red</td>\n",
       "            <td>700</td>\n",
       "        </tr>\n",
       "        <tr>\n",
       "            <td>2</td>\n",
       "            <td>Orange</td>\n",
       "            <td>600</td>\n",
       "        </tr>\n",
       "        <tr>\n",
       "            <td>3</td>\n",
       "            <td>Yellow</td>\n",
       "            <td>575</td>\n",
       "        </tr>\n",
       "        <tr>\n",
       "            <td>5</td>\n",
       "            <td>Blue</td>\n",
       "            <td>475</td>\n",
       "        </tr>\n",
       "        <tr>\n",
       "            <td>6</td>\n",
       "            <td>Purple</td>\n",
       "            <td>400</td>\n",
       "        </tr>\n",
       "    </tbody>\n",
       "</table>"
      ],
      "text/plain": [
       "[(1, 'Red', 700),\n",
       " (2, 'Orange', 600),\n",
       " (3, 'Yellow', 575),\n",
       " (5, 'Blue', 475),\n",
       " (6, 'Purple', 400)]"
      ]
     },
     "execution_count": 110,
     "metadata": {},
     "output_type": "execute_result"
    }
   ],
   "source": [
    "%%sql\n",
    "SELECT *\n",
    "FROM color\n",
    "WHERE wavelength != 550;"
   ]
  },
  {
   "cell_type": "code",
   "execution_count": 111,
   "id": "22ade43a-9df2-4c4e-8537-a0ab23f4c5c1",
   "metadata": {},
   "outputs": [
    {
     "name": "stdout",
     "output_type": "stream",
     "text": [
      " * sqlite:///databases/db_ex.db\n"
     ]
    },
    {
     "data": {
      "text/html": [
       "<table>\n",
       "    <thead>\n",
       "        <tr>\n",
       "            <th>id</th>\n",
       "            <th>name</th>\n",
       "            <th>wavelength</th>\n",
       "        </tr>\n",
       "    </thead>\n",
       "    <tbody>\n",
       "        <tr>\n",
       "            <td>1</td>\n",
       "            <td>Red</td>\n",
       "            <td>700</td>\n",
       "        </tr>\n",
       "        <tr>\n",
       "            <td>2</td>\n",
       "            <td>Orange</td>\n",
       "            <td>600</td>\n",
       "        </tr>\n",
       "        <tr>\n",
       "            <td>3</td>\n",
       "            <td>Yellow</td>\n",
       "            <td>575</td>\n",
       "        </tr>\n",
       "        <tr>\n",
       "            <td>5</td>\n",
       "            <td>Blue</td>\n",
       "            <td>475</td>\n",
       "        </tr>\n",
       "        <tr>\n",
       "            <td>6</td>\n",
       "            <td>Purple</td>\n",
       "            <td>400</td>\n",
       "        </tr>\n",
       "    </tbody>\n",
       "</table>"
      ],
      "text/plain": [
       "[(1, 'Red', 700),\n",
       " (2, 'Orange', 600),\n",
       " (3, 'Yellow', 575),\n",
       " (5, 'Blue', 475),\n",
       " (6, 'Purple', 400)]"
      ]
     },
     "execution_count": 111,
     "metadata": {},
     "output_type": "execute_result"
    }
   ],
   "source": [
    "%%sql\n",
    "SELECT *\n",
    "FROM color\n",
    "WHERE NOT wavelength = 550;"
   ]
  },
  {
   "cell_type": "markdown",
   "id": "608397bc-15d1-42de-b365-3271466a318d",
   "metadata": {},
   "source": [
    "---"
   ]
  },
  {
   "cell_type": "markdown",
   "id": "2a24b85d-6cff-47dd-9331-147a193aff4a",
   "metadata": {
    "tags": []
   },
   "source": [
    "#### OR\n",
    "\n",
    "```sql\n",
    "SELECT *\n",
    "FROM table_name\n",
    "WHERE condition OR condition;\n",
    "```"
   ]
  },
  {
   "cell_type": "markdown",
   "id": "2c24c4c1-b181-43ef-9318-fafa74e72273",
   "metadata": {},
   "source": [
    "---"
   ]
  },
  {
   "cell_type": "markdown",
   "id": "5150e90a-945d-415f-b5c0-079b124e688e",
   "metadata": {},
   "source": [
    "**EXAMPLES**"
   ]
  },
  {
   "cell_type": "code",
   "execution_count": 112,
   "id": "18c6a3ca-496a-4094-acfc-72c8159daaa2",
   "metadata": {},
   "outputs": [
    {
     "name": "stdout",
     "output_type": "stream",
     "text": [
      " * sqlite:///databases/db_ex.db\n"
     ]
    },
    {
     "data": {
      "text/html": [
       "<table>\n",
       "    <thead>\n",
       "        <tr>\n",
       "            <th>id</th>\n",
       "            <th>name</th>\n",
       "            <th>wavelength</th>\n",
       "        </tr>\n",
       "    </thead>\n",
       "    <tbody>\n",
       "        <tr>\n",
       "            <td>1</td>\n",
       "            <td>Red</td>\n",
       "            <td>700</td>\n",
       "        </tr>\n",
       "        <tr>\n",
       "            <td>5</td>\n",
       "            <td>Blue</td>\n",
       "            <td>475</td>\n",
       "        </tr>\n",
       "        <tr>\n",
       "            <td>6</td>\n",
       "            <td>Purple</td>\n",
       "            <td>400</td>\n",
       "        </tr>\n",
       "    </tbody>\n",
       "</table>"
      ],
      "text/plain": [
       "[(1, 'Red', 700), (5, 'Blue', 475), (6, 'Purple', 400)]"
      ]
     },
     "execution_count": 112,
     "metadata": {},
     "output_type": "execute_result"
    }
   ],
   "source": [
    "%%sql\n",
    "\n",
    "SELECT *\n",
    "FROM color\n",
    "WHERE wavelength < 500 OR name = 'Red';"
   ]
  },
  {
   "cell_type": "markdown",
   "id": "65658fc9-5591-49b8-b5b7-e85c53feced7",
   "metadata": {},
   "source": [
    "---"
   ]
  },
  {
   "cell_type": "markdown",
   "id": "5d955053-89b5-4289-8f8f-04ee9ef60186",
   "metadata": {},
   "source": [
    "## Advanced SQL"
   ]
  },
  {
   "cell_type": "markdown",
   "id": "09e1a370-e496-4d8d-b666-191252f0ba76",
   "metadata": {},
   "source": [
    "---"
   ]
  },
  {
   "cell_type": "markdown",
   "id": "fd07b167-9805-48ba-83f9-89861d75ab3d",
   "metadata": {},
   "source": [
    "### Result Set Shape\n",
    "\n",
    "- Understanding the \"shape\" of result sets is essential to reading more complex queries and SQL scripts\n",
    "- The result set is always a table.  However this table may be:\n",
    "    1. One row, one column.  I.e. a single cell value (**scalar value**).  This allows further use of result set.\n",
    "    1. One row, multiple column.  I.e. a row.  Often row cells contain multiple data types.  This limits further use of the result set.\n",
    "    1. Multiple rows, one column.  I.e. a column.  Column cells contain the same data type.  This allows further use of result set.\n",
    "    1. Multiple rows, multiple columns.  I.e. a table.  Further queries can use as a derived table (see *Subqueries*)."
   ]
  },
  {
   "cell_type": "markdown",
   "id": "da088e3f-fef9-4d07-b781-d53f7d563ab7",
   "metadata": {},
   "source": [
    "---"
   ]
  },
  {
   "cell_type": "markdown",
   "id": "b03695ec-d04d-466e-b4bc-5325cd0fb431",
   "metadata": {},
   "source": [
    "**EXAMPLES**"
   ]
  },
  {
   "cell_type": "markdown",
   "id": "9ebf31e1-2a74-4241-aaf6-30a4bf8450f7",
   "metadata": {},
   "source": [
    "**One Row One Column**"
   ]
  },
  {
   "cell_type": "code",
   "execution_count": 113,
   "id": "8d9a3e56-74e5-4792-a614-47caa1a0482b",
   "metadata": {},
   "outputs": [
    {
     "name": "stdout",
     "output_type": "stream",
     "text": [
      " * sqlite:///databases/db_ex.db\n"
     ]
    },
    {
     "data": {
      "text/html": [
       "<table>\n",
       "    <thead>\n",
       "        <tr>\n",
       "            <th>wavelength</th>\n",
       "        </tr>\n",
       "    </thead>\n",
       "    <tbody>\n",
       "        <tr>\n",
       "            <td>700</td>\n",
       "        </tr>\n",
       "    </tbody>\n",
       "</table>"
      ],
      "text/plain": [
       "[(700,)]"
      ]
     },
     "execution_count": 113,
     "metadata": {},
     "output_type": "execute_result"
    }
   ],
   "source": [
    "%%sql\n",
    "\n",
    "SELECT wavelength\n",
    "FROM color\n",
    "WHERE id = 1"
   ]
  },
  {
   "cell_type": "markdown",
   "id": "c58535f6-ca37-4579-8290-7c7f72fc8f06",
   "metadata": {},
   "source": [
    "**One Row Multiple Columns**"
   ]
  },
  {
   "cell_type": "code",
   "execution_count": 114,
   "id": "52fd6196-f89d-4c5d-8648-38ed2a58bc84",
   "metadata": {},
   "outputs": [
    {
     "name": "stdout",
     "output_type": "stream",
     "text": [
      " * sqlite:///databases/db_ex.db\n"
     ]
    },
    {
     "data": {
      "text/html": [
       "<table>\n",
       "    <thead>\n",
       "        <tr>\n",
       "            <th>id</th>\n",
       "            <th>name</th>\n",
       "            <th>wavelength</th>\n",
       "        </tr>\n",
       "    </thead>\n",
       "    <tbody>\n",
       "        <tr>\n",
       "            <td>1</td>\n",
       "            <td>Red</td>\n",
       "            <td>700</td>\n",
       "        </tr>\n",
       "    </tbody>\n",
       "</table>"
      ],
      "text/plain": [
       "[(1, 'Red', 700)]"
      ]
     },
     "execution_count": 114,
     "metadata": {},
     "output_type": "execute_result"
    }
   ],
   "source": [
    "%%sql\n",
    "\n",
    "SELECT *\n",
    "FROM color\n",
    "WHERE id = 1"
   ]
  },
  {
   "cell_type": "markdown",
   "id": "0d55b9e0-6f1d-4f07-b6ba-ded178ef0282",
   "metadata": {},
   "source": [
    "**Multiple Rows One Column**"
   ]
  },
  {
   "cell_type": "code",
   "execution_count": 115,
   "id": "fd094435-12de-41aa-9aed-30dade569f53",
   "metadata": {},
   "outputs": [
    {
     "name": "stdout",
     "output_type": "stream",
     "text": [
      " * sqlite:///databases/db_ex.db\n"
     ]
    },
    {
     "data": {
      "text/html": [
       "<table>\n",
       "    <thead>\n",
       "        <tr>\n",
       "            <th>wavelength</th>\n",
       "        </tr>\n",
       "    </thead>\n",
       "    <tbody>\n",
       "        <tr>\n",
       "            <td>700</td>\n",
       "        </tr>\n",
       "        <tr>\n",
       "            <td>600</td>\n",
       "        </tr>\n",
       "        <tr>\n",
       "            <td>575</td>\n",
       "        </tr>\n",
       "        <tr>\n",
       "            <td>550</td>\n",
       "        </tr>\n",
       "        <tr>\n",
       "            <td>475</td>\n",
       "        </tr>\n",
       "        <tr>\n",
       "            <td>400</td>\n",
       "        </tr>\n",
       "    </tbody>\n",
       "</table>"
      ],
      "text/plain": [
       "[(700,), (600,), (575,), (550,), (475,), (400,)]"
      ]
     },
     "execution_count": 115,
     "metadata": {},
     "output_type": "execute_result"
    }
   ],
   "source": [
    "%%sql\n",
    "\n",
    "SELECT wavelength\n",
    "FROM color"
   ]
  },
  {
   "cell_type": "markdown",
   "id": "9e0cd0fe-ff0f-4d4d-a407-4458b1338df6",
   "metadata": {},
   "source": [
    "**Multiple Rows Multiple Columns**"
   ]
  },
  {
   "cell_type": "code",
   "execution_count": 116,
   "id": "f01e75e0-5370-4827-9b0c-4a856375ca0a",
   "metadata": {},
   "outputs": [
    {
     "name": "stdout",
     "output_type": "stream",
     "text": [
      " * sqlite:///databases/db_ex.db\n"
     ]
    },
    {
     "data": {
      "text/html": [
       "<table>\n",
       "    <thead>\n",
       "        <tr>\n",
       "            <th>id</th>\n",
       "            <th>name</th>\n",
       "            <th>wavelength</th>\n",
       "        </tr>\n",
       "    </thead>\n",
       "    <tbody>\n",
       "        <tr>\n",
       "            <td>1</td>\n",
       "            <td>Red</td>\n",
       "            <td>700</td>\n",
       "        </tr>\n",
       "        <tr>\n",
       "            <td>2</td>\n",
       "            <td>Orange</td>\n",
       "            <td>600</td>\n",
       "        </tr>\n",
       "        <tr>\n",
       "            <td>3</td>\n",
       "            <td>Yellow</td>\n",
       "            <td>575</td>\n",
       "        </tr>\n",
       "        <tr>\n",
       "            <td>4</td>\n",
       "            <td>Green</td>\n",
       "            <td>550</td>\n",
       "        </tr>\n",
       "        <tr>\n",
       "            <td>5</td>\n",
       "            <td>Blue</td>\n",
       "            <td>475</td>\n",
       "        </tr>\n",
       "        <tr>\n",
       "            <td>6</td>\n",
       "            <td>Purple</td>\n",
       "            <td>400</td>\n",
       "        </tr>\n",
       "    </tbody>\n",
       "</table>"
      ],
      "text/plain": [
       "[(1, 'Red', 700),\n",
       " (2, 'Orange', 600),\n",
       " (3, 'Yellow', 575),\n",
       " (4, 'Green', 550),\n",
       " (5, 'Blue', 475),\n",
       " (6, 'Purple', 400)]"
      ]
     },
     "execution_count": 116,
     "metadata": {},
     "output_type": "execute_result"
    }
   ],
   "source": [
    "%%sql\n",
    "\n",
    "SELECT *\n",
    "FROM color"
   ]
  },
  {
   "cell_type": "markdown",
   "id": "438f4842-d60e-477f-8f4d-57fded617c64",
   "metadata": {},
   "source": [
    "---"
   ]
  },
  {
   "cell_type": "markdown",
   "id": "0f309728-51fc-4d0b-b692-fd4ce814f3d9",
   "metadata": {},
   "source": [
    "### AS  Alias\n",
    "`AS`--assign temporary identifier (AKA an alias).  These are typically table aliases or column aliases.\n",
    "\n",
    "Column alias may make result table easier read\n",
    "```sql\n",
    "SELECT column_name AS alias_name\n",
    "FROM table_name;\n",
    "```\n",
    "\n",
    "Table alias may shorten table name for use in dot notation during joins or correlated subqueries\n",
    "```sql\n",
    "SELECT t.column_name \n",
    "FROM table_name AS t;\n",
    "```\n",
    "\n",
    "`AS` may be optional in a RDBMS.  However, always using `AS` makes it clearer to the reader what is occurring.\n",
    "```sql\n",
    "SELECT column_name alias_name\n",
    "FROM table_name;\n",
    "```"
   ]
  },
  {
   "cell_type": "markdown",
   "id": "abb6b806-9c82-499e-a94c-b8405e0d45f4",
   "metadata": {},
   "source": [
    "---"
   ]
  },
  {
   "cell_type": "markdown",
   "id": "dbebd2ea-5e5e-4e99-84ad-b54311db1b02",
   "metadata": {},
   "source": [
    "**EXAMPLES**"
   ]
  },
  {
   "cell_type": "markdown",
   "id": "127385df-49c7-49d4-879c-58e4bccb7561",
   "metadata": {},
   "source": [
    "**Column Alias**"
   ]
  },
  {
   "cell_type": "code",
   "execution_count": 117,
   "id": "420fb544-92d4-49a4-953f-185c1986e8a7",
   "metadata": {},
   "outputs": [
    {
     "name": "stdout",
     "output_type": "stream",
     "text": [
      " * sqlite:///databases/db_ex.db\n"
     ]
    },
    {
     "data": {
      "text/html": [
       "<table>\n",
       "    <thead>\n",
       "        <tr>\n",
       "            <th>Wavelength (nm)</th>\n",
       "            <th>name</th>\n",
       "        </tr>\n",
       "    </thead>\n",
       "    <tbody>\n",
       "        <tr>\n",
       "            <td>700</td>\n",
       "            <td>Red</td>\n",
       "        </tr>\n",
       "        <tr>\n",
       "            <td>600</td>\n",
       "            <td>Orange</td>\n",
       "        </tr>\n",
       "        <tr>\n",
       "            <td>575</td>\n",
       "            <td>Yellow</td>\n",
       "        </tr>\n",
       "        <tr>\n",
       "            <td>550</td>\n",
       "            <td>Green</td>\n",
       "        </tr>\n",
       "        <tr>\n",
       "            <td>475</td>\n",
       "            <td>Blue</td>\n",
       "        </tr>\n",
       "        <tr>\n",
       "            <td>400</td>\n",
       "            <td>Purple</td>\n",
       "        </tr>\n",
       "    </tbody>\n",
       "</table>"
      ],
      "text/plain": [
       "[(700, 'Red'),\n",
       " (600, 'Orange'),\n",
       " (575, 'Yellow'),\n",
       " (550, 'Green'),\n",
       " (475, 'Blue'),\n",
       " (400, 'Purple')]"
      ]
     },
     "execution_count": 117,
     "metadata": {},
     "output_type": "execute_result"
    }
   ],
   "source": [
    "%%sql\n",
    "\n",
    "SELECT wavelength AS \"Wavelength (nm)\", name\n",
    "FROM color;"
   ]
  },
  {
   "cell_type": "markdown",
   "id": "43d3f52c-a9de-4932-b695-3681ed830a49",
   "metadata": {},
   "source": [
    "**Table Alias**"
   ]
  },
  {
   "cell_type": "code",
   "execution_count": 118,
   "id": "f0bec497-9db9-424c-a755-c308e4359579",
   "metadata": {},
   "outputs": [
    {
     "name": "stdout",
     "output_type": "stream",
     "text": [
      " * sqlite:///databases/db_ex.db\n"
     ]
    },
    {
     "data": {
      "text/html": [
       "<table>\n",
       "    <thead>\n",
       "        <tr>\n",
       "            <th>wavelength</th>\n",
       "            <th>name</th>\n",
       "        </tr>\n",
       "    </thead>\n",
       "    <tbody>\n",
       "        <tr>\n",
       "            <td>700</td>\n",
       "            <td>Red</td>\n",
       "        </tr>\n",
       "        <tr>\n",
       "            <td>600</td>\n",
       "            <td>Orange</td>\n",
       "        </tr>\n",
       "        <tr>\n",
       "            <td>575</td>\n",
       "            <td>Yellow</td>\n",
       "        </tr>\n",
       "        <tr>\n",
       "            <td>550</td>\n",
       "            <td>Green</td>\n",
       "        </tr>\n",
       "        <tr>\n",
       "            <td>475</td>\n",
       "            <td>Blue</td>\n",
       "        </tr>\n",
       "        <tr>\n",
       "            <td>400</td>\n",
       "            <td>Purple</td>\n",
       "        </tr>\n",
       "    </tbody>\n",
       "</table>"
      ],
      "text/plain": [
       "[(700, 'Red'),\n",
       " (600, 'Orange'),\n",
       " (575, 'Yellow'),\n",
       " (550, 'Green'),\n",
       " (475, 'Blue'),\n",
       " (400, 'Purple')]"
      ]
     },
     "execution_count": 118,
     "metadata": {},
     "output_type": "execute_result"
    }
   ],
   "source": [
    "%%sql\n",
    "\n",
    "SELECT c.wavelength, c.name\n",
    "FROM color AS c;"
   ]
  },
  {
   "cell_type": "markdown",
   "id": "e4cd8a74-1b3a-4fc4-b6ad-81fdaf6b578d",
   "metadata": {},
   "source": [
    "**`AS` Omitted**"
   ]
  },
  {
   "cell_type": "code",
   "execution_count": 119,
   "id": "f5f4cb63-303a-4d00-8718-2008d08887dd",
   "metadata": {},
   "outputs": [
    {
     "name": "stdout",
     "output_type": "stream",
     "text": [
      " * sqlite:///databases/db_ex.db\n"
     ]
    },
    {
     "data": {
      "text/html": [
       "<table>\n",
       "    <thead>\n",
       "        <tr>\n",
       "            <th>wavelength</th>\n",
       "            <th>name</th>\n",
       "        </tr>\n",
       "    </thead>\n",
       "    <tbody>\n",
       "        <tr>\n",
       "            <td>700</td>\n",
       "            <td>Red</td>\n",
       "        </tr>\n",
       "        <tr>\n",
       "            <td>600</td>\n",
       "            <td>Orange</td>\n",
       "        </tr>\n",
       "        <tr>\n",
       "            <td>575</td>\n",
       "            <td>Yellow</td>\n",
       "        </tr>\n",
       "        <tr>\n",
       "            <td>550</td>\n",
       "            <td>Green</td>\n",
       "        </tr>\n",
       "        <tr>\n",
       "            <td>475</td>\n",
       "            <td>Blue</td>\n",
       "        </tr>\n",
       "        <tr>\n",
       "            <td>400</td>\n",
       "            <td>Purple</td>\n",
       "        </tr>\n",
       "    </tbody>\n",
       "</table>"
      ],
      "text/plain": [
       "[(700, 'Red'),\n",
       " (600, 'Orange'),\n",
       " (575, 'Yellow'),\n",
       " (550, 'Green'),\n",
       " (475, 'Blue'),\n",
       " (400, 'Purple')]"
      ]
     },
     "execution_count": 119,
     "metadata": {},
     "output_type": "execute_result"
    }
   ],
   "source": [
    "%%sql\n",
    "\n",
    "SELECT c.wavelength, c.name\n",
    "FROM color c;"
   ]
  },
  {
   "cell_type": "markdown",
   "id": "4028d1f2-be88-4479-8629-bb50d2f84a4b",
   "metadata": {},
   "source": [
    "---"
   ]
  },
  {
   "cell_type": "markdown",
   "id": "9c965551-d302-46c6-9b71-d65aa4c34c3c",
   "metadata": {},
   "source": [
    "### CASE WHEN THEN\n",
    "`CASE`, `WHEN`, `THEN`, `ELSE` statement--analogous to Python if-elif-else compound statement...but run for each each record...and with terrible syntax\n",
    "```sql\n",
    "SELECT *,\n",
    "CASE \n",
    "    WHEN condition_1 THEN result_1\n",
    "    WHEN condition_2 THEN result_2\n",
    "    ELSE result_3\n",
    "END AS column_alias_for_result_table\n",
    "FROM table_name;\n",
    "```\n",
    "- Like Python, the `ELSE` is optional\n",
    "- Must include comma after `SELECT`"
   ]
  },
  {
   "cell_type": "markdown",
   "id": "40569529-b7b0-4ca9-826c-46a6784be2a2",
   "metadata": {},
   "source": [
    "---"
   ]
  },
  {
   "cell_type": "markdown",
   "id": "a24d3f15-00a7-4bea-a8cb-ad6892c1b3ba",
   "metadata": {},
   "source": [
    "**EXAMPLES**"
   ]
  },
  {
   "cell_type": "markdown",
   "id": "65cc8863-8c33-4828-a77a-d5d4a57bbc71",
   "metadata": {},
   "source": [
    "The following statement can be read, \n",
    "\n",
    "\"For each record in the `colors` table:\n",
    "\n",
    "If the record's cell value in the `wavelength` column is greater than 500, then, in the result table `hot_or_cold` column make that record's cell value `This is a hot color`.\n",
    "\n",
    "Else, if the record's cell value in the `wavelength` column is less than or equal to 500, then, in the result table `hot_or_cold` column make that record's cell value `This is a cool color`.\""
   ]
  },
  {
   "cell_type": "markdown",
   "id": "55e384c6-88cc-4562-a322-619805357d92",
   "metadata": {},
   "source": [
    "**`CASE`, `WHEN`, `THEN`**"
   ]
  },
  {
   "cell_type": "markdown",
   "id": "8ad96bd6-2133-4068-a39f-b7822f5b37d0",
   "metadata": {},
   "source": [
    "**Alias Used**"
   ]
  },
  {
   "cell_type": "code",
   "execution_count": 120,
   "id": "6f810701-ecf2-4286-8c67-8571402aa7fe",
   "metadata": {},
   "outputs": [
    {
     "name": "stdout",
     "output_type": "stream",
     "text": [
      " * sqlite:///databases/db_ex.db\n"
     ]
    },
    {
     "data": {
      "text/html": [
       "<table>\n",
       "    <thead>\n",
       "        <tr>\n",
       "            <th>id</th>\n",
       "            <th>name</th>\n",
       "            <th>wavelength</th>\n",
       "            <th>hot_or_cold</th>\n",
       "        </tr>\n",
       "    </thead>\n",
       "    <tbody>\n",
       "        <tr>\n",
       "            <td>1</td>\n",
       "            <td>Red</td>\n",
       "            <td>700</td>\n",
       "            <td>This is a hot color.</td>\n",
       "        </tr>\n",
       "        <tr>\n",
       "            <td>2</td>\n",
       "            <td>Orange</td>\n",
       "            <td>600</td>\n",
       "            <td>This is a hot color.</td>\n",
       "        </tr>\n",
       "        <tr>\n",
       "            <td>3</td>\n",
       "            <td>Yellow</td>\n",
       "            <td>575</td>\n",
       "            <td>This is a hot color.</td>\n",
       "        </tr>\n",
       "        <tr>\n",
       "            <td>4</td>\n",
       "            <td>Green</td>\n",
       "            <td>550</td>\n",
       "            <td>This is a cool color.</td>\n",
       "        </tr>\n",
       "        <tr>\n",
       "            <td>5</td>\n",
       "            <td>Blue</td>\n",
       "            <td>475</td>\n",
       "            <td>This is a cool color.</td>\n",
       "        </tr>\n",
       "        <tr>\n",
       "            <td>6</td>\n",
       "            <td>Purple</td>\n",
       "            <td>400</td>\n",
       "            <td>This is a cool color.</td>\n",
       "        </tr>\n",
       "    </tbody>\n",
       "</table>"
      ],
      "text/plain": [
       "[(1, 'Red', 700, 'This is a hot color.'),\n",
       " (2, 'Orange', 600, 'This is a hot color.'),\n",
       " (3, 'Yellow', 575, 'This is a hot color.'),\n",
       " (4, 'Green', 550, 'This is a cool color.'),\n",
       " (5, 'Blue', 475, 'This is a cool color.'),\n",
       " (6, 'Purple', 400, 'This is a cool color.')]"
      ]
     },
     "execution_count": 120,
     "metadata": {},
     "output_type": "execute_result"
    }
   ],
   "source": [
    "%%sql\n",
    "\n",
    "SELECT *,\n",
    "CASE \n",
    "    WHEN  wavelength > 550 THEN 'This is a hot color.'\n",
    "    WHEN wavelength <=550 THEN 'This is a cool color.'\n",
    "END AS hot_or_cold\n",
    "FROM color;"
   ]
  },
  {
   "cell_type": "markdown",
   "id": "f2da1392-31c9-4215-bc6e-8e4a46f8991d",
   "metadata": {},
   "source": [
    "**Alias not used**"
   ]
  },
  {
   "cell_type": "code",
   "execution_count": 121,
   "id": "242518d5-caf9-4394-88b1-fabf5c70dafc",
   "metadata": {},
   "outputs": [
    {
     "name": "stdout",
     "output_type": "stream",
     "text": [
      " * sqlite:///databases/db_ex.db\n"
     ]
    },
    {
     "data": {
      "text/html": [
       "<table>\n",
       "    <thead>\n",
       "        <tr>\n",
       "            <th>id</th>\n",
       "            <th>name</th>\n",
       "            <th>wavelength</th>\n",
       "            <th>CASE <br>    WHEN  wavelength &gt; 550 THEN &#x27;This is a hot color.&#x27;<br>    WHEN wavelength &lt;=550 THEN &#x27;This is a cool color.&#x27;<br>END</th>\n",
       "        </tr>\n",
       "    </thead>\n",
       "    <tbody>\n",
       "        <tr>\n",
       "            <td>1</td>\n",
       "            <td>Red</td>\n",
       "            <td>700</td>\n",
       "            <td>This is a hot color.</td>\n",
       "        </tr>\n",
       "        <tr>\n",
       "            <td>2</td>\n",
       "            <td>Orange</td>\n",
       "            <td>600</td>\n",
       "            <td>This is a hot color.</td>\n",
       "        </tr>\n",
       "        <tr>\n",
       "            <td>3</td>\n",
       "            <td>Yellow</td>\n",
       "            <td>575</td>\n",
       "            <td>This is a hot color.</td>\n",
       "        </tr>\n",
       "        <tr>\n",
       "            <td>4</td>\n",
       "            <td>Green</td>\n",
       "            <td>550</td>\n",
       "            <td>This is a cool color.</td>\n",
       "        </tr>\n",
       "        <tr>\n",
       "            <td>5</td>\n",
       "            <td>Blue</td>\n",
       "            <td>475</td>\n",
       "            <td>This is a cool color.</td>\n",
       "        </tr>\n",
       "        <tr>\n",
       "            <td>6</td>\n",
       "            <td>Purple</td>\n",
       "            <td>400</td>\n",
       "            <td>This is a cool color.</td>\n",
       "        </tr>\n",
       "    </tbody>\n",
       "</table>"
      ],
      "text/plain": [
       "[(1, 'Red', 700, 'This is a hot color.'),\n",
       " (2, 'Orange', 600, 'This is a hot color.'),\n",
       " (3, 'Yellow', 575, 'This is a hot color.'),\n",
       " (4, 'Green', 550, 'This is a cool color.'),\n",
       " (5, 'Blue', 475, 'This is a cool color.'),\n",
       " (6, 'Purple', 400, 'This is a cool color.')]"
      ]
     },
     "execution_count": 121,
     "metadata": {},
     "output_type": "execute_result"
    }
   ],
   "source": [
    "%%sql\n",
    "\n",
    "SELECT *,\n",
    "CASE \n",
    "    WHEN  wavelength > 550 THEN 'This is a hot color.'\n",
    "    WHEN wavelength <=550 THEN 'This is a cool color.'\n",
    "END\n",
    "FROM color;"
   ]
  },
  {
   "cell_type": "markdown",
   "id": "c3da71ca-650e-492a-bb59-44144f77885e",
   "metadata": {},
   "source": [
    "---"
   ]
  },
  {
   "cell_type": "markdown",
   "id": "ea535a2b-7564-45cb-a6b6-4edf443784f1",
   "metadata": {},
   "source": [
    "### JOIN\n",
    "\n",
    "- Database tables in second normal or third number form may only store a portion of the data a user wants to view in a result table\n",
    "- Join statements can combine multiple tables and are commonly used along with `SELECT` and other DQL keywords\n",
    "- SQL syntax for join statements are included in the *Relational Database* section "
   ]
  },
  {
   "cell_type": "markdown",
   "id": "88408a7e-b99d-493f-aff3-a5ed1dfeae8c",
   "metadata": {},
   "source": [
    "---"
   ]
  },
  {
   "cell_type": "markdown",
   "id": "5597dc06-244d-400d-92f0-510d0dca605c",
   "metadata": {},
   "source": [
    "### UNION\n",
    "\n",
    "`UNION`--combine the result tables from two or more select statements. If two result tables, would glue records from the second result table onto the bottom of the first.  Columns are matched based on their position after the `SELECT` keyword.  Because of this, every select statement within `UNION` must return the same number of columns in the same column order in the result set.  Though not always a requirement, matching columns should also contain the same data type.  \n",
    "\n",
    "Note that union is different than a join.  A join statement inputs the original tables while union inputs result tables.  A join statement glues the left and right side of tables together (adds columns) while a union glues the top and bottom of tables together (adds rows).\n",
    "\n",
    "`UNION ALL`--same as `UNION` but includes non-distinct records.  `UNION` only includes distinct records.\n",
    "\n",
    "```sql\n",
    "SELECT column_name_a, column_name_b FROM table_name_a\n",
    "UNION ALL\n",
    "SELECT column_name_1, column_name_2 FROM table_name_b;\n",
    "```"
   ]
  },
  {
   "cell_type": "markdown",
   "id": "b7320784-e876-4b71-9ae2-76481fa95ef8",
   "metadata": {},
   "source": [
    "---"
   ]
  },
  {
   "cell_type": "markdown",
   "id": "18351298-5eac-4604-8dc2-294476506dd9",
   "metadata": {},
   "source": [
    "**EXAMPLES**"
   ]
  },
  {
   "cell_type": "code",
   "execution_count": 122,
   "id": "b13b9019-2f39-4ef4-b902-7c3d30798eab",
   "metadata": {},
   "outputs": [
    {
     "name": "stdout",
     "output_type": "stream",
     "text": [
      " * sqlite:///databases/db_ex.db\n"
     ]
    },
    {
     "data": {
      "text/html": [
       "<table>\n",
       "    <thead>\n",
       "        <tr>\n",
       "            <th>name</th>\n",
       "        </tr>\n",
       "    </thead>\n",
       "    <tbody>\n",
       "        <tr>\n",
       "            <td>Red</td>\n",
       "        </tr>\n",
       "        <tr>\n",
       "            <td>Orange</td>\n",
       "        </tr>\n",
       "        <tr>\n",
       "            <td>Yellow</td>\n",
       "        </tr>\n",
       "        <tr>\n",
       "            <td>Green</td>\n",
       "        </tr>\n",
       "        <tr>\n",
       "            <td>Blue</td>\n",
       "        </tr>\n",
       "        <tr>\n",
       "            <td>Purple</td>\n",
       "        </tr>\n",
       "    </tbody>\n",
       "</table>"
      ],
      "text/plain": [
       "[('Red',), ('Orange',), ('Yellow',), ('Green',), ('Blue',), ('Purple',)]"
      ]
     },
     "execution_count": 122,
     "metadata": {},
     "output_type": "execute_result"
    }
   ],
   "source": [
    "%%sql\n",
    "\n",
    "SELECT name FROM color;"
   ]
  },
  {
   "cell_type": "code",
   "execution_count": 123,
   "id": "1979a8f6-387c-4820-b543-fabaa40f4ef2",
   "metadata": {},
   "outputs": [
    {
     "name": "stdout",
     "output_type": "stream",
     "text": [
      " * sqlite:///databases/db_ex.db\n"
     ]
    },
    {
     "data": {
      "text/html": [
       "<table>\n",
       "    <thead>\n",
       "        <tr>\n",
       "            <th>name</th>\n",
       "        </tr>\n",
       "    </thead>\n",
       "    <tbody>\n",
       "        <tr>\n",
       "            <td>Strawberry</td>\n",
       "        </tr>\n",
       "        <tr>\n",
       "            <td>Strawberry</td>\n",
       "        </tr>\n",
       "        <tr>\n",
       "            <td>Strawberry</td>\n",
       "        </tr>\n",
       "        <tr>\n",
       "            <td>Cherry</td>\n",
       "        </tr>\n",
       "        <tr>\n",
       "            <td>Cherry</td>\n",
       "        </tr>\n",
       "    </tbody>\n",
       "</table>"
      ],
      "text/plain": [
       "[('Strawberry',), ('Strawberry',), ('Strawberry',), ('Cherry',), ('Cherry',)]"
      ]
     },
     "execution_count": 123,
     "metadata": {},
     "output_type": "execute_result"
    }
   ],
   "source": [
    "%%sql\n",
    "\n",
    "SELECT name FROM fruit;"
   ]
  },
  {
   "cell_type": "markdown",
   "id": "ac687e1c-bba6-4ea3-a205-420f2a124467",
   "metadata": {},
   "source": [
    "**`UNION`**"
   ]
  },
  {
   "cell_type": "code",
   "execution_count": 124,
   "id": "81fa78fc-14fc-439c-8780-86c63b5e1825",
   "metadata": {},
   "outputs": [
    {
     "name": "stdout",
     "output_type": "stream",
     "text": [
      " * sqlite:///databases/db_ex.db\n"
     ]
    },
    {
     "data": {
      "text/html": [
       "<table>\n",
       "    <thead>\n",
       "        <tr>\n",
       "            <th>name</th>\n",
       "        </tr>\n",
       "    </thead>\n",
       "    <tbody>\n",
       "        <tr>\n",
       "            <td>Blue</td>\n",
       "        </tr>\n",
       "        <tr>\n",
       "            <td>Cherry</td>\n",
       "        </tr>\n",
       "        <tr>\n",
       "            <td>Green</td>\n",
       "        </tr>\n",
       "        <tr>\n",
       "            <td>Orange</td>\n",
       "        </tr>\n",
       "        <tr>\n",
       "            <td>Purple</td>\n",
       "        </tr>\n",
       "        <tr>\n",
       "            <td>Red</td>\n",
       "        </tr>\n",
       "        <tr>\n",
       "            <td>Strawberry</td>\n",
       "        </tr>\n",
       "        <tr>\n",
       "            <td>Yellow</td>\n",
       "        </tr>\n",
       "    </tbody>\n",
       "</table>"
      ],
      "text/plain": [
       "[('Blue',),\n",
       " ('Cherry',),\n",
       " ('Green',),\n",
       " ('Orange',),\n",
       " ('Purple',),\n",
       " ('Red',),\n",
       " ('Strawberry',),\n",
       " ('Yellow',)]"
      ]
     },
     "execution_count": 124,
     "metadata": {},
     "output_type": "execute_result"
    }
   ],
   "source": [
    "%%sql\n",
    "\n",
    "SELECT name FROM color\n",
    "UNION\n",
    "SELECT name FROM fruit;"
   ]
  },
  {
   "cell_type": "markdown",
   "id": "5b6290d4-9e05-42e0-ba4c-6d6a3819465b",
   "metadata": {},
   "source": [
    "**`UNION ALL`**"
   ]
  },
  {
   "cell_type": "code",
   "execution_count": 125,
   "id": "ab5c531b-e187-48a3-baf4-90641d35ca6c",
   "metadata": {},
   "outputs": [
    {
     "name": "stdout",
     "output_type": "stream",
     "text": [
      " * sqlite:///databases/db_ex.db\n"
     ]
    },
    {
     "data": {
      "text/html": [
       "<table>\n",
       "    <thead>\n",
       "        <tr>\n",
       "            <th>name</th>\n",
       "        </tr>\n",
       "    </thead>\n",
       "    <tbody>\n",
       "        <tr>\n",
       "            <td>Red</td>\n",
       "        </tr>\n",
       "        <tr>\n",
       "            <td>Orange</td>\n",
       "        </tr>\n",
       "        <tr>\n",
       "            <td>Yellow</td>\n",
       "        </tr>\n",
       "        <tr>\n",
       "            <td>Green</td>\n",
       "        </tr>\n",
       "        <tr>\n",
       "            <td>Blue</td>\n",
       "        </tr>\n",
       "        <tr>\n",
       "            <td>Purple</td>\n",
       "        </tr>\n",
       "        <tr>\n",
       "            <td>Strawberry</td>\n",
       "        </tr>\n",
       "        <tr>\n",
       "            <td>Strawberry</td>\n",
       "        </tr>\n",
       "        <tr>\n",
       "            <td>Strawberry</td>\n",
       "        </tr>\n",
       "        <tr>\n",
       "            <td>Cherry</td>\n",
       "        </tr>\n",
       "        <tr>\n",
       "            <td>Cherry</td>\n",
       "        </tr>\n",
       "    </tbody>\n",
       "</table>"
      ],
      "text/plain": [
       "[('Red',),\n",
       " ('Orange',),\n",
       " ('Yellow',),\n",
       " ('Green',),\n",
       " ('Blue',),\n",
       " ('Purple',),\n",
       " ('Strawberry',),\n",
       " ('Strawberry',),\n",
       " ('Strawberry',),\n",
       " ('Cherry',),\n",
       " ('Cherry',)]"
      ]
     },
     "execution_count": 125,
     "metadata": {},
     "output_type": "execute_result"
    }
   ],
   "source": [
    "%%sql\n",
    "\n",
    "SELECT name FROM color\n",
    "UNION ALL\n",
    "SELECT name FROM fruit;"
   ]
  },
  {
   "cell_type": "markdown",
   "id": "f93d740d-0693-48e0-80f9-c2d00a781f08",
   "metadata": {},
   "source": [
    "---"
   ]
  },
  {
   "cell_type": "markdown",
   "id": "0f0952d7-39f8-46af-b3c9-ba533ece883f",
   "metadata": {},
   "source": [
    "### CREATE VIEW\n",
    "`CREATE VIEW`--create virtual table (the \"view\") based on the result table from a query\n",
    "\n",
    "Similar to ordinary result table, but also behaves more like ordinary tables:\n",
    " \n",
    "1. View is permanently viewable\n",
    "1. View updates as data changes\n",
    "1. View can itself be queried (that's how we view the view)\n",
    "1. View can be modified or dropped\n",
    "    \n",
    "```sql\n",
    "CREATE VIEW view_name AS\n",
    "SELECT *\n",
    "FROM table_name;\n",
    "```\n",
    "\n",
    "`CREATE OR REPLACE VIEW`--update view.  Create a new view and reassign to the same identifier.\n",
    "\n",
    "```sql\n",
    "CREATE OR REPLACE VIEW view_name AS\n",
    "SELECT *\n",
    "FROM table_name;\n",
    "```\n",
    "\n",
    "`DROP VIEW`--delete view\n",
    "```sql\n",
    "DROP VIEW view_name\n",
    "```"
   ]
  },
  {
   "cell_type": "markdown",
   "id": "a1a9d268-6da0-4e84-bd4c-ef0a71a369ab",
   "metadata": {},
   "source": [
    "---"
   ]
  },
  {
   "cell_type": "markdown",
   "id": "7845cd49-3837-4c42-b86b-a7719d544f69",
   "metadata": {},
   "source": [
    "**EXAMPLES**"
   ]
  },
  {
   "cell_type": "markdown",
   "id": "bffca8c7-79d1-4fa4-a56c-7a9965cfb55b",
   "metadata": {},
   "source": [
    "**`DROP VIEW`**"
   ]
  },
  {
   "cell_type": "code",
   "execution_count": 126,
   "id": "91b8e384-3ad9-4122-8bf6-bcfaa3e9e1ec",
   "metadata": {},
   "outputs": [
    {
     "name": "stdout",
     "output_type": "stream",
     "text": [
      " * sqlite:///databases/db_ex.db\n"
     ]
    },
    {
     "data": {
      "text/plain": [
       "[]"
      ]
     },
     "execution_count": 126,
     "metadata": {},
     "output_type": "execute_result"
    }
   ],
   "source": [
    "%%sql\n",
    "\n",
    "DROP VIEW IF EXISTS view_color;"
   ]
  },
  {
   "cell_type": "markdown",
   "id": "de8567b8-5b6d-49f9-924b-2193a7895cd2",
   "metadata": {},
   "source": [
    "**`CREATE VIEW`**"
   ]
  },
  {
   "cell_type": "code",
   "execution_count": 127,
   "id": "6aed79c8-e56a-48dc-8ae7-502b25dbeb1a",
   "metadata": {},
   "outputs": [
    {
     "name": "stdout",
     "output_type": "stream",
     "text": [
      " * sqlite:///databases/db_ex.db\n"
     ]
    },
    {
     "data": {
      "text/html": [
       "<table>\n",
       "    <thead>\n",
       "        <tr>\n",
       "            <th>name</th>\n",
       "            <th>wavelength</th>\n",
       "        </tr>\n",
       "    </thead>\n",
       "    <tbody>\n",
       "        <tr>\n",
       "            <td>Red</td>\n",
       "            <td>700</td>\n",
       "        </tr>\n",
       "        <tr>\n",
       "            <td>Orange</td>\n",
       "            <td>600</td>\n",
       "        </tr>\n",
       "        <tr>\n",
       "            <td>Yellow</td>\n",
       "            <td>575</td>\n",
       "        </tr>\n",
       "        <tr>\n",
       "            <td>Green</td>\n",
       "            <td>550</td>\n",
       "        </tr>\n",
       "    </tbody>\n",
       "</table>"
      ],
      "text/plain": [
       "[('Red', 700), ('Orange', 600), ('Yellow', 575), ('Green', 550)]"
      ]
     },
     "execution_count": 127,
     "metadata": {},
     "output_type": "execute_result"
    }
   ],
   "source": [
    "%%sql\n",
    "\n",
    "CREATE VIEW view_color AS\n",
    "SELECT name, wavelength\n",
    "FROM color\n",
    "WHERE wavelength > 500;\n",
    "\n",
    "SELECT *\n",
    "FROM view_color;"
   ]
  },
  {
   "cell_type": "markdown",
   "id": "a6bca0ad-0216-40ed-b39d-d3b0a1fa8536",
   "metadata": {},
   "source": [
    "The view changes as the data the view references changes"
   ]
  },
  {
   "cell_type": "code",
   "execution_count": 128,
   "id": "9b475c17-e9f6-46da-920b-51e040227612",
   "metadata": {},
   "outputs": [
    {
     "name": "stdout",
     "output_type": "stream",
     "text": [
      " * sqlite:///databases/db_ex.db\n"
     ]
    },
    {
     "data": {
      "text/html": [
       "<table>\n",
       "    <thead>\n",
       "        <tr>\n",
       "            <th>name</th>\n",
       "            <th>wavelength</th>\n",
       "        </tr>\n",
       "    </thead>\n",
       "    <tbody>\n",
       "        <tr>\n",
       "            <td>Red</td>\n",
       "            <td>675</td>\n",
       "        </tr>\n",
       "        <tr>\n",
       "            <td>Orange</td>\n",
       "            <td>600</td>\n",
       "        </tr>\n",
       "        <tr>\n",
       "            <td>Yellow</td>\n",
       "            <td>575</td>\n",
       "        </tr>\n",
       "        <tr>\n",
       "            <td>Green</td>\n",
       "            <td>550</td>\n",
       "        </tr>\n",
       "    </tbody>\n",
       "</table>"
      ],
      "text/plain": [
       "[('Red', 675), ('Orange', 600), ('Yellow', 575), ('Green', 550)]"
      ]
     },
     "execution_count": 128,
     "metadata": {},
     "output_type": "execute_result"
    }
   ],
   "source": [
    "%%sql\n",
    "\n",
    "UPDATE color\n",
    "SET wavelength = 675\n",
    "WHERE name = 'Red';\n",
    "\n",
    "SELECT *\n",
    "FROM view_color;"
   ]
  },
  {
   "cell_type": "markdown",
   "id": "faac62e1-63d9-49f4-9589-4e4ed86460ed",
   "metadata": {},
   "source": [
    "---"
   ]
  },
  {
   "cell_type": "markdown",
   "id": "4a2dc423-d3d0-4a6a-9360-9d48e124ac0a",
   "metadata": {},
   "source": [
    "### Subquery\n",
    "\n",
    "- **Subquery**--query nested within another SQL statement\n",
    "    1. Enclosed in `()`.  Subquery does NOT end in a semi-colon.\n",
    "    1. Often found within `SELECT`, `INSERT`, `UPDATE` or `DELETE` statements.  Which clause they are placed in depends on the shape of the result set.  When placed within the `FROM` clause, the returned result table is called a **Derived Table**.\n",
    "    1. Subqueries must be able to run on their own.  It is common to write the subquery as an independent query first, verify the result is as expected, and then include it as a subquery.\n",
    "    \n",
    "```sql\n",
    "SELECT *\n",
    "FROM (subquery);\n",
    "```\n",
    "\n",
    "- *Subqueries are useful, but subqueries can make code hard to read and are slower to run.  Where possible, it is recommended to avoid subqueries and use JOINs or common table expressions.*"
   ]
  },
  {
   "cell_type": "markdown",
   "id": "7f7badaf-ff7f-4425-a109-c473a722e72b",
   "metadata": {},
   "source": [
    "---"
   ]
  },
  {
   "cell_type": "markdown",
   "id": "4c8ae2d3-5e8f-4118-8382-e339e735b2c3",
   "metadata": {},
   "source": [
    "**EXAMPLES**"
   ]
  },
  {
   "cell_type": "markdown",
   "id": "fa5a1cb1-d801-463e-9568-63bf5a5c5cb9",
   "metadata": {},
   "source": [
    "**Simple Subquery**"
   ]
  },
  {
   "cell_type": "code",
   "execution_count": 129,
   "id": "56cc8dfc-c94f-4278-bf18-07c0bfa1ccc5",
   "metadata": {},
   "outputs": [
    {
     "name": "stdout",
     "output_type": "stream",
     "text": [
      " * sqlite:///databases/db_ex.db\n"
     ]
    },
    {
     "data": {
      "text/html": [
       "<table>\n",
       "    <thead>\n",
       "        <tr>\n",
       "            <th>(SELECT &#x27;Hello world&#x27;)</th>\n",
       "        </tr>\n",
       "    </thead>\n",
       "    <tbody>\n",
       "        <tr>\n",
       "            <td>Hello world</td>\n",
       "        </tr>\n",
       "    </tbody>\n",
       "</table>"
      ],
      "text/plain": [
       "[('Hello world',)]"
      ]
     },
     "execution_count": 129,
     "metadata": {},
     "output_type": "execute_result"
    }
   ],
   "source": [
    "%%sql\n",
    "\n",
    "SELECT (SELECT 'Hello world');"
   ]
  },
  {
   "cell_type": "markdown",
   "id": "6f825bd9-9cc1-41aa-acdf-5da8fd7e268e",
   "metadata": {},
   "source": [
    "**Subquery used as Derived Table**\n",
    "\n",
    "We'll first view what the subquery result set would be by itself, and then use it nested within an outer query"
   ]
  },
  {
   "cell_type": "code",
   "execution_count": 130,
   "id": "f173250c-20e3-433b-9f44-6b405d83ae9f",
   "metadata": {},
   "outputs": [
    {
     "name": "stdout",
     "output_type": "stream",
     "text": [
      " * sqlite:///databases/db_ex.db\n"
     ]
    },
    {
     "data": {
      "text/html": [
       "<table>\n",
       "    <thead>\n",
       "        <tr>\n",
       "            <th>id</th>\n",
       "            <th>name</th>\n",
       "            <th>wavelength</th>\n",
       "        </tr>\n",
       "    </thead>\n",
       "    <tbody>\n",
       "        <tr>\n",
       "            <td>1</td>\n",
       "            <td>Red</td>\n",
       "            <td>675</td>\n",
       "        </tr>\n",
       "        <tr>\n",
       "            <td>2</td>\n",
       "            <td>Orange</td>\n",
       "            <td>600</td>\n",
       "        </tr>\n",
       "        <tr>\n",
       "            <td>3</td>\n",
       "            <td>Yellow</td>\n",
       "            <td>575</td>\n",
       "        </tr>\n",
       "        <tr>\n",
       "            <td>4</td>\n",
       "            <td>Green</td>\n",
       "            <td>550</td>\n",
       "        </tr>\n",
       "    </tbody>\n",
       "</table>"
      ],
      "text/plain": [
       "[(1, 'Red', 675), (2, 'Orange', 600), (3, 'Yellow', 575), (4, 'Green', 550)]"
      ]
     },
     "execution_count": 130,
     "metadata": {},
     "output_type": "execute_result"
    }
   ],
   "source": [
    "%%sql\n",
    "\n",
    "SELECT *\n",
    "FROM color\n",
    "WHERE wavelength > 500"
   ]
  },
  {
   "cell_type": "code",
   "execution_count": 131,
   "id": "ccc1b58b-83ec-4caf-8141-acfffd4b8bcd",
   "metadata": {},
   "outputs": [
    {
     "name": "stdout",
     "output_type": "stream",
     "text": [
      " * sqlite:///databases/db_ex.db\n"
     ]
    },
    {
     "data": {
      "text/html": [
       "<table>\n",
       "    <thead>\n",
       "        <tr>\n",
       "            <th>id</th>\n",
       "            <th>name</th>\n",
       "            <th>wavelength</th>\n",
       "        </tr>\n",
       "    </thead>\n",
       "    <tbody>\n",
       "        <tr>\n",
       "            <td>3</td>\n",
       "            <td>Yellow</td>\n",
       "            <td>575</td>\n",
       "        </tr>\n",
       "        <tr>\n",
       "            <td>4</td>\n",
       "            <td>Green</td>\n",
       "            <td>550</td>\n",
       "        </tr>\n",
       "    </tbody>\n",
       "</table>"
      ],
      "text/plain": [
       "[(3, 'Yellow', 575), (4, 'Green', 550)]"
      ]
     },
     "execution_count": 131,
     "metadata": {},
     "output_type": "execute_result"
    }
   ],
   "source": [
    "%%sql\n",
    "\n",
    "SELECT *\n",
    "FROM (\n",
    "    SELECT *\n",
    "    FROM color\n",
    "    WHERE wavelength > 500\n",
    ")\n",
    "WHERE wavelength < 600;"
   ]
  },
  {
   "cell_type": "markdown",
   "id": "715b8740-7cb3-4c4c-9593-bdbd35bcd310",
   "metadata": {},
   "source": [
    "**Subquery used in Condition**\n",
    "\n",
    "We'll first view what the subquery result set would be by itself, and then use it nested within an outer query"
   ]
  },
  {
   "cell_type": "code",
   "execution_count": 132,
   "id": "9e11732f-57c6-4d25-ae3c-5771a5fa3e7c",
   "metadata": {},
   "outputs": [
    {
     "name": "stdout",
     "output_type": "stream",
     "text": [
      " * sqlite:///databases/db_ex.db\n"
     ]
    },
    {
     "data": {
      "text/html": [
       "<table>\n",
       "    <thead>\n",
       "        <tr>\n",
       "            <th>AVG(LENGTH(name))</th>\n",
       "        </tr>\n",
       "    </thead>\n",
       "    <tbody>\n",
       "        <tr>\n",
       "            <td>5.0</td>\n",
       "        </tr>\n",
       "    </tbody>\n",
       "</table>"
      ],
      "text/plain": [
       "[(5.0,)]"
      ]
     },
     "execution_count": 132,
     "metadata": {},
     "output_type": "execute_result"
    }
   ],
   "source": [
    "%%sql\n",
    "\n",
    "SELECT AVG(LENGTH(name)) \n",
    "FROM color;"
   ]
  },
  {
   "cell_type": "code",
   "execution_count": 133,
   "id": "4a6d1ce1-b065-43bb-ba12-4a4cea231686",
   "metadata": {},
   "outputs": [
    {
     "name": "stdout",
     "output_type": "stream",
     "text": [
      " * sqlite:///databases/db_ex.db\n"
     ]
    },
    {
     "data": {
      "text/html": [
       "<table>\n",
       "    <thead>\n",
       "        <tr>\n",
       "            <th>name</th>\n",
       "        </tr>\n",
       "    </thead>\n",
       "    <tbody>\n",
       "        <tr>\n",
       "            <td>Orange</td>\n",
       "        </tr>\n",
       "        <tr>\n",
       "            <td>Yellow</td>\n",
       "        </tr>\n",
       "        <tr>\n",
       "            <td>Purple</td>\n",
       "        </tr>\n",
       "    </tbody>\n",
       "</table>"
      ],
      "text/plain": [
       "[('Orange',), ('Yellow',), ('Purple',)]"
      ]
     },
     "execution_count": 133,
     "metadata": {},
     "output_type": "execute_result"
    }
   ],
   "source": [
    "%%sql\n",
    "\n",
    "SELECT name\n",
    "FROM color\n",
    "WHERE LENGTH(name) > (\n",
    "    SELECT AVG(LENGTH(name)) \n",
    "    FROM color\n",
    ");"
   ]
  },
  {
   "cell_type": "markdown",
   "id": "bbba0110-fb33-4fae-a929-0b0ce801ce5d",
   "metadata": {},
   "source": [
    "---"
   ]
  },
  {
   "cell_type": "markdown",
   "id": "48bfbb4d-3e82-46d7-896d-c6e10417c0f7",
   "metadata": {
    "tags": []
   },
   "source": [
    "### Common Table Expression\n",
    "\n",
    "- **Common Table Expression (CTE)**--temporary named result set that we can reference within `SELECT`, `INSERT`, `UPDATE`, or `DELETE` statements. It is temporary because the CTE result set only exists for a single query.  It is named because we give it a variable name.\n",
    "\n",
    "```sql\n",
    "WITH CTE_result_set_name AS (\n",
    "    query\n",
    ")\n",
    "SELECT *\n",
    "FROM CTE_result_set_name\n",
    "```\n",
    "\n",
    "- Note that there is NOT a semicolon at the end of the CTE SQL statement\n",
    "- CTEs and subqueries are very similar.  However, there are differences between CTE and subqueries.\n",
    "\n",
    "Quality | Subquery | CTE\n",
    "--- | --- | ---\n",
    "Easier to read? | No | Yes\n",
    "Potentially faster? | No | Yes\n",
    "Potentially recursive? | No | Yes\n",
    "Code typed once and reusable many times within query? | No | Yes\n",
    "Can act like single column | Yes | No\n",
    "Can be used directly in a `WHERE` clause? | Yes | No\n",
    "\n",
    "- As we see here, CTE are generally better, but have limitations. Unlike subqueries CTEs are never treated as a scalar value or a single column.  They are always treated like a full table. This prevents them from being used directly in a `WHERE` clause.  CTE are commonly used in place of derived tables."
   ]
  },
  {
   "cell_type": "markdown",
   "id": "a9aaa9c4-e92c-4ad1-bc37-bdd601f25ed7",
   "metadata": {},
   "source": [
    "---"
   ]
  },
  {
   "cell_type": "markdown",
   "id": "0dd85457-a70e-4497-a46f-c4e7b96535c7",
   "metadata": {},
   "source": [
    "**EXAMPLES**"
   ]
  },
  {
   "cell_type": "markdown",
   "id": "9df4d697-5138-4896-8d26-559a0a64011e",
   "metadata": {},
   "source": [
    "**Simple CTE**"
   ]
  },
  {
   "cell_type": "code",
   "execution_count": 134,
   "id": "7726b516-0876-42ac-bde3-26d68d86a59b",
   "metadata": {},
   "outputs": [
    {
     "name": "stdout",
     "output_type": "stream",
     "text": [
      " * sqlite:///databases/db_ex.db\n"
     ]
    },
    {
     "data": {
      "text/html": [
       "<table>\n",
       "    <thead>\n",
       "        <tr>\n",
       "            <th>&#x27;Hello world&#x27;</th>\n",
       "        </tr>\n",
       "    </thead>\n",
       "    <tbody>\n",
       "        <tr>\n",
       "            <td>Hello world</td>\n",
       "        </tr>\n",
       "    </tbody>\n",
       "</table>"
      ],
      "text/plain": [
       "[('Hello world',)]"
      ]
     },
     "execution_count": 134,
     "metadata": {},
     "output_type": "execute_result"
    }
   ],
   "source": [
    "%%sql\n",
    "\n",
    "WITH celestial_salutation AS ( \n",
    "    SELECT 'Hello world' \n",
    ")\n",
    "SELECT * \n",
    "FROM celestial_salutation;"
   ]
  },
  {
   "cell_type": "markdown",
   "id": "d524eda1-7d3e-45e1-879f-a41cae951bd4",
   "metadata": {},
   "source": [
    "**CTE as Derived Table**\n",
    "\n",
    "We'll first view what the CTE result set would be by itself, and then use it within the query"
   ]
  },
  {
   "cell_type": "code",
   "execution_count": 135,
   "id": "f38d2f07-e3b0-4d11-8ece-0c00da61cc43",
   "metadata": {},
   "outputs": [
    {
     "name": "stdout",
     "output_type": "stream",
     "text": [
      " * sqlite:///databases/db_ex.db\n"
     ]
    },
    {
     "data": {
      "text/html": [
       "<table>\n",
       "    <thead>\n",
       "        <tr>\n",
       "            <th>id</th>\n",
       "            <th>name</th>\n",
       "            <th>wavelength</th>\n",
       "        </tr>\n",
       "    </thead>\n",
       "    <tbody>\n",
       "        <tr>\n",
       "            <td>1</td>\n",
       "            <td>Red</td>\n",
       "            <td>675</td>\n",
       "        </tr>\n",
       "        <tr>\n",
       "            <td>2</td>\n",
       "            <td>Orange</td>\n",
       "            <td>600</td>\n",
       "        </tr>\n",
       "        <tr>\n",
       "            <td>3</td>\n",
       "            <td>Yellow</td>\n",
       "            <td>575</td>\n",
       "        </tr>\n",
       "        <tr>\n",
       "            <td>4</td>\n",
       "            <td>Green</td>\n",
       "            <td>550</td>\n",
       "        </tr>\n",
       "    </tbody>\n",
       "</table>"
      ],
      "text/plain": [
       "[(1, 'Red', 675), (2, 'Orange', 600), (3, 'Yellow', 575), (4, 'Green', 550)]"
      ]
     },
     "execution_count": 135,
     "metadata": {},
     "output_type": "execute_result"
    }
   ],
   "source": [
    "%%sql\n",
    "\n",
    "SELECT *\n",
    "FROM color\n",
    "WHERE wavelength > 500"
   ]
  },
  {
   "cell_type": "code",
   "execution_count": 136,
   "id": "9f6035b9-df65-4d37-bb0e-91377229d087",
   "metadata": {},
   "outputs": [
    {
     "name": "stdout",
     "output_type": "stream",
     "text": [
      " * sqlite:///databases/db_ex.db\n"
     ]
    },
    {
     "data": {
      "text/html": [
       "<table>\n",
       "    <thead>\n",
       "        <tr>\n",
       "            <th>id</th>\n",
       "            <th>name</th>\n",
       "            <th>wavelength</th>\n",
       "        </tr>\n",
       "    </thead>\n",
       "    <tbody>\n",
       "        <tr>\n",
       "            <td>3</td>\n",
       "            <td>Yellow</td>\n",
       "            <td>575</td>\n",
       "        </tr>\n",
       "        <tr>\n",
       "            <td>4</td>\n",
       "            <td>Green</td>\n",
       "            <td>550</td>\n",
       "        </tr>\n",
       "    </tbody>\n",
       "</table>"
      ],
      "text/plain": [
       "[(3, 'Yellow', 575), (4, 'Green', 550)]"
      ]
     },
     "execution_count": 136,
     "metadata": {},
     "output_type": "execute_result"
    }
   ],
   "source": [
    "%%sql\n",
    "\n",
    "WITH CTE_result_set_name AS(\n",
    "    SELECT *\n",
    "    FROM color\n",
    "    WHERE wavelength > 500\n",
    ")\n",
    "SELECT *\n",
    "FROM CTE_result_set_name\n",
    "WHERE wavelength < 600;"
   ]
  },
  {
   "cell_type": "markdown",
   "id": "18000294-40af-4f5d-854e-7fdbff3c5acc",
   "metadata": {},
   "source": [
    "---"
   ]
  },
  {
   "cell_type": "markdown",
   "id": "fbf3c221-c660-459b-af61-f4a94431aee4",
   "metadata": {},
   "source": [
    "### Indexes\n",
    "\n",
    "- **Blocks**--each database table is stored in computer non-volatile memory.  The rows in the table are split into a bunch of groups and each group of rows is stored in a \"block\" of computer memory.  A block is a pre-allocated bucket/bin/chunk of computer memory typically about 8 KiB in size.\n",
    "\n",
    "![](images/blocks.png)\n",
    "\n",
    "- **Sequential/Full Table Scan**--CRUD database by going through all the rows in the table.  Sequential scans require the computer to go to a block, go through all rows in the block, and repeat for each block comprising the table.  This is Linear Time, O(n), and is relatively slow.\n",
    "    - E.g. `SELECT * FROM table_name WHERE name LIKE '%Subject'`\n",
    "- **Database Index**--internal data structure that stores the location in the computer memory (block and row location) of desired values.  \n",
    "- Enables us avoid full table scans and quickly retrieve desired values.  With indexes, an operation may go from Linear Time to Logarithmic Time or even Constant Time!  This will depend on the index data structure, field type, and whether we are doing C, R, U, or D.\n",
    "    - E.g. create index for `id` column. Maps each row's `id` value to the row's computer memory location.  Use row `id` in a condition to quickly retrieve row.  `SELECT * FROM table_name WHERE id = 10`.\n",
    "- Database indexes are similar to indexes in a book:\n",
    "    1. Book: important words are mapped to page numbers\n",
    "    1. Database index: important rows or values are mapped to computer memory locations\n",
    "- Indexes have a couple trade offs:\n",
    "    1. Indexes require writes and a relatively small amount of storage space to maintain the index data structure\n",
    "    1. When new rows are inserted or existing rows are updated, the index data structure must be updated.  This actually slows down the CU operation.\n",
    "-  For this reason indexes:\n",
    "    1. Increase performance for repeated reads (queries)\n",
    "    1. Decrease performance for repeated writes (inserts and updates)\n",
    "- Indexes are created:\n",
    "    1. Implicitly.   RDBMS create indexes for us when constraints like `PRIMARY KEY` and`UNIQUE` are defined.  RDBMS use indexes to enforce these constraints.\n",
    "    1. Explicitly.  Indexes can be created explicitly with RDBMS commands.\n",
    "\n",
    "`CREATE INDEX`--explicitly create index.  Duplicate cell values in column allowed.  Uses RDBMS default index data structure.\n",
    "```sql\n",
    "CREATE INDEX index_name\n",
    "ON table_name (column_name)\n",
    "```\n",
    "\n",
    "`CREATE INDEX UNIQUE`--same as `CREATE INDEX`, but duplicate cell values in column not allowed.  Note that in most RDBMS, explicitly creating unique indexes is not necessary. This is because any column with a unique constraint implicitly has a unique index built for it already.  We would just be duplicating this.\n",
    "```sql\n",
    "CREATE INDEX UNIQUE index_name\n",
    "ON table_name (column_name)\n",
    "```\n",
    "\n",
    "**Expression Index**--\"an index column need not be just a column of the underlying table, but can be a function or scalar expression computed from one or more columns of the table. This feature is useful to obtain fast access to tables based on the results of computations.\"\n",
    "```sql\n",
    "CREATE INDEX index_name\n",
    "ON table_name (FUNCTION(column_name))\n",
    "```\n",
    "\n",
    "`DROP INDEX`--delete index\n",
    "```sql\n",
    "DROP INDEX index_name\n",
    "```\n",
    "- *Note that syntax for indexes varies by RDBMS as index creation is not part of the SQL standard*"
   ]
  },
  {
   "cell_type": "markdown",
   "id": "e5bf052e-71c3-4e08-a776-89cb5da8205e",
   "metadata": {},
   "source": [
    "---"
   ]
  },
  {
   "cell_type": "markdown",
   "id": "8f8ce04d-59c0-41bb-bb20-2701f8426aea",
   "metadata": {},
   "source": [
    "#### Forward Indexes\n",
    "\n",
    "- There are many types of index data structures.  They can be grouped into \"forward\" or \"inverse\" indexes.\n",
    "- **Forward Index**--normal index.  Specify column.  Index data structure maps column values to computer memory location.  Retrieve rows fast using column values.\n",
    "     1. **B-Trees**--self balancing tree data structure.  Most common index data structure and often the default index data structure.  Used for conditions with comparison operators (`>`, `<`, `>=`, `<=`, and `=`).  Used with `BETWEEN`, `IN`, `IS NULL`, and `NOT NULL` operators.  Used for `LIKE 'characters%'` (but not `LIKE '%characters'` with the `%` prefixing).  Sometimes used to retrieve data in sorted order.\n",
    "         - E.g. `SELECT * FROM table_name WHERE name LIKE 'Subject%'`\n",
    "     1. **Hashes**--specify column.  Each cell value is passed through a hash function before it's mapped to computer memory location.  Retrieve row quickly only when  `=` operator used in a condition.\n",
    "         - E.g. `SELECT * FROM table_name WHERE id = 10`\n",
    "     1. **BRIN**--block range index.  Similar to B-tree index, but requires less storage space and runs faster.  However, only faster if the data is mostly sorted.  Newer and not commonly used yet."
   ]
  },
  {
   "cell_type": "markdown",
   "id": "3fe2ed16-3a51-41b9-b271-a08d9a1fbf11",
   "metadata": {},
   "source": [
    "---"
   ]
  },
  {
   "cell_type": "markdown",
   "id": "ec845595-352c-4017-acae-ea342bc8e5ff",
   "metadata": {},
   "source": [
    "#### Inverse Indexes\n",
    "\n",
    "- **Inverse Index**--index used for word (or other item) searches.  Specify column (typically TEXT column).  Each row typically contains a text document. For each row, split up the document (often splits at ' ') into array (list) of words.  Maps each word in array to that document.  Later perform text search on column.  Quickly retrieve rows (documents) containing search term words.  Additional functionality added similar to Google searches, including ranking of search results.\n",
    "     1. **GIN**--generalized inverted indexes.  Best inverted index for read-heavy operations.  The most common inverted index and often the default.\n",
    "     1. **GIST**--generalized search tree. Uses hash functions. Potential for hash collisions, but these are checked by RDBMS automatically.  Smaller index size.  Potentially best inverted index for write-heavy operations.  Not as common.\n",
    "     1. **SP-GiST**--space partitioned generalized search tree.  Mostly used for spatial data like latitude and longitude.\n",
    "- Inverse indexes are often used for searching natural language documents\n",
    "    - **Natural language**--ordinary languages.  English, Spanish, Standard Mandarin, Hindi, etc.  Not a programming language.\n",
    "    - For advanced functionality we must specify a natural language\n",
    "    - Common strategies employed by inverse indexes include: \n",
    "        - Ignore case.  The meaning of lower and uppercase letters is typically equivalent.\n",
    "        - Ignore stop words.  **Stop words** are very common words and symbols.  \n",
    "            - E.g. \"the\", \"in\", '.', etc.\n",
    "        - Conflation/stemming.  Treat words with the same stem the same.  This stem is called a **lexeme**.  \n",
    "            - E.g. \"jumps\" and \"jumped\" may all be treated equivalent to the stem, \"jump\"\n",
    "- Inverse indexes are also often used for searching programming language documents like JSON, XML, and HTML documents"
   ]
  },
  {
   "cell_type": "markdown",
   "id": "cd54705b-1d5c-45bf-a30d-72c8f3db2a55",
   "metadata": {},
   "source": [
    "---"
   ]
  },
  {
   "cell_type": "markdown",
   "id": "b25271fa-bd17-4821-a519-1c43d67a0558",
   "metadata": {},
   "source": [
    "### Dates and Times\n",
    "\n",
    "- Date and time data is tricky to work with:\n",
    "    - Dates and times are formatted differently all around the world and even within the same country\n",
    "    - There are different types of time such as local times (offset from UTC and uses daylight saving time), UTC, Unix time, atomic time, etc.\n",
    "    - The number of days in a month varies, the number of days in a year varies (leap year) and the number of seconds in a minute can even vary (leap second)\n",
    "- Luckily there are standard data time formats.  Also, most RDBMS have date time data types that enforce certain formats.\n",
    "- **Timestamp**--in most RDBMS, a \"timestamp\" includes both date and time data\n",
    "- Best practice to store timestamps in UTC with time zone data.  UTC can be converted to local time if an application retrieves our data time data from the database and displays it to a user\n",
    "- *Note that  each RDBMS has different date time data types.  Notably, SQLite does not even have a date or date-time data type and instead uses strings and date time functions.* "
   ]
  },
  {
   "cell_type": "markdown",
   "id": "6f07c6ea-fcb4-4f95-9687-075b495402be",
   "metadata": {},
   "source": [
    "---"
   ]
  },
  {
   "cell_type": "markdown",
   "id": "5e052276-92dc-40dd-a180-a3d07115ff49",
   "metadata": {
    "tags": []
   },
   "source": [
    "### Stored Procedures\n",
    "- **Procedural language**--vague definition.  Programming language paradigm that focuses on writing steps a program must take to get to a given state (as opposed to objects or more math like functions).  More or less the same as imperative programming/structured paradigms, but with a focus on writing procedures.  \n",
    "- **Stored Procedure**--store procedure in RDBMS and assign procedure to identifier so we can later call identifier to run procedure.  Stored procedures can optionally accept user arguments when called.  In the context of a RDBMS stored procedures are similar to an SQL script. However, depending on the language used to define the procedure, there may be added functionality not available in base SQL.\n",
    "- SQL can be used to write procedures.  However, procedures can also be written in other languages.  SQL/PSM defines standards for SQL procedural languages, but each RDBMS has there own flavor.\n",
    "    1. Oracle--PL/SQL\n",
    "    1. PostgreSQL--PL/pgSQL\n",
    "    1. SQL Server--Transact-SQL\n",
    "    1. IBM DB2--SQL PL\n",
    "    1. MySQL--similar to SQL/PSM standard\n",
    "    1. SQLite--does NOT support stored procedures\n",
    "- Other stand alone programming languages can also be used, but often don't have the full functionality of the RDBMS specific procedural languages:\n",
    "    1. C\n",
    "    1. Java\n",
    "    1. Python\n",
    "    1. Etc.\n",
    "- Procedural languages implement control flow features not seen in base SQL such as:\n",
    "    - If-then statements\n",
    "    - For loops\n",
    "    - While loops\n",
    "- There are pros and cons of stored procedures:\n",
    "    1. Pros\n",
    "       1. Reusable code\n",
    "       1. Use control flow logic unavailable in base SQL\n",
    "       1. Faster.  Storing procedure in the RDBMS means only the identifier must be passed to the RDBMS over a network and the RDBMS can do fancy optimizations.\n",
    "       1. Option to set permission levels to access stored procedures\n",
    "    1. Cons\n",
    "       1. Must learn procedural language dialect\n",
    "       1. Debugging and unit testing of stored procedures is difficult\n",
    "       1. Version control of stored procedure code is difficult\n",
    "       1. Stored procedure code is not easily ported from one RDBMS to another because of dialect differences\n",
    "- Typically the cons of stored procedures outweigh the pros, but there are certain circumstances where they are helpful\n",
    "- Alternatives to stored procedures include:\n",
    "    1. Reusable code within SQL scripts that are run manually by the user.  These can not implement control flow logic.\n",
    "    1. Reusable code within other applications run automatically as part of a larger process. Commands from the application may be written in SQL (e.g. Python libraries like sqlite3 and pyscopg) or using an ORM (e.g. SQLAlchemy and Django ORM).  These can use control flow logic built into the other programming language (e.g. Python)."
   ]
  },
  {
   "cell_type": "markdown",
   "id": "0662f386-6e02-47c3-a97d-934e56a9ac11",
   "metadata": {},
   "source": [
    "---"
   ]
  },
  {
   "cell_type": "markdown",
   "id": "4d4a8e13-7147-4de3-9cf1-b1b27f75be14",
   "metadata": {
    "tags": []
   },
   "source": [
    "### Code Injection"
   ]
  },
  {
   "cell_type": "markdown",
   "id": "874f1bcc-d9b7-492a-80fa-c018b738d27d",
   "metadata": {},
   "source": [
    "- **Injection**--common hacking technique for databases that are connected to the web.  It is the placement of malicious code in SQL statements, via web page input.  Occurs when a website asks for user input like a user name or password,  but an SQL statement is put in instead which is run unknowingly on the database.\n",
    "- We'll show a conceptual example  \n",
    "- E.g. we ask a user for their username.  Let's say their username, `my_username`, is somehow inputted into our SQL code.  It may end up looking like this:\n",
    "\n",
    "```sql\n",
    "SELECT *\n",
    "FROM users\n",
    "WHERE username = 'BlackKnight1975';\n",
    "```\n",
    "\n",
    "- However, a hacker could enter the user name `anything'; DROP TABLE users;'`.  If our entire username is placed within single quotes in the SQL code it may end up looking like this:\n",
    "\n",
    "```sql\n",
    "SELECT *\n",
    "FROM users\n",
    "WHERE username = 'anything'; DROP TABLE users;'';\n",
    "```\n",
    "\n",
    "- The intended query would not return any records, but the following one would drop a table!\n",
    "- SQL code injection occurs when databases are connected to a public network.  For a website this means that the front end application run on a web browser accepts data from a user (e.g. an SQL statement masquerading as a username).  It passes the user data onto the back end application run on a web server.  The back end program will be written in a language such as PHP, Javascript, Ruby, Python, or Go.  From there, the back end application will place the user data into an SQL statement and send it to the RDBMS. \n",
    "- The back end application code can be written in a way that prevents SQL injection.  This involves query placeholders and parameters.\n",
    "    1. **Query Placeholder**--symbol placed into SQL statement that will later be replaced by a parameter\n",
    "    1. **SQL Parameter**--values (e.g. data entered by user) that eventually replace the query placeholder\n",
    "- Back end applications pass the parameter to the RDBMS in such a way that it is only ever treated literally, and never as SQL that could be run.  This prevents SQL code injection.\n",
    "- E.g. here is an SQL statement that inserts a new row.  The query placeholder is `%s`. Each `%s` will eventually be replaced by the parameter in the following Python tuple.  The Python library `pyscopg` sends the SQL statement and the parameters to PostgreSQL separately.  PostgreSQL replaces the query placeholders with the parameter in a controlled way.\n",
    "\n",
    "```python\n",
    "cur.execute(\n",
    "    \"INSERT INTO table_name (column_name_a, column_name_b) VALUES (%s, %s)\", \n",
    "    (parameter_a, parameter_b)\n",
    ")\n",
    "```"
   ]
  },
  {
   "cell_type": "markdown",
   "id": "a06eff24-785f-4633-a493-05cf3c9d8d01",
   "metadata": {},
   "source": [
    "---"
   ]
  },
  {
   "cell_type": "markdown",
   "id": "69e761ee-c371-4bee-abc7-a2f118329e14",
   "metadata": {},
   "source": [
    "# PostgreSQL\n",
    "- Concepts common to all RDBMS have been covered in the above sections\n",
    "- Software and syntax specific to the PostgreSQL RDBMS are included below"
   ]
  },
  {
   "cell_type": "markdown",
   "id": "392badbf-1867-4376-949d-2134d26e709b",
   "metadata": {},
   "source": [
    "---"
   ]
  },
  {
   "cell_type": "markdown",
   "id": "4deccf5b-d81a-406b-a8d4-b0646772c4f7",
   "metadata": {},
   "source": [
    "## Introduction\n",
    "\n",
    "- PostgreSQL is an open source relational database management system (RDBMS)\n",
    "- PostgreSQL began as a project at the University of Berkeley in the 1980s.\n",
    "- It was originally named POSTGRES as it is the successor (**Post**) to the Ingres (**gres**) DBMS.  Ingres stands for **In**teractive **G**raphics and **Re**trieval **S**ystem.\n",
    "- In 1996, after years of refinement it was released as PostgreSQL.  Many people still call it Postgres because of tradition or because it is easier to pronounce.\n",
    "- Over the years it has remained open source and retained a large developer community.  It now rightfully calls itself, \"The world's most advanced open source relational database.\"\n",
    "- While PostgreSQL primarily focuses on storing data in related tables, in also blends in features of other database models.  This includes the ability to store objects and documents.  For this reason it is also called an \"object relational\" DBMS.\n",
    "- Last, but not least, their mascot is an elephant:\n",
    "\n",
    "![](images/pg_elephant.png)"
   ]
  },
  {
   "cell_type": "markdown",
   "id": "dccf58d5-37f2-4c18-abc5-8b450886aa59",
   "metadata": {},
   "source": [
    "---"
   ]
  },
  {
   "cell_type": "markdown",
   "id": "f974ca0e-3780-40f4-8eee-2b0101f4c15b",
   "metadata": {},
   "source": [
    "## Software Installation\n",
    "\n",
    "- Like most DBMS, PostgreSQL uses the client-server model\n",
    "- The server software is the PostgresSQL RDBMS software\n",
    "- Popular client software includes:\n",
    "    - **psql**--open source command line client made specifically for the PostgreSQL RDBMS\n",
    "    - **pgAdmin**--open source SQL IDE client made specifically for the PostgreSQL RDBMS\n",
    "    - **DBeaver**--open-source SQL IDE client that can communicate with most RDBMS\n",
    "    - **JetBrains DataGrip**--proprietary SQL IDE client that can communicate with most RDBMS\n",
    "- PostgreSQL, psql, and pgAdmin are all installed at the same time with the official PostgreSQL distribution: https://www.postgresql.org/download/.  May be redirected to EDB to download the file.  EDB is a company that manages PostgreSQL databases. They also contribute to PostgreSQL open source code. \n",
    "- During installation we'll choose:\n",
    "    - Installation location file path (or accept default path)\n",
    "    - Default port.  Often defaults to `5432`.\n",
    "    - Database superuser name.  Often defaults to `postgres`.\n",
    "    - Password\n",
    "- **Superuser**--account with administrator level permissions.  `sudo` sometimes used in commands.  Stands for \"Superuser Do\".  Where applicable, temporarily elevates the permission level of a user to superuser."
   ]
  },
  {
   "cell_type": "markdown",
   "id": "04eb596d-f266-4cd7-8977-57d3e6e06e73",
   "metadata": {},
   "source": [
    "---"
   ]
  },
  {
   "cell_type": "markdown",
   "id": "9f3fb906-c905-4a80-a927-02aa94742b35",
   "metadata": {},
   "source": [
    "## psql"
   ]
  },
  {
   "cell_type": "markdown",
   "id": "08b2917f-8f1f-47bc-9a23-c73b11cf7e88",
   "metadata": {},
   "source": [
    "---"
   ]
  },
  {
   "cell_type": "markdown",
   "id": "3a167bcf-bfbe-47e5-9f56-0bdc69b0aaeb",
   "metadata": {},
   "source": [
    "### Database Connection\n",
    "\n",
    "- **Database Connection**--an active link between the SQL client software and the PostgreSQL server software\n",
    "- When psql is opened, psql always tries to establish a database connection.  To do this it prompts us for the following pieces of information:\n",
    "    1. **Host**--name of database server.  Which computer running PostgreSQL do we want to connect to?  A database server can manage many databases.  If host not specified defaults to `localhost`.\n",
    "        - A local host means that the computer currently running the psql client software also has the PostgreSQL server software.   We connect to the computer we are currently using.  \n",
    "        - A remote host means that the PostgreSQL server software is running on a different computer than the psql client software.  Remote host names are either a URI or IP address. \n",
    "    1. **Port**--the network port that PostgreSQL uses.  If not specified, defaults to `5432`.\n",
    "    1. **Database**--PostgreSQL database name that we want to access.  If not specified, defaults to the operating system username.  This is often `postgres`.\n",
    "    1. **Username**--username we wish to connect with.  If not specified defaults to the operating system username.  This is often the same as the database name, `postgres`.\n",
    "    1. **Password**--password associated with username.  psql will prompt us for a password if this isn't provided.  When connecting to a local host, the password is the same password that was declared when PostgreSQL was initially installed.\n",
    "- Within the psql shell we may provide these pieces of information in multiple ways:\n",
    "    1. Input pieces of information as prompted by psql\n",
    "    1. Input flag values with pieces of information (except the password): \n",
    "        - `psql -h <HOST_NAME> -p <PORT> -U <USERNAME> <DATABASE_NAME>` \n",
    "        - Press enter to move through prompts.  We will receive warning messages about ignored command line arguments. Input password when prompted. \n",
    "    1. Input connection string with key-value pair format.  Pairs are separated by spaces (not commas).  It is enclosed in quotes.\n",
    "        - `psql \"host=<HOST_NAME> port=<PORT> dbname=<DATABASE_NAME> user=<USERNAME> password=<PASSWORD>\"`\n",
    "        - Press enter to move through prompts.  We will receive warning messages about ignored command line arguments.\n",
    "    1. Input connection string with URI format. Quotes appear to be optional (maybe because no spaces?).\n",
    "        - `psql \"postgresql://<USERNAME>:<PASSWORD>@<HOST_NAME>:<PORT>/<DATABASE>\"`\n",
    "        - Press enter to move through prompts.  We will receive warning messages about ignored command line arguments.\n",
    "- Once a database connection has been established, psql will display the command line prompt.  This is the database name followed by one of the following symbols:\n",
    "    1. **`=#`**--psql is connected to a host and is ready to accept a new command.  This may be a metacommand or SQL statement.  Current role is superuser.\n",
    "    1. **`-#`**--psql is connected to a host and is waiting for more information to complete the current command.  Command can be ended by typing in `;`.  Current role is superuser.\n",
    "    1. **`=>`**--same as `=#`, but indicates user is NOT a superuser\n",
    "    1. **`->`** --same as `-#`,  but indicates user is NOT a superuser\n",
    "- If we use defaults and log into our local host the prompt will likely be `postgres=#`"
   ]
  },
  {
   "cell_type": "markdown",
   "id": "0c6a4484-c2ef-41f0-8ca8-384baee746df",
   "metadata": {},
   "source": [
    "---"
   ]
  },
  {
   "cell_type": "markdown",
   "id": "3a66949a-15b2-4a4b-a066-9b855edb4dfb",
   "metadata": {
    "tags": []
   },
   "source": [
    "### Meta Commands\n",
    "\n",
    "- After connecting to the database, we can pass normal SQL commands through psql to PostgreSQL\n",
    "- **psql meta command**--also known as slash or backslash commands.  Any command starting with an unquoted backslash that is processed by psql itself.  \n",
    "- The format of a psql meta command is the backslash, followed immediately by a command verb (often abbreviated down to a letter), then any arguments.  Arguments are separated from the command verb and other arguments by one or more whitespace characters.\n",
    "\n",
    "Code | Use\n",
    "--- | --\n",
    "`q` | Stop psql from showing more output\n",
    "`\\?` | Print metacommand descriptions\n",
    "`\\h` | Print SQL keywords.  Optionally, specify SQL keyword, `\\h <SQL_KEYWORD>`.\n",
    "`\\l` | Lowercase \"L\".  List all databases on server.\n",
    "`+` | When `+` included after the command verb it indicates that extra info will be included.  E.g. `\\l+`.\n",
    "`\\du` | Print roles/users on server\n",
    "`\\c` | Connect to a database.  Indicate database name, `\\c <DATABASE_NAME>`\n",
    "`\\d` | Print tables, views, and sequences in current database. Optionally, specify table to print info for, `\\d <TABLE_NAME>`.\n",
    "`\\dt` | Same as `\\d`, but only includes tables\n",
    "`\\! cls` | Clear screen\n",
    "`\\q` | Quit psql program"
   ]
  },
  {
   "cell_type": "markdown",
   "id": "2a186030-b955-4440-a5e9-a79fd688a283",
   "metadata": {},
   "source": [
    "---"
   ]
  },
  {
   "cell_type": "markdown",
   "id": "b59e7d53-e5d1-4f85-b52e-7dd1240cb15b",
   "metadata": {
    "tags": []
   },
   "source": [
    "## DDL Keywords\n",
    "\n",
    "- DDL syntax seems to vary between RDBMS more than DML or DQL syntax"
   ]
  },
  {
   "cell_type": "markdown",
   "id": "d6d7d6f2-5a1e-4d14-b676-7222584caeb8",
   "metadata": {},
   "source": [
    "---"
   ]
  },
  {
   "cell_type": "markdown",
   "id": "51c1285d-009d-4c34-8209-e5324a08485b",
   "metadata": {},
   "source": [
    "### CREATE USER\n",
    "\n",
    "- If we have established a local connection with the default options we will likely be logged in as the superuser and see the prompt `postgres=#`.\n",
    "- It is recommended that we interact with databases with non-superuser accounts when possible.  This prevents us from accidentally making large changes that are only possible with superuser privileges. For this reason, we'll create a new user and then switch to that new user.\n",
    "\n",
    "`CREATE USER`--define a new database user (same as \"role\" in PostgreSQL). Many options can be placed after username.  These are separated with spaces, NOT commas.\n",
    "```sql\n",
    "CREATE USER username NOSUPERUSER CREATEDB LOGIN PASSWORD password;\n",
    "```\n",
    "\n",
    "- **Session User**--normally the user who initiated the current database connection\n",
    "- **Current User**--normally equal to the session user.  Relevant for permission checking.\n",
    "\n",
    "`SELECT SESSION_USER, CURRENT_USER`--print the session user and current user\n",
    "\n",
    "`SET SESSION AUTHORIZATION`--change session user.  Must be superuser to change session user.\n",
    "```sql\n",
    "SET SESSION AUTHORIZATION username;\n",
    "```\n",
    "\n",
    "`SET ROLE`--change current user\n",
    "```sql\n",
    "SET USER username;\n",
    "```\n",
    "\n",
    "- Changing the current user is sufficient as this affects permission checking.  We can verify that `SET ROLE` worked using `SELECT CURRENT_USER`.  We can also see that the psql prompt has changed from `=#` to  `=>`."
   ]
  },
  {
   "cell_type": "markdown",
   "id": "eb81df49-0dad-4ad0-aab2-a53b1e3e3dab",
   "metadata": {},
   "source": [
    "---"
   ]
  },
  {
   "cell_type": "markdown",
   "id": "1782c217-0cc0-4dcc-95ee-02657726b620",
   "metadata": {},
   "source": [
    "### CREATE DATABASE\n",
    "- We can now create a new database.  Note that `createdb` failed for me on Windows, but `CREATE DATABASE` worked.  We can drop our databases when needed.\n",
    "\n",
    "`CREATE DATABASE`--create database.  Many optional arguments.\n",
    "```sql\n",
    "CREATE DATABASE database_name;\n",
    "```\n",
    "\n",
    "`DROP DATABASE`--delete a database.  User executing command must be a superuser or database owner.  Must not be currently connected to database.  CAUTION!!! This can not be undone.  CAUTION!!!\n",
    "\n",
    "```sql\n",
    "DROP DATABASE database_name;\n",
    "```"
   ]
  },
  {
   "cell_type": "markdown",
   "id": "149c5bcb-3604-4fc5-b035-6348dbe731ff",
   "metadata": {},
   "source": [
    "---"
   ]
  },
  {
   "cell_type": "markdown",
   "id": "0054638c-d4c5-44c5-99a9-b50815f67996",
   "metadata": {},
   "source": [
    "### Data Types"
   ]
  },
  {
   "cell_type": "markdown",
   "id": "a8ff063d-d309-4411-ac3c-2aa034754980",
   "metadata": {},
   "source": [
    "---"
   ]
  },
  {
   "cell_type": "markdown",
   "id": "7a906f90-98e5-4e0e-bf0c-db35ea19f5d6",
   "metadata": {},
   "source": [
    "#### All Data Types"
   ]
  },
  {
   "cell_type": "markdown",
   "id": "9b1b5256-1455-46b2-a9ca-c01a837f7b39",
   "metadata": {},
   "source": [
    "![](images/data_types.png) "
   ]
  },
  {
   "cell_type": "markdown",
   "id": "9b388432-92d0-4da0-a117-5d36c6733d91",
   "metadata": {},
   "source": [
    "![](images/data_types_numeric.png)"
   ]
  },
  {
   "cell_type": "markdown",
   "id": "4ccc9eb6-0cb2-408e-9f62-c60362850627",
   "metadata": {},
   "source": [
    "![](images/data_types_date_time.png)"
   ]
  },
  {
   "cell_type": "markdown",
   "id": "4cbd9025-7bed-48cf-bb4e-36d8fcd049ff",
   "metadata": {},
   "source": [
    "---"
   ]
  },
  {
   "cell_type": "markdown",
   "id": "796d4882-cfb3-4d55-8d01-1bb9a8b51da0",
   "metadata": {},
   "source": [
    "#### Common Data Types\n",
    "- The below table list the most common data types\n",
    "\n",
    "Data Type | Use\n",
    "--- | ---\n",
    "`SERIAL` | Autoincrementing positive integer up to ~ 2 billion.  Commonly used for primary key field.\n",
    "`BOOLEAN` | Boolean values\n",
    "`CHAR(n)` | Allocates space in the computer memory for the number of characters specified, n, for each cell value.  Only used when all cell values in a column will be exactly the specified length. Used for data like hash values. Not actually that common.\n",
    "`VARCHAR(n)` | Allocates variable amount of space in the computer memory, up to the specified number of characters.  Only used when we'll never need to store more than the specified number of characters.  Often used when we only want single words.  \n",
    "`TEXT` | Allocates a variable amount of space with no upper limit.  If we are unsure on an upper character limit, just use TEXT. There is no performance hit.   Used for data like sentences, paragraphs, natural language documents, HTML documents, etc.\n",
    "`INTEGER` | Commonly used integer data type. ~ -2 billion to ~ +2 billion.  `BIGINT` also common.\n",
    "`DOUBLE PRECISION` | Double precision floating point.  For real numbers, the most commonly used type. Bad for money and calculations that need to be very \"precise\".  Faster than `NUMERIC` and `MONEY`.\n",
    "`NUMERIC(<MAX_PRECISION>, <MAX_SCALE>)` | Arbitrary precision numbers.  Precision is the number of significant digits on either side of the decimal point.  Scale is the number of digits to the right of the decimal point.  Good for money and other times when \"precision\" matters.  Slower than integers and floating point numbers.\n",
    "`MONEY` | Similar to `NUMERIC`.  Scale typically fixed at 2.\n",
    "`DATE` | Year, month, date.  `CURRENT_DATE` will return current `DATE` value.\n",
    "`TIMESTAMPTZ` | Date and time with time zone information.  `CURRENT_TIMESTAMP` will return current `TIMESTAMPTZ` value in local time (same thing as `NOW())`.\n",
    "`JSONB` | Binary JSON. PostgreSQL's preferred data type for JSON."
   ]
  },
  {
   "cell_type": "markdown",
   "id": "2347dfea-e058-4e4f-bea3-604d4bd68e21",
   "metadata": {},
   "source": [
    "---"
   ]
  },
  {
   "cell_type": "markdown",
   "id": "6dccac22-9c9d-4bc8-9e5c-f57b82b45f60",
   "metadata": {},
   "source": [
    "#### Casting\n",
    "\n",
    "`pg_typeof()`--return data type\n",
    "\n",
    "```sql\n",
    "pg_typeof(value)\n",
    "```\n",
    "\n",
    "`CAST()`--convert value from one data type to another\n",
    "\n",
    "```sql\n",
    "CAST(value AS new_data_type)\n",
    "```\n",
    "\n",
    "`::`--alternative casting syntax.  More commonly used than `CAST()`.\n",
    "```sql\n",
    "value::new_data_type\n",
    "```"
   ]
  },
  {
   "cell_type": "markdown",
   "id": "9861a9a0-413a-4878-b6bf-1bda2ea2a56d",
   "metadata": {},
   "source": [
    "---"
   ]
  },
  {
   "cell_type": "markdown",
   "id": "a2734f7d-906a-4410-889d-416b998bdf66",
   "metadata": {},
   "source": [
    "#### Arrays\n",
    "\n",
    "- \"PostgreSQL allows columns of a table to be defined as variable-length multidimensional arrays\"\n",
    "- A multidimensional array is simply a nested array\n",
    "\n",
    "`ARRAY`--indicate array.  Placed after data type.\n",
    "```sql\n",
    "CREATE TABLE table_name (\n",
    "    column_name_a INTEGER ARRAY,\n",
    "    column_name_b TEXT ARRAY,\n",
    ");\n",
    "```\n",
    "\n",
    "- See documentation for:\n",
    "    1. Declaring/hinting array length and dimensions\n",
    "    1. Inserting arrays\n",
    "    1. Accessing array items with indexes and slices\n",
    "    1. Updating arrays\n",
    "- Arrays are not commonly used in relational databases  Most of the time, we want to take advantage of normalization.\n",
    "\n",
    "E.g. instead of using an array to hold team info and goal info like in the following table:\n",
    "```sql\n",
    "CREATE TABLE soccer_game (\n",
    "    id SERIAL PRIMARY KEY,\n",
    "    teams TEXT ARRAY,\n",
    "    goals INTEGER ARRAY\n",
    ");\n",
    "```\n",
    "\n",
    "We'd likely prefer to have a schema like this:\n",
    "```sql\n",
    "CREATE TABLE team (\n",
    "    id SERIAL PRIMARY KEY,\n",
    "    name TEXT\n",
    ");\n",
    "\n",
    "CREATE TABLE soccer_game (\n",
    "    id SERIAL PRIMARY KEY,\n",
    "    team_1_id TEXT REFERENCES team(id),\n",
    "    team_2_id TEXT REFERENCES team(id),\n",
    "    goals_team_1 INTEGER,\n",
    "    goals_team_2 INTEGER\n",
    ");\n",
    "```"
   ]
  },
  {
   "cell_type": "markdown",
   "id": "fd5d342a-47e6-479a-a6b8-ff1c784890d5",
   "metadata": {},
   "source": [
    "---"
   ]
  },
  {
   "cell_type": "markdown",
   "id": "fb8dd458-9d28-415c-80bb-a357741048dd",
   "metadata": {
    "tags": []
   },
   "source": [
    "### DEFAULT\n",
    "\n",
    "\n",
    "`DEFAULT`--if no row value is specified for this column during row creation or update, then insert default value\n",
    "\n",
    "```sql\n",
    "CREATE TABLE table_name(\n",
    "    column_name data_type DEFAULT default_value\n",
    ");\n",
    "```\n",
    "\n",
    "In PostgreSQL a common example is for a timestamp column to have a default of `CURRENT_TIMESTAMP`, so that it gets set to the time of row insertion.\n",
    "\n",
    "```sql\n",
    "CREATE TABLE table_name(\n",
    "    record_creation_timestamp TIMESTAMPTZ DEFAULT CURRENT_TIMESTAMP\n",
    ");\n",
    "```"
   ]
  },
  {
   "cell_type": "markdown",
   "id": "84a23fad-f682-4073-a488-00f7f298ff9d",
   "metadata": {},
   "source": [
    "---"
   ]
  },
  {
   "cell_type": "markdown",
   "id": "6d76041a-6510-49da-8fdd-f1904722b95b",
   "metadata": {
    "tags": []
   },
   "source": [
    "### GENERATED\n",
    "\n",
    "`GENERATED`--a generated column is a special column that is always computed from other columns\n",
    "```sql\n",
    "CREATE TABLE table_name (\n",
    "    column_name_a  data_type,\n",
    "    column_name_b  data_type GENERATED ALWAYS AS (column_a_used_in_an_expression) STORED\n",
    ");\n",
    "```\n",
    "\n",
    "E.g. we can convert distance from centimeters to inches\n",
    "```sql\n",
    "CREATE TABLE people (\n",
    "    height_cm numeric,\n",
    "    height_in numeric GENERATED ALWAYS AS (height_cm / 2.54) STORED\n",
    ");\n",
    "```"
   ]
  },
  {
   "cell_type": "markdown",
   "id": "4b23fe13-e2ec-498b-9703-838454a1f668",
   "metadata": {},
   "source": [
    "---"
   ]
  },
  {
   "cell_type": "markdown",
   "id": "dbb43cc7-ddca-4bba-b4d8-f4738ed159e6",
   "metadata": {},
   "source": [
    "### Constraints\n",
    "\n",
    "- State constraints that any new or updated row must meet to be included in table\n",
    "\n",
    "**Column constraints**--must refer to only one column.  Written to the right of the column creation syntax.  To clarify syntax, we'll use the `UNIQUE` constraint (discussed later).\n",
    "```sql\n",
    "CREATE TABLE table_name (\n",
    "    column_name  data_type UNIQUE\n",
    ");\n",
    "```\n",
    "\n",
    "**Table constraints**--can refer to multiple columns.  Written on own line with parentheses.  To clarify syntax, we'll use the `UNIQUE()` constraint (discussed later).\n",
    "```sql\n",
    "CREATE TABLE table_name (\n",
    "    column_name_a  data_type,\n",
    "    column_name_b data_type,\n",
    "    UNIQUE(column_name_a, column_name_b)\n",
    ");\n",
    "```"
   ]
  },
  {
   "cell_type": "markdown",
   "id": "ca70a3b4-6061-4e8f-823a-08898420ab47",
   "metadata": {},
   "source": [
    "---"
   ]
  },
  {
   "cell_type": "markdown",
   "id": "1a1126b0-4f26-4055-bbfe-f170b926923d",
   "metadata": {},
   "source": [
    "#### CHECK\n",
    "\n",
    "`CHECK`--row value in specified column used in Boolean expression.  Expression/condition must evaluate to true.\n",
    "```sql\n",
    "CREATE TABLE table_name (\n",
    "    column_name  data_type CHECK (condition)\n",
    ");\n",
    "```\n",
    "\n",
    "We can also name constraints.  This can be helpful for error messages or altering constraints.  Below we'll ensure that each record has a positive value in the column.  \n",
    "```sql\n",
    "CREATE TABLE table_name (\n",
    "    column_name  INTEGER CONSTRAINT must_be_positive CHECK (column_name > 0)\n",
    ");\n",
    "```"
   ]
  },
  {
   "cell_type": "markdown",
   "id": "f8882d25-80f8-49e4-b4f5-d94502bbc9ee",
   "metadata": {},
   "source": [
    "---"
   ]
  },
  {
   "cell_type": "markdown",
   "id": "3de93b52-299d-487e-a2a3-dec559db5057",
   "metadata": {},
   "source": [
    "#### NOT NULL\n",
    "\n",
    "`NOT NULL`--row value in specified column must not be NULL.  Always written as a column constraint\n",
    "```sql\n",
    "CREATE TABLE table_name (\n",
    "    column_name  data_type NOT NULL\n",
    ");\n",
    "```"
   ]
  },
  {
   "cell_type": "markdown",
   "id": "682e33a6-82dd-46b3-8bc4-40571e6c45bf",
   "metadata": {},
   "source": [
    "---"
   ]
  },
  {
   "cell_type": "markdown",
   "id": "07131152-77a0-48c5-9859-7474ba500358",
   "metadata": {},
   "source": [
    "#### UNIQUE\n",
    "\n",
    "`UNIQUE`--only allows records with distinct values in this column to be inserted into the table.  Internally, the RDBMS creates an B-tree index for this column.  Can be written as a column constraint or a table constraint.\n",
    "```sql\n",
    "CREATE TABLE table_name (\n",
    "    column_name  data_type UNIQUE\n",
    ");\n",
    "```\n",
    "When written as a table constraint it can refer to multiple columns.  A single column will not always form a logical key and provide unique values.  However, sometimes a combination of two or more columns can be used to form a \"compound logical key\" that should always be unique.  E.g. county name is unique in each state, but county names may repeat in different states.  We could not use county name as a logical key.  We could use state name and county name as a compound logical key.\n",
    "    \n",
    "```sql\n",
    "CREATE TABLE table_name (\n",
    "    column_name_a data_type,\n",
    "    column_name_b data_type,\n",
    "    UNIQUE(column_name_a, column_name_b)\n",
    ");\n",
    "```"
   ]
  },
  {
   "cell_type": "markdown",
   "id": "01175e90-1a9a-4bfa-bbba-0bfdc1794c4a",
   "metadata": {},
   "source": [
    "---"
   ]
  },
  {
   "cell_type": "markdown",
   "id": "cbb039ad-8385-4e29-b377-87796b4c7f66",
   "metadata": {},
   "source": [
    "#### PRIMARY KEY\n",
    "\n",
    "`PRIMARY KEY`--a combination of `UNIQUE` and `NOT NULL` constraints.  Most often, the `SERIAL` data type used for a table's primary key.\n",
    "```sql\n",
    "CREATE TABLE table_name(\n",
    "    id SERIAL PRIMARY KEY\n",
    ");\n",
    "```\n",
    "\n",
    "When written as a table constraint it can refer to multiple columns.  Like `UNIQUE` above.  Could use to form a compound key.\n",
    "```sql\n",
    "CREATE TABLE table_name (\n",
    "    column_name_a data_type,\n",
    "    column_name_b data_type,\n",
    "    PRIMARY KEY(column_name_a, column_name_b)\n",
    ");\n",
    "```"
   ]
  },
  {
   "cell_type": "markdown",
   "id": "bda7c96d-4264-4281-9eb1-cc25dba2c7db",
   "metadata": {},
   "source": [
    "---"
   ]
  },
  {
   "cell_type": "markdown",
   "id": "ac6cae80-c86b-4658-b414-af14ddfb0db0",
   "metadata": {},
   "source": [
    "#### FOREIGN KEY\n",
    "\n",
    "- `REFERENCES`--specify foreign key column.  Maintains referential integrity.  \n",
    "- **Referential Integrity**--a foreign key references the primary key in a foreign table.  The record with the referenced primary key is called the **referenced record** or the **parent record**.  The record with the foreign key is called the **referencing record** or **child record**.  Referential integrity prevents records from being inserted into the table with the foreign key, if the record's value in the foreign key column does not have a match in the primary key column of the foreign table.  I.e. it prevent us from using a foreign key value if there is no corresponding primary key.\n",
    "\n",
    "Below we create a table with a primary key field\n",
    "```sql\n",
    "CREATE TABLE table_name_a(\n",
    "    id SERIAL PRIMARY KEY,\n",
    "    name TEXT\n",
    ");\n",
    "```\n",
    "\n",
    "Below we create table with both primary and foreign key fields\n",
    "```sql\n",
    "CREATE TABLE table_name_b(\n",
    "    id SERIAL PRIMARY KEY,\n",
    "    name TEXT,\n",
    "    table_name_a_id INTEGER REFERENCES table_name_a(id)\n",
    ");\n",
    "```"
   ]
  },
  {
   "cell_type": "markdown",
   "id": "666500f4-ed5d-458b-8b38-b9038551839f",
   "metadata": {},
   "source": [
    "---"
   ]
  },
  {
   "cell_type": "markdown",
   "id": "34a4ec6e-9961-4a00-8d98-55607c236bf1",
   "metadata": {},
   "source": [
    "### ON DELETE\n",
    "\n",
    "- `ON DELETE`--specifies what happens to a child/referencing record when the parent/referenced record is deleted\n",
    "\n",
    "- `ON DELETE RESTRICT`--disallow deletion of parent record.  This is the default behavior.  When only `ON DELETE` typed, it means `ON DELETE RESTRICT`.  \n",
    "\n",
    "- `ON DELETE CASCADE`--if parent record is deleted, then all the child records are deleted.  Deleting one parent record may delete multiple child records.  If those children are parents to other children and there is the same constraint, then there will be a cascade of record deletions.  This cascade will tidy up a database, getting rid of (hopefully unneeded) rows.\n",
    "\n",
    "- `ON DELETE SET NULL`--if parent record is deleted then all child records' foreign key values changed to `NULL`. If `ON DELETE SET NULL`, is selected, we must also allow null values in the foreign key column.\n",
    "\n",
    "- `ON DELETE SET DEFAULT`--same as `ON DELETE SET NULL`, but child foreign key values changed to the default value"
   ]
  },
  {
   "cell_type": "markdown",
   "id": "51c8b226-38a7-4230-b46d-ebe5cc23a906",
   "metadata": {},
   "source": [
    "---"
   ]
  },
  {
   "cell_type": "markdown",
   "id": "ea78bd94-302d-4aba-a5f8-9d0124dfd0ef",
   "metadata": {},
   "source": [
    "### ALTER TABLE\n",
    "\n",
    "`ALTER TABLE`--performs different functions when combined with different keywords\n",
    "\n",
    "`RENAME TO`--rename table\n",
    "```sql\n",
    "ALTER TABLE old_table_name\n",
    "RENAME TO new_table_name;\n",
    "```\n",
    "\n",
    "`RENAME COLUMN`--rename column\n",
    "```sql\n",
    "ALTER TABLE table_name\n",
    "RENAME COLUMN old_column_name TO new_column_name;\n",
    "```\n",
    "\n",
    "`ADD COLUMN`--add column\n",
    "```sql\n",
    "ALTER TABLE table_name\n",
    "ADD COLUMN new_column_name data_type constraint;\n",
    "```\n",
    "\n",
    "`DROP COLUMN`--delete column\n",
    "```sql\n",
    "ALTER TABLE table_name\n",
    "DROP COLUMN column_name;\n",
    "```\n",
    "\n",
    "`ADD`--we can add a constraint using table constraint syntax.  We'll use `UNIQUE()` for the example, but it can also be used for other constraints like `CHECK()` and  `PRIMARY KEY()`.  See documentation for `NOT NULL` and foreign key syntax.\n",
    "```sql\n",
    "ALTER TABLE table_name\n",
    "ADD UNIQUE(column_name);\n",
    "```\n",
    "\n",
    "`DROP CONSTRAINT`--drop constraint.  Need identify constraint by name.  If we didn't give it a name initially, can find out its PosgreSQL auto-generated name with psql command `\\d <TABLE_NAME>`.\n",
    "```sql\n",
    "ALTER TABLE table_name\n",
    "DROP CONSTRAINT constraint_name;\n",
    "```\n",
    "\n",
    "`ALTER COLUMN`--either change column's default value or change column's data type.\n",
    "```sql\n",
    "ALTER TABLE table_name\n",
    "ALTER COLUMN column_name SET DEFAULT default_value;\n",
    "```\n",
    "\n",
    "```sql\n",
    "ALTER TABLE table_name\n",
    "ALTER COLUMN column_name TYPE data_type;\n",
    "```"
   ]
  },
  {
   "cell_type": "markdown",
   "id": "ec0a21f1-c0b9-4792-b1c6-38a5804d1d5b",
   "metadata": {},
   "source": [
    "---"
   ]
  },
  {
   "cell_type": "markdown",
   "id": "7e8e233c-90cd-41cc-a49d-feb5fc0838e1",
   "metadata": {},
   "source": [
    "## DML Keywords"
   ]
  },
  {
   "cell_type": "markdown",
   "id": "42e1c111-6c94-4e16-ab05-937b9ebaceb4",
   "metadata": {},
   "source": [
    "---"
   ]
  },
  {
   "cell_type": "markdown",
   "id": "815cb22f-b7ce-4e55-9474-847e92a63b6f",
   "metadata": {},
   "source": [
    "### COPY\n",
    "\n",
    "\n",
    "`COPY FROM`--copy data from a file to a table.  Each field from the file is inserted, in order, into the specified columns.  \n",
    "\n",
    "```sql\n",
    "COPY table_name\n",
    "FROM 'absolute_path/filename';\n",
    "```\n",
    "\n",
    "`COPY TO`--copy data from a table to a file.  Can also copy result set to file.  If a column list is specified, only those columns are copied to file.\n",
    "```sql\n",
    "COPY table_name\n",
    "TO 'absolute_path/filename';\n",
    "```\n",
    "\n",
    "- For both, if copy successful, prints out the number of rows copied\n",
    "- For both, absolute file paths are recommended\n",
    "- Copy to and from are commonly used with text data and CSV data.  Read documentation to learn more about how escape characters, line breaks, quotes, delimiters, and NULL values are handled."
   ]
  },
  {
   "cell_type": "markdown",
   "id": "9a729bc2-2148-4a0f-8b48-d760a9b8866b",
   "metadata": {},
   "source": [
    "---"
   ]
  },
  {
   "cell_type": "markdown",
   "id": "8eb1b111-d77e-4aba-9168-ce81e4c1d70f",
   "metadata": {
    "tags": []
   },
   "source": [
    "### RETURNING\n",
    "\n",
    "`RETURNING`--optional clause in `INSERT`, `UPDATE`, and `DELETE` data manipulation statements that returns the modified row(s) in a result set.  Similar to performing a select statement after the data manipulation, however `RETURNING` only returns the rows manipulated.  For inserts returns the inserted row(s).  For updates, returns the updated row(s).  For deletes, it returns the deleted row(s).\n",
    "\n",
    "```sql\n",
    "INSERT INTO table_name (column_name)\n",
    "VALUES (value)\n",
    "RETURNING *;\n",
    "```"
   ]
  },
  {
   "cell_type": "markdown",
   "id": "5d338620-1d7d-411e-932b-366dfe52e230",
   "metadata": {},
   "source": [
    "---"
   ]
  },
  {
   "cell_type": "markdown",
   "id": "b2b4a345-ec3b-47bf-ac69-23ff84715abc",
   "metadata": {},
   "source": [
    "### ON CONFLICT\n",
    "\n",
    "`ON CONFLICT`--tell RDBMS tell what to do if it runs into a constraint.  Similar to try except statement in Python.\n",
    "\n",
    "```sql\n",
    "Try SQL statement\n",
    "ON CONFLICT (column_name_that_may_cause_conflict, column_name_that...)\n",
    "DO SQL clause\n",
    "```\n",
    "\n",
    "Hypothetically, we have a table with a unique constraint on a column_name_a.  If we try to insert a record with a duplicate value for that column, the constraint will raise and error.  Below we tell the RDBMS to try to insert a record.  If a constraint raises an error because that cell value already exists in column_name_a, then update the record that already exists.  Keep the value in column_name_a the same, but update the value in column_name_b.\n",
    "```sql\n",
    "INSERT INTO table_name (column_name_a, column_name_b)\n",
    "VALUES ('Duplicate value for column a', 'New value for column b')\n",
    "ON CONFLICT (column_name_a)\n",
    "DO UPDATE SET column_name_b = 'New value for column b'\n",
    "```\n",
    "\n",
    "`ON CONFLICT` is commonly used to try to insert a new record, except update existing record.  It is easier to write and runs faster using a `CASE WHEN` conditional statement."
   ]
  },
  {
   "cell_type": "markdown",
   "id": "b38b3a82-eaa2-4541-8dfe-8e60c3c99450",
   "metadata": {},
   "source": [
    "---"
   ]
  },
  {
   "cell_type": "markdown",
   "id": "fdc3bd9d-235e-47a9-ab74-82539c125509",
   "metadata": {},
   "source": [
    "## DQL Keywords"
   ]
  },
  {
   "cell_type": "markdown",
   "id": "f8860715-658c-4cbc-8be4-70e933728df0",
   "metadata": {},
   "source": [
    "---"
   ]
  },
  {
   "cell_type": "markdown",
   "id": "2ea313f2-8bb5-4295-9bf3-bf7ba6d8c8c7",
   "metadata": {},
   "source": [
    "### Subquery\n",
    "\n",
    "- In PostgreSQL, \"Subqueries specifying a derived table must be enclosed in parentheses and must be assigned a table alias name \"\n",
    "\n",
    "```sql\n",
    "SELECT *\n",
    "FROM (SELECT * FROM table1) AS alias_name\n",
    "```"
   ]
  },
  {
   "cell_type": "markdown",
   "id": "6dbc9c3f-c905-45d6-a5fb-779214d0306d",
   "metadata": {},
   "source": [
    "---"
   ]
  },
  {
   "cell_type": "markdown",
   "id": "3ad95517-91e2-4ebc-a8b5-6a2b318ea76c",
   "metadata": {},
   "source": [
    "### RIGHT & FULL JOIN\n",
    "\n",
    "- In an above section we looked at `CROSS JOIN`, `INNER JOIN`, and `LEFT JOIN`.\n",
    "- Unlike SQLite, PostgreSQL also supports `RIGHT JOIN` and `FULL JOIN`.  The syntax is the same as the other joins."
   ]
  },
  {
   "cell_type": "markdown",
   "id": "372d6dec-a316-47a0-a4e8-4bc7049de4f0",
   "metadata": {},
   "source": [
    "---"
   ]
  },
  {
   "cell_type": "markdown",
   "id": "43a1082e-d180-4a37-a435-6ac27500fb45",
   "metadata": {},
   "source": [
    "### INTERSECT & EXCEPT\n",
    "\n",
    "- In an above section we looked at `UNION`.  PostgreSQL also has `INTERSECT` and `EXCEPT`.\n",
    "\n",
    "\"`INTERSECT` returns all rows that are both in the result of query1 and in the result of query2. Duplicate rows are eliminated unless `INTERSECT ALL` is used.\n",
    "\n",
    "`EXCEPT` returns all rows that are in the result of query1 but not in the result of query2. (This is sometimes called the difference between two queries.) Again, duplicates are eliminated unless `EXCEPT ALL` is used.\""
   ]
  },
  {
   "cell_type": "markdown",
   "id": "5a4545bc-b096-4f86-a5fa-2e9079e74ed6",
   "metadata": {},
   "source": [
    "---"
   ]
  },
  {
   "cell_type": "markdown",
   "id": "69044817-1d9a-4015-aff7-8bdc4269628c",
   "metadata": {
    "tags": []
   },
   "source": [
    "### Regular Expressions\n",
    "\n",
    "- In an above section we looked at `LIKE`.  PostgreSQL also supports regular expressions.\n",
    "- **Regular Expression (RegEx)**--sequence of characters that form a search pattern. Used to check if specified characters in a specified pattern match a string. Uses wildcards.\n",
    "- PostgreSQL uses the POSIX dialect of regular expressions\n",
    "- Regular expressions are similar to `LIKE`, but with  more advanced logic and wildcards\n",
    "- Regular expressions can be used in multiple places within an SQL statement\n",
    "\n",
    "Code | Use\n",
    "--- | ---\n",
    "`~` | Return TRUE if there is one or more matches.  Similar to `LIKE` operator.\n",
    "`~*` | Same as `~`, but case insensitive\n",
    "`!~` | Returns TRUE if there is NOT a match\n",
    "`+~*` | Same as `!~`, but case insensitive\n",
    "`substring()` | Returns first match in text column. Like Python's `re.search()`\n",
    "`regexp_matches()` | Return array of matches.  Like Python's `re.findall()`.\n",
    "\n",
    "\"For each record in the table `table_name`, if that record's cell value in the column `column_name` matches the regex  pattern then pass it to `SELECT`.  Select all columns to include in the result set.\"\n",
    "```sql\n",
    "SELECT *\n",
    "FROM table_name\n",
    "WHERE column_name ~ 'pattern with regex wildcards'\n",
    "```\n",
    "\n",
    "\"For each record in the table `table_name` pass it to `SELECT`.  Select only the first string from the `column_name` column matching the regex pattern to include in the result set.\n",
    "```sql\n",
    "SELECT substring(column_name FROM 'pattern with regex wildcards')\n",
    "FROM table_name\n",
    "```"
   ]
  },
  {
   "cell_type": "markdown",
   "id": "ddf4f1b2-91a0-454c-94b3-881dc7394244",
   "metadata": {},
   "source": [
    "---"
   ]
  },
  {
   "cell_type": "markdown",
   "id": "c8351d9f-84b7-4c0c-b9b3-ef32c6f779b1",
   "metadata": {},
   "source": [
    "### Window Functions\n",
    "\n",
    "- Window Function--\"A window function performs a calculation across a set of table rows that are somehow related to the current row. This is comparable to the type of calculation that can be done with an aggregate function. However, window functions do not cause rows to become grouped into a single output row like non-window aggregate calls would. Instead, the rows retain their separate identities. Behind the scenes, the window function is able to access more than just the current row of the query result.\"\n",
    "\n",
    "```sql\n",
    "SELECT \n",
    "    column_name_a, \n",
    "    column_name_b, \n",
    "    function(column_name_c) OVER (PARTITION BY column_name_a)\n",
    "FROM table_name;\n",
    "```\n",
    "\n",
    "For each resident in the state_residents table, select the resident's name for the result set.  Also, temporarily group residents by county, find the average height of each group, and for each resident, include their group's average height in the result set.\n",
    "\n",
    "```sql\n",
    "SELECT \n",
    "    name,\n",
    "    avg(height) OVER (PARTITION BY county)\n",
    "FROM state_residents;\n",
    "```\n",
    "\n",
    "- There are more window functions such `rank()`, `lag()`, and `lead()` as well as additional keywords that control window function behavior."
   ]
  },
  {
   "cell_type": "markdown",
   "id": "374b7393-371b-4e99-8aaa-1a00cf7c79a4",
   "metadata": {},
   "source": [
    "---"
   ]
  },
  {
   "cell_type": "markdown",
   "id": "bcbe01c9-8769-4655-93b7-63218c534f6c",
   "metadata": {},
   "source": [
    "## Transactions\n",
    "\n",
    "- Transaction behavior varies by RDBMS and even varies between client applications\n",
    "- **Autocommit**--each SQL statement is executed in its own transaction.  Implicit `BEGIN` before SQL statement.  If execution was successful, implicit `COMMIT` after SQL statement.  If there was an error, then  implicit `ROLLBACK` is done.   1 SQL statement = 1 transaction. \n",
    "- In PostgreSQL autocommit is the default behavior\n",
    "- In other RDBMS, we may need to start a transaction with `BEGIN` and end a transaction with `COMMIT` for the SQL statement(s) to be treated as a complete transaction and be run by the RDBMS.\n",
    "- PostgreSQL uses autocommit.  This is usually good, but sometimes we want a guarantee that multiple tasks are completed in a single transaction.  We don't want our SQL statements separated in a queue with other SQL statements in between.  We may also want a guarantee that multiple SQL statements either all succeed or all fail.  All or nothing.  This is especially important in financial transactions.\n",
    "- **Multi-statement Transaction**--within a single transaction, perform multiple SQL statements.  \n",
    "- **Transaction block**--code containing a multi-statement transaction\n",
    "- **Rollback**--revert database to state at time prior to transaction.  All or nothing.\n",
    "- `BEGIN;`--start a multi-statement transaction\n",
    "- `COMMIT;`--end a multi-statement transaction and commit CRUD\n",
    "- `ROLLBACK; `--end a multi-statement transaction and intentionally rollback CRUD.  Used in conditional statements. \n",
    "- A multi-statement transaction  will end in either of three ways:\n",
    "    - Implicitly rollback CRUD because of error\n",
    "    - Explicitly rollback CRUD because of `ROLLBACK;`\n",
    "    - There were no errors and explicitly commit CRUD with `COMMIT;` \n",
    "\n",
    "```sql\n",
    "BEGIN;\n",
    "SQL_statement;\n",
    "SQL_statement;\n",
    "SQL_statement;\n",
    "COMMIT;\n",
    "```\n",
    "\n",
    "- The above is a bit of simplification as transactions can be further controlled with savepoints\n",
    "- **Save point**--placed after one or more SQL statements in a transaction.  If SQL statements preceding the savepoint had no errors or `ROLLBACK;`, then we save our progress up to that point.  We can rollback to this point if needed.  Savepoints do not commit on their own and we still need to commit the transaction for saved changes to persist.\n",
    "- `SAVEPOINT`--set savepoint\n",
    "- `ROLLBACK TO`--rollback to savepoint\n",
    "\n",
    "```sql\n",
    "BEGIN;\n",
    "SQL_statement;\n",
    "SAVEPOINT savepoint_name;\n",
    "SQL_statement;\n",
    "ROLLBACK TO savepoint_name;\n",
    "COMMIT;\n",
    "```\n",
    "\n",
    "- Lastly, note that multi-statement transactions may also speed up operations.  Transaction are sent over a network, from client software to RDBMS server software.  This takes time.  Sending fewer, multi-statement transactions means there is less time spent in transit.\n",
    "    - E.g. we want to insert 100 rows into a table.  We could let autocommit send 100 separate transactions across the network.  This may be slower than grouping them into a single multi-statement transaction and sending that one transaction across the network."
   ]
  },
  {
   "cell_type": "markdown",
   "id": "ff17a36e-d2a2-4261-bb4e-4ad25e67f2be",
   "metadata": {},
   "source": [
    "---"
   ]
  },
  {
   "cell_type": "markdown",
   "id": "ddfa8005-6ae0-43d6-a47e-5c75c8f204ba",
   "metadata": {},
   "source": [
    "## Stored Procedures\n",
    "\n",
    "- SQLite does not support stored procedures.  PostgreSQL does and actually allows more than one language for writing stored procedures:\n",
    "    1. `sql`\n",
    "    1. `plpgsql`\n",
    "    1. `c`\n",
    "    1. `internal`\n",
    "\n",
    "`CREATE PROCEDURE`--create new stored procedure.  See documentation for arguments.\n",
    "\n",
    "`CREATE OR REPLACE PROCEDURE`--same as `CREATE PROCEDURE`, but will replace procedure of the same name if it exists\n",
    "\n",
    "There are two options for formatting when we use SQL as the procedural language:\n",
    "\n",
    "Option A\n",
    "```sql\n",
    "CREATE PROCEDURE procedure_name (parameter_a DATA_TYPE, parameter_b DATA_TYPE)\n",
    "LANGUAGE SQL\n",
    "AS $$\n",
    "SQL_statement;\n",
    "SQL_statement;\n",
    "etc.;\n",
    "$$;\n",
    "```\n",
    "\n",
    "Option B\n",
    "```sql\n",
    "CREATE PROCEDURE procedure_name (parameter_a DATA_TYPE, parameter_b DATA_TYPE)\n",
    "LANGUAGE SQL\n",
    "BEGIN ATOMIC\n",
    "  SQL_statement;\n",
    "  SQL_statement;\n",
    "  etc.;\n",
    "END;\n",
    "```\n",
    "\n",
    "We can later run the stored procedure:\n",
    "```sql\n",
    "CALL procedure_name(argument_a, argument_b);\n",
    "```\n"
   ]
  },
  {
   "cell_type": "markdown",
   "id": "0b681d54-4dc1-4af7-8962-4b1094556aae",
   "metadata": {},
   "source": [
    "---"
   ]
  },
  {
   "cell_type": "markdown",
   "id": "ac8cbd20-9d18-4d03-a2dd-23844a74a81f",
   "metadata": {},
   "source": [
    "## Index\n",
    "\n",
    "- PostgreSQL uses the following index data structures\n",
    "    1. B-trees\n",
    "    1. Hash\n",
    "    1. BRIN\n",
    "    1. GIN\n",
    "    1. GiST\n",
    "    1. SPGiST\n",
    "- We covered the theory of indexes in an above section.  Below we'll show examples of how to create B-tree and GIN indexes and subsequently read rows utilizing those indexes."
   ]
  },
  {
   "cell_type": "markdown",
   "id": "977a3223-e8d7-450a-95be-d3de7e2ec421",
   "metadata": {},
   "source": [
    "---"
   ]
  },
  {
   "cell_type": "markdown",
   "id": "27cdb033-902a-4896-b677-1b722781838c",
   "metadata": {
    "tags": []
   },
   "source": [
    "### EXPLAIN & ANALYZE\n",
    "\n",
    "- `EXPLAIN SQL_statement`--prints query plan.  The query plan describes how the SQL statement is run internally by PostgreSQL.  One of the most important pieces of info is the scan type.  An \"Index Only Scan\" uses indexes and is fast.  A \"Seq Scan\" is a full table scan and is slower.\n",
    "- `ANALYZE SQL_statement`--print execution time of SQL statement\n",
    "- `EXPLAIN ANALYZE SQL_statement`--combine the two\n",
    "- Two other useful metrics for tables include:\n",
    "    - `pg_relation_size('table_name')`--size of data in table (excludes indexes)\n",
    "    - `pg_indexes_size('table_name')`--size of indexes in table\n",
    "- Note that after index created, when rows inserted, index must take time to update.  If there are many rows inserted, the index may take seconds to minutes to update.  While updating, any reads will be a sequential scan.\n",
    "- Note that PostgreSQL will skip using an index if the number of records in the table are small.  So even if we did everything correctly, `EXPLAIN` may still tell us there was a sequential scan.  When practicing, we can add a few thousand dummy rows to convince PostgreSQL it needs to read with our index."
   ]
  },
  {
   "cell_type": "markdown",
   "id": "182d5e06-f0c4-4f94-b70d-2bde4acee20a",
   "metadata": {},
   "source": [
    "---"
   ]
  },
  {
   "cell_type": "markdown",
   "id": "ef7baf2b-0690-420b-8005-4274a074c875",
   "metadata": {},
   "source": [
    "### B-Tree Index\n",
    "\n",
    "- We'll create a B-tree indexes for a column\n",
    "- B-trees are the default index in PostgreSQL so we do not need to specify the index type\n",
    "\n",
    "Create B-tree index for a column that does not already have the UNIQUE constraint (that would be redundant)\n",
    "```sql\n",
    "CREATE INDEX index_name\n",
    "ON table_name (column_name)\n",
    "WITH (deduplicate_items = off);\n",
    "```\n",
    "\n",
    "Read with B-tree index\n",
    "```sql\n",
    "SELECT *\n",
    "FROM table_name\n",
    "WHERE column_name > 10;\n",
    "```\n",
    "\n",
    "Create a B-tree index on an expression that uses a column.  Remember that the function below really inputs a single row's cell value.  It must also return a single value (\"scalar\").\n",
    "```sql\n",
    "CREATE INDEX index_name\n",
    "ON table_name (function_name(column_name));\n",
    "```\n",
    "\n",
    "Read with B-tree index\n",
    "```sql\n",
    "SELECT *\n",
    "FROM table_name\n",
    "WHERE function_name(column_name) > 10;\n",
    "```\n",
    "\n",
    "- For index to be used in later reads, the function/expression in the `CREATE INDEX` statement must match the function/expression in the `WHERE` clause of the read statement.  If this does not match, the index will not be used and there will be a sequential scan."
   ]
  },
  {
   "cell_type": "markdown",
   "id": "73a9347b-78f4-4439-b44d-909a263ce631",
   "metadata": {},
   "source": [
    "---"
   ]
  },
  {
   "cell_type": "markdown",
   "id": "7b27e1c6-6cd2-43f9-a8f7-8afc0944aa9e",
   "metadata": {
    "tags": []
   },
   "source": [
    "### GIN Index\n",
    "- We'll create a GIN index for a \"natural language\" TEXT column\n",
    "\n",
    "Code | Use\n",
    "--- | ---\n",
    "`GIN()` | Specify we are creating a GIN index\n",
    "`to_tsvector('language', document)` | Parses document, returning tsvector.  `'language'` is the language of the TEXT field written in lower case.  `document` column is typically a column with a TEXT data type.  Each TEXT column cell represents a document.  Splits each document into individual words.  Automatically ignores case, ignores stop words, and stems words.  Keeps track of position of words within each document.  Stores this info in tsvector data type. \"ts\" stands for text search.  At its core, the tsvector is an inverted index that maps words to which document they came from.\n",
    "`to_tsquery('language', 'query')` | Parses query, returning tsquery.  Query is short string of words.  Each word separated by operator.  `&` = AND.  `\\|` = OR. `!` = NOT. `<->` = followed by.  Control order of operation with parentheses.  E.g. `'Hello <-> world'`.  There are many related function like `websearch_to_tsquery()`, which modify how query is parsed.\n",
    "`@@` | Used in `WHERE` clause to ask if tsquery has matches in tsvector.  I.e does that record's document contain words that match the search query?\n",
    "\n",
    "Create GIN index for TEXT column\n",
    "```sql\n",
    "CREATE INDEX gin_name\n",
    "ON table_name\n",
    "USING GIN(to_tsvector('language', column_name));\n",
    "```\n",
    "\n",
    "Read with GIN index\n",
    "```sql\n",
    "SELECT *\n",
    "FROM table_name\n",
    "WHERE \n",
    "  to_tsquery('language', 'query') @@\n",
    "  to_tsvector('language', column_name);\n",
    "```\n",
    "\n",
    "- For index to be used, `to_tsvector()` in `USING` and `WHERE` must match. I.e. must match how we create index with how we search table with index.  If this does not match, the index will not be used and there will be a sequential scan."
   ]
  },
  {
   "cell_type": "markdown",
   "id": "be181af2-0731-42ce-bf5c-e6c81acaa7fd",
   "metadata": {},
   "source": [
    "---"
   ]
  },
  {
   "cell_type": "markdown",
   "id": "ed66b364-f17d-4a0b-8015-b8c337c57a2c",
   "metadata": {},
   "source": [
    "## JSONB\n",
    "\n",
    "- JSON began to be used around the year 2000 and continues to become increasingly important\n",
    "- JSON document databases, like MongoDB, arrived around 2010 to store this data\n",
    "- As a reaction to this, most relational databases added the ability to store JSON and binary JSON\n",
    "- SQLite does not have a JSON specific data type, but PostgreSQL does\n",
    "- Postgres has gradually added in full support for JSON data over the years by adding the following data types:\n",
    "\n",
    "1. HSTORE\n",
    "    - Released in PostgreSQL 8.3\n",
    "    - Key value pairs\n",
    "    - Not built into latest versions of PostgreSQL, but available as an extension\n",
    "1. JSON\n",
    "    - Released in PostgreSQL 9.2\n",
    "    - JSON stored as string text\n",
    "    - Preserves whitespace and ordering of keys\n",
    "    - Preserves duplicate keys\n",
    "    - Does NOT support full-text-search, GIN indexing, and many JSON functions    \n",
    "1. JSONB\n",
    "    - Released in PostgreSQL 9.4\n",
    "    - JSON stored in **B**inary representation\n",
    "    - Whitespace removed\n",
    "    - Within a single object, duplicate object names (keys) are removed.  If duplicate, last key is kept.\n",
    "    - Object names (keys) are sorted\n",
    "    - Supports full-text-search, GIN indexing, and many JSON functions\n",
    "    - JSONB is almost always the preferred data structure\n",
    "\n",
    "- JSON was designed to be simple and language agnostic.  Therefore, it only accepts a handful of simple data structures.\n",
    "\n",
    "JSON \"Primitive\" Type | PostgreSQL Type | Notes\n",
    "--- | --- | ---\n",
    "string | text | `\\u0000` is disallowed, as are Unicode escapes representing characters not available in the database encoding\n",
    "number | numeric | `NaN` and `infinity` values are disallowed\n",
    "boolean | boolean | Only lowercase `true` and `false` spelling are accepted\n",
    "null | (none) | SQL `NULL` is a different concept\n",
    "\n",
    "- **Document**--each record's cell value in the JSONB column is said to contain a \"document\"\n",
    "- When working with a table with a JSONB column, we are typically going through each document.  We often extract values from each JSON document or determine if each document meets a condition."
   ]
  },
  {
   "cell_type": "markdown",
   "id": "50f5ebeb-980e-400c-a6df-b0c4ea43fdea",
   "metadata": {},
   "source": [
    "---"
   ]
  },
  {
   "cell_type": "markdown",
   "id": "0d34023f-4209-4ee6-a829-bbcca2b69a91",
   "metadata": {
    "tags": []
   },
   "source": [
    "### JSONB Operators"
   ]
  },
  {
   "cell_type": "markdown",
   "id": "7e63ead1-4873-4408-99b8-338f756c1340",
   "metadata": {},
   "source": [
    "---"
   ]
  },
  {
   "cell_type": "markdown",
   "id": "cb3d1989-d71d-44cd-9c84-4253f8cd7d71",
   "metadata": {},
   "source": [
    "#### Extraction Operators\n",
    "\n",
    "Extraction operators for JSON and JSONB:\n",
    "\n",
    "Code | Use\n",
    "--- | ---\n",
    "`->` | Return extracted data as JSON(B).  Extract JSON(B) object by key.  Or extract array item by index position.  Index position in this context is different from indexes like B-trees and GINS.  Index from 0 and allows for negative index.\n",
    "`->>` | Same as `->`, but return extracted data as TEXT\n",
    "`#>` | Return extracted data as JSON(B).  Extracts JSON sub-object at the specified path, where path elements can be either object keys or array indexes.\n",
    "`#>>` | Same as `#>`, but return extracted data as TEXT"
   ]
  },
  {
   "cell_type": "markdown",
   "id": "beda9a6d-d361-4936-8a58-09751732c2d7",
   "metadata": {},
   "source": [
    "Pretend the table schema is:\n",
    "\n",
    "`table_name`\n",
    "\n",
    "id | jsonb_column_name\n",
    "--- | ---\n",
    "1 | '{\"characters\": [\"Calvin\", \"Hobbes\"]}'\n",
    "\n",
    "The SQL statement below returns: `'[\"Calvin\", \"Hobbes\"]'`\n",
    "```sql\n",
    "SELECT jsonb_column_name ->> 'characters'\n",
    "FROM table_name;\n",
    "```\n",
    "\n",
    "The SQL statement below returns: `\"Hobbes\"`.  We first extract the array and then extract the second item in the array.\n",
    "```sql\n",
    "SELECT jsonb_column_name #>> '{characters, 1}'\n",
    "FROM table_name;\n",
    "```\n",
    "\n",
    "The SQL statement below returns: the first record.  Notice how once we extract a scalar value from a JSON string we can use it with our normal operators.\n",
    "```sql\n",
    "SELECT *\n",
    "FROM table_name\n",
    "WHERE jsonb_column_name #>> '{characters, 1}' = 'Hobbes';\n",
    "```\n",
    "\n",
    "- Note JSON uses double quotes for strings and keys.  Single quotes are only used around the entire JSON string.  When issuing SQL statements, it appears that we often use single quotes around scalar literals.  We still use correct  JSON formatting when we write JSON strings with anything more complex than scalar values.  E.g. we still use double quotes when writing strings or keys within JSON arrays or objects. "
   ]
  },
  {
   "cell_type": "markdown",
   "id": "519ba876-1c69-4763-bb37-a66dc0166438",
   "metadata": {},
   "source": [
    "---"
   ]
  },
  {
   "cell_type": "markdown",
   "id": "78c97213-ca02-4ad6-9c9b-3b8d1fde8304",
   "metadata": {},
   "source": [
    "#### Containment & Existence Operators\n",
    "\n",
    "Common operators (there are more) for JSONB only (we often say JSON, but remember it is stored internally as JSONB):\n",
    "\n",
    "Code | Use\n",
    "--- | ---\n",
    "`@>` | **Containment/Path operator**.  Return true or false.  Does the first JSON value contain the second? \n",
    "`?`  | **Existence operator**.  Return true or false.  Does the string exist as a top-level key or array item within the first JSON value?\n",
    "\n",
    "- Note that for the containment operator the nested structure matters.  For the second JSON value, we must write out the path.  If our first JSON value starts at the top level (the first JSON value is the entire JSON document) the second JSON value path starts at the top level:\n",
    "    - \"The general principle is that the contained object must match the containing object as to structure and data contents, possibly after discarding some non-matching array elements or object key/value pairs from the containing object.\""
   ]
  },
  {
   "cell_type": "markdown",
   "id": "8d7b1e79-b6bb-41c1-8606-5807adb08681",
   "metadata": {},
   "source": [
    "```sql\n",
    "SELECT * \n",
    "FROM table_name\n",
    "WHERE jsonb_column_name @> '{\"characters\": [\"Calvin\", \"Hobbes\"]}';\n",
    "```\n",
    "Returns: true so result set contains the first record\n",
    "\n",
    "```sql\n",
    "SELECT * \n",
    "FROM table_name\n",
    "WHERE jsonb_column_name ? 'characters';\n",
    "```\n",
    "Returns: true so result set contains the first record. \n",
    "\n",
    "- Note that in our `WHERE` clause, the first value is a JSONB.  The second is a JSON string.  PostgreSQL implicitly casts the JSON string into JSONB before performing the operation."
   ]
  },
  {
   "cell_type": "markdown",
   "id": "ccba095c-ed88-480b-bed3-ab6a09a0528b",
   "metadata": {},
   "source": [
    "---"
   ]
  },
  {
   "cell_type": "markdown",
   "id": "57630385-7bc6-4eba-aec4-9eb6cb3a4d45",
   "metadata": {},
   "source": [
    "#### Other Operators\n",
    "\n",
    "Code | Use\n",
    "--- | ---\n",
    "`::` | Cast data to another type\n",
    "`\\|\\|` | \"Concatenates two jsonb values. Concatenating two arrays generates an array containing all the elements of each input. Concatenating two objects generates an object containing the union of their keys, taking the second object's value when there are duplicate keys. All other cases are treated by converting a non-array input into a single-element array, and then proceeding as for two arrays. Does not operate recursively: only the top-level array or object structure is merged.\""
   ]
  },
  {
   "cell_type": "markdown",
   "id": "d4d5579d-4000-487c-b2ab-a0d53bd9c581",
   "metadata": {},
   "source": [
    "E.g. in the following extract a JSONB value to a JSONB value.  Then we cast it to the text type.  We could have instead used `#>>`.\n",
    "\n",
    "```sql\n",
    "SELECT jsonb_column_name #> '{characters, 1}':: text\n",
    "FROM table_name;\n",
    "```\n",
    "Returns: `\"Hobbes\"`\n",
    "\n",
    "\n",
    "E.g. update a table by concatenating a new key-value pair onto the top level\n",
    "```sql\n",
    "UPDATE table_name\n",
    "SET jsonb_column_name = jsonb_column_name || '{\"author\": \"Bill Watterson\"}'\n",
    "WHERE id = 1;\n",
    "```\n",
    "Our updated table would look like:\n",
    "\n",
    "`table_name`\n",
    "\n",
    "id | jsonb_column_name\n",
    "--- | ---\n",
    "1 | '{\"characters\": [\"Calvin\", \"Hobbes\"], \"author\": \"Bill Watterson\"}'"
   ]
  },
  {
   "cell_type": "markdown",
   "id": "ce095b16-ea8b-4272-b2ae-ce15ea0b9291",
   "metadata": {},
   "source": [
    "---"
   ]
  },
  {
   "cell_type": "markdown",
   "id": "1c518aca-221b-469a-a34e-95401a774e7c",
   "metadata": {
    "tags": []
   },
   "source": [
    "### JSONB Indexes\n",
    "\n",
    "- Indexes can easily be added to JSONB.  We can use B-trees, GIN, Hash, etc.\n",
    "\n",
    "B-tree expression index.  Index by the values paired with 'author' key.  Index values from specified key, NOT the entire JSONB column.\n",
    "```sql\n",
    "CREATE INDEX btree_index_name\n",
    "ON table_name \n",
    "USING BTREE ((jsonb_column_name->>'author'));\n",
    "```\n",
    "\n",
    "Read using B-tree.  We can treat this index like other expression indexes.  We match expressions in the create index statement with the expression in the select statement.\n",
    "```sql\n",
    "SELECT *\n",
    "FROM table_name\n",
    "WHERE jsonb_column_name->>'author' = 'Bill Watterson';\n",
    "```\n",
    "\n",
    "GIN for entire JSONB column.  By default GIN on a JSONB column uses `jsonb_ops`.\n",
    "```sql\n",
    "CREATE INDEX gin_index_name\n",
    "ON table_name \n",
    "USING GIN (jsonb_column_name);\n",
    "```\n",
    "Read using `jsonb_ops` GIN.  We do NOT have to have matching expressions like the B-tree.  Instead we can use either the containment (path) operator, `@>`, or the existence operator, `?`.\n",
    "```sql\n",
    "SELECT *\n",
    "FROM table_name\n",
    "WHERE jsonb_column_name ? 'author';\n",
    "```\n",
    "\n",
    "GIN for entire JSONB column.  Specify `jsonb_pathops`.\n",
    "```sql\n",
    "CREATE INDEX gin_index_name \n",
    "ON table_name\n",
    "USING GIN (jsonb_column_name jsonb_path_ops);\n",
    "```\n",
    "Read using `jsonb_path_ops` GIN.  We do NOT have to have matching expressions like the B-tree.  Instead we can use the containment (path) operator, `@>`. Our index will NOT be used if we try to use the existence operator, `?`.\n",
    "```sql\n",
    "SELECT *\n",
    "FROM table_name\n",
    "WHERE jsonb_column_name @> '{\"characters\": [\"Calvin\", \"Hobbes\"]}';\n",
    "```\n",
    "\n",
    "Common indexes compared (when they are used for JSONB data):\n",
    "\n",
    "Index | Size | Search Flexibility | Speed\n",
    "--- | --- | -- | ---\n",
    "B-tree | Low | Low | High\n",
    "GIN `jsonb_path_ops` | Medium | Medium | Medium\n",
    "GIN `jsonb_ops` | High | High | Low"
   ]
  },
  {
   "cell_type": "markdown",
   "id": "dac6832c-68a4-4c46-85e3-69855212765f",
   "metadata": {},
   "source": [
    "---"
   ]
  },
  {
   "cell_type": "markdown",
   "id": "8dd498b3-9222-4890-bf43-5a374c5ba2aa",
   "metadata": {},
   "source": [
    "### JSONB More to Explore\n",
    "\n",
    "- **JSONB Subscripting**--\"JSONB data types supports array style subscripting expressions that allows us to extract and modify elements\".  I.e. subscript like we do for nested Python dictionaries and lists, often \"drilling down\" from the top-level.\n",
    "- **SQL/JSON path language**--syntax to efficiently query JSON data"
   ]
  },
  {
   "cell_type": "markdown",
   "id": "f42f7d8e-46bf-4d28-8e80-326216d569a1",
   "metadata": {},
   "source": [
    "---"
   ]
  },
  {
   "cell_type": "markdown",
   "id": "e07e7bd1-c2b3-43d7-b543-63db4f0183a9",
   "metadata": {
    "tags": []
   },
   "source": [
    "## Psycopg\n",
    "\n",
    "- **Psycopg**--Python library that allows us to send SQL commands to PostgreSQL from within a Python script.  Allows a Python interpreter to act as a command line client.  Psycopg follows the Python DB API 2.0 specifications.  Name derived from misspelling of \"psycho pg\".  They forgot the \"h\".  \"pg\" stands for PostgreSQL.  \n",
    "-  Most recent version is version 3, which is under development and only available on PIP currently.  Name of library is `psycopg`, not `psycopg3`.\n",
    "- **Python DB API 2.0 specifications**--standards for command syntax for library users as well as standards for Python library developers. \"This API has been defined to encourage similarity between the Python modules that are used to access databases.\"  \n",
    "    - E.g. in both `sqlite3` and `psycopg` we create connection object and cursor objects with similar methods"
   ]
  },
  {
   "cell_type": "markdown",
   "id": "8ff2944a-ae17-4ec3-8a0c-9c2b96148043",
   "metadata": {},
   "source": [
    "---"
   ]
  },
  {
   "cell_type": "markdown",
   "id": "273225c0-6d03-436e-8ae6-257e3c6a2890",
   "metadata": {},
   "source": [
    "### Connection Objects\n",
    "\n",
    "Code | Use\n",
    "--- | ---\n",
    "`import psycopg` | Import module\n",
    "`psycopg.connect(\"<CONNECTION_STRING>\")` |  Return connection object.  Connection string often contains info about the host, port, database name, username, and password.  Can be written in either of the two standard connection string formats.  These are the same formats that allow us to connect with the psql client.  Connection object conventionally named `conn`.\n",
    "`host=<HOST_NAME> port=<PORT> dbname=<DATABASE_NAME> user=<USERNAME> password=<PASSWORD>` | Connection string key-value pair format\n",
    "`postgresql://<USERNAME>:<PASSWORD>@<HOST_NAME>:<PORT>/<DATABASE>` | Connection string URI format\n",
    "`conn.commit()` | Commit any pending transaction to the database.  Forces RDBMS to write any changes to non-volatile memory so they persist.  Makes CUD official.\n",
    "`conn.close()` | Close database connection\n",
    "`conn.cursor()` | Return cursor object.  The cursor object allows interaction with the database.  The cursor object is similar to a file handle.  Conventionally named `cur`. There can be more than one cursor object."
   ]
  },
  {
   "cell_type": "markdown",
   "id": "876d6408-7a96-4739-9f5e-2a5dba655606",
   "metadata": {},
   "source": [
    "---"
   ]
  },
  {
   "cell_type": "markdown",
   "id": "a70b4e97-a956-4e89-aec3-18a90c7e4578",
   "metadata": {},
   "source": [
    "### Cursor Objects\n",
    "\n",
    "Code | Use\n",
    "--- | ---\n",
    "`cur.execute(\"<SQL_STATEMENT>\")` | Execute SQL statement.  SQL statement is a passed to RDBMS.\n",
    "`cur.fetchone()` | Assuming we have ran a `SELECT` statement already, return next row of SQL query result set.  A row is represented as tuple.  Each cell value is a tuple item.  If no rows in result set returns `None`.  \n",
    "`cur.fetchmany()` |Same as `.fetchone()`, but returns a specified number of rows from result set.  A list of row tuples.  If no rows in result set then returns empty list.\n",
    "`cur.fetchall()` | Same as `.fetchmany()`, but returns all rows in result set\n",
    "`for i in cur:` | Assuming we have already ran a `SELECT` statement, the cursor object can act as a generator that we can loop through. \n",
    "`cur.close()` | Close cursor object. Unsure on use case.\n",
    "`with conn.cursor() as cur:` | \"Cursor context\". Unsure on use case."
   ]
  },
  {
   "cell_type": "markdown",
   "id": "f0e0ab0c-adf4-4fbf-b373-8efd2b86e1fd",
   "metadata": {},
   "source": [
    "---"
   ]
  },
  {
   "cell_type": "markdown",
   "id": "dc3e2e76-b5d2-4920-917e-7347c592df85",
   "metadata": {
    "tags": []
   },
   "source": [
    "### Passing Arguments\n",
    "\n",
    "- \"Most of the times, writing a program you will have to mix bits of SQL statements with values provided by the rest of the program.  Passing parameters to a SQL statement happens in functions such as `.execute()` by using `%s` placeholders in the SQL statement, and passing a sequence of values as the second argument of the function.\"  Values go in Python tuple or list.\n",
    "\n",
    "```python\n",
    "cur.execute(\"\"\"\n",
    "    INSERT INTO some_table (id, created_at, last_name)\n",
    "    VALUES (%s, %s, %s);\n",
    "    \"\"\",\n",
    "    (10, datetime.date(2020, 11, 18), \"O'Reilly\"))\n",
    "```\n",
    "\n",
    "- \"Named arguments are supported too using `%(<NAME>)s` placeholders in the query and specifying the values into a mapping. Using named arguments allows to specify the values in any order and to repeat the same value in several places in the query.\"  Values go in Python dictionary.\n",
    "\n",
    "```python\n",
    "cur.execute(\"\"\"\n",
    "    INSERT INTO some_table (id, created_at, updated_at, last_name)\n",
    "    VALUES (%(id)s, %(created)s, %(created)s, %(name)s);\n",
    "    \"\"\",\n",
    "    {'id': 10, 'name': \"O'Reilly\", 'created': datetime.date(2020, 11, 18)})\n",
    "```\n",
    "\n",
    "- We can also write the SQL statement as a Python string, assign it to a variable, and then use that variable in the `.execute()` statement.\n",
    "\n",
    "```python\n",
    " # No single quotes enclosing the query placeholder\n",
    "SQL = \"INSERT INTO authors (name) VALUES (%s)\"  \n",
    "\n",
    "data = (\"O'Reilly\", )\n",
    "cur.execute(SQL, data)  # Note: no % operator\n",
    "```\n",
    "\n",
    "- CAUTION!!! Follow formatting to prevent SQL injection!\n",
    "- When these formats are followed, Psycopg sends the SQL statement and the parameters to PostgreSQL separately.  PostgreSQL replaces the query placeholders with the parameter in a way that only allows the parameter to act as literal value and never as an SQL statement.  This is called **server side binding**.  This prevents SQL code injection.\n",
    "- Server side binding is possible for `SELECT`, `INSERT`, `UPDATE`, and `DELETE` statements\n",
    "- Where not possible, we can use **client side binding** using the objects from the `sql` module:\n",
    "\n",
    "```python\n",
    "from psycopg import sql\n",
    "\n",
    "conn.execute(sql.SQL(\"CREATE TABLE foo (id int DEFAULT {})\").format(42))\n",
    " # This will correctly quote the password\n",
    "coINTERSECT returns all rows that are both in the result of query1 and in the result of query2. Duplicate rows are eliminated unless INTERSECT ALL is used.\n",
    "\n",
    "EXCEPT returns all rows that are in the result of query1 but not in the result of query2. (This is sometimes called the difference between two queries.) Again, duplicates are eliminated unless EXCEPT ALL is used.INTERSECT returns all rows that are both in the result of query1 and in the result of query2. Duplicate rows are eliminated unless INTERSECT ALL is used.\n",
    "\n",
    "EXCEPT returns all rows that are in the result of query1 but not in the result of query2. (This is sometimes called the difference between two queries.) Again, duplicates are eliminated unless EXCEPT ALL is used.nn.execute(sql.SQL(\"ALTER USER john SET PASSWORD {}\").format(password))\n",
    "```"
   ]
  },
  {
   "cell_type": "markdown",
   "id": "c0b5d23c-ba63-46a1-894a-fd65fe47a2e1",
   "metadata": {},
   "source": [
    "---"
   ]
  },
  {
   "cell_type": "markdown",
   "id": "95afd884-bafa-4318-a3fc-78d299cc0461",
   "metadata": {},
   "source": [
    "### Data Type Adaptations\n",
    "\n",
    "- Many standard data types are implicitly adapted between Python and PostgreSQL. These adaptation can be customized.\n",
    "- Note that we sometimes write PostgreSQL data type aliases\n",
    "\n",
    "Python to PostgreSQL\n",
    "\n",
    "Python | PostgreSQL\n",
    "--- | ---\n",
    "bool | boolean\n",
    "int | smallint, integer, bigint, or numeric\n",
    "float | float8\n",
    "Decimal | numeric (decimal)\n",
    "str | varchar or text\n",
    "bytes and bytearray | bytea\n",
    "date | date\n",
    "time |time (if no tz)\n",
    "time | timetz (if tz)\n",
    "datetime | timestamp (if no tz)\n",
    "datetime | timestamptz (if tz)\n",
    "timedelta | interval\n",
    "json string | See documentation\n",
    "list (homogeneous) | n-dimensional array\n",
    "uuid.UUID | uuid\n",
    "\n",
    "PostgreSQL to Python\n",
    "\n",
    "PostgreSQL | Python\n",
    "--- | ---\n",
    "boolean | bool\n",
    "smallint, int, and bigint | int\n",
    "float8 and float4 | float\n",
    "numeric | Decimal\n",
    "char, varchar, and text | str\n",
    "bytea | bytes\n",
    "date | date\n",
    "time and timetz | time\n",
    "timestamp and timestamptz | datetime\n",
    "interval | timedelta\n",
    "json and jsonb | See documentation\n",
    "n-dimensional array | list\n",
    "uuid | uuid.UUID"
   ]
  },
  {
   "cell_type": "markdown",
   "id": "df58af07-0646-4145-a918-d732b7d0ca87",
   "metadata": {},
   "source": [
    "---"
   ]
  },
  {
   "cell_type": "markdown",
   "id": "628c99cc-3304-4fa1-8937-a15d449b2064",
   "metadata": {
    "tags": []
   },
   "source": [
    "### Psycopg Transactions\n",
    "- The default behavior of Psycopg is different from PostgreSQL + psql\n",
    "- It is recommended that we imitate the default behavior of PostgreSQL + psql by doing the following:\n",
    "    1. Use connection context\n",
    "    1. Use autocommit connection, either passing `autocommit=True` as `connect()` parameter or setting the attribute `conn.autocommit = True`\n",
    "    1. Use with transaction context to explicitly manage transactions only where needed\n",
    "- The following sections explain how to do this and provide examples taken from the Psycopg documentation"
   ]
  },
  {
   "cell_type": "markdown",
   "id": "f6ac562e-c083-44d0-b974-0952dc4307d8",
   "metadata": {},
   "source": [
    "---"
   ]
  },
  {
   "cell_type": "markdown",
   "id": "33610d9b-c7e3-4fdb-8e68-c9a1803b2883",
   "metadata": {},
   "source": [
    "#### Default Behavior\n",
    "- Most PostgreSQL clients have autocommit ON by default.  To explicitly run a single or multi-statement transaction we must use the keywords `BEGIN` and `COMMIT`.\n",
    "- The Psycopg client has autocommit OFF by default.  A transaction is started implicitly when any SQL statement is executed with the `.execute()` method.  However, we must explicitly call the `.commit()` method to commit the transaction.\n",
    "    - E.g. in the following, we implicitly start a transaction, but never explicitly commit the transaction.  We fail to make an insert.\n",
    "\n",
    "```python\n",
    "conn = psycopg.connect()\n",
    "\n",
    " # Creating a cursor doesn't start a transaction or affect the connection\n",
    " # in any way.\n",
    "cur = conn.cursor()\n",
    "\n",
    "cur.execute(\"SELECT count(*) FROM my_table\")\n",
    " # This function call executes:\n",
    " # - BEGIN\n",
    " # - SELECT count(*) FROM my_table\n",
    " # So now a transaction has started.\n",
    "\n",
    " # If your program spends a long time in this state, the server will keep\n",
    " # a connection \"idle in transaction\", which is likely something undesired\n",
    "\n",
    "cur.execute(\"INSERT INTO data VALUES (%s)\", (\"Hello\",))\n",
    " # This statement is executed inside the transaction\n",
    "\n",
    "conn.close()\n",
    " # No COMMIT was sent: the INSERT was discarded.\n",
    "```  \n",
    "\n",
    "- **Note that even if the transaction is not committed, `SELECT` statements still read data from the database successfully.**"
   ]
  },
  {
   "cell_type": "markdown",
   "id": "2a04dfc6-af86-4c67-8a2e-9f450542565a",
   "metadata": {},
   "source": [
    "---"
   ]
  },
  {
   "cell_type": "markdown",
   "id": "9bf64617-833b-4922-9408-cf691ffb5e6b",
   "metadata": {},
   "source": [
    "#### Connection Context\n",
    "\n",
    "- When our connection to PostgreSQL is short, we can use the **connection context** manager syntax:\n",
    "    - `with psycopg.connect(\"<CONNECTION_STRING>\") as conn`\n",
    "    - Indented code that follows is a \"code block\"  \n",
    "    - If any exception is raised within the code block, the transaction is rolled back. \n",
    "    - When we de-indent the code block, the connection context manager implicitly calls `.commit()` on any open transactions and then implicitly calls `.close()`.\n",
    "    - `conn` is a conventional variable name given to connection object\n",
    "    - Connection context on its own doesn't change autocommit.  Instead it helps us not forget `.commit()` and `.close()`\n",
    "\n",
    "```python\n",
    "with psycopg.connect() as conn:\n",
    "\n",
    "    cur = conn.cursor()\n",
    "\n",
    "    cur.execute(\"SELECT count(*) FROM my_table\")\n",
    "    # This function call executes:\n",
    "    # - BEGIN\n",
    "    # - SELECT count(*) FROM my_table\n",
    "    # So now a transaction has started.\n",
    "\n",
    "    cur.execute(\"INSERT INTO data VALUES (%s)\", (\"Hello\",))\n",
    "    # This statement is executed inside the transaction\n",
    "\n",
    " # No exception at the end of the block:\n",
    " # COMMIT is executed.\n",
    " # Connection closed\n",
    "```"
   ]
  },
  {
   "cell_type": "markdown",
   "id": "72edcca4-b2e7-47f5-aaa4-75ac94341e4a",
   "metadata": {},
   "source": [
    "---"
   ]
  },
  {
   "cell_type": "markdown",
   "id": "eb6a34d9-07f4-4225-8116-b9b1acee1f93",
   "metadata": {},
   "source": [
    "#### Autocommit\n",
    "- Connection context on its own may cause problems if there is significant time between the start and end of our transaction. If our code block contained time.sleep(5) our transaction would remain *idle in transaction* for 5 seconds.  This may slowdown the RDBMS.\n",
    "- It is recommended to imitate the default behavior of PostgreSQL and instead use the Psycopg autocommit setting:\n",
    "    - `with psycopg.connect(\"<CONNECTION_STRING>\", autocommit=True) as conn:`\n",
    "- The below code mimics the default behavior of PostgreSQL + psql. 1 SQL statement = 1 transaction.\n",
    "\n",
    "```python\n",
    "with psycopg.connect(autocommit=True) as conn:\n",
    "\n",
    "    cur = conn.cursor()\n",
    "\n",
    "    cur.execute(\"SELECT count(*) FROM my_table\")\n",
    "    # This function call now only executes:\n",
    "    # - SELECT count(*) FROM my_table\n",
    "    # and no transaction starts.\n",
    "\n",
    "    cur.execute(\"INSERT INTO data VALUES (%s)\", (\"Hello\",))\n",
    "    # The result of this statement is persisted immediately by the database\n",
    "\n",
    " # The connection is closed at the end of the block but, because it is not\n",
    " # in a transaction state, no COMMIT is executed.\n",
    "```"
   ]
  },
  {
   "cell_type": "markdown",
   "id": "f6da9a82-29ff-46f3-ad08-d4c703d45b7b",
   "metadata": {},
   "source": [
    "---"
   ]
  },
  {
   "cell_type": "markdown",
   "id": "c3e04406-bc1c-4e37-9c1f-6ad5dc46772b",
   "metadata": {
    "tags": []
   },
   "source": [
    "#### Transaction Context\n",
    "- When autocommit is on, to explicitly run a single or multi-statement transaction we must use **transaction context** syntax:\n",
    "    - `with conn.transaction():`  No alias needed.\n",
    "    - When the transaction context is entered, a transaction is explicitly started\n",
    "    - Indented code that follows is a \"code block\"  \n",
    "    - If any exception is raised within the code block, the transaction is rolled back \n",
    "    - When we de-indent leaving the transaction context the transaction is committed\n",
    "        \n",
    "```python\n",
    "with psycopg.connect(autocommit=True) as conn:\n",
    "\n",
    "    cur = conn.cursor()\n",
    "\n",
    "    cur.execute(\"SELECT count(*) FROM my_table\")\n",
    "    # The connection is autocommit, so no BEGIN executed.\n",
    "\n",
    "    with conn.transaction():\n",
    "        # BEGIN is executed, a transaction started\n",
    "\n",
    "        cur.execute(\"INSERT INTO data VALUES (%s)\", (\"Hello\",))\n",
    "        cur.execute(\"INSERT INTO times VALUES (now())\")\n",
    "        # These two operation run atomically in the same transaction\n",
    "\n",
    "    # COMMIT is executed at the end of the block.\n",
    "    # The connection is in idle state again.\n",
    "\n",
    " # The connection is closed at the end of the block.\n",
    "```"
   ]
  },
  {
   "cell_type": "markdown",
   "id": "f07eb8c9-987e-42c2-bd4b-f5e9f17266a4",
   "metadata": {},
   "source": [
    "---"
   ]
  },
  {
   "cell_type": "markdown",
   "id": "64b74fc5-3b1d-4cb0-8201-64872dfad3ca",
   "metadata": {},
   "source": [
    "## SQL Cookbook"
   ]
  },
  {
   "cell_type": "markdown",
   "id": "77d57424-4633-4c5c-a543-3fcfc039a35f",
   "metadata": {},
   "source": [
    "---"
   ]
  },
  {
   "cell_type": "markdown",
   "id": "277e1e85-561c-4db3-b8f6-26d10f0def45",
   "metadata": {},
   "source": [
    "### Dummy Data\n",
    "\n",
    "- It can be helpful to insert dummy data into tables to practice with\n",
    "\n",
    "Code | Use\n",
    "--- | ---\n",
    "`generate_series(start integer, stop integer [step integer])` | Return set of integers (similar to Python's `range()`).   However, it is more like a single column table with many rows.\n",
    "`repeat(text, integer)` | Return text.  Repeat input text the specified number of times and concatenate it all together. \n",
    "`random()` | Return random double precision number between 0 and 1. 1 <= x < 1.0\n",
    "`round()` | Return rounded number.  Input must be numeric number.\n",
    "\n",
    "Generated set with only numbers\n",
    "```sql\n",
    "SELECT generate_series(2,4);\n",
    "```\n",
    "\n",
    "Generated set with numbers concatenated to string\n",
    "```sql\n",
    "SELECT 'I am number ' || generate_series(2,4);\n",
    "```\n",
    "\n",
    "Random number. Then a random number multiplied.  Then a random number multiplied and cast to an integer.\n",
    "```sql\n",
    "SELECT random();\n",
    "SELECT random() * 100;\n",
    "SELECT (random() * 100)::INTEGER;\n",
    "```\n",
    "\n",
    "\n",
    "Now we'll create an example table and fill it with dummy data. The insert is a `INSERT INTO SELECT`. We first create a 1 column table and give it an alias.  Then we use that alias for the column in the select statement.  We also use that alias with a column expression that performs concatenation and implicit casting.  Lastly, our random column defaults to making random integers between 0 and 100\n",
    "```sql\n",
    "CREATE TABLE dummy_table(\n",
    "    id SERIAL PRIMARY KEY,\n",
    "    dummy_integer INTEGER,\n",
    "    dummy_text TEXT,\n",
    "    dummy_random INTEGER DEFAULT (random() * 100)::INTEGER\n",
    ");\n",
    "\n",
    "INSERT INTO dummy_table (dummy_integer, dummy_text) \n",
    "    SELECT generated_series, 'I am number ' || generated_series\n",
    "    FROM generate_series(1,100) AS generated_series;\n",
    "\n",
    "SELECT *\n",
    "FROM dummy_table;\n",
    "```\n",
    "\n",
    "- That being said, we could also just download example data sets to work with"
   ]
  },
  {
   "cell_type": "markdown",
   "id": "f1070e14-5855-4df9-98c4-626a8bf6eda0",
   "metadata": {},
   "source": [
    "---"
   ]
  },
  {
   "cell_type": "markdown",
   "id": "417138ba-d89f-44bc-822a-5dbb9e1aa024",
   "metadata": {},
   "source": [
    "### Normalize Tables"
   ]
  },
  {
   "cell_type": "markdown",
   "id": "295edf81-0f7a-4539-bb6c-752bb3cdf8d0",
   "metadata": {},
   "source": [
    "---"
   ]
  },
  {
   "cell_type": "markdown",
   "id": "1067d5bb-999d-47d4-9acc-e208cb329618",
   "metadata": {},
   "source": [
    "#### One to One\n",
    "\n",
    "- Our table has two columns that represent two separate subjects.  **We pretend that the subjects have a one to one relationship**. One color can be one fruit.\n",
    "- Pretend our original table is storing data for two subjects.  Because we have two subjects with a one to one relationship we do NOT have vertical repetition. \n",
    "\n",
    "id | name | color_name\n",
    "--- | --- | ---\n",
    "1 | 'Cherry' | 'Red'\n",
    "2 | 'Orange' | 'Orange\n",
    "\n",
    "- However, our goal may still be to normalize this table by splitting the two subjects into two tables and connecting them with a primary and foreign key.  While not necessary here, if these subjects had relationships with other tables in the database we benefit from normalizing this information.  \n",
    "    - E.g. color information may also be related to vegetables, nuts, and grain tables.  We may want to join color data to these other tables without also joining fruit data.\n",
    "- We would eventually want the following.\n",
    "\n",
    "`fruit`\n",
    "\n",
    "id | name | color_id\n",
    "--- | --- | ---\n",
    "1 | 'Cherry' | 1\n",
    "2 | 'Orange' | 2\n",
    "\n",
    "`color`\n",
    "\n",
    "id | name\n",
    "--- | ---\n",
    "1 | 'Red'\n",
    "2 |'Orange'\n",
    "\n",
    "- The process for normalizing a table with one to one relationships is very similar to  one to many relationships and will be covered in the next section"
   ]
  },
  {
   "cell_type": "markdown",
   "id": "a2dee211-2ba8-4b87-b35e-82e331864bf8",
   "metadata": {},
   "source": [
    "---"
   ]
  },
  {
   "cell_type": "markdown",
   "id": "d9c5c82a-014b-47a7-8fcb-f76605c7b485",
   "metadata": {
    "tags": []
   },
   "source": [
    "#### One to Many\n",
    "\n",
    "- Our table has two columns that represent two separate subjects.  **We pretend that the subjects have a one to many relationship**. One color can be many fruits. \n",
    "- Pretend our `fruit` table is storing data for two subjects.  Because we have two subjects with a one to many relationship we have have vertical repetition. \n",
    "\n",
    "`fruit`\n",
    "\n",
    "id | name | color_name\n",
    "--- | --- | ---\n",
    "1 | 'Apple' | 'Red'\n",
    "2 | 'Cherry' | 'Red'\n",
    "3 | 'Orange' | 'Orange\n",
    "\n",
    "- Our goal is to normalize this original table by splitting the two subjects into two tables and connecting them with a primary and foreign key.  We eventually want a `fruit` and a `color` table.\n",
    "\n",
    "`fruit`\n",
    "\n",
    "id | name | color_id\n",
    "--- | --- | ---\n",
    "1 | 'Apple' | 1\n",
    "2 | 'Cherry' | 1\n",
    "3 | 'Orange' | 2\n",
    "\n",
    "`color`\n",
    "\n",
    "id | name\n",
    "--- | ---\n",
    "1 | 'Red'\n",
    "2 |'Orange'\n",
    "\n",
    "- We'll first create the original table with vertical repetition:\n",
    "\n",
    "```sql\n",
    "CREATE TABLE fruit (\n",
    "    id SERIAL PRIMARY KEY,\n",
    "    name TEXT UNIQUE,\n",
    "    color_name TEXT\n",
    ");\n",
    "\n",
    "INSERT INTO fruit (name, color_name)\n",
    "VALUES \n",
    "    ('Apple', 'Red'),\n",
    "    ('Cherry', 'Red'),\n",
    "    ('Orange', 'Orange');\n",
    "```\n",
    "\n",
    "1. Create a new table so we can eventually separate subjects:\n",
    "\n",
    "```sql\n",
    "CREATE TABLE color (\n",
    "    id SERIAL PRIMARY KEY,\n",
    "    name TEXT UNIQUE\n",
    ");\n",
    "```\n",
    "`color` table becomes:\n",
    "\n",
    "id | name\n",
    "--- | ---\n",
    "\n",
    "2.  Select distinct from the original table's `color_name`  field and place into the new `color` table's `name` field.  The RDBMS will automatically populate the new table primary key field with integers.  The new table is complete. \n",
    "\n",
    "```sql\n",
    "INSERT INTO color (name)\n",
    "SELECT DISTINCT color_name\n",
    "FROM fruit;\n",
    "```\n",
    "`color` table is now complete:\n",
    "\n",
    "id | name\n",
    "--- | ---\n",
    "1 | 'Red'\n",
    "2 |'Orange'\n",
    "\n",
    "3. Add foreign key field to the original table that references the new table's primary key\n",
    "\n",
    "```sql\n",
    "ALTER TABLE fruit\n",
    "ADD COLUMN color_id INTEGER REFERENCES color(id) ON DELETE CASCADE;\n",
    "```\n",
    "`fruit` table becomes:\n",
    "\n",
    "id | name | color_name | color_id\n",
    "--- | --- | --- | ---\n",
    "1 | 'Apple' | 'Red' | NULL\n",
    "2 | 'Cherry' | 'Red' | NULL\n",
    "3 | 'Orange' | 'Orange | NULL\n",
    "\n",
    "4. Update the foreign key field.  For each record in the original table, set the record's cell in the foreign key field equal to a cell value in the primary key field from the new table.  We match these records based on their color values stored in the `color_name` and `name` fields.  This is done with a subquery.  We effectively use an outer and inner for loop.  The outer goes through each record in the original table.  The inner goes through each record in the new table.\n",
    "\n",
    "```sql\n",
    "UPDATE fruit\n",
    "SET color_id = (\n",
    "    SELECT id\n",
    "    FROM color\n",
    "    WHERE fruit.color_name = color.name\n",
    ");\n",
    "```\n",
    "`fruit` table becomes :\n",
    "\n",
    "id | name | color_name | color_id\n",
    "--- | --- | --- | ---\n",
    "1 | 'Apple' | 'Red' | 1\n",
    "2 | 'Cherry' | 'Red' | 1\n",
    "3 | 'Orange' | 'Orange | 2\n",
    "\n",
    "5. Delete `color_name` field in the original table.  Table now normalized.\n",
    "\n",
    "```sql\n",
    "ALTER TABLE fruit\n",
    "DROP COLUMN color_name;\n",
    "```\n",
    "`fruit` table becomes :\n",
    "\n",
    "id | name | color_id\n",
    "--- | --- | ---\n",
    "1 | 'Apple' | 1\n",
    "2 | 'Cherry' | 1\n",
    "3 | 'Orange' | 2\n",
    "\n",
    "6. We can JOIN the tables back together\n",
    "\n",
    "```sql\n",
    "SELECT *\n",
    "FROM fruit\n",
    "INNER JOIN color\n",
    "ON fruit.color_id = color.id;\n",
    "```"
   ]
  },
  {
   "cell_type": "markdown",
   "id": "ec0e46cd-1b90-484b-80dd-42f017d22a8a",
   "metadata": {},
   "source": [
    "---"
   ]
  },
  {
   "cell_type": "markdown",
   "id": "bd0d1bb7-d3c0-4636-905c-a7be1eb34d0c",
   "metadata": {},
   "source": [
    "Here is the complete SQL script for normalizing a table with one to many relationships:\n",
    "\n",
    "```sql\n",
    "-- Drop tables from database\n",
    "DROP TABLE IF EXISTS fruit;\n",
    "DROP TABLE IF EXISTS color;\n",
    "\n",
    "CREATE TABLE fruit (\n",
    "    id SERIAL PRIMARY KEY,\n",
    "    name TEXT UNIQUE,\n",
    "    color_name TEXT\n",
    ");\n",
    "\n",
    "INSERT INTO fruit (name, color_name)\n",
    "VALUES \n",
    "    ('Apple', 'Red'),\n",
    "    ('Cherry', 'Red'),\n",
    "    ('Orange', 'Orange');\n",
    "\n",
    "SELECT * FROM fruit;\n",
    "\n",
    "CREATE TABLE color (\n",
    "    id SERIAL PRIMARY KEY,\n",
    "    name TEXT UNIQUE\n",
    ");\n",
    "\n",
    "INSERT INTO color (name)\n",
    "SELECT DISTINCT color_name\n",
    "FROM fruit;\n",
    "\n",
    "ALTER TABLE fruit\n",
    "ADD COLUMN color_id INTEGER REFERENCES color(id) ON DELETE CASCADE;\n",
    "\n",
    "UPDATE fruit\n",
    "SET color_id = (\n",
    "    SELECT id\n",
    "    FROM color\n",
    "    WHERE fruit.color_name = color.name\n",
    ");\n",
    "\n",
    "ALTER TABLE fruit\n",
    "DROP COLUMN color_name;\n",
    "\n",
    "-- Display split normalized tables\n",
    "SELECT * FROM fruit;\n",
    "SELECT * FROM color;\n",
    "\n",
    "-- Join tables together for display\n",
    "SELECT *\n",
    "FROM fruit\n",
    "INNER JOIN color\n",
    "ON fruit.color_id = color.id;\n",
    "```"
   ]
  },
  {
   "cell_type": "markdown",
   "id": "ad5063a4-4143-4a53-affd-6eef55ae6e38",
   "metadata": {},
   "source": [
    "---"
   ]
  },
  {
   "cell_type": "markdown",
   "id": "94fcd92e-aadd-4fc9-8c4d-3b73060c6d0e",
   "metadata": {},
   "source": [
    "#### Many to Many\n",
    "\n",
    "- Our table has two columns that represent two separate subjects.  **We pretend that they have a many to many relationship**. One color can be many fruits. One fruit can be many colors.\n",
    "- Pretend our `original` table has vertical repetition in multiple fields:\n",
    "\n",
    "`original`\n",
    "\n",
    "id | fruit_name | color_name\n",
    "--- | --- | ---\n",
    "1 | 'Apple' | 'Red'\n",
    "2 | 'Apple' | 'Yellow'\n",
    "3 | 'Cherry' | 'Red'\n",
    "4 | 'Orange' | 'Orange'\n",
    "\n",
    "- Our goal is to normalize this table by splitting it into three tables.  A `fruit` table, a `color` table, and a `connection` table.  We eventually want the following:\n",
    "\n",
    "`fruit`\n",
    "\n",
    "id | name\n",
    "--- | ---\n",
    "1 | 'Apple'\n",
    "2 | 'Cherry'\n",
    "3 | 'Orange'\n",
    "\n",
    "`color`\n",
    "\n",
    "id | name\n",
    "--- | ---\n",
    "1 | 'Red'\n",
    "2 | 'Orange'\n",
    "3 | 'Yellow'\n",
    "\n",
    "`connection`\n",
    "\n",
    "fruit_id | color_id\n",
    "--- | ---\n",
    "1 | 1\n",
    "1 | 3\n",
    "2 | 1\n",
    "3 | 2\n",
    "\n",
    "- We'll first create our `original` table with vertical repetition:\n",
    "\n",
    "```sql\n",
    "CREATE TABLE original (\n",
    "    id SERIAL PRIMARY KEY,\n",
    "    fruit_name TEXT,\n",
    "    color_name TEXT\n",
    ");\n",
    "\n",
    "\n",
    "INSERT INTO original (fruit_name, color_name)\n",
    "VALUES \n",
    "    ('Apple', 'Red'),\n",
    "    ('Apple', 'Yellow'),\n",
    "    ('Cherry', 'Red'),\n",
    "    ('Orange', 'Orange');\n",
    "```\n",
    "\n",
    "1.  Create a new table for each subject\n",
    "\n",
    "```sql\n",
    "CREATE TABLE fruit (\n",
    "    id SERIAL PRIMARY KEY,\n",
    "    name TEXT UNIQUE\n",
    ");\n",
    "\n",
    "CREATE TABLE color (\n",
    "    id SERIAL PRIMARY KEY,\n",
    "    name TEXT UNIQUE\n",
    ");\n",
    "```\n",
    "\n",
    "`fruit` table becomes:\n",
    "\n",
    "id | name\n",
    "--- | ---\n",
    "\n",
    "`color`  table becomes:\n",
    "\n",
    "id | name\n",
    "--- | ---\n",
    "\n",
    "2. Insert into  `fruit` table distinct values from the `original` table `fruit_name` field.    Do the same for color.  These tables are now complete.\n",
    "\n",
    "```sql\n",
    "INSERT INTO fruit(name)\n",
    "SELECT DISTINCT fruit_name\n",
    "FROM original;\n",
    "\n",
    "INSERT INTO color(name)\n",
    "SELECT DISTINCT color_name\n",
    "FROM original;\n",
    "```\n",
    "`fruit` table complete:\n",
    "\n",
    "id | name\n",
    "--- | ---\n",
    "1 | 'Apple'\n",
    "2 | 'Cherry'\n",
    "3 | 'Orange'\n",
    "\n",
    "`color` table complete:\n",
    "\n",
    "id | name\n",
    "--- | ---\n",
    "1 | 'Red'\n",
    "2 | 'Orange'\n",
    "3 | 'Yellow'\n",
    "\n",
    "3. Create a new connection table\n",
    "\n",
    "```sql\n",
    "CREATE TABLE connection(\n",
    "    id SERIAL PRIMARY KEY,\n",
    "    fruit_name TEXT,\n",
    "    fruit_id INTEGER REFERENCES fruit(id) ON DELETE CASCADE,\n",
    "    color_id INTEGER REFERENCES color(id) ON DELETE CASCADE,\n",
    "    color_name TEXT,\n",
    "    UNIQUE (fruit_id, color_id)\n",
    ");\n",
    "```\n",
    "\n",
    "`connection` table becomes:\n",
    "\n",
    "fruit_name | fruit_id  | color_id | color_name\n",
    "--- | --- | --- | ---\n",
    "\n",
    "4. Insert into the connection table fields `fruit_name` and `color_name` from the `original` table.\n",
    "\n",
    "```sql\n",
    "INSERT INTO connection (fruit_name, color_name)\n",
    "SELECT fruit_name, color_name\n",
    "FROM original;\n",
    "```\n",
    "\n",
    "`connection` table becomes:\n",
    "\n",
    "id | fruit_name | fruit_id  | color_id | color_name\n",
    "--- | --- | --- | --- | ---\n",
    "1 | 'Apple' | NULL | NULL | 'Red'\n",
    "2 | 'Apple' | NULL | NULL | 'Yellow'\n",
    "3 | 'Cherry' | NULL | NULL | 'Red'\n",
    "4 | 'Orange' | NULL | NULL | 'Orange'\n",
    "\n",
    "\n",
    "5. Update `connection` table `fruit_id` foreign key field with corresponding `fruit` `id` primary keys.  Do the same for color. \n",
    "\n",
    "```sql\n",
    "UPDATE connection\n",
    "SET fruit_id = (\n",
    "    SELECT id\n",
    "    FROM fruit\n",
    "    WHERE connection.fruit_name = fruit.name\n",
    ");\n",
    "\n",
    "UPDATE connection\n",
    "SET color_id = (\n",
    "    SELECT id\n",
    "    FROM color\n",
    "    WHERE connection.color_name = color.name\n",
    ");\n",
    "```\n",
    "\n",
    "`connection` table becomes:\n",
    "\n",
    "id | fruit_name | fruit_id  | color_id | color_name\n",
    "--- | --- | --- | --- | ---\n",
    "1 | 'Apple' | 1 | 1 | 'Red'\n",
    "2 | 'Apple' | 1 | 3 | 'Yellow'\n",
    "3 | 'Cherry' | 2 | 1 | 'Red'\n",
    "4 | 'Orange' | 3| 2 | 'Orange'\n",
    "\n",
    "6. Alter `connection` table, dropping the `fruit_name` and `color_name` fields. Connection table complete.\n",
    "\n",
    "```sql\n",
    "ALTER TABLE connection\n",
    "DROP COLUMN fruit_name;\n",
    "\n",
    "ALTER TABLE connection\n",
    "DROP COLUMN color_name;\n",
    "```\n",
    "\n",
    "`connection` table complete:\n",
    "\n",
    "id | fruit_id | color_id\n",
    "--- | --- | ---\n",
    "1 | 1 | 1\n",
    "2 | 1 | 3\n",
    "3 | 2 | 1\n",
    "4 | 3 | 2\n",
    "\n",
    "7. We can JOIN the tables back together\n",
    "\n",
    "```sql\n",
    "SELECT *\n",
    "FROM fruit\n",
    "INNER JOIN connection ON connection.fruit_id = fruit.id\n",
    "INNER JOIN color ON connection.color_id =color.id;\n",
    "```"
   ]
  },
  {
   "cell_type": "markdown",
   "id": "4a9d4c13-ae33-4ea4-a9f1-3fe99eb21f96",
   "metadata": {},
   "source": [
    "---"
   ]
  },
  {
   "cell_type": "markdown",
   "id": "c40673d9-52b0-47b8-bdbf-5161d96fa9b5",
   "metadata": {},
   "source": [
    "Here is the complete SQL script for normalizing a table with many to many relationships:\n",
    "\n",
    "```sql\n",
    "-- Drop tables\n",
    "DROP TABLE original;\n",
    "DROP TABLE connection;\n",
    "DROP TABLE fruit;\n",
    "DROP TABLE color;\n",
    "\n",
    "CREATE TABLE original (\n",
    "    id SERIAL PRIMARY KEY,\n",
    "    fruit_name TEXT,\n",
    "    color_name TEXT\n",
    ");\n",
    "\n",
    "INSERT INTO original (fruit_name, color_name)\n",
    "VALUES \n",
    "    ('Apple', 'Red'),\n",
    "    ('Apple', 'Yellow'),\n",
    "    ('Cherry', 'Red'),\n",
    "    ('Orange', 'Orange');\n",
    "\n",
    "SELECT * FROM original;\n",
    "\n",
    "CREATE TABLE fruit (\n",
    "    id SERIAL PRIMARY KEY,\n",
    "    name TEXT UNIQUE\n",
    ");\n",
    "\n",
    "CREATE TABLE color (\n",
    "    id SERIAL PRIMARY KEY,\n",
    "    name TEXT UNIQUE\n",
    ");\n",
    "\n",
    "INSERT INTO fruit(name)\n",
    "SELECT DISTINCT fruit_name\n",
    "FROM original;\n",
    "\n",
    "INSERT INTO color(name)\n",
    "SELECT DISTINCT color_name\n",
    "FROM original;\n",
    "\n",
    "CREATE TABLE connection(\n",
    "    id SERIAL PRIMARY KEY,\n",
    "    fruit_name TEXT,\n",
    "    fruit_id INTEGER REFERENCES fruit(id) ON DELETE CASCADE,\n",
    "    color_id INTEGER REFERENCES color(id) ON DELETE CASCADE,\n",
    "    color_name TEXT,\n",
    "    UNIQUE (fruit_id, color_id)\n",
    ");\n",
    "\n",
    "SELECT * FROM connection;\n",
    "\n",
    "INSERT INTO connection (fruit_name, color_name)\n",
    "SELECT fruit_name, color_name\n",
    "FROM original;\n",
    "\n",
    "UPDATE connection\n",
    "SET fruit_id = (\n",
    "    SELECT id\n",
    "    FROM fruit\n",
    "    WHERE connection.fruit_name = fruit.name\n",
    ");\n",
    "\n",
    "UPDATE connection\n",
    "SET color_id = (\n",
    "    SELECT id\n",
    "    FROM color\n",
    "    WHERE connection.color_name = color.name\n",
    ");\n",
    "\n",
    "ALTER TABLE connection\n",
    "DROP COLUMN fruit_name;\n",
    "\n",
    "ALTER TABLE connection\n",
    "DROP COLUMN color_name;\n",
    "\n",
    "ALTER TABLE connection\n",
    "ADD UNIQUE(fruit_id, color_id);\n",
    "\n",
    "-- Display tables\n",
    "SELECT * FROM original;\n",
    "SELECT * FROM fruit;\n",
    "SELECT * FROM color;\n",
    "SELECT * FROM connection;\n",
    "\n",
    "-- Join tables for display\n",
    "SELECT fruit.name, color.name\n",
    "FROM fruit\n",
    "INNER JOIN connection ON connection.fruit_id = fruit.id\n",
    "INNER JOIN color ON connection.color_id =color.id\n",
    "ORDER BY fruit.name ASC;\n",
    "```\n",
    "\n",
    "- *Note that the primary and foreign keys are different than the example keys when the script is run.  Postgres does not insert the rows values into the connection table in the same order we did.  The script does still run correctly and we sill join fruits and colors back in the end.*"
   ]
  },
  {
   "cell_type": "markdown",
   "id": "03561187-0162-45ad-8312-508e8b9c9e48",
   "metadata": {},
   "source": [
    "---"
   ]
  },
  {
   "cell_type": "markdown",
   "id": "d5224887-e534-45ac-a646-a8460ec1e5d0",
   "metadata": {},
   "source": [
    "## More to Explore\n",
    "\n",
    "- There of course is always more to explore:\n",
    "    - The PostgreSQL dialect of SQL is extensive and is even more so if a procedural dialect of SQL is used\n",
    "    - PostgreSQL is a fully featured RDBMS.  The official documentation is around 3,000 pages long!\n",
    "- Some of the notable topics left to explore include:\n",
    "    1. Working with specify data types:\n",
    "        1. Dates/times\n",
    "        1. Numeric/money\n",
    "        1. XML\n",
    "        1. Geometric\n",
    "        1. Range\n",
    "        1. etc.\n",
    "    1. Mathematical functions\n",
    "    1. String functions\n",
    "    1. Trigger functions\n",
    "    1. Data control language (permissions, schemas, etc.)\n",
    "    1. Procedural language (further use in stored procedures)\n",
    "    1. Server administration (all aspects)\n",
    "    1. Treating PostgreSQL like a BASE DBMS using UUIDs and JSON documents"
   ]
  },
  {
   "cell_type": "markdown",
   "id": "0409e6c9-f212-4622-a27d-513eba9f6d96",
   "metadata": {},
   "source": [
    "---"
   ]
  }
 ],
 "metadata": {
  "kernelspec": {
   "display_name": "Python 3 (ipykernel)",
   "language": "python",
   "name": "python3"
  },
  "language_info": {
   "codemirror_mode": {
    "name": "ipython",
    "version": 3
   },
   "file_extension": ".py",
   "mimetype": "text/x-python",
   "name": "python",
   "nbconvert_exporter": "python",
   "pygments_lexer": "ipython3",
   "version": "3.9.10"
  }
 },
 "nbformat": 4,
 "nbformat_minor": 5
}
